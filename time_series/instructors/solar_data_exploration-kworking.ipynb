{
 "cells": [
  {
   "cell_type": "markdown",
   "metadata": {},
   "source": [
    "Let's take a look at some data that came from my solar panels and try to apply the techniques in the exploration section."
   ]
  },
  {
   "cell_type": "code",
   "execution_count": 1,
   "metadata": {},
   "outputs": [],
   "source": [
    "#data manipulation\n",
    "import numpy as np\n",
    "import pandas as pd\n",
    "\n",
    "from datetime import datetime\n",
    "import itertools\n",
    "\n",
    "#data visualization\n",
    "%matplotlib inline\n",
    "import matplotlib.pyplot as plt\n",
    "import seaborn as sns\n",
    "import statsmodels.api as sm\n",
    "\n",
    "\n",
    "from sklearn.model_selection import TimeSeriesSplit\n",
    "\n",
    "#ignore warnings\n",
    "import warnings\n",
    "warnings.filterwarnings(\"ignore\")"
   ]
  },
  {
   "cell_type": "code",
   "execution_count": 8,
   "metadata": {},
   "outputs": [],
   "source": [
    "df_solar=pd.read_csv(\"solar.csv\")\n",
    "df_solar=df_solar.rename(columns={'Date/Time':'date','Energy Produced (Wh)':'watt_hours'})"
   ]
  },
  {
   "cell_type": "code",
   "execution_count": 9,
   "metadata": {},
   "outputs": [
    {
     "data": {
      "text/html": [
       "<div>\n",
       "<style scoped>\n",
       "    .dataframe tbody tr th:only-of-type {\n",
       "        vertical-align: middle;\n",
       "    }\n",
       "\n",
       "    .dataframe tbody tr th {\n",
       "        vertical-align: top;\n",
       "    }\n",
       "\n",
       "    .dataframe thead th {\n",
       "        text-align: right;\n",
       "    }\n",
       "</style>\n",
       "<table border=\"1\" class=\"dataframe\">\n",
       "  <thead>\n",
       "    <tr style=\"text-align: right;\">\n",
       "      <th></th>\n",
       "      <th>date</th>\n",
       "      <th>watt_hours</th>\n",
       "    </tr>\n",
       "  </thead>\n",
       "  <tbody>\n",
       "    <tr>\n",
       "      <th>0</th>\n",
       "      <td>2018-10-11 00:00:00 -0500</td>\n",
       "      <td>1985</td>\n",
       "    </tr>\n",
       "    <tr>\n",
       "      <th>1</th>\n",
       "      <td>2018-10-12 00:00:00 -0500</td>\n",
       "      <td>0</td>\n",
       "    </tr>\n",
       "    <tr>\n",
       "      <th>2</th>\n",
       "      <td>2018-10-13 00:00:00 -0500</td>\n",
       "      <td>0</td>\n",
       "    </tr>\n",
       "    <tr>\n",
       "      <th>3</th>\n",
       "      <td>2018-10-14 00:00:00 -0500</td>\n",
       "      <td>0</td>\n",
       "    </tr>\n",
       "    <tr>\n",
       "      <th>4</th>\n",
       "      <td>2018-10-15 00:00:00 -0500</td>\n",
       "      <td>0</td>\n",
       "    </tr>\n",
       "  </tbody>\n",
       "</table>\n",
       "</div>"
      ],
      "text/plain": [
       "                        date  watt_hours\n",
       "0  2018-10-11 00:00:00 -0500        1985\n",
       "1  2018-10-12 00:00:00 -0500           0\n",
       "2  2018-10-13 00:00:00 -0500           0\n",
       "3  2018-10-14 00:00:00 -0500           0\n",
       "4  2018-10-15 00:00:00 -0500           0"
      ]
     },
     "execution_count": 9,
     "metadata": {},
     "output_type": "execute_result"
    }
   ],
   "source": [
    "df_solar.head()"
   ]
  },
  {
   "cell_type": "code",
   "execution_count": 10,
   "metadata": {},
   "outputs": [],
   "source": [
    "#Remove last row that has the total watt-hours generated for the time period\n",
    "df_solar[df_solar['date']=='Total']\n",
    "df_solar.drop(df_solar[df_solar['date']=='Total'].index,inplace=True)"
   ]
  },
  {
   "cell_type": "code",
   "execution_count": 11,
   "metadata": {},
   "outputs": [],
   "source": [
    "#drop the time portion of the date since it doesn't vary\n",
    "df_solar['date']=df_solar.date.apply(lambda x: x.split(\" \")[0])"
   ]
  },
  {
   "cell_type": "code",
   "execution_count": 12,
   "metadata": {},
   "outputs": [],
   "source": [
    "#convert cleaned up column to a pandas datetime format\n",
    "df_solar['date']=pd.to_datetime(df_solar['date'],format='%Y-%m-%d')"
   ]
  },
  {
   "cell_type": "code",
   "execution_count": 13,
   "metadata": {},
   "outputs": [
    {
     "data": {
      "text/html": [
       "<div>\n",
       "<style scoped>\n",
       "    .dataframe tbody tr th:only-of-type {\n",
       "        vertical-align: middle;\n",
       "    }\n",
       "\n",
       "    .dataframe tbody tr th {\n",
       "        vertical-align: top;\n",
       "    }\n",
       "\n",
       "    .dataframe thead th {\n",
       "        text-align: right;\n",
       "    }\n",
       "</style>\n",
       "<table border=\"1\" class=\"dataframe\">\n",
       "  <thead>\n",
       "    <tr style=\"text-align: right;\">\n",
       "      <th></th>\n",
       "      <th>date</th>\n",
       "      <th>watt_hours</th>\n",
       "    </tr>\n",
       "  </thead>\n",
       "  <tbody>\n",
       "    <tr>\n",
       "      <th>0</th>\n",
       "      <td>2018-11-07</td>\n",
       "      <td>10777</td>\n",
       "    </tr>\n",
       "    <tr>\n",
       "      <th>1</th>\n",
       "      <td>2018-11-08</td>\n",
       "      <td>7677</td>\n",
       "    </tr>\n",
       "    <tr>\n",
       "      <th>2</th>\n",
       "      <td>2018-11-09</td>\n",
       "      <td>7889</td>\n",
       "    </tr>\n",
       "    <tr>\n",
       "      <th>3</th>\n",
       "      <td>2018-11-10</td>\n",
       "      <td>12209</td>\n",
       "    </tr>\n",
       "    <tr>\n",
       "      <th>4</th>\n",
       "      <td>2018-11-11</td>\n",
       "      <td>5609</td>\n",
       "    </tr>\n",
       "  </tbody>\n",
       "</table>\n",
       "</div>"
      ],
      "text/plain": [
       "        date  watt_hours\n",
       "0 2018-11-07       10777\n",
       "1 2018-11-08        7677\n",
       "2 2018-11-09        7889\n",
       "3 2018-11-10       12209\n",
       "4 2018-11-11        5609"
      ]
     },
     "execution_count": 13,
     "metadata": {},
     "output_type": "execute_result"
    }
   ],
   "source": [
    "#drop the beginning observations where they initially turned on my monitoring on my panels\n",
    "#but they were not generating power\n",
    "df_solar=df_solar[df_solar['watt_hours']!=0]\n",
    "df_solar=df_solar.iloc[1:,:].reset_index().drop(columns=['index'])\n",
    "df_solar.head()"
   ]
  },
  {
   "cell_type": "code",
   "execution_count": 14,
   "metadata": {},
   "outputs": [
    {
     "name": "stdout",
     "output_type": "stream",
     "text": [
      "<class 'pandas.core.frame.DataFrame'>\n",
      "RangeIndex: 360 entries, 0 to 359\n",
      "Data columns (total 2 columns):\n",
      "date          360 non-null datetime64[ns]\n",
      "watt_hours    360 non-null int64\n",
      "dtypes: datetime64[ns](1), int64(1)\n",
      "memory usage: 5.7 KB\n"
     ]
    }
   ],
   "source": [
    "df_solar.info()"
   ]
  },
  {
   "cell_type": "code",
   "execution_count": 15,
   "metadata": {},
   "outputs": [],
   "source": [
    "X=df_solar.date\n",
    "y=df_solar.watt_hours"
   ]
  },
  {
   "cell_type": "code",
   "execution_count": 24,
   "metadata": {},
   "outputs": [
    {
     "name": "stdout",
     "output_type": "stream",
     "text": [
      "TRAIN: [ 0  1  2  3  4  5  6  7  8  9 10 11 12 13 14 15 16 17 18 19 20 21 22 23\n",
      " 24 25 26 27 28 29 30 31 32 33 34 35 36 37 38 39 40 41 42 43 44 45 46 47\n",
      " 48 49 50 51 52 53 54 55 56 57 58 59 60 61 62 63 64 65 66 67 68 69 70 71]\n",
      "TEST: [ 72  73  74  75  76  77  78  79  80  81  82  83  84  85  86  87  88  89\n",
      "  90  91  92  93  94  95  96  97  98  99 100 101 102 103 104 105 106 107\n",
      " 108 109 110 111 112 113 114 115 116 117 118 119 120 121 122 123 124 125\n",
      " 126 127 128 129 130 131 132 133 134 135 136 137 138 139 140 141 142 143]\n",
      "\n",
      "TRAIN: [  0   1   2   3   4   5   6   7   8   9  10  11  12  13  14  15  16  17\n",
      "  18  19  20  21  22  23  24  25  26  27  28  29  30  31  32  33  34  35\n",
      "  36  37  38  39  40  41  42  43  44  45  46  47  48  49  50  51  52  53\n",
      "  54  55  56  57  58  59  60  61  62  63  64  65  66  67  68  69  70  71\n",
      "  72  73  74  75  76  77  78  79  80  81  82  83  84  85  86  87  88  89\n",
      "  90  91  92  93  94  95  96  97  98  99 100 101 102 103 104 105 106 107\n",
      " 108 109 110 111 112 113 114 115 116 117 118 119 120 121 122 123 124 125\n",
      " 126 127 128 129 130 131 132 133 134 135 136 137 138 139 140 141 142 143]\n",
      "TEST: [144 145 146 147 148 149 150 151 152 153 154 155 156 157 158 159 160 161\n",
      " 162 163 164 165 166 167 168 169 170 171 172 173 174 175 176 177 178 179\n",
      " 180 181 182 183 184 185 186 187 188 189 190 191 192 193 194 195 196 197\n",
      " 198 199 200 201 202 203 204 205 206 207 208 209 210 211 212 213 214 215]\n",
      "\n",
      "TRAIN: [  0   1   2   3   4   5   6   7   8   9  10  11  12  13  14  15  16  17\n",
      "  18  19  20  21  22  23  24  25  26  27  28  29  30  31  32  33  34  35\n",
      "  36  37  38  39  40  41  42  43  44  45  46  47  48  49  50  51  52  53\n",
      "  54  55  56  57  58  59  60  61  62  63  64  65  66  67  68  69  70  71\n",
      "  72  73  74  75  76  77  78  79  80  81  82  83  84  85  86  87  88  89\n",
      "  90  91  92  93  94  95  96  97  98  99 100 101 102 103 104 105 106 107\n",
      " 108 109 110 111 112 113 114 115 116 117 118 119 120 121 122 123 124 125\n",
      " 126 127 128 129 130 131 132 133 134 135 136 137 138 139 140 141 142 143\n",
      " 144 145 146 147 148 149 150 151 152 153 154 155 156 157 158 159 160 161\n",
      " 162 163 164 165 166 167 168 169 170 171 172 173 174 175 176 177 178 179\n",
      " 180 181 182 183 184 185 186 187 188 189 190 191 192 193 194 195 196 197\n",
      " 198 199 200 201 202 203 204 205 206 207 208 209 210 211 212 213 214 215]\n",
      "TEST: [216 217 218 219 220 221 222 223 224 225 226 227 228 229 230 231 232 233\n",
      " 234 235 236 237 238 239 240 241 242 243 244 245 246 247 248 249 250 251\n",
      " 252 253 254 255 256 257 258 259 260 261 262 263 264 265 266 267 268 269\n",
      " 270 271 272 273 274 275 276 277 278 279 280 281 282 283 284 285 286 287]\n",
      "\n",
      "TRAIN: [  0   1   2   3   4   5   6   7   8   9  10  11  12  13  14  15  16  17\n",
      "  18  19  20  21  22  23  24  25  26  27  28  29  30  31  32  33  34  35\n",
      "  36  37  38  39  40  41  42  43  44  45  46  47  48  49  50  51  52  53\n",
      "  54  55  56  57  58  59  60  61  62  63  64  65  66  67  68  69  70  71\n",
      "  72  73  74  75  76  77  78  79  80  81  82  83  84  85  86  87  88  89\n",
      "  90  91  92  93  94  95  96  97  98  99 100 101 102 103 104 105 106 107\n",
      " 108 109 110 111 112 113 114 115 116 117 118 119 120 121 122 123 124 125\n",
      " 126 127 128 129 130 131 132 133 134 135 136 137 138 139 140 141 142 143\n",
      " 144 145 146 147 148 149 150 151 152 153 154 155 156 157 158 159 160 161\n",
      " 162 163 164 165 166 167 168 169 170 171 172 173 174 175 176 177 178 179\n",
      " 180 181 182 183 184 185 186 187 188 189 190 191 192 193 194 195 196 197\n",
      " 198 199 200 201 202 203 204 205 206 207 208 209 210 211 212 213 214 215\n",
      " 216 217 218 219 220 221 222 223 224 225 226 227 228 229 230 231 232 233\n",
      " 234 235 236 237 238 239 240 241 242 243 244 245 246 247 248 249 250 251\n",
      " 252 253 254 255 256 257 258 259 260 261 262 263 264 265 266 267 268 269\n",
      " 270 271 272 273 274 275 276 277 278 279 280 281 282 283 284 285 286 287]\n",
      "TEST: [288 289 290 291 292 293 294 295 296 297 298 299 300 301 302 303 304 305\n",
      " 306 307 308 309 310 311 312 313 314 315 316 317 318 319 320 321 322 323\n",
      " 324 325 326 327 328 329 330 331 332 333 334 335 336 337 338 339 340 341\n",
      " 342 343 344 345 346 347 348 349 350 351 352 353 354 355 356 357 358 359]\n",
      "\n"
     ]
    }
   ],
   "source": [
    "tss=TimeSeriesSplit(n_splits=4,max_train_size=None)\n",
    "for train_index,test_index in tss.split(X):\n",
    "    print(\"TRAIN:\",train_index)\n",
    "    print(\"TEST:\",test_index)\n",
    "    print()\n",
    "    X_train,X_test=X[train_index],X[test_index]\n",
    "    y_train,y_test=y[train_index],y[test_index]"
   ]
  },
  {
   "cell_type": "markdown",
   "metadata": {},
   "source": [
    "If we look at the splits we can see that train and test are consecutive i.e. observations in test data pick up right after the observations in train data. They are **ordered**(no random states here!)"
   ]
  },
  {
   "attachments": {
    "Screen%20Shot%202019-11-15%20at%2010.12.44%20AM.png": {
     "image/png": "[encoded data removed]"
    }
   },
   "cell_type": "markdown",
   "metadata": {},
   "source": [
    "![Screen%20Shot%202019-11-15%20at%2010.12.44%20AM.png](attachment:Screen%20Shot%202019-11-15%20at%2010.12.44%20AM.png)"
   ]
  },
  {
   "cell_type": "code",
   "execution_count": 20,
   "metadata": {},
   "outputs": [
    {
     "data": {
      "text/plain": [
       "[<matplotlib.lines.Line2D at 0x1c1dd9a550>]"
      ]
     },
     "execution_count": 20,
     "metadata": {},
     "output_type": "execute_result"
    },
    {
     "data": {
      "image/png": "[encoded data removed]",
      "text/plain": [
       "<Figure size 432x288 with 1 Axes>"
      ]
     },
     "metadata": {
      "needs_background": "light"
     },
     "output_type": "display_data"
    }
   ],
   "source": [
    "plt.plot(X_train,y_train)\n",
    "plt.plot(X_test,y_test)"
   ]
  },
  {
   "cell_type": "code",
   "execution_count": 25,
   "metadata": {},
   "outputs": [
    {
     "name": "stdout",
     "output_type": "stream",
     "text": [
      "283   2019-08-17\n",
      "284   2019-08-18\n",
      "285   2019-08-19\n",
      "286   2019-08-20\n",
      "287   2019-08-21\n",
      "Name: date, dtype: datetime64[ns]\n",
      "288   2019-08-22\n",
      "289   2019-08-23\n",
      "290   2019-08-24\n",
      "291   2019-08-25\n",
      "292   2019-08-26\n",
      "Name: date, dtype: datetime64[ns]\n",
      "355   2019-10-28\n",
      "356   2019-10-29\n",
      "357   2019-10-30\n",
      "358   2019-10-31\n",
      "359   2019-11-01\n",
      "Name: date, dtype: datetime64[ns]\n"
     ]
    }
   ],
   "source": [
    "print(X_train.tail())\n",
    "print(X_test.head())\n",
    "print(X_test.tail())"
   ]
  },
  {
   "cell_type": "code",
   "execution_count": 26,
   "metadata": {},
   "outputs": [
    {
     "name": "stdout",
     "output_type": "stream",
     "text": [
      "<class 'pandas.core.frame.DataFrame'>\n",
      "DatetimeIndex: 360 entries, 2018-11-07 to 2019-11-01\n",
      "Data columns (total 1 columns):\n",
      "watt_hours    360 non-null int64\n",
      "dtypes: int64(1)\n",
      "memory usage: 5.6 KB\n"
     ]
    }
   ],
   "source": [
    "#We will set the index to be the date to show some resampling methods that require\n",
    "#the date be the index as well as using .loc to split the data manually\n",
    "df_solar=df_solar.set_index('date')\n",
    "df_solar.info()"
   ]
  },
  {
   "cell_type": "code",
   "execution_count": 41,
   "metadata": {},
   "outputs": [
    {
     "name": "stdout",
     "output_type": "stream",
     "text": [
      "Observations: 53\n",
      "Training Observations: 40\n",
      "Testing Observations: 13\n"
     ]
    }
   ],
   "source": [
    "aggregation='mean'\n",
    "train=df_solar.loc['2018-11-07':'2019-08-08'].watt_hours.resample('W').agg(aggregation)\n",
    "test=df_solar.loc['2019-08-09':].watt_hours.resample('W').agg(aggregation)\n",
    "print('Observations: %d' % (len(train.values)+len(test.values)))\n",
    "print('Training Observations: %d' % (len(train)))\n",
    "print('Testing Observations: %d' % (len(test)))"
   ]
  },
  {
   "cell_type": "code",
   "execution_count": 42,
   "metadata": {},
   "outputs": [
    {
     "name": "stdout",
     "output_type": "stream",
     "text": [
      "date\n",
      "2018-11-11     8832.200000\n",
      "2018-11-18    24180.142857\n",
      "2018-11-25    15546.714286\n",
      "2018-12-02    27639.142857\n",
      "2018-12-09    15796.142857\n",
      "2018-12-16    22361.571429\n",
      "2018-12-23    27121.000000\n",
      "2018-12-30    13602.000000\n",
      "2019-01-06    22562.714286\n",
      "2019-01-13    19316.714286\n",
      "Freq: W-SUN, Name: watt_hours, dtype: float64\n",
      "date\n",
      "2019-06-09    29373.142857\n",
      "2019-06-16    26570.428571\n",
      "2019-06-23    28565.857143\n",
      "2019-06-30    26129.857143\n",
      "2019-07-07    30282.000000\n",
      "2019-07-14    29632.714286\n",
      "2019-07-21    33809.142857\n",
      "2019-07-28    34357.428571\n",
      "2019-08-04    32611.142857\n",
      "2019-08-11    32631.250000\n",
      "Freq: W-SUN, Name: watt_hours, dtype: float64\n",
      "date\n",
      "2019-08-11    34473.000000\n",
      "2019-08-18    33886.428571\n",
      "2019-08-25    31205.571429\n",
      "2019-09-01    30886.428571\n",
      "2019-09-08    31241.000000\n",
      "2019-09-15    28370.142857\n",
      "2019-09-22    29914.000000\n",
      "2019-09-29    29210.000000\n",
      "2019-10-06    30347.285714\n",
      "2019-10-13    23366.000000\n",
      "Freq: W-SUN, Name: watt_hours, dtype: float64\n"
     ]
    }
   ],
   "source": [
    "print(train.head(10))\n",
    "print(train.tail(10))\n",
    "print(test.head(10))"
   ]
  },
  {
   "cell_type": "code",
   "execution_count": 40,
   "metadata": {},
   "outputs": [
    {
     "data": {
      "image/png": "[encoded data removed]",
      "text/plain": [
       "<Figure size 576x288 with 1 Axes>"
      ]
     },
     "metadata": {
      "needs_background": "light"
     },
     "output_type": "display_data"
    }
   ],
   "source": [
    "plt.figure(figsize=(8,4))\n",
    "plt.plot(train)\n",
    "plt.plot(test)\n",
    "plt.show()"
   ]
  },
  {
   "cell_type": "code",
   "execution_count": 36,
   "metadata": {},
   "outputs": [
    {
     "data": {
      "image/png": "[encoded data removed]",
      "text/plain": [
       "<Figure size 576x288 with 1 Axes>"
      ]
     },
     "metadata": {
      "needs_background": "light"
     },
     "output_type": "display_data"
    }
   ],
   "source": [
    "trest = train.append(test)\n",
    "plt.figure(figsize=(8,4))\n",
    "plt.plot(trest)\n",
    "plt.show()"
   ]
  },
  {
   "cell_type": "code",
   "execution_count": 30,
   "metadata": {},
   "outputs": [
    {
     "name": "stdout",
     "output_type": "stream",
     "text": [
      "TRAIN: [  0   1   2   3   4   5   6   7   8   9  10  11  12  13  14  15  16  17\n",
      "  18  19  20  21  22  23  24  25  26  27  28  29  30  31  32  33  34  35\n",
      "  36  37  38  39  40  41  42  43  44  45  46  47  48  49  50  51  52  53\n",
      "  54  55  56  57  58  59  60  61  62  63  64  65  66  67  68  69  70  71\n",
      "  72  73  74  75  76  77  78  79  80  81  82  83  84  85  86  87  88  89\n",
      "  90  91  92  93  94  95  96  97  98  99 100 101 102 103 104 105 106 107\n",
      " 108 109 110 111 112 113 114 115 116 117 118 119 120 121 122 123 124 125\n",
      " 126 127 128 129 130 131 132 133 134 135 136 137 138 139 140 141 142 143\n",
      " 144 145 146 147 148 149 150 151 152 153 154 155 156 157 158 159 160 161\n",
      " 162 163 164 165 166 167 168 169 170 171 172 173 174 175 176 177 178 179\n",
      " 180 181 182 183 184 185 186 187 188 189 190 191 192 193 194 195 196 197\n",
      " 198 199 200 201 202 203 204 205 206 207 208 209 210 211 212 213 214 215\n",
      " 216 217 218 219 220 221 222 223 224 225 226 227 228 229 230 231 232 233\n",
      " 234 235 236 237 238 239 240 241 242 243 244 245 246 247 248 249 250 251\n",
      " 252 253 254 255 256 257 258 259 260 261 262 263 264 265 266 267 268 269\n",
      " 270 271 272 273 274 275 276 277 278 279 280 281 282 283 284 285 286 287]\n",
      "TEST: [288 289 290 291 292 293 294 295 296 297 298 299 300 301 302 303 304 305\n",
      " 306 307 308 309 310 311 312 313 314 315 316 317 318 319 320 321 322 323\n",
      " 324 325 326 327 328 329 330 331 332 333 334 335 336 337 338 339 340 341\n",
      " 342 343 344 345 346 347 348 349 350 351 352 353 354 355 356 357 358 359]\n",
      "\n"
     ]
    }
   ],
   "source": [
    "print(\"TRAIN:\",train_index)\n",
    "print(\"TEST:\",test_index)\n",
    "print()\n",
    "    "
   ]
  },
  {
   "cell_type": "code",
   "execution_count": null,
   "metadata": {},
   "outputs": [],
   "source": [
    "#I tried to do around a 70/30 split above but it can be done more formally\n",
    "#by using len function and the percentage you want in train and test\n",
    "df_solar1=df_solar.reset_index()\n",
    "train_size=int(len(df_solar1)*.70)\n",
    "train1,test1=df_solar1[0:train_size],df_solar1[train_size:len(df_solar1)]\n",
    "print('Observations: %d'% (len(df_solar1)))\n",
    "print('Observations: %d'% (len(train1)))\n",
    "print('Observations: %d'% (len(test1)))"
   ]
  },
  {
   "cell_type": "code",
   "execution_count": null,
   "metadata": {},
   "outputs": [],
   "source": [
    "plt.figure(figsize=(8,4))\n",
    "plt.plot(train1.set_index('date'))\n",
    "plt.plot(test1.set_index('date'))\n",
    "#Why are the plotting on seperate graphs the second way?"
   ]
  },
  {
   "cell_type": "markdown",
   "metadata": {},
   "source": [
    "## Visualizing time series data\n",
    "Now that we have shown different techniques for train/test split with time series data lets look at a few ways to visualize it along with some different aggregation techniques"
   ]
  },
  {
   "cell_type": "code",
   "execution_count": null,
   "metadata": {},
   "outputs": [],
   "source": [
    "#daily\n",
    "df_solar.plot()\n",
    "plt.show()"
   ]
  },
  {
   "cell_type": "code",
   "execution_count": null,
   "metadata": {},
   "outputs": [],
   "source": [
    "#weekly using mean  \n",
    "df_solar.resample('W').mean().plot(figsize=(12,4))\n",
    "plt.show()"
   ]
  },
  {
   "cell_type": "code",
   "execution_count": null,
   "metadata": {},
   "outputs": [],
   "source": [
    "#weekly using the sum aggregation\n",
    "df_solar.resample('W').sum().plot()\n",
    "plt.show()"
   ]
  },
  {
   "cell_type": "code",
   "execution_count": null,
   "metadata": {},
   "outputs": [],
   "source": [
    "df_solar.resample('MS').mean().plot()\n",
    "plt.show()"
   ]
  },
  {
   "cell_type": "code",
   "execution_count": null,
   "metadata": {},
   "outputs": [],
   "source": [
    "#5 day rolling average\n",
    "df_solar.rolling(5).mean().plot(figsize=(12,4))\n",
    "plt.show()"
   ]
  },
  {
   "cell_type": "code",
   "execution_count": null,
   "metadata": {},
   "outputs": [],
   "source": [
    "#moving 5 day sum\n",
    "df_solar.rolling(5).sum().plot(figsize=(12,4))\n",
    "plt.show()"
   ]
  },
  {
   "cell_type": "code",
   "execution_count": null,
   "metadata": {},
   "outputs": [],
   "source": [
    "#1 week differences\n",
    "df_solar.resample('W').mean().diff(periods=1).plot(figsize=(12,4))\n",
    "plt.show()"
   ]
  },
  {
   "cell_type": "code",
   "execution_count": null,
   "metadata": {},
   "outputs": [],
   "source": [
    "#4 week differences\n",
    "df_solar.resample('W').mean().diff(periods=4).plot(figsize=(12,4))\n",
    "plt.show()"
   ]
  },
  {
   "cell_type": "code",
   "execution_count": null,
   "metadata": {},
   "outputs": [],
   "source": [
    "#10 day difference\n",
    "df_solar.diff(periods=10).plot(figsize=(12,4),linewidth=0.5)\n",
    "plt.show()"
   ]
  },
  {
   "cell_type": "code",
   "execution_count": null,
   "metadata": {},
   "outputs": [],
   "source": [
    "#month over month \n",
    "df_solar.resample('MS').mean().diff(periods=1).plot(figsize=(12,4),marker='o',linestyle='-')"
   ]
  },
  {
   "cell_type": "markdown",
   "metadata": {},
   "source": [
    "year over year doesn't make sense since we only have a year of data"
   ]
  },
  {
   "cell_type": "code",
   "execution_count": null,
   "metadata": {},
   "outputs": [],
   "source": [
    "plt.figure(figsize=(12,4))\n",
    "plt.plot(df_solar.resample('W').mean().diff(periods=1),color='red')\n",
    "plt.plot(df_solar.resample('W').mean().diff(periods=4),color='orange')\n",
    "plt.plot(df_solar.diff(periods=10),color='green')\n",
    "plt.plot(df_solar.resample('MS').mean().diff(periods=1),color='blue')"
   ]
  },
  {
   "cell_type": "markdown",
   "metadata": {},
   "source": [
    "The ticks on the axis for datetimes can also be customized\n",
    "with the matplotlib.dates module"
   ]
  },
  {
   "cell_type": "code",
   "execution_count": null,
   "metadata": {},
   "outputs": [],
   "source": [
    "import matplotlib.dates as mdates\n",
    "\n",
    "fig,ax=plt.subplots(figsize=(12,4))\n",
    "ax.plot(df_solar.loc['2019-01-01':'2019-02-01'],marker='o',linestyle='-')\n",
    "ax.set_ylabel('Watt-Hours')\n",
    "ax.set_title('Jan-Feb Solar Power Production (in watt-hours)')\n",
    "#set the x-axis to weekly interval on Saturdays\n",
    "ax.xaxis.set_major_locator(mdates.WeekdayLocator(byweekday=mdates.SATURDAY))\n",
    "ax.xaxis.set_major_formatter(mdates.DateFormatter('%b-%d'))"
   ]
  },
  {
   "cell_type": "markdown",
   "metadata": {},
   "source": [
    "## Seasonality"
   ]
  },
  {
   "cell_type": "code",
   "execution_count": null,
   "metadata": {},
   "outputs": [],
   "source": [
    "df_solar['weekday_name']=df_solar.index.weekday_name\n",
    "df_solar.head()"
   ]
  },
  {
   "cell_type": "code",
   "execution_count": null,
   "metadata": {},
   "outputs": [],
   "source": [
    "#now lets group the time series by the day of the week and explore the spread\n",
    "sns.boxplot(data=df_solar,x='weekday_name',y='watt_hours')"
   ]
  },
  {
   "cell_type": "markdown",
   "metadata": {},
   "source": [
    "## Two time frequencies in same chart"
   ]
  },
  {
   "cell_type": "code",
   "execution_count": null,
   "metadata": {},
   "outputs": [],
   "source": [
    "#plot daily and weekly resampled time series together\n",
    "fig,ax=plt.subplots(figsize=(12,4))\n",
    "ax.plot(df_solar[['watt_hours']],marker='.',linestyle='-',linewidth=0.5,label='Daily')\n",
    "ax.plot(df_solar[['watt_hours']].resample('W').mean(),marker='o',linestyle='-',label='Weekly Mean Resample')\n",
    "ax.set_ylabel('Watt-Hours')\n",
    "ax.legend();"
   ]
  },
  {
   "cell_type": "code",
   "execution_count": null,
   "metadata": {},
   "outputs": [],
   "source": [
    "## Time-Series-Decomposition\n",
    "##Note that results are not meaningful since we only have a year of data\n",
    "df_solar=df_solar.drop(columns='weekday_name')\n",
    "decomposition=sm.tsa.seasonal_decompose(df_solar,model='additive')\n",
    "fig=decomposition.plot()\n",
    "plt.show()"
   ]
  },
  {
   "cell_type": "markdown",
   "metadata": {},
   "source": [
    "## Plotting lag"
   ]
  },
  {
   "cell_type": "code",
   "execution_count": null,
   "metadata": {},
   "outputs": [],
   "source": [
    "# We are basically looking for correlation between current and next weekly vlaue of target variable\n",
    "pd.plotting.lag_plot(df_solar.resample('W').mean(),lag=1)"
   ]
  },
  {
   "cell_type": "code",
   "execution_count": null,
   "metadata": {},
   "outputs": [],
   "source": [
    "df_corr=pd.concat([df_solar.shift(-1),df_solar],axis=1)\n",
    "df_corr.columns=['t-1','t']\n",
    "df_corr.corr()"
   ]
  },
  {
   "cell_type": "code",
   "execution_count": null,
   "metadata": {},
   "outputs": [],
   "source": []
  }
 ],
 "metadata": {
  "kernelspec": {
   "display_name": "Python 3",
   "language": "python",
   "name": "python3"
  },
  "language_info": {
   "codemirror_mode": {
    "name": "ipython",
    "version": 3
   },
   "file_extension": ".py",
   "mimetype": "text/x-python",
   "name": "python",
   "nbconvert_exporter": "python",
   "pygments_lexer": "ipython3",
   "version": "3.7.3"
  }
 },
 "nbformat": 4,
 "nbformat_minor": 2
}
