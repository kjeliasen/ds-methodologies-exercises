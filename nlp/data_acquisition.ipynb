{
 "cells": [
  {
   "cell_type": "markdown",
   "metadata": {},
   "source": [
    "<h2 id=\"exercises\">Exercises</h2>\n",
    "\n",
    "[*Lesson Page*](https://ds.codeup.com/11-nlp/3-acquire/)"
   ]
  },
  {
   "cell_type": "markdown",
   "metadata": {},
   "source": [
    "<p>By the end of this exercise, you should have a file named <code>acquire.py</code> that\n",
    "contains the specified functions. If you wish, you may break your work into\n",
    "separate files for each website (e.g. <code>acquire_codeup_blog.py</code> and\n",
    "<code>acquire_news_articles.py</code>), but the end function should be present in\n",
    "<code>acquire.py</code> (that is, <code>acquire.py</code> should  import <code>get_blog_articles</code> from\n",
    "the <code>acquire_codeup_blog</code> module.)</p>"
   ]
  },
  {
   "cell_type": "code",
   "execution_count": 103,
   "metadata": {},
   "outputs": [],
   "source": [
    "###############################################################################\n",
    "### pthon imports                                                           ###\n",
    "###############################################################################\n",
    "\n",
    "from os import path\n",
    "from requests import get\n",
    "from bs4 import BeautifulSoup\n",
    "import os\n",
    "import pandas as pd\n",
    "import re"
   ]
  },
  {
   "cell_type": "code",
   "execution_count": 2,
   "metadata": {},
   "outputs": [],
   "source": [
    "###############################################################################\n",
    "### local imports                                                           ###\n",
    "###############################################################################\n",
    "\n",
    "#from env import host, user, password\n",
    "from debug import local_settings, timeifdebug, timeargsifdebug, frame_splain\n",
    "import acquire as acq\n"
   ]
  },
  {
   "cell_type": "markdown",
   "metadata": {},
   "source": [
    "<h2>1. News Articles</h2>\n",
    "<p>We will now be scraping text data from <a href=\"https://inshorts.com/\">inshorts</a>, a\n",
    "website that provides a brief overview of many different topics.</p>\n",
    "<p>Write a function that scrapes the news articles for the following topics:</p>\n",
    "<ul>\n",
    "<li>Business</li>\n",
    "<li>Sports</li>\n",
    "<li>Technology</li>\n",
    "<li>Entertainment</li>\n",
    "</ul>\n",
    "<p>The end product of this should be a function named <code>get_news_articles</code> that\n",
    "returns a list of dictionaries, where each dictionary has this shape:</p>\n",
    "<div class=\"highlight\"><pre><span></span><span class=\"p\">{</span>\n",
    "    <span class=\"s1\">&#39;title&#39;</span><span class=\"p\">:</span> <span class=\"s1\">&#39;The article title&#39;</span><span class=\"p\">,</span>\n",
    "    <span class=\"s1\">&#39;content&#39;</span><span class=\"p\">:</span> <span class=\"s1\">&#39;The article content&#39;</span><span class=\"p\">,</span>\n",
    "    <span class=\"s1\">&#39;category&#39;</span><span class=\"p\">:</span> <span class=\"s1\">&#39;business&#39;</span> <span class=\"c1\"># for example</span>\n",
    "<span class=\"p\">}</span>\n",
    "</pre></div>\n",
    "\n",
    "<p>Hints:</p>\n",
    "<ol>\n",
    "<li>Start by inspecting the website in your browser. Figure out which\n",
    "   elements will be useful.</li>\n",
    "<li>Start by creating a function that handles a single article and produces a\n",
    "   dictionary like the one above.</li>\n",
    "<li>Next create a function that will find all the articles on a single page\n",
    "   and call the function you created in the last step for every article on\n",
    "   the page.</li>\n",
    "<li>Now create a function that will use the previous two functions to scrape\n",
    "   the articles from all the pages that you need, and do any additional\n",
    "   processing that needs to be done.</li>"
   ]
  },
  {
   "cell_type": "code",
   "execution_count": 5,
   "metadata": {},
   "outputs": [],
   "source": [
    "# acq.get_souptext(\n",
    "#     file_name='textfile.txt',\n",
    "#     url='https://site-to-scrape.glitch.me/',\n",
    "#     headers={'User-Agent': 'Example User Agent'},\n",
    "#     soup_selector='p',\n",
    "#     cache=True,\n",
    "#     cache_age=None,\n",
    "# )"
   ]
  },
  {
   "cell_type": "code",
   "execution_count": 155,
   "metadata": {},
   "outputs": [
    {
     "name": "stdout",
     "output_type": "stream",
     "text": [
      "dont got it\n",
      "<class 'bs4.BeautifulSoup'>\n",
      "<class 'bs4.BeautifulSoup'>\n"
     ]
    },
    {
     "data": {
      "text/plain": [
       "[\"Virat a good player but can't be put in same category as Sachin: Razzaq\",\n",
       " \"Who doesn't want to represent India in T20 World Cup: Ashwin\",\n",
       " \"If culprits were prosecuted, rape victim wouldn't be burnt: Pawar\",\n",
       " 'Stop eating onion, garlic, meat; everything will be saved: Azam Khan',\n",
       " 'CCTVs, panic buttons, GPS to be installed in DTC, cluster buses: CM',\n",
       " 'Concerned about J&K leaders detained without charges: Chidambaram',\n",
       " 'Govts must work with clear intention on crime against women: Kejriwal',\n",
       " 'We will win: Trump on impeachment investigation against him',\n",
       " 'If you are going to impeach me, do it fast: Trump tells Democrats',\n",
       " '6 Muslim men jailed in Malaysia for skipping Friday prayers to go for picnic',\n",
       " \"Only one spot left in Team's pace attack for T20 World Cup: Kohli\",\n",
       " 'Eden Hazard may miss El Clasico after ankle fracture',\n",
       " 'Parliamentary panel on women meets Facebook to discuss cyber crimes',\n",
       " 'Fired Google employees to charge firm with unfair labour practices',\n",
       " 'India may force FB, TikTok to offer user verification: Reports',\n",
       " \"6 tech giants contributed to $100 bn 'tax gap' in 10 yrs: Study\",\n",
       " 'Sports discovery startup Sportido raises funds from IP Ventures',\n",
       " 'Nykaa posts ₹2.31 cr profit in FY19 against ₹17.71 cr loss in FY18',\n",
       " 'MC demolishes properties of man who published honey trap case details',\n",
       " '16-year-old girl killed by MP man for rejecting proposal',\n",
       " 'No proposal to put retirement age at 60: Government',\n",
       " 'Security tightened in Ayodhya ahead of Babri demolition anniversary',\n",
       " 'Untreated sewage leading to toxic foaming at Chennai beaches: TNPCB',\n",
       " \"Harping on Hindu-Muslim issues won't help: Mamata Banerjee\",\n",
       " \"Canada's CPPIB to invest up to $600 mn through NIIF Master Fund\"]"
      ]
     },
     "execution_count": 155,
     "metadata": {},
     "output_type": "execute_result"
    }
   ],
   "source": [
    "def get_file(\n",
    "    file_name='path/file.txt',\n",
    "    cache=False,\n",
    "    cache_age=None\n",
    "    ):\n",
    "\n",
    "    if cache==False:\n",
    "        return None\n",
    "    \n",
    "    if path.exists(file_name):\n",
    "        with open(file_name) as f:\n",
    "            return f\n",
    "\n",
    "\n",
    "def get_soup(\n",
    "    url='https://inshorts.com/en/read/',\n",
    "    headers={'User-Agent': 'Nothing suspicious'},\n",
    "    filename='article.txt',\n",
    "    cache=True,\n",
    "    cache_age=None\n",
    "):\n",
    "    # if we already have the data, read it locally\n",
    "    if cache and path.exists(filename):\n",
    "        with open(filename) as f:\n",
    "            return BeautifulSoup(f.read())\n",
    "\n",
    "    # otherwise go fetch the data\n",
    "    response = get(url, headers=headers)\n",
    "    soup = BeautifulSoup(response.text)\n",
    "#     print(type(soup))\n",
    "    article = soup.select('*')\n",
    "\n",
    "    # save it for next time\n",
    "    with open(filename, 'w') as f:\n",
    "        f.write(str(article[0]))\n",
    "\n",
    "    return soup\n",
    "\n",
    "  \n",
    "  \n",
    "data = get_soup(\n",
    "    url = 'https://inshorts.com/en/read/',\n",
    "    headers = {'User-Agent': 'Nothing suspicious'},\n",
    "    filename = 'article.txt',\n",
    "    cache=False\n",
    "   )\n",
    "\n",
    "print(type(data))\n",
    "fetches = data.select('[itemprop=headline]')\n",
    "outputs = []\n",
    "for fetch in fetches:\n",
    "    outputs.append(fetch.get_text())\n",
    "# select=data.select()\n",
    "# select[0].get_text()\n",
    "\n",
    "# select[0]\n",
    "outputs"
   ]
  },
  {
   "cell_type": "code",
   "execution_count": 68,
   "metadata": {},
   "outputs": [
    {
     "data": {
      "text/plain": [
       "\"Virat a good player but can't be put in same category as Sachin: Razzaq\""
      ]
     },
     "execution_count": 68,
     "metadata": {},
     "output_type": "execute_result"
    }
   ],
   "source": [
    "text = '''<span itemprop=\"headline\">Virat a good player but can't be put in same category as Sachin: Razzaq</span>'''\n",
    "\n",
    "test=BeautifulSoup(text)\n",
    "test.get_text()"
   ]
  },
  {
   "cell_type": "code",
   "execution_count": null,
   "metadata": {},
   "outputs": [],
   "source": []
  },
  {
   "cell_type": "code",
   "execution_count": null,
   "metadata": {},
   "outputs": [],
   "source": []
  },
  {
   "cell_type": "markdown",
   "metadata": {},
   "source": [
    "<h2>2. Codeup Blog Articles</h2>\n",
    "<p>Scrape the article text from the following pages:</p>\n",
    "<ul>\n",
    "<li>https://codeup.com/codeups-data-science-career-accelerator-is-here/</li>\n",
    "<li>https://codeup.com/data-science-myths/</li>\n",
    "<li>https://codeup.com/data-science-vs-data-analytics-whats-the-difference/</li>\n",
    "<li>https://codeup.com/10-tips-to-crush-it-at-the-sa-tech-job-fair/</li>\n",
    "<li>https://codeup.com/competitor-bootcamps-are-closing-is-the-model-in-danger/</li>\n",
    "</ul>\n",
    "<p>Encapsulate your work in a function named <code>get_blog_articles</code> that will return a\n",
    "list of dictionaries, with each dictionary representing one article. The shape\n",
    "of each dictionary should look like this:</p>\n",
    "<div class=\"highlight\"><pre><span></span><span class=\"p\">{</span>\n",
    "    <span class=\"s1\">&#39;title&#39;</span><span class=\"p\">:</span> <span class=\"s1\">&#39;the title of the article&#39;</span><span class=\"p\">,</span>\n",
    "    <span class=\"s1\">&#39;content&#39;</span><span class=\"p\">:</span> <span class=\"s1\">&#39;the full text content of the article&#39;</span>\n",
    "<span class=\"p\">}</span>\n",
    "</pre></div>\n",
    "\n",
    "<p>Plus any additional properties you think might be helpful.</p>\n",
    "<p><strong>Bonus:</strong></p>\n",
    "<ul>\n",
    "<li>Scrape the text of all the articles linked on <a href=\"https://codeup.com/blog/\">codeup's blog page</a>.</li>\n",
    "</ul>\n",
    "<p><strong>Bonus Bonus:</strong></p>\n",
    "<ul>\n",
    "<li>Starting from <a href=\"https://codeup.com/blog/\">the blog homepage</a>, scrape the\n",
    "  full text of every article linked on the page, then move on to the next\n",
    "  page and keep doing the same thing until you have scraped the entire text\n",
    "  of Codeup's blog.</li>\n",
    "</ul>\n",
    "</li>\n",
    "</ol>"
   ]
  },
  {
   "cell_type": "markdown",
   "metadata": {},
   "source": []
  },
  {
   "cell_type": "markdown",
   "metadata": {},
   "source": [
    "<h2>Bonus: cache the data</h2>\n",
    "<p>Write your code such that the acquired data is saved locally in some form or\n",
    "fashion. Your functions that retrieve the data should prefer to read the\n",
    "local data instead of having to make all the requests everytime the function\n",
    "is called. Include a boolean flag in the functions to allow the data to be\n",
    "acquired \"fresh\" from the actual sources (re-writing your local cache).</p>"
   ]
  },
  {
   "cell_type": "code",
   "execution_count": null,
   "metadata": {},
   "outputs": [],
   "source": []
  },
  {
   "cell_type": "code",
   "execution_count": null,
   "metadata": {},
   "outputs": [],
   "source": []
  },
  {
   "cell_type": "code",
   "execution_count": null,
   "metadata": {},
   "outputs": [],
   "source": []
  },
  {
   "cell_type": "code",
   "execution_count": 163,
   "metadata": {},
   "outputs": [],
   "source": [
    "\n",
    "\n",
    "\n",
    "def make_dictionary_from_article(\n",
    "    url, \n",
    "    filename,\n",
    "    cache\n",
    "):\n",
    "    # make the request to the url variable\n",
    "    # make a \"soup\" variable\n",
    "    # isolate the title of the article, store it as a string called \"title\"\n",
    "    # isolate the body text of the article (buy CSS selector), name the variable \"body\"\n",
    "    \n",
    "    headers = {'User-Agent': 'Nothing suspicious'}\n",
    "    response = get(url, headers=headers)\n",
    "    \n",
    "    soup = get_soup(\n",
    "        url = url,\n",
    "        headers = headers,\n",
    "        filename = filename,\n",
    "        cache = cache\n",
    "    )\n",
    "    \n",
    "    title = soup.title.get_text()\n",
    "    body = soup.select('div.mk-single-content.clearfix')[0].get_text()\n",
    "    \n",
    "    return {\n",
    "        \"title\": title,\n",
    "        \"body\": body,\n",
    "        \"url\": url\n",
    "    }\n",
    "\n",
    "\n",
    "# def get_blog_articles():\n",
    "    \n",
    "\n",
    "\n",
    "def make_new_blog_request(\n",
    "    filename_csv='./codeup_blog_posts.csv',\n",
    "    filename_bs='./codeup_blog_posts.txt',\n",
    "    cache=True\n",
    "):\n",
    "    urls = [\n",
    "        \"https://codeup.com/codeups-data-science-career-accelerator-is-here/\",\n",
    "        \"https://codeup.com/data-science-myths/\",\n",
    "        \"https://codeup.com/data-science-vs-data-analytics-whats-the-difference/\",\n",
    "        \"https://codeup.com/10-tips-to-crush-it-at-the-sa-tech-job-fair/\",\n",
    "        \"https://codeup.com/competitor-bootcamps-are-closing-is-the-model-in-danger/\",\n",
    "    ]\n",
    "\n",
    "    output = []\n",
    "    \n",
    "    for url in urls:\n",
    "        output.append(make_dictionary_from_article(url, filename_bs, cache=cache))\n",
    "    \n",
    "    df=pd.DataFrame(output)\n",
    "    df.to_csv(filename_csv)\n",
    "    return df\n",
    "\n",
    "    "
   ]
  },
  {
   "cell_type": "code",
   "execution_count": 164,
   "metadata": {},
   "outputs": [
    {
     "name": "stdout",
     "output_type": "stream",
     "text": [
      "got_it!\n",
      "got_it!\n",
      "got_it!\n",
      "got_it!\n",
      "got_it!\n"
     ]
    },
    {
     "data": {
      "text/html": [
       "<div>\n",
       "<style scoped>\n",
       "    .dataframe tbody tr th:only-of-type {\n",
       "        vertical-align: middle;\n",
       "    }\n",
       "\n",
       "    .dataframe tbody tr th {\n",
       "        vertical-align: top;\n",
       "    }\n",
       "\n",
       "    .dataframe thead th {\n",
       "        text-align: right;\n",
       "    }\n",
       "</style>\n",
       "<table border=\"1\" class=\"dataframe\">\n",
       "  <thead>\n",
       "    <tr style=\"text-align: right;\">\n",
       "      <th></th>\n",
       "      <th>body</th>\n",
       "      <th>title</th>\n",
       "      <th>url</th>\n",
       "    </tr>\n",
       "  </thead>\n",
       "  <tbody>\n",
       "    <tr>\n",
       "      <th>0</th>\n",
       "      <td>\\nCompetitor Bootcamps Are Closing. Is the Mod...</td>\n",
       "      <td>Competitor Bootcamps Are Closing. Is the Model...</td>\n",
       "      <td>https://codeup.com/codeups-data-science-career...</td>\n",
       "    </tr>\n",
       "    <tr>\n",
       "      <th>1</th>\n",
       "      <td>\\nCompetitor Bootcamps Are Closing. Is the Mod...</td>\n",
       "      <td>Competitor Bootcamps Are Closing. Is the Model...</td>\n",
       "      <td>https://codeup.com/data-science-myths/</td>\n",
       "    </tr>\n",
       "    <tr>\n",
       "      <th>2</th>\n",
       "      <td>\\nCompetitor Bootcamps Are Closing. Is the Mod...</td>\n",
       "      <td>Competitor Bootcamps Are Closing. Is the Model...</td>\n",
       "      <td>https://codeup.com/data-science-vs-data-analyt...</td>\n",
       "    </tr>\n",
       "    <tr>\n",
       "      <th>3</th>\n",
       "      <td>\\nCompetitor Bootcamps Are Closing. Is the Mod...</td>\n",
       "      <td>Competitor Bootcamps Are Closing. Is the Model...</td>\n",
       "      <td>https://codeup.com/10-tips-to-crush-it-at-the-...</td>\n",
       "    </tr>\n",
       "    <tr>\n",
       "      <th>4</th>\n",
       "      <td>\\nCompetitor Bootcamps Are Closing. Is the Mod...</td>\n",
       "      <td>Competitor Bootcamps Are Closing. Is the Model...</td>\n",
       "      <td>https://codeup.com/competitor-bootcamps-are-cl...</td>\n",
       "    </tr>\n",
       "  </tbody>\n",
       "</table>\n",
       "</div>"
      ],
      "text/plain": [
       "                                                body  \\\n",
       "0  \\nCompetitor Bootcamps Are Closing. Is the Mod...   \n",
       "1  \\nCompetitor Bootcamps Are Closing. Is the Mod...   \n",
       "2  \\nCompetitor Bootcamps Are Closing. Is the Mod...   \n",
       "3  \\nCompetitor Bootcamps Are Closing. Is the Mod...   \n",
       "4  \\nCompetitor Bootcamps Are Closing. Is the Mod...   \n",
       "\n",
       "                                               title  \\\n",
       "0  Competitor Bootcamps Are Closing. Is the Model...   \n",
       "1  Competitor Bootcamps Are Closing. Is the Model...   \n",
       "2  Competitor Bootcamps Are Closing. Is the Model...   \n",
       "3  Competitor Bootcamps Are Closing. Is the Model...   \n",
       "4  Competitor Bootcamps Are Closing. Is the Model...   \n",
       "\n",
       "                                                 url  \n",
       "0  https://codeup.com/codeups-data-science-career...  \n",
       "1             https://codeup.com/data-science-myths/  \n",
       "2  https://codeup.com/data-science-vs-data-analyt...  \n",
       "3  https://codeup.com/10-tips-to-crush-it-at-the-...  \n",
       "4  https://codeup.com/competitor-bootcamps-are-cl...  "
      ]
     },
     "execution_count": 164,
     "metadata": {},
     "output_type": "execute_result"
    }
   ],
   "source": [
    "make_new_request()"
   ]
  },
  {
   "cell_type": "code",
   "execution_count": null,
   "metadata": {},
   "outputs": [],
   "source": []
  },
  {
   "cell_type": "code",
   "execution_count": null,
   "metadata": {},
   "outputs": [],
   "source": []
  },
  {
   "cell_type": "code",
   "execution_count": null,
   "metadata": {},
   "outputs": [],
   "source": []
  },
  {
   "cell_type": "code",
   "execution_count": null,
   "metadata": {},
   "outputs": [],
   "source": []
  },
  {
   "cell_type": "code",
   "execution_count": null,
   "metadata": {},
   "outputs": [],
   "source": []
  },
  {
   "cell_type": "code",
   "execution_count": null,
   "metadata": {},
   "outputs": [],
   "source": []
  },
  {
   "cell_type": "code",
   "execution_count": null,
   "metadata": {},
   "outputs": [],
   "source": []
  },
  {
   "cell_type": "code",
   "execution_count": null,
   "metadata": {},
   "outputs": [],
   "source": []
  },
  {
   "cell_type": "code",
   "execution_count": null,
   "metadata": {},
   "outputs": [],
   "source": []
  },
  {
   "cell_type": "code",
   "execution_count": null,
   "metadata": {},
   "outputs": [],
   "source": []
  },
  {
   "cell_type": "code",
   "execution_count": null,
   "metadata": {},
   "outputs": [],
   "source": []
  },
  {
   "cell_type": "code",
   "execution_count": null,
   "metadata": {},
   "outputs": [],
   "source": []
  },
  {
   "cell_type": "code",
   "execution_count": null,
   "metadata": {},
   "outputs": [],
   "source": []
  },
  {
   "cell_type": "code",
   "execution_count": null,
   "metadata": {},
   "outputs": [],
   "source": []
  },
  {
   "cell_type": "code",
   "execution_count": null,
   "metadata": {},
   "outputs": [],
   "source": []
  },
  {
   "cell_type": "code",
   "execution_count": null,
   "metadata": {},
   "outputs": [],
   "source": []
  },
  {
   "cell_type": "code",
   "execution_count": null,
   "metadata": {},
   "outputs": [],
   "source": []
  }
 ],
 "metadata": {
  "kernelspec": {
   "display_name": "Python 3",
   "language": "python",
   "name": "python3"
  },
  "language_info": {
   "codemirror_mode": {
    "name": "ipython",
    "version": 3
   },
   "file_extension": ".py",
   "mimetype": "text/x-python",
   "name": "python",
   "nbconvert_exporter": "python",
   "pygments_lexer": "ipython3",
   "version": "3.7.3"
  }
 },
 "nbformat": 4,
 "nbformat_minor": 2
}
