{
 "cells": [
  {
   "cell_type": "markdown",
   "metadata": {},
   "source": [
    "<h1 id=\"exercises\">Exercises - Data Acquisition</h1>\n"
   ]
  },
  {
   "cell_type": "markdown",
   "metadata": {},
   "source": [
    "This exercises uses the <code>case.csv</code>, <code>dept.csv</code>, and <code>source.csv</code> files from the\n",
    "san antonio 311 call dataset."
   ]
  },
  {
   "cell_type": "code",
   "execution_count": 1,
   "metadata": {},
   "outputs": [],
   "source": [
    "import pandas as pd\n",
    "import numpy as np\n",
    "\n",
    "from os import path\n",
    "from pydataset import data\n",
    "\n",
    "import pyspark\n",
    "import pyspark.sql.functions as F\n",
    "import pyspark.sql.types as T"
   ]
  },
  {
   "cell_type": "code",
   "execution_count": 2,
   "metadata": {},
   "outputs": [],
   "source": [
    "spark = pyspark.sql.SparkSession.builder.getOrCreate()"
   ]
  },
  {
   "cell_type": "code",
   "execution_count": 3,
   "metadata": {},
   "outputs": [],
   "source": [
    "def get_spark_shape(df):\n",
    "    return (df.count(), len(df.columns))"
   ]
  },
  {
   "cell_type": "markdown",
   "metadata": {},
   "source": [
    "## i.1\n",
    "Read the case, department, and source data into their own spark dataframes."
   ]
  },
  {
   "cell_type": "markdown",
   "metadata": {},
   "source": [
    "#### Create case"
   ]
  },
  {
   "cell_type": "code",
   "execution_count": 4,
   "metadata": {},
   "outputs": [
    {
     "name": "stdout",
     "output_type": "stream",
     "text": [
      "(841704, 14)\n",
      "root\n",
      " |-- case_id: integer (nullable = true)\n",
      " |-- case_opened_date: string (nullable = true)\n",
      " |-- case_closed_date: string (nullable = true)\n",
      " |-- SLA_due_date: string (nullable = true)\n",
      " |-- case_late: string (nullable = true)\n",
      " |-- num_days_late: double (nullable = true)\n",
      " |-- case_closed: string (nullable = true)\n",
      " |-- dept_division: string (nullable = true)\n",
      " |-- service_request_type: string (nullable = true)\n",
      " |-- SLA_days: double (nullable = true)\n",
      " |-- case_status: string (nullable = true)\n",
      " |-- source_id: string (nullable = true)\n",
      " |-- request_address: string (nullable = true)\n",
      " |-- council_district: integer (nullable = true)\n",
      "\n"
     ]
    }
   ],
   "source": [
    "case=spark.read.csv('spark_csv/case.csv', header=True, inferSchema=True)\n",
    "print(get_spark_shape(case))\n",
    "case.printSchema()"
   ]
  },
  {
   "cell_type": "markdown",
   "metadata": {},
   "source": [
    "#### Create dept"
   ]
  },
  {
   "cell_type": "code",
   "execution_count": 5,
   "metadata": {},
   "outputs": [
    {
     "name": "stdout",
     "output_type": "stream",
     "text": [
      "(39, 4)\n",
      "root\n",
      " |-- dept_division: string (nullable = true)\n",
      " |-- dept_name: string (nullable = true)\n",
      " |-- standardized_dept_name: string (nullable = true)\n",
      " |-- dept_subject_to_SLA: string (nullable = true)\n",
      "\n"
     ]
    }
   ],
   "source": [
    "dept=spark.read.csv('spark_csv/dept.csv', header=True, inferSchema=True)\n",
    "print(get_spark_shape(dept))\n",
    "dept.printSchema()"
   ]
  },
  {
   "cell_type": "markdown",
   "metadata": {},
   "source": [
    "#### Create source"
   ]
  },
  {
   "cell_type": "code",
   "execution_count": 6,
   "metadata": {},
   "outputs": [
    {
     "name": "stdout",
     "output_type": "stream",
     "text": [
      "(140, 2)\n",
      "root\n",
      " |-- source_id: string (nullable = true)\n",
      " |-- source_username: string (nullable = true)\n",
      "\n"
     ]
    }
   ],
   "source": [
    "source=spark.read.csv('spark_csv/source.csv', header=True, inferSchema=True)\n",
    "print(get_spark_shape(source))\n",
    "source.printSchema()"
   ]
  },
  {
   "cell_type": "markdown",
   "metadata": {},
   "source": [
    "## i.2\n",
    "Let's see how writing to the local disk works in spark:"
   ]
  },
  {
   "cell_type": "markdown",
   "metadata": {},
   "source": [
    "### i.2.a\n",
    "Write the code necessary to store the source data in both csv and json format, store these as <code>sources_csv</code> and <code>sources_json</code>"
   ]
  },
  {
   "cell_type": "code",
   "execution_count": 7,
   "metadata": {},
   "outputs": [
    {
     "name": "stdout",
     "output_type": "stream",
     "text": [
      "file saved\n"
     ]
    }
   ],
   "source": [
    "csv_file = 'data/sources_csv'\n",
    "\n",
    "source.write.csv(csv_file, mode='overwrite')\n",
    "if path.exists(csv_file):\n",
    "    print('file saved')"
   ]
  },
  {
   "cell_type": "code",
   "execution_count": 8,
   "metadata": {},
   "outputs": [
    {
     "name": "stdout",
     "output_type": "stream",
     "text": [
      "file saved\n"
     ]
    }
   ],
   "source": [
    "json_file = 'data/sources_json'\n",
    "\n",
    "source.write.json(json_file, mode='overwrite')\n",
    "if path.exists(json_file):\n",
    "    print('file saved')"
   ]
  },
  {
   "cell_type": "markdown",
   "metadata": {},
   "source": [
    "### i.2.b\n",
    "Inspect your folder structure. What do you notice?"
   ]
  },
  {
   "cell_type": "markdown",
   "metadata": {},
   "source": [
    "**Spark makes directories, not just files.**"
   ]
  },
  {
   "cell_type": "markdown",
   "metadata": {},
   "source": [
    "## i.3\n",
    "Inspect the data in your dataframes. Are the data types appropriate? Write the code necessary to cast the values to the appropriate types."
   ]
  },
  {
   "cell_type": "markdown",
   "metadata": {},
   "source": [
    "#### inspect case"
   ]
  },
  {
   "cell_type": "code",
   "execution_count": 9,
   "metadata": {},
   "outputs": [
    {
     "name": "stdout",
     "output_type": "stream",
     "text": [
      "-RECORD 0-----------------------------------------------------\n",
      " case_id              | 1014127332                            \n",
      " case_opened_date     | 1/1/18 0:42                           \n",
      " case_closed_date     | 1/1/18 12:29                          \n",
      " SLA_due_date         | 9/26/20 0:42                          \n",
      " case_late            | NO                                    \n",
      " num_days_late        | -998.5087616000001                    \n",
      " case_closed          | YES                                   \n",
      " dept_division        | Field Operations                      \n",
      " service_request_type | Stray Animal                          \n",
      " SLA_days             | 999.0                                 \n",
      " case_status          | Closed                                \n",
      " source_id            | svcCRMLS                              \n",
      " request_address      | 2315  EL PASO ST, San Antonio, 78207  \n",
      " council_district     | 5                                     \n",
      "-RECORD 1-----------------------------------------------------\n",
      " case_id              | 1014127333                            \n",
      " case_opened_date     | 1/1/18 0:46                           \n",
      " case_closed_date     | 1/3/18 8:11                           \n",
      " SLA_due_date         | 1/5/18 8:30                           \n",
      " case_late            | NO                                    \n",
      " num_days_late        | -2.0126041669999997                   \n",
      " case_closed          | YES                                   \n",
      " dept_division        | Storm Water                           \n",
      " service_request_type | Removal Of Obstruction                \n",
      " SLA_days             | 4.322222222                           \n",
      " case_status          | Closed                                \n",
      " source_id            | svcCRMSS                              \n",
      " request_address      | 2215  GOLIAD RD, San Antonio, 78223   \n",
      " council_district     | 3                                     \n",
      "-RECORD 2-----------------------------------------------------\n",
      " case_id              | 1014127334                            \n",
      " case_opened_date     | 1/1/18 0:48                           \n",
      " case_closed_date     | 1/2/18 7:57                           \n",
      " SLA_due_date         | 1/5/18 8:30                           \n",
      " case_late            | NO                                    \n",
      " num_days_late        | -3.022337963                          \n",
      " case_closed          | YES                                   \n",
      " dept_division        | Storm Water                           \n",
      " service_request_type | Removal Of Obstruction                \n",
      " SLA_days             | 4.320729167                           \n",
      " case_status          | Closed                                \n",
      " source_id            | svcCRMSS                              \n",
      " request_address      | 102  PALFREY ST W, San Antonio, 78223 \n",
      " council_district     | 3                                     \n",
      "only showing top 3 rows\n",
      "\n"
     ]
    }
   ],
   "source": [
    "case.show(3, vertical=True, truncate=False)"
   ]
  },
  {
   "cell_type": "markdown",
   "metadata": {},
   "source": [
    "#### Modify case\n",
    "\n",
    "- Change 'SLA' to 'case\n",
    "- Set dates to timestamps\n",
    "- Set YES/NO fields to boolean\n",
    "- Change council district field to string"
   ]
  },
  {
   "cell_type": "code",
   "execution_count": 10,
   "metadata": {},
   "outputs": [
    {
     "name": "stdout",
     "output_type": "stream",
     "text": [
      "root\n",
      " |-- case_id: integer (nullable = true)\n",
      " |-- case_opened_date: timestamp (nullable = true)\n",
      " |-- case_closed_date: timestamp (nullable = true)\n",
      " |-- case_due_date: timestamp (nullable = true)\n",
      " |-- case_late: boolean (nullable = true)\n",
      " |-- num_days_late: double (nullable = true)\n",
      " |-- case_closed: boolean (nullable = true)\n",
      " |-- dept_division: string (nullable = true)\n",
      " |-- service_request_type: string (nullable = true)\n",
      " |-- case_days: double (nullable = true)\n",
      " |-- case_status: string (nullable = true)\n",
      " |-- source_id: string (nullable = true)\n",
      " |-- request_address: string (nullable = true)\n",
      " |-- council_district: string (nullable = true)\n",
      "\n",
      "-RECORD 0-----------------------------------------------------\n",
      " case_id              | 1014127332                            \n",
      " case_opened_date     | 2018-01-01 00:42:00                   \n",
      " case_closed_date     | 2018-01-01 12:29:00                   \n",
      " case_due_date        | 2020-09-26 00:42:00                   \n",
      " case_late            | false                                 \n",
      " num_days_late        | -998.5087616000001                    \n",
      " case_closed          | true                                  \n",
      " dept_division        | Field Operations                      \n",
      " service_request_type | Stray Animal                          \n",
      " case_days            | 999.0                                 \n",
      " case_status          | Closed                                \n",
      " source_id            | svcCRMLS                              \n",
      " request_address      | 2315  EL PASO ST, San Antonio, 78207  \n",
      " council_district     | 5                                     \n",
      "-RECORD 1-----------------------------------------------------\n",
      " case_id              | 1014127333                            \n",
      " case_opened_date     | 2018-01-01 00:46:00                   \n",
      " case_closed_date     | 2018-01-03 08:11:00                   \n",
      " case_due_date        | 2018-01-05 08:30:00                   \n",
      " case_late            | false                                 \n",
      " num_days_late        | -2.0126041669999997                   \n",
      " case_closed          | true                                  \n",
      " dept_division        | Storm Water                           \n",
      " service_request_type | Removal Of Obstruction                \n",
      " case_days            | 4.322222222                           \n",
      " case_status          | Closed                                \n",
      " source_id            | svcCRMSS                              \n",
      " request_address      | 2215  GOLIAD RD, San Antonio, 78223   \n",
      " council_district     | 3                                     \n",
      "-RECORD 2-----------------------------------------------------\n",
      " case_id              | 1014127334                            \n",
      " case_opened_date     | 2018-01-01 00:48:00                   \n",
      " case_closed_date     | 2018-01-02 07:57:00                   \n",
      " case_due_date        | 2018-01-05 08:30:00                   \n",
      " case_late            | false                                 \n",
      " num_days_late        | -3.022337963                          \n",
      " case_closed          | true                                  \n",
      " dept_division        | Storm Water                           \n",
      " service_request_type | Removal Of Obstruction                \n",
      " case_days            | 4.320729167                           \n",
      " case_status          | Closed                                \n",
      " source_id            | svcCRMSS                              \n",
      " request_address      | 102  PALFREY ST W, San Antonio, 78223 \n",
      " council_district     | 3                                     \n",
      "only showing top 3 rows\n",
      "\n"
     ]
    }
   ],
   "source": [
    "fmt = \"M/d/yy H:mm\"\n",
    "case = (case\n",
    "        .withColumnRenamed('SLA_due_date', 'case_due_date')\n",
    "        .withColumnRenamed('SLA_days', 'case_days')\n",
    "        .withColumn(\"case_opened_date\", F.to_timestamp(\"case_opened_date\", fmt))\n",
    "        .withColumn(\"case_closed_date\", F.to_timestamp(\"case_closed_date\", fmt))\n",
    "        .withColumn(\"case_due_date\", F.to_timestamp(\"case_due_date\", fmt))\n",
    "        .withColumn(\"case_closed\", F.expr('case_closed == \"YES\"'))\n",
    "        .withColumn(\"case_late\", F.expr('case_late == \"YES\"'))\n",
    "        .withColumn(\"council_district\", F.col(\"council_district\").cast(\"string\"))\n",
    ")\n",
    "case.printSchema()\n",
    "case.show(3, vertical=True, truncate=False)"
   ]
  },
  {
   "cell_type": "markdown",
   "metadata": {},
   "source": [
    "#### Register case"
   ]
  },
  {
   "cell_type": "code",
   "execution_count": 11,
   "metadata": {},
   "outputs": [],
   "source": [
    "case.createOrReplaceTempView('case')"
   ]
  },
  {
   "cell_type": "markdown",
   "metadata": {},
   "source": [
    "#### Inspect dept"
   ]
  },
  {
   "cell_type": "code",
   "execution_count": 12,
   "metadata": {},
   "outputs": [
    {
     "name": "stdout",
     "output_type": "stream",
     "text": [
      "+---------------+----------------------+----------------------+-------------------+\n",
      "|dept_division  |dept_name             |standardized_dept_name|dept_subject_to_SLA|\n",
      "+---------------+----------------------+----------------------+-------------------+\n",
      "|311 Call Center|Customer Service      |Customer Service      |YES                |\n",
      "|Brush          |Solid Waste Management|Solid Waste           |YES                |\n",
      "|Clean and Green|Parks and Recreation  |Parks & Recreation    |YES                |\n",
      "+---------------+----------------------+----------------------+-------------------+\n",
      "only showing top 3 rows\n",
      "\n"
     ]
    }
   ],
   "source": [
    "dept.show(3, truncate=False)"
   ]
  },
  {
   "cell_type": "markdown",
   "metadata": {},
   "source": [
    "#### Modify dept\n",
    "\n",
    "- Change dept_subject_to_SLA to boolean"
   ]
  },
  {
   "cell_type": "code",
   "execution_count": 13,
   "metadata": {},
   "outputs": [
    {
     "name": "stdout",
     "output_type": "stream",
     "text": [
      "root\n",
      " |-- dept_division: string (nullable = true)\n",
      " |-- dept_name: string (nullable = true)\n",
      " |-- standardized_dept_name: string (nullable = true)\n",
      " |-- dept_subject_to_SLA: boolean (nullable = true)\n",
      "\n"
     ]
    }
   ],
   "source": [
    "dept = (dept\n",
    "        .withColumn(\"dept_subject_to_SLA\", F.expr('dept_subject_to_SLA == \"YES\"'))\n",
    "        \n",
    ")\n",
    "dept.printSchema()"
   ]
  },
  {
   "cell_type": "markdown",
   "metadata": {},
   "source": [
    "#### Register dept"
   ]
  },
  {
   "cell_type": "code",
   "execution_count": 14,
   "metadata": {},
   "outputs": [],
   "source": [
    "dept.createOrReplaceTempView('dept')"
   ]
  },
  {
   "cell_type": "markdown",
   "metadata": {},
   "source": [
    "#### Inspect source"
   ]
  },
  {
   "cell_type": "code",
   "execution_count": 15,
   "metadata": {},
   "outputs": [
    {
     "name": "stdout",
     "output_type": "stream",
     "text": [
      "+---------+----------------+\n",
      "|source_id|source_username |\n",
      "+---------+----------------+\n",
      "|100137   |Merlene Blodgett|\n",
      "|103582   |Carmen Cura     |\n",
      "|106463   |Richard Sanchez |\n",
      "+---------+----------------+\n",
      "only showing top 3 rows\n",
      "\n"
     ]
    }
   ],
   "source": [
    "source.show(3, truncate=False)"
   ]
  },
  {
   "cell_type": "markdown",
   "metadata": {},
   "source": [
    "#### Modify source\n",
    "\n",
    "* No modifications necessary *"
   ]
  },
  {
   "cell_type": "markdown",
   "metadata": {},
   "source": [
    "#### Register source"
   ]
  },
  {
   "cell_type": "code",
   "execution_count": 16,
   "metadata": {},
   "outputs": [],
   "source": [
    "source.createOrReplaceTempView('source')"
   ]
  },
  {
   "cell_type": "markdown",
   "metadata": {},
   "source": [
    "You might have noticed that the latest date in the dataset is fairly far off from the present day. To account for this, replace any occurances of the current time with the maximum date from the dataset."
   ]
  },
  {
   "cell_type": "code",
   "execution_count": 17,
   "metadata": {},
   "outputs": [
    {
     "name": "stdout",
     "output_type": "stream",
     "text": [
      "+-------------------+-------------------+\n",
      "|            MaxOpen|           MaxClose|\n",
      "+-------------------+-------------------+\n",
      "|2018-08-08 10:38:00|2018-08-08 10:38:00|\n",
      "+-------------------+-------------------+\n",
      "\n"
     ]
    }
   ],
   "source": [
    "spark.sql('''\n",
    "    SELECT MAX(case_opened_date) MaxOpen, MAX(case_closed_date) MaxClose FROM case\n",
    "''').show()"
   ]
  },
  {
   "cell_type": "code",
   "execution_count": 50,
   "metadata": {},
   "outputs": [
    {
     "name": "stdout",
     "output_type": "stream",
     "text": [
      "+-----------+----------+-----------+-----------+-------------------+------------------+----------+\n",
      "|case_opened|  case_due|case_closed|  case_days|      num_days_late|          case_age|   calcage|\n",
      "+-----------+----------+-----------+-----------+-------------------+------------------+----------+\n",
      "| 2018-01-01|2018-01-11| 2018-01-03|       10.0|       -8.580949074|1.4190509260000006|2018-01-02|\n",
      "| 2018-01-01|2018-01-17| 2018-01-02|15.41878472|-15.038703699999997|0.3800810200000022|2018-01-01|\n",
      "| 2018-01-01|2018-01-02| 2018-01-02|      0.125|         0.34244213|        0.46744213|2018-01-01|\n",
      "| 2018-01-02|2018-01-17| 2018-01-02|15.30795139|-14.647546300000002|0.6604050899999976|2018-01-03|\n",
      "| 2018-01-02|2018-01-17| 2018-01-02|15.30527778|       -14.77136574|0.5339120400000006|2018-01-03|\n",
      "| 2018-01-02|2018-01-17| 2018-01-02|15.30206019|        -14.6334375|0.6686226900000012|2018-01-03|\n",
      "| 2018-01-02|2018-01-17| 2018-01-02|15.30078704|       -14.63961806|0.6611689799999994|2018-01-03|\n",
      "| 2018-01-02|2018-01-17| 2018-01-02|15.29842593|       -14.63239583|0.6660301000000004|2018-01-03|\n",
      "| 2018-01-02|2018-01-04| 2018-01-02|2.296006944|-1.7665509259999999|0.5294560180000003|2018-01-03|\n",
      "| 2018-01-02|2018-01-17| 2018-01-02|15.28579861|        -14.6353125| 0.650486110000001|2018-01-03|\n",
      "| 2018-01-02|2018-01-17| 2018-01-02|15.28196759|       -14.64381944| 0.638148150000001|2018-01-03|\n",
      "| 2018-01-02|2018-03-07| 2018-01-03|64.27111111|       -62.55315972|1.7179513900000103|2018-01-04|\n",
      "| 2018-01-02|2018-05-10| 2018-01-03|128.2644213|-126.57359950000001|1.6908217999999948|2018-01-04|\n",
      "| 2018-01-02|2018-01-04| 2018-01-02|2.258541667|       -1.644513889|0.6140277779999999|2018-01-03|\n",
      "| 2018-01-02|2018-01-07| 2018-01-02|        5.0|       -4.447847222|       0.552152778|2018-01-03|\n",
      "| 2018-01-02|2018-01-07| 2018-01-02|        5.0|        -4.40244213|0.5975578700000002|2018-01-03|\n",
      "| 2018-01-02|2018-01-07| 2018-03-23|        5.0|        75.53084491|       80.53084491|2018-03-24|\n",
      "| 2018-01-02|2018-01-07| 2018-01-02|        5.0|       -4.419872685|0.5801273150000004|2018-01-03|\n",
      "| 2018-01-02|2018-01-12| 2018-01-02|       10.0| -9.427222222000001| 0.572777777999999|2018-01-03|\n",
      "| 2018-01-02|2018-01-07| 2018-01-02|        5.0|       -4.474907407|0.5250925930000001|2018-01-03|\n",
      "+-----------+----------+-----------+-----------+-------------------+------------------+----------+\n",
      "only showing top 20 rows\n",
      "\n"
     ]
    }
   ],
   "source": [
    "spark.sql('''\n",
    "    SELECT \n",
    "        date_add(case_opened_date, 0) case_opened, \n",
    "        date_add(case_due_date, 0) case_due, \n",
    "        date_add(case_closed_date, 0) case_closed, \n",
    "        case_days, \n",
    "        num_days_late, \n",
    "        case_days + num_days_late case_age,\n",
    "--        date_add(case_due_date, num_days_late) calcdue, \n",
    "        date_add(case_opened_date, round(case_days + num_days_late)) calcage\n",
    "    FROM \n",
    "        case\n",
    "    WHERE \n",
    "        (case_closed = True \n",
    "            AND \n",
    "            date_add(case_opened_date, round(case_days + num_days_late)) <> date_add(case_closed_date, 0))\n",
    "        OR\n",
    "        (case_closed = False\n",
    "            AND\n",
    "            date_add(case_opened_date, int(case_days) + int(num_days_late)) <> '2018-08-08')\n",
    "''').show()"
   ]
  },
  {
   "cell_type": "markdown",
   "metadata": {},
   "source": [
    "## ii.1\n",
    "How old is the latest (in terms of days past SLA) currently open issue? How long has the oldest (in terms of days since opened) currently opened issue been open?"
   ]
  },
  {
   "cell_type": "code",
   "execution_count": null,
   "metadata": {},
   "outputs": [],
   "source": []
  },
  {
   "cell_type": "markdown",
   "metadata": {},
   "source": [
    "## ii.2\n",
    "How many Stray Animal cases are there?"
   ]
  },
  {
   "cell_type": "code",
   "execution_count": null,
   "metadata": {},
   "outputs": [],
   "source": []
  },
  {
   "cell_type": "markdown",
   "metadata": {},
   "source": [
    "## ii.3\n",
    "How many service requests that are assigned to the Field Operations department (<code>dept_division</code>) are not classified as \"Officer Standby\" request type (<code>service_request_type</code>)?"
   ]
  },
  {
   "cell_type": "code",
   "execution_count": null,
   "metadata": {},
   "outputs": [],
   "source": []
  },
  {
   "cell_type": "markdown",
   "metadata": {},
   "source": [
    "## ii.4\n",
    "Convert the <code>council_district</code> column to a string column."
   ]
  },
  {
   "cell_type": "code",
   "execution_count": null,
   "metadata": {},
   "outputs": [],
   "source": []
  },
  {
   "cell_type": "markdown",
   "metadata": {},
   "source": [
    "## ii.5\n",
    "Extract the year from the <code>case_closed_date</code> column.\n"
   ]
  },
  {
   "cell_type": "code",
   "execution_count": null,
   "metadata": {},
   "outputs": [],
   "source": []
  },
  {
   "cell_type": "markdown",
   "metadata": {},
   "source": [
    "## ii.6\n",
    "Convert <code>num_days_late</code> from days to hours in new columns <code>num_hours_late</code>."
   ]
  },
  {
   "cell_type": "code",
   "execution_count": null,
   "metadata": {},
   "outputs": [],
   "source": []
  },
  {
   "cell_type": "markdown",
   "metadata": {},
   "source": [
    "## ii.7\n",
    "Join the case data with the source and department data."
   ]
  },
  {
   "cell_type": "code",
   "execution_count": null,
   "metadata": {},
   "outputs": [],
   "source": []
  },
  {
   "cell_type": "markdown",
   "metadata": {},
   "source": [
    "## ii.8\n",
    "Are there any cases that do not have a request source?"
   ]
  },
  {
   "cell_type": "code",
   "execution_count": null,
   "metadata": {},
   "outputs": [],
   "source": []
  },
  {
   "cell_type": "markdown",
   "metadata": {},
   "source": [
    "## ii.9\n",
    "What are the top 10 service request types in terms of number of requests?"
   ]
  },
  {
   "cell_type": "markdown",
   "metadata": {},
   "source": [
    "## ii.10\n",
    "What are the top 10 service request types in terms of average days late?"
   ]
  },
  {
   "cell_type": "code",
   "execution_count": null,
   "metadata": {},
   "outputs": [],
   "source": []
  },
  {
   "cell_type": "markdown",
   "metadata": {},
   "source": [
    "## ii.11\n",
    "Does number of days late depend on department?"
   ]
  },
  {
   "cell_type": "code",
   "execution_count": null,
   "metadata": {},
   "outputs": [],
   "source": []
  },
  {
   "cell_type": "markdown",
   "metadata": {},
   "source": [
    "## ii.12\n",
    "How do number of days late depend on department and request type?"
   ]
  },
  {
   "cell_type": "code",
   "execution_count": null,
   "metadata": {},
   "outputs": [],
   "source": []
  }
 ],
 "metadata": {
  "kernelspec": {
   "display_name": "Python 3",
   "language": "python",
   "name": "python3"
  },
  "language_info": {
   "codemirror_mode": {
    "name": "ipython",
    "version": 3
   },
   "file_extension": ".py",
   "mimetype": "text/x-python",
   "name": "python",
   "nbconvert_exporter": "python",
   "pygments_lexer": "ipython3",
   "version": "3.7.3"
  }
 },
 "nbformat": 4,
 "nbformat_minor": 2
}
