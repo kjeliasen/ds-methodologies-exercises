{
 "cells": [
  {
   "cell_type": "markdown",
   "metadata": {},
   "source": [
    "## Acquire (`acquire.py`)"
   ]
  },
  {
   "cell_type": "markdown",
   "metadata": {},
   "source": [
    "### Mall Customers"
   ]
  },
  {
   "cell_type": "markdown",
   "metadata": {},
   "source": [
    "#### notebook\n",
    "1. Acquire data from mall_customers.customers in mysql database.\n",
    "2. Summarize data (include distributions and descriptive statistics).\n",
    "3. Detect outliers using IQR.\n",
    "4. Split data (train-test-split).\n",
    "5. Encode categorical columns using a one hot encoder.\n",
    "6. Handles missing values.\n",
    "7. Scaling"
   ]
  },
  {
   "cell_type": "markdown",
   "metadata": {},
   "source": [
    "#### `wrangle_mall.py`\n",
    "1. Acquire data from mall_customers.customers in mysql database.\n",
    "2. Split the data\n",
    "3. One-hot-encoding\n",
    "4. Missing values\n",
    "5. Scaling"
   ]
  },
  {
   "cell_type": "code",
   "execution_count": null,
   "metadata": {},
   "outputs": [],
   "source": []
  }
 ],
 "metadata": {
  "kernelspec": {
   "display_name": "Python 3",
   "language": "python",
   "name": "python3"
  },
  "language_info": {
   "codemirror_mode": {
    "name": "ipython",
    "version": 3
   },
   "file_extension": ".py",
   "mimetype": "text/x-python",
   "name": "python",
   "nbconvert_exporter": "python",
   "pygments_lexer": "ipython3",
   "version": "3.7.3"
  }
 },
 "nbformat": 4,
 "nbformat_minor": 2
}
