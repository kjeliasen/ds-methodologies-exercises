{
 "cells": [
  {
   "cell_type": "markdown",
   "metadata": {},
   "source": [
    "# Exercises - Classification"
   ]
  },
  {
   "cell_type": "markdown",
   "metadata": {},
   "source": [
    "**The end product of this exercise is a jupyter notebook (**\n",
    "`classification_exercises.ipynb`\n",
    "**) and** \n",
    "`acquire.py`\n",
    "**. The notebook will contain all your work as you move through the exercises. The** \n",
    "`acquire.py` \n",
    "**file should contain the final functions.**"
   ]
  },
  {
   "cell_type": "code",
   "execution_count": 1,
   "metadata": {},
   "outputs": [],
   "source": [
    "import numpy as np\n",
    "import pandas as pd\n",
    "\n",
    "import acquire as acq\n",
    "import prepare as prep\n",
    "\n",
    "from debug import local_settings, timeifdebug, timeargsifdebug, frame_splain\n"
   ]
  },
  {
   "cell_type": "code",
   "execution_count": 2,
   "metadata": {},
   "outputs": [],
   "source": [
    "import matplotlib.pyplot as plt\n",
    "%matplotlib inline\n",
    "import seaborn as sns\n",
    "\n",
    "# ignore warnings\n",
    "import warnings\n",
    "warnings.filterwarnings(\"ignore\")\n",
    "\n",
    "from sklearn.preprocessing import LabelEncoder\n",
    "from sklearn.preprocessing import MinMaxScaler"
   ]
  },
  {
   "cell_type": "code",
   "execution_count": 3,
   "metadata": {},
   "outputs": [],
   "source": [
    "local_settings.debug=True"
   ]
  },
  {
   "cell_type": "code",
   "execution_count": 4,
   "metadata": {},
   "outputs": [],
   "source": [
    "local_settings.splain=True"
   ]
  },
  {
   "cell_type": "code",
   "execution_count": 5,
   "metadata": {},
   "outputs": [],
   "source": [
    "splain=local_settings.splain"
   ]
  },
  {
   "cell_type": "markdown",
   "metadata": {},
   "source": [
    "### In a jupyter notebook, `classification_exercises.ipynb`:"
   ]
  },
  {
   "cell_type": "markdown",
   "metadata": {},
   "source": [
    "1. **Use a python module containing datasets as a source from the** \n",
    "`iris` \n",
    "**data. Create a pandas dataframe,** \n",
    "`df_iris`\n",
    "**, from this data.**"
   ]
  },
  {
   "cell_type": "code",
   "execution_count": 6,
   "metadata": {},
   "outputs": [],
   "source": [
    "df_iris = pd.read_csv('iris.csv')"
   ]
  },
  {
   "cell_type": "markdown",
   "metadata": {},
   "source": [
    "  - print the first 3 rows"
   ]
  },
  {
   "cell_type": "code",
   "execution_count": 7,
   "metadata": {},
   "outputs": [
    {
     "data": {
      "text/html": [
       "<div>\n",
       "<style scoped>\n",
       "    .dataframe tbody tr th:only-of-type {\n",
       "        vertical-align: middle;\n",
       "    }\n",
       "\n",
       "    .dataframe tbody tr th {\n",
       "        vertical-align: top;\n",
       "    }\n",
       "\n",
       "    .dataframe thead th {\n",
       "        text-align: right;\n",
       "    }\n",
       "</style>\n",
       "<table border=\"1\" class=\"dataframe\">\n",
       "  <thead>\n",
       "    <tr style=\"text-align: right;\">\n",
       "      <th></th>\n",
       "      <th>sepal_length</th>\n",
       "      <th>sepal_width</th>\n",
       "      <th>petal_length</th>\n",
       "      <th>petal_width</th>\n",
       "      <th>species</th>\n",
       "    </tr>\n",
       "  </thead>\n",
       "  <tbody>\n",
       "    <tr>\n",
       "      <th>0</th>\n",
       "      <td>5.1</td>\n",
       "      <td>3.5</td>\n",
       "      <td>1.4</td>\n",
       "      <td>0.2</td>\n",
       "      <td>setosa</td>\n",
       "    </tr>\n",
       "    <tr>\n",
       "      <th>1</th>\n",
       "      <td>4.9</td>\n",
       "      <td>3.0</td>\n",
       "      <td>1.4</td>\n",
       "      <td>0.2</td>\n",
       "      <td>setosa</td>\n",
       "    </tr>\n",
       "    <tr>\n",
       "      <th>2</th>\n",
       "      <td>4.7</td>\n",
       "      <td>3.2</td>\n",
       "      <td>1.3</td>\n",
       "      <td>0.2</td>\n",
       "      <td>setosa</td>\n",
       "    </tr>\n",
       "  </tbody>\n",
       "</table>\n",
       "</div>"
      ],
      "text/plain": [
       "   sepal_length  sepal_width  petal_length  petal_width species\n",
       "0           5.1          3.5           1.4          0.2  setosa\n",
       "1           4.9          3.0           1.4          0.2  setosa\n",
       "2           4.7          3.2           1.3          0.2  setosa"
      ]
     },
     "execution_count": 7,
     "metadata": {},
     "output_type": "execute_result"
    }
   ],
   "source": [
    "df_iris.head(3)"
   ]
  },
  {
   "cell_type": "markdown",
   "metadata": {},
   "source": [
    "  - print the number of rows and columns (shape)"
   ]
  },
  {
   "cell_type": "code",
   "execution_count": 8,
   "metadata": {},
   "outputs": [
    {
     "data": {
      "text/plain": [
       "(150, 5)"
      ]
     },
     "execution_count": 8,
     "metadata": {},
     "output_type": "execute_result"
    }
   ],
   "source": [
    "df_iris.shape"
   ]
  },
  {
   "cell_type": "markdown",
   "metadata": {},
   "source": [
    "  - print the column names"
   ]
  },
  {
   "cell_type": "code",
   "execution_count": 9,
   "metadata": {},
   "outputs": [
    {
     "name": "stdout",
     "output_type": "stream",
     "text": [
      "DF_IRIS SHAPE:\n",
      "(150, 5) \n",
      "\n",
      "DF_IRIS INFO:\n",
      "<class 'pandas.core.frame.DataFrame'>\n",
      "RangeIndex: 150 entries, 0 to 149\n",
      "Data columns (total 5 columns):\n",
      "sepal_length    150 non-null float64\n",
      "sepal_width     150 non-null float64\n",
      "petal_length    150 non-null float64\n",
      "petal_width     150 non-null float64\n",
      "species         150 non-null object\n",
      "dtypes: float64(4), object(1)\n",
      "memory usage: 5.9+ KB\n",
      "None \n",
      "\n",
      "DF_IRIS DESCRIPTION:\n",
      "              count      mean       std  min  25%   50%  75%  max\n",
      "sepal_length  150.0  5.843333  0.828066  4.3  5.1  5.80  6.4  7.9\n",
      "sepal_width   150.0  3.057333  0.435866  2.0  2.8  3.00  3.3  4.4\n",
      "petal_length  150.0  3.758000  1.765298  1.0  1.6  4.35  5.1  6.9\n",
      "petal_width   150.0  1.199333  0.762238  0.1  0.3  1.30  1.8  2.5 \n",
      "\n",
      "DF_IRIS HEAD:\n",
      "   sepal_length  sepal_width  petal_length  petal_width species\n",
      "0           5.1          3.5           1.4          0.2  setosa\n",
      "1           4.9          3.0           1.4          0.2  setosa\n",
      "2           4.7          3.2           1.3          0.2  setosa\n",
      "3           4.6          3.1           1.5          0.2  setosa\n",
      "4           5.0          3.6           1.4          0.2  setosa \n",
      "\n"
     ]
    }
   ],
   "source": [
    "frame_splain(df_iris, 'df_iris', splain=splain)"
   ]
  },
  {
   "cell_type": "markdown",
   "metadata": {},
   "source": [
    "  - print the data type of each column"
   ]
  },
  {
   "cell_type": "code",
   "execution_count": 10,
   "metadata": {},
   "outputs": [
    {
     "data": {
      "text/plain": [
       "sepal_length    float64\n",
       "sepal_width     float64\n",
       "petal_length    float64\n",
       "petal_width     float64\n",
       "species          object\n",
       "dtype: object"
      ]
     },
     "execution_count": 10,
     "metadata": {},
     "output_type": "execute_result"
    }
   ],
   "source": [
    "df_iris.dtypes"
   ]
  },
  {
   "cell_type": "markdown",
   "metadata": {},
   "source": [
    "   - print the summary statistics for each of the numeric variables. Would you recommend rescaling the data based on these statistics?"
   ]
  },
  {
   "cell_type": "code",
   "execution_count": 11,
   "metadata": {},
   "outputs": [
    {
     "data": {
      "text/html": [
       "<div>\n",
       "<style scoped>\n",
       "    .dataframe tbody tr th:only-of-type {\n",
       "        vertical-align: middle;\n",
       "    }\n",
       "\n",
       "    .dataframe tbody tr th {\n",
       "        vertical-align: top;\n",
       "    }\n",
       "\n",
       "    .dataframe thead th {\n",
       "        text-align: right;\n",
       "    }\n",
       "</style>\n",
       "<table border=\"1\" class=\"dataframe\">\n",
       "  <thead>\n",
       "    <tr style=\"text-align: right;\">\n",
       "      <th></th>\n",
       "      <th>sepal_length</th>\n",
       "      <th>sepal_width</th>\n",
       "      <th>petal_length</th>\n",
       "      <th>petal_width</th>\n",
       "    </tr>\n",
       "  </thead>\n",
       "  <tbody>\n",
       "    <tr>\n",
       "      <th>count</th>\n",
       "      <td>150.000000</td>\n",
       "      <td>150.000000</td>\n",
       "      <td>150.000000</td>\n",
       "      <td>150.000000</td>\n",
       "    </tr>\n",
       "    <tr>\n",
       "      <th>mean</th>\n",
       "      <td>5.843333</td>\n",
       "      <td>3.057333</td>\n",
       "      <td>3.758000</td>\n",
       "      <td>1.199333</td>\n",
       "    </tr>\n",
       "    <tr>\n",
       "      <th>std</th>\n",
       "      <td>0.828066</td>\n",
       "      <td>0.435866</td>\n",
       "      <td>1.765298</td>\n",
       "      <td>0.762238</td>\n",
       "    </tr>\n",
       "    <tr>\n",
       "      <th>min</th>\n",
       "      <td>4.300000</td>\n",
       "      <td>2.000000</td>\n",
       "      <td>1.000000</td>\n",
       "      <td>0.100000</td>\n",
       "    </tr>\n",
       "    <tr>\n",
       "      <th>25%</th>\n",
       "      <td>5.100000</td>\n",
       "      <td>2.800000</td>\n",
       "      <td>1.600000</td>\n",
       "      <td>0.300000</td>\n",
       "    </tr>\n",
       "    <tr>\n",
       "      <th>50%</th>\n",
       "      <td>5.800000</td>\n",
       "      <td>3.000000</td>\n",
       "      <td>4.350000</td>\n",
       "      <td>1.300000</td>\n",
       "    </tr>\n",
       "    <tr>\n",
       "      <th>75%</th>\n",
       "      <td>6.400000</td>\n",
       "      <td>3.300000</td>\n",
       "      <td>5.100000</td>\n",
       "      <td>1.800000</td>\n",
       "    </tr>\n",
       "    <tr>\n",
       "      <th>max</th>\n",
       "      <td>7.900000</td>\n",
       "      <td>4.400000</td>\n",
       "      <td>6.900000</td>\n",
       "      <td>2.500000</td>\n",
       "    </tr>\n",
       "  </tbody>\n",
       "</table>\n",
       "</div>"
      ],
      "text/plain": [
       "       sepal_length  sepal_width  petal_length  petal_width\n",
       "count    150.000000   150.000000    150.000000   150.000000\n",
       "mean       5.843333     3.057333      3.758000     1.199333\n",
       "std        0.828066     0.435866      1.765298     0.762238\n",
       "min        4.300000     2.000000      1.000000     0.100000\n",
       "25%        5.100000     2.800000      1.600000     0.300000\n",
       "50%        5.800000     3.000000      4.350000     1.300000\n",
       "75%        6.400000     3.300000      5.100000     1.800000\n",
       "max        7.900000     4.400000      6.900000     2.500000"
      ]
     },
     "execution_count": 11,
     "metadata": {},
     "output_type": "execute_result"
    }
   ],
   "source": [
    "df_iris.describe()"
   ]
  },
  {
   "cell_type": "markdown",
   "metadata": {},
   "source": [
    "2. **Read** \n",
    "`Table1_CustDetails` \n",
    "**the excel module dataset,** \n",
    "`Excel_Exercises.xlsx`\n",
    "**, into a dataframe,** \n",
    "`df_excel`\n",
    "**.**"
   ]
  },
  {
   "cell_type": "code",
   "execution_count": 12,
   "metadata": {},
   "outputs": [
    {
     "name": "stdout",
     "output_type": "stream",
     "text": [
      "starting excel_df\n",
      "starting check_df\n",
      "DATAFRAME SHAPE:\n",
      "(7049, 12) \n",
      "\n",
      "DATAFRAME INFO:\n",
      "<class 'pandas.core.frame.DataFrame'>\n",
      "RangeIndex: 7049 entries, 0 to 7048\n",
      "Data columns (total 12 columns):\n",
      "customer_id          7049 non-null object\n",
      "gender               7049 non-null object\n",
      "is_senior_citizen    7049 non-null int64\n",
      "partner              7049 non-null object\n",
      "dependents           7049 non-null object\n",
      "phone_service        7049 non-null int64\n",
      "internet_service     7049 non-null int64\n",
      "contract_type        7049 non-null int64\n",
      "payment_type         7049 non-null object\n",
      "monthly_charges      7049 non-null float64\n",
      "total_charges        7038 non-null float64\n",
      "churn                7049 non-null object\n",
      "dtypes: float64(2), int64(4), object(6)\n",
      "memory usage: 660.9+ KB\n",
      "None \n",
      "\n",
      "DATAFRAME DESCRIPTION:\n",
      "                    count         mean          std    min       25%      50%  \\\n",
      "is_senior_citizen  7049.0     0.162009     0.368485   0.00    0.0000     0.00   \n",
      "phone_service      7049.0     1.324585     0.642709   0.00    1.0000     1.00   \n",
      "internet_service   7049.0     1.222585     0.779068   0.00    1.0000     1.00   \n",
      "contract_type      7049.0     0.690878     0.833757   0.00    0.0000     0.00   \n",
      "monthly_charges    7049.0    64.747014    30.099460  18.25   35.4500    70.35   \n",
      "total_charges      7038.0  2283.043883  2266.521984  18.80  401.5875  1397.10   \n",
      "\n",
      "                        75%      max  \n",
      "is_senior_citizen     0.000     1.00  \n",
      "phone_service         2.000     2.00  \n",
      "internet_service      2.000     2.00  \n",
      "contract_type         1.000     2.00  \n",
      "monthly_charges      89.850   118.75  \n",
      "total_charges      3793.775  8684.80   \n",
      "\n",
      "ending check_df ; time: 0.027271032333374023\n",
      "ending excel_df ; time: 2.120405912399292\n"
     ]
    }
   ],
   "source": [
    "df_excel = acq.excel_df('Excel_Exercises.xlsx', splain)"
   ]
  },
  {
   "cell_type": "markdown",
   "metadata": {},
   "source": [
    "  - assign the first 100 rows to a new dataframe, `df_excel_sample`."
   ]
  },
  {
   "cell_type": "code",
   "execution_count": 13,
   "metadata": {},
   "outputs": [
    {
     "name": "stdout",
     "output_type": "stream",
     "text": [
      "starting check_df\n",
      "DATAFRAME SHAPE:\n",
      "(100, 12) \n",
      "\n",
      "DATAFRAME INFO:\n",
      "<class 'pandas.core.frame.DataFrame'>\n",
      "RangeIndex: 100 entries, 0 to 99\n",
      "Data columns (total 12 columns):\n",
      "customer_id          100 non-null object\n",
      "gender               100 non-null object\n",
      "is_senior_citizen    100 non-null int64\n",
      "partner              100 non-null object\n",
      "dependents           100 non-null object\n",
      "phone_service        100 non-null int64\n",
      "internet_service     100 non-null int64\n",
      "contract_type        100 non-null int64\n",
      "payment_type         100 non-null object\n",
      "monthly_charges      100 non-null float64\n",
      "total_charges        100 non-null float64\n",
      "churn                100 non-null object\n",
      "dtypes: float64(2), int64(4), object(6)\n",
      "memory usage: 9.5+ KB\n",
      "None \n",
      "\n",
      "DATAFRAME DESCRIPTION:\n",
      "                   count       mean          std    min       25%       50%  \\\n",
      "is_senior_citizen  100.0     0.1900     0.394277   0.00    0.0000     0.000   \n",
      "phone_service      100.0     1.3300     0.667499   0.00    1.0000     1.000   \n",
      "internet_service   100.0     1.3000     0.771984   0.00    1.0000     1.000   \n",
      "contract_type      100.0     0.6600     0.819214   0.00    0.0000     0.000   \n",
      "monthly_charges    100.0    68.9670    31.230825  19.40   44.8250    75.300   \n",
      "total_charges      100.0  2481.9295  2434.628234  19.85  525.1625  1559.175   \n",
      "\n",
      "                         75%     max  \n",
      "is_senior_citizen     0.0000     1.0  \n",
      "phone_service         2.0000     2.0  \n",
      "internet_service      2.0000     2.0  \n",
      "contract_type         1.0000     2.0  \n",
      "monthly_charges      94.3125   116.8  \n",
      "total_charges      3712.8750  8496.7   \n",
      "\n",
      "ending check_df ; time: 0.042222023010253906\n"
     ]
    }
   ],
   "source": [
    "df_excel_sample = acq.check_df(df_excel.head(100), splain=splain)"
   ]
  },
  {
   "cell_type": "markdown",
   "metadata": {},
   "source": [
    "  - print the number of rows of your original dataframe"
   ]
  },
  {
   "cell_type": "code",
   "execution_count": 14,
   "metadata": {},
   "outputs": [
    {
     "data": {
      "text/plain": [
       "7049"
      ]
     },
     "execution_count": 14,
     "metadata": {},
     "output_type": "execute_result"
    }
   ],
   "source": [
    "df_excel.shape[0]"
   ]
  },
  {
   "cell_type": "markdown",
   "metadata": {},
   "source": [
    "  - print the first 5 column names"
   ]
  },
  {
   "cell_type": "code",
   "execution_count": 15,
   "metadata": {},
   "outputs": [
    {
     "data": {
      "text/plain": [
       "Index(['customer_id', 'gender', 'is_senior_citizen', 'partner', 'dependents'], dtype='object')"
      ]
     },
     "execution_count": 15,
     "metadata": {},
     "output_type": "execute_result"
    }
   ],
   "source": [
    "df_excel.columns[:5]"
   ]
  },
  {
   "cell_type": "markdown",
   "metadata": {},
   "source": [
    "  - print the column names that have a data type of object"
   ]
  },
  {
   "cell_type": "code",
   "execution_count": 16,
   "metadata": {},
   "outputs": [
    {
     "data": {
      "text/plain": [
       "Index(['customer_id', 'gender', 'partner', 'dependents', 'payment_type',\n",
       "       'churn'],\n",
       "      dtype='object')"
      ]
     },
     "execution_count": 16,
     "metadata": {},
     "output_type": "execute_result"
    }
   ],
   "source": [
    "def get_objs(df):\n",
    "    return df.columns[df.dtypes=='object']\n",
    "    \n",
    "get_objs(df_excel)"
   ]
  },
  {
   "cell_type": "code",
   "execution_count": 17,
   "metadata": {},
   "outputs": [
    {
     "data": {
      "text/html": [
       "<div>\n",
       "<style scoped>\n",
       "    .dataframe tbody tr th:only-of-type {\n",
       "        vertical-align: middle;\n",
       "    }\n",
       "\n",
       "    .dataframe tbody tr th {\n",
       "        vertical-align: top;\n",
       "    }\n",
       "\n",
       "    .dataframe thead th {\n",
       "        text-align: right;\n",
       "    }\n",
       "</style>\n",
       "<table border=\"1\" class=\"dataframe\">\n",
       "  <thead>\n",
       "    <tr style=\"text-align: right;\">\n",
       "      <th></th>\n",
       "      <th>nuniques</th>\n",
       "      <th>uniques</th>\n",
       "    </tr>\n",
       "    <tr>\n",
       "      <th>cols</th>\n",
       "      <th></th>\n",
       "      <th></th>\n",
       "    </tr>\n",
       "  </thead>\n",
       "  <tbody>\n",
       "    <tr>\n",
       "      <th>customer_id</th>\n",
       "      <td>7043</td>\n",
       "      <td>NaN</td>\n",
       "    </tr>\n",
       "    <tr>\n",
       "      <th>gender</th>\n",
       "      <td>2</td>\n",
       "      <td>[Female, Male]</td>\n",
       "    </tr>\n",
       "    <tr>\n",
       "      <th>partner</th>\n",
       "      <td>2</td>\n",
       "      <td>[Yes, No]</td>\n",
       "    </tr>\n",
       "    <tr>\n",
       "      <th>dependents</th>\n",
       "      <td>2</td>\n",
       "      <td>[Yes, No]</td>\n",
       "    </tr>\n",
       "    <tr>\n",
       "      <th>payment_type</th>\n",
       "      <td>4</td>\n",
       "      <td>[Mailed check, Electronic check, Credit card (...</td>\n",
       "    </tr>\n",
       "  </tbody>\n",
       "</table>\n",
       "</div>"
      ],
      "text/plain": [
       "              nuniques                                            uniques\n",
       "cols                                                                     \n",
       "customer_id       7043                                                NaN\n",
       "gender               2                                     [Female, Male]\n",
       "partner              2                                          [Yes, No]\n",
       "dependents           2                                          [Yes, No]\n",
       "payment_type         4  [Mailed check, Electronic check, Credit card (..."
      ]
     },
     "execution_count": 17,
     "metadata": {},
     "output_type": "execute_result"
    }
   ],
   "source": [
    "def get_uniques(df, max_uniques=10, target_col=''):\n",
    "    df_objs = pd.DataFrame(get_objs(df), columns=['cols'])\n",
    "    df_objs = df_objs[df_objs.cols != target_col]\n",
    "    df_objs['nuniques'] = df_objs.cols.apply(lambda x: df[x].nunique())\n",
    "    df_cats = df_objs[df_objs.nuniques <= max_uniques]\n",
    "    df_cats['uniques'] = df_cats.cols.apply(lambda x: df[x].unique())\n",
    "    df_objs = df_objs.join(df_cats.uniques, how='left')\n",
    "    return df_objs.set_index('cols')\n",
    "\n",
    "get_uniques(df_excel, target_col='churn')\n"
   ]
  },
  {
   "cell_type": "code",
   "execution_count": 18,
   "metadata": {},
   "outputs": [],
   "source": [
    "use_df = df_excel\n",
    "target_col = 'churn'\n",
    "use_df[target_col] = use_df[target_col].apply(lambda x: x=='Yes' or x==True)"
   ]
  },
  {
   "cell_type": "code",
   "execution_count": 19,
   "metadata": {},
   "outputs": [
    {
     "data": {
      "text/plain": [
       "['gender', 'partner', 'dependents', 'payment_type']"
      ]
     },
     "execution_count": 19,
     "metadata": {},
     "output_type": "execute_result"
    }
   ],
   "source": [
    "obj_features = get_uniques(df=use_df, target_col=target_col)\n",
    "features = list(obj_features[obj_features.nuniques<=10].index)\n",
    "features"
   ]
  },
  {
   "cell_type": "code",
   "execution_count": 20,
   "metadata": {},
   "outputs": [
    {
     "data": {
      "image/png": "[encoded data removed]",
      "text/plain": [
       "<Figure size 1152x360 with 4 Axes>"
      ]
     },
     "metadata": {
      "needs_background": "light"
     },
     "output_type": "display_data"
    }
   ],
   "source": [
    "#features = ['sex', 'class', 'alone']\n",
    "\n",
    "_, ax = plt.subplots(nrows=1, ncols=len(features), figsize=(16,5))\n",
    "\n",
    "survival_rate = use_df[target_col].mean()\n",
    "\n",
    "for i, feature in enumerate(features):\n",
    "    sns.barplot(x=feature, y=target_col, data=use_df, ax=ax[i], alpha=.5)\n",
    "    ax[i].set_ylabel('Survival Rate')\n",
    "    ax[i].axhline(survival_rate, ls='--', color='grey')"
   ]
  },
  {
   "cell_type": "code",
   "execution_count": 21,
   "metadata": {},
   "outputs": [],
   "source": [
    "def plot_violin(features, target, df):\n",
    "    for descrete in df[features].select_dtypes([object,int]).columns.tolist():\n",
    "        if df[descrete].nunique() <= 5:\n",
    "            for continous in df[features].select_dtypes(float).columns.tolist():\n",
    "                sns.violinplot(descrete, continous, hue=target,\n",
    "                data=df, split=True, palette=['blue','orange'])\n",
    "                plt.title(continous + 'x' + descrete)\n",
    "                plt.ylabel(continous)\n",
    "                plt.show()"
   ]
  },
  {
   "cell_type": "code",
   "execution_count": 22,
   "metadata": {},
   "outputs": [],
   "source": [
    "def loopy_graphs(df, target):\n",
    "    features = list(df.columns[(df.dtypes == object) | (df.nunique()<5)])\n",
    "    \n",
    "    pop_rate = df[target].mean()\n",
    "    for i, feature in enumerate(features):\n",
    "        sns.barplot(feature,target,data=df,alpha=.6)\n",
    "        plt.show()"
   ]
  },
  {
   "cell_type": "code",
   "execution_count": null,
   "metadata": {},
   "outputs": [],
   "source": []
  },
  {
   "cell_type": "markdown",
   "metadata": {},
   "source": [
    "3. **Read the data from [this google sheet](https://docs.google.com/spreadsheets/d/1Uhtml8KY19LILuZsrDtlsHHDC9wuDGUSe8LTEwvdI5g/edit?usp=sharing) into a dataframe,** `df_google`\n",
    "**.**"
   ]
  },
  {
   "cell_type": "code",
   "execution_count": 23,
   "metadata": {},
   "outputs": [
    {
     "name": "stdout",
     "output_type": "stream",
     "text": [
      "starting google_df\n",
      "starting check_df\n",
      "DATAFRAME SHAPE:\n",
      "(891, 12) \n",
      "\n",
      "DATAFRAME INFO:\n",
      "<class 'pandas.core.frame.DataFrame'>\n",
      "RangeIndex: 891 entries, 0 to 890\n",
      "Data columns (total 12 columns):\n",
      "PassengerId    891 non-null int64\n",
      "Survived       891 non-null int64\n",
      "Pclass         891 non-null int64\n",
      "Name           891 non-null object\n",
      "Sex            891 non-null object\n",
      "Age            714 non-null float64\n",
      "SibSp          891 non-null int64\n",
      "Parch          891 non-null int64\n",
      "Ticket         891 non-null object\n",
      "Fare           891 non-null float64\n",
      "Cabin          204 non-null object\n",
      "Embarked       889 non-null object\n",
      "dtypes: float64(2), int64(5), object(5)\n",
      "memory usage: 83.6+ KB\n",
      "None \n",
      "\n",
      "DATAFRAME DESCRIPTION:\n",
      "             count        mean         std   min       25%       50%    75%  \\\n",
      "PassengerId  891.0  446.000000  257.353842  1.00  223.5000  446.0000  668.5   \n",
      "Survived     891.0    0.383838    0.486592  0.00    0.0000    0.0000    1.0   \n",
      "Pclass       891.0    2.308642    0.836071  1.00    2.0000    3.0000    3.0   \n",
      "Age          714.0   29.699118   14.526497  0.42   20.1250   28.0000   38.0   \n",
      "SibSp        891.0    0.523008    1.102743  0.00    0.0000    0.0000    1.0   \n",
      "Parch        891.0    0.381594    0.806057  0.00    0.0000    0.0000    0.0   \n",
      "Fare         891.0   32.204208   49.693429  0.00    7.9104   14.4542   31.0   \n",
      "\n",
      "                  max  \n",
      "PassengerId  891.0000  \n",
      "Survived       1.0000  \n",
      "Pclass         3.0000  \n",
      "Age           80.0000  \n",
      "SibSp          8.0000  \n",
      "Parch          6.0000  \n",
      "Fare         512.3292   \n",
      "\n",
      "ending check_df ; time: 0.026324987411499023\n",
      "ending google_df ; time: 0.7839188575744629\n"
     ]
    }
   ],
   "source": [
    "google_url = 'https://docs.google.com/spreadsheets/d/1Uhtml8KY19LILuZsrDtlsHHDC9wuDGUSe8LTEwvdI5g/edit#gid=341089357'\n",
    "df_google = acq.google_df(google_url, splain=1)"
   ]
  },
  {
   "cell_type": "markdown",
   "metadata": {},
   "source": [
    "  - print the first 3 rows"
   ]
  },
  {
   "cell_type": "code",
   "execution_count": 24,
   "metadata": {},
   "outputs": [
    {
     "data": {
      "text/html": [
       "<div>\n",
       "<style scoped>\n",
       "    .dataframe tbody tr th:only-of-type {\n",
       "        vertical-align: middle;\n",
       "    }\n",
       "\n",
       "    .dataframe tbody tr th {\n",
       "        vertical-align: top;\n",
       "    }\n",
       "\n",
       "    .dataframe thead th {\n",
       "        text-align: right;\n",
       "    }\n",
       "</style>\n",
       "<table border=\"1\" class=\"dataframe\">\n",
       "  <thead>\n",
       "    <tr style=\"text-align: right;\">\n",
       "      <th></th>\n",
       "      <th>PassengerId</th>\n",
       "      <th>Survived</th>\n",
       "      <th>Pclass</th>\n",
       "      <th>Name</th>\n",
       "      <th>Sex</th>\n",
       "      <th>Age</th>\n",
       "      <th>SibSp</th>\n",
       "      <th>Parch</th>\n",
       "      <th>Ticket</th>\n",
       "      <th>Fare</th>\n",
       "      <th>Cabin</th>\n",
       "      <th>Embarked</th>\n",
       "    </tr>\n",
       "  </thead>\n",
       "  <tbody>\n",
       "    <tr>\n",
       "      <th>0</th>\n",
       "      <td>1</td>\n",
       "      <td>0</td>\n",
       "      <td>3</td>\n",
       "      <td>Braund, Mr. Owen Harris</td>\n",
       "      <td>male</td>\n",
       "      <td>22.0</td>\n",
       "      <td>1</td>\n",
       "      <td>0</td>\n",
       "      <td>A/5 21171</td>\n",
       "      <td>7.2500</td>\n",
       "      <td>NaN</td>\n",
       "      <td>S</td>\n",
       "    </tr>\n",
       "    <tr>\n",
       "      <th>1</th>\n",
       "      <td>2</td>\n",
       "      <td>1</td>\n",
       "      <td>1</td>\n",
       "      <td>Cumings, Mrs. John Bradley (Florence Briggs Th...</td>\n",
       "      <td>female</td>\n",
       "      <td>38.0</td>\n",
       "      <td>1</td>\n",
       "      <td>0</td>\n",
       "      <td>PC 17599</td>\n",
       "      <td>71.2833</td>\n",
       "      <td>C85</td>\n",
       "      <td>C</td>\n",
       "    </tr>\n",
       "    <tr>\n",
       "      <th>2</th>\n",
       "      <td>3</td>\n",
       "      <td>1</td>\n",
       "      <td>3</td>\n",
       "      <td>Heikkinen, Miss. Laina</td>\n",
       "      <td>female</td>\n",
       "      <td>26.0</td>\n",
       "      <td>0</td>\n",
       "      <td>0</td>\n",
       "      <td>STON/O2. 3101282</td>\n",
       "      <td>7.9250</td>\n",
       "      <td>NaN</td>\n",
       "      <td>S</td>\n",
       "    </tr>\n",
       "  </tbody>\n",
       "</table>\n",
       "</div>"
      ],
      "text/plain": [
       "   PassengerId  Survived  Pclass  \\\n",
       "0            1         0       3   \n",
       "1            2         1       1   \n",
       "2            3         1       3   \n",
       "\n",
       "                                                Name     Sex   Age  SibSp  \\\n",
       "0                            Braund, Mr. Owen Harris    male  22.0      1   \n",
       "1  Cumings, Mrs. John Bradley (Florence Briggs Th...  female  38.0      1   \n",
       "2                             Heikkinen, Miss. Laina  female  26.0      0   \n",
       "\n",
       "   Parch            Ticket     Fare Cabin Embarked  \n",
       "0      0         A/5 21171   7.2500   NaN        S  \n",
       "1      0          PC 17599  71.2833   C85        C  \n",
       "2      0  STON/O2. 3101282   7.9250   NaN        S  "
      ]
     },
     "execution_count": 24,
     "metadata": {},
     "output_type": "execute_result"
    }
   ],
   "source": [
    "df_google.head(3)"
   ]
  },
  {
   "cell_type": "markdown",
   "metadata": {},
   "source": [
    "  - print the number of rows and columns"
   ]
  },
  {
   "cell_type": "code",
   "execution_count": 25,
   "metadata": {},
   "outputs": [
    {
     "data": {
      "text/plain": [
       "(891, 12)"
      ]
     },
     "execution_count": 25,
     "metadata": {},
     "output_type": "execute_result"
    }
   ],
   "source": [
    "df_google.shape"
   ]
  },
  {
   "cell_type": "markdown",
   "metadata": {},
   "source": [
    "  - print the column names"
   ]
  },
  {
   "cell_type": "code",
   "execution_count": 26,
   "metadata": {},
   "outputs": [
    {
     "data": {
      "text/plain": [
       "Index(['PassengerId', 'Survived', 'Pclass', 'Name', 'Sex', 'Age', 'SibSp',\n",
       "       'Parch', 'Ticket', 'Fare', 'Cabin', 'Embarked'],\n",
       "      dtype='object')"
      ]
     },
     "execution_count": 26,
     "metadata": {},
     "output_type": "execute_result"
    }
   ],
   "source": [
    "df_google.columns"
   ]
  },
  {
   "cell_type": "markdown",
   "metadata": {},
   "source": [
    "  - print the data type of each column"
   ]
  },
  {
   "cell_type": "code",
   "execution_count": 27,
   "metadata": {},
   "outputs": [
    {
     "data": {
      "text/plain": [
       "PassengerId      int64\n",
       "Survived         int64\n",
       "Pclass           int64\n",
       "Name            object\n",
       "Sex             object\n",
       "Age            float64\n",
       "SibSp            int64\n",
       "Parch            int64\n",
       "Ticket          object\n",
       "Fare           float64\n",
       "Cabin           object\n",
       "Embarked        object\n",
       "dtype: object"
      ]
     },
     "execution_count": 27,
     "metadata": {},
     "output_type": "execute_result"
    }
   ],
   "source": [
    "df_google.dtypes"
   ]
  },
  {
   "cell_type": "markdown",
   "metadata": {},
   "source": [
    "  - print the summary statistics for each of the numeric variables"
   ]
  },
  {
   "cell_type": "code",
   "execution_count": 28,
   "metadata": {},
   "outputs": [
    {
     "data": {
      "text/html": [
       "<div>\n",
       "<style scoped>\n",
       "    .dataframe tbody tr th:only-of-type {\n",
       "        vertical-align: middle;\n",
       "    }\n",
       "\n",
       "    .dataframe tbody tr th {\n",
       "        vertical-align: top;\n",
       "    }\n",
       "\n",
       "    .dataframe thead th {\n",
       "        text-align: right;\n",
       "    }\n",
       "</style>\n",
       "<table border=\"1\" class=\"dataframe\">\n",
       "  <thead>\n",
       "    <tr style=\"text-align: right;\">\n",
       "      <th></th>\n",
       "      <th>PassengerId</th>\n",
       "      <th>Survived</th>\n",
       "      <th>Pclass</th>\n",
       "      <th>Age</th>\n",
       "      <th>SibSp</th>\n",
       "      <th>Parch</th>\n",
       "      <th>Fare</th>\n",
       "    </tr>\n",
       "  </thead>\n",
       "  <tbody>\n",
       "    <tr>\n",
       "      <th>count</th>\n",
       "      <td>891.000000</td>\n",
       "      <td>891.000000</td>\n",
       "      <td>891.000000</td>\n",
       "      <td>714.000000</td>\n",
       "      <td>891.000000</td>\n",
       "      <td>891.000000</td>\n",
       "      <td>891.000000</td>\n",
       "    </tr>\n",
       "    <tr>\n",
       "      <th>mean</th>\n",
       "      <td>446.000000</td>\n",
       "      <td>0.383838</td>\n",
       "      <td>2.308642</td>\n",
       "      <td>29.699118</td>\n",
       "      <td>0.523008</td>\n",
       "      <td>0.381594</td>\n",
       "      <td>32.204208</td>\n",
       "    </tr>\n",
       "    <tr>\n",
       "      <th>std</th>\n",
       "      <td>257.353842</td>\n",
       "      <td>0.486592</td>\n",
       "      <td>0.836071</td>\n",
       "      <td>14.526497</td>\n",
       "      <td>1.102743</td>\n",
       "      <td>0.806057</td>\n",
       "      <td>49.693429</td>\n",
       "    </tr>\n",
       "    <tr>\n",
       "      <th>min</th>\n",
       "      <td>1.000000</td>\n",
       "      <td>0.000000</td>\n",
       "      <td>1.000000</td>\n",
       "      <td>0.420000</td>\n",
       "      <td>0.000000</td>\n",
       "      <td>0.000000</td>\n",
       "      <td>0.000000</td>\n",
       "    </tr>\n",
       "    <tr>\n",
       "      <th>25%</th>\n",
       "      <td>223.500000</td>\n",
       "      <td>0.000000</td>\n",
       "      <td>2.000000</td>\n",
       "      <td>20.125000</td>\n",
       "      <td>0.000000</td>\n",
       "      <td>0.000000</td>\n",
       "      <td>7.910400</td>\n",
       "    </tr>\n",
       "    <tr>\n",
       "      <th>50%</th>\n",
       "      <td>446.000000</td>\n",
       "      <td>0.000000</td>\n",
       "      <td>3.000000</td>\n",
       "      <td>28.000000</td>\n",
       "      <td>0.000000</td>\n",
       "      <td>0.000000</td>\n",
       "      <td>14.454200</td>\n",
       "    </tr>\n",
       "    <tr>\n",
       "      <th>75%</th>\n",
       "      <td>668.500000</td>\n",
       "      <td>1.000000</td>\n",
       "      <td>3.000000</td>\n",
       "      <td>38.000000</td>\n",
       "      <td>1.000000</td>\n",
       "      <td>0.000000</td>\n",
       "      <td>31.000000</td>\n",
       "    </tr>\n",
       "    <tr>\n",
       "      <th>max</th>\n",
       "      <td>891.000000</td>\n",
       "      <td>1.000000</td>\n",
       "      <td>3.000000</td>\n",
       "      <td>80.000000</td>\n",
       "      <td>8.000000</td>\n",
       "      <td>6.000000</td>\n",
       "      <td>512.329200</td>\n",
       "    </tr>\n",
       "  </tbody>\n",
       "</table>\n",
       "</div>"
      ],
      "text/plain": [
       "       PassengerId    Survived      Pclass         Age       SibSp  \\\n",
       "count   891.000000  891.000000  891.000000  714.000000  891.000000   \n",
       "mean    446.000000    0.383838    2.308642   29.699118    0.523008   \n",
       "std     257.353842    0.486592    0.836071   14.526497    1.102743   \n",
       "min       1.000000    0.000000    1.000000    0.420000    0.000000   \n",
       "25%     223.500000    0.000000    2.000000   20.125000    0.000000   \n",
       "50%     446.000000    0.000000    3.000000   28.000000    0.000000   \n",
       "75%     668.500000    1.000000    3.000000   38.000000    1.000000   \n",
       "max     891.000000    1.000000    3.000000   80.000000    8.000000   \n",
       "\n",
       "            Parch        Fare  \n",
       "count  891.000000  891.000000  \n",
       "mean     0.381594   32.204208  \n",
       "std      0.806057   49.693429  \n",
       "min      0.000000    0.000000  \n",
       "25%      0.000000    7.910400  \n",
       "50%      0.000000   14.454200  \n",
       "75%      0.000000   31.000000  \n",
       "max      6.000000  512.329200  "
      ]
     },
     "execution_count": 28,
     "metadata": {},
     "output_type": "execute_result"
    }
   ],
   "source": [
    "df_google.describe()"
   ]
  },
  {
   "cell_type": "markdown",
   "metadata": {},
   "source": [
    "  - print the unique values for each of your categorical variables"
   ]
  },
  {
   "cell_type": "code",
   "execution_count": 29,
   "metadata": {},
   "outputs": [
    {
     "name": "stdout",
     "output_type": "stream",
     "text": [
      "Saad, Mr. Khalil                                        1\n",
      "Minahan, Dr. William Edward                             1\n",
      "Rice, Master. Eugene                                    1\n",
      "Dowdell, Miss. Elizabeth                                1\n",
      "Petranec, Miss. Matilda                                 1\n",
      "Dahl, Mr. Karl Edwart                                   1\n",
      "Jonsson, Mr. Carl                                       1\n",
      "Pears, Mrs. Thomas (Edith Wearne)                       1\n",
      "Lindell, Mr. Edvard Bengtsson                           1\n",
      "Andrews, Mr. Thomas Jr                                  1\n",
      "Lefebre, Master. Henry Forbes                           1\n",
      "Montvila, Rev. Juozas                                   1\n",
      "Silvey, Mrs. William Baird (Alice Munger)               1\n",
      "Hewlett, Mrs. (Mary D Kingcome)                         1\n",
      "Lemore, Mrs. (Amelia Milley)                            1\n",
      "Stankovic, Mr. Ivan                                     1\n",
      "Silverthorne, Mr. Spencer Victor                        1\n",
      "Kassem, Mr. Fared                                       1\n",
      "Nye, Mrs. (Elizabeth Ramell)                            1\n",
      "van Billiard, Mr. Austin Blyler                         1\n",
      "Harris, Mr. George                                      1\n",
      "Saad, Mr. Amin                                          1\n",
      "Leinonen, Mr. Antti Gustaf                              1\n",
      "O'Brien, Mrs. Thomas (Johanna \"Hannah\" Godfrey)         1\n",
      "Ford, Miss. Doolina Margaret \"Daisy\"                    1\n",
      "Osen, Mr. Olaf Elon                                     1\n",
      "Olsen, Mr. Ole Martin                                   1\n",
      "Sage, Mr. Douglas Bullen                                1\n",
      "Meyer, Mr. Edgar Joseph                                 1\n",
      "Harris, Mr. Walter                                      1\n",
      "                                                       ..\n",
      "Van Impe, Mr. Jean Baptiste                             1\n",
      "Hale, Mr. Reginald                                      1\n",
      "Bowerman, Miss. Elsie Edith                             1\n",
      "Palsson, Master. Gosta Leonard                          1\n",
      "Otter, Mr. Richard                                      1\n",
      "Hakkarainen, Mrs. Pekka Pietari (Elin Matilda Dolck)    1\n",
      "Cairns, Mr. Alexander                                   1\n",
      "Mockler, Miss. Helen Mary \"Ellie\"                       1\n",
      "Downton, Mr. William James                              1\n",
      "Fynney, Mr. Joseph J                                    1\n",
      "Isham, Miss. Ann Elizabeth                              1\n",
      "Madsen, Mr. Fridtjof Arne                               1\n",
      "Chibnall, Mrs. (Edith Martha Bowerman)                  1\n",
      "Wiklund, Mr. Jakob Alfred                               1\n",
      "Haas, Miss. Aloisia                                     1\n",
      "Beesley, Mr. Lawrence                                   1\n",
      "Uruchurtu, Don. Manuel E                                1\n",
      "Bonnell, Miss. Elizabeth                                1\n",
      "Meek, Mrs. Thomas (Annie Louise Rowley)                 1\n",
      "Holm, Mr. John Fredrik Alexander                        1\n",
      "Coxon, Mr. Daniel                                       1\n",
      "Fry, Mr. Richard                                        1\n",
      "Maioni, Miss. Roberta                                   1\n",
      "Hodges, Mr. Henry Price                                 1\n",
      "Aks, Mrs. Sam (Leah Rosen)                              1\n",
      "Bostandyeff, Mr. Guentcho                               1\n",
      "Murphy, Miss. Margaret Jane                             1\n",
      "Meo, Mr. Alfonzo                                        1\n",
      "Danbom, Mr. Ernst Gilbert                               1\n",
      "Moss, Mr. Albert Johan                                  1\n",
      "Name: Name, Length: 891, dtype: int64\n",
      "\n",
      "male      577\n",
      "female    314\n",
      "Name: Sex, dtype: int64\n",
      "\n",
      "CA. 2343            7\n",
      "1601                7\n",
      "347082              7\n",
      "347088              6\n",
      "CA 2144             6\n",
      "3101295             6\n",
      "382652              5\n",
      "S.O.C. 14879        5\n",
      "349909              4\n",
      "2666                4\n",
      "347077              4\n",
      "4133                4\n",
      "W./C. 6608          4\n",
      "19950               4\n",
      "113781              4\n",
      "LINE                4\n",
      "17421               4\n",
      "113760              4\n",
      "PC 17757            4\n",
      "347742              3\n",
      "PC 17572            3\n",
      "110413              3\n",
      "371110              3\n",
      "239853              3\n",
      "29106               3\n",
      "345773              3\n",
      "C.A. 31921          3\n",
      "13502               3\n",
      "35273               3\n",
      "230080              3\n",
      "                   ..\n",
      "A/5 2466            1\n",
      "4138                1\n",
      "113501              1\n",
      "S.O.P. 1166         1\n",
      "C.A. 33595          1\n",
      "343276              1\n",
      "A/5. 3337           1\n",
      "350035              1\n",
      "SOTON/OQ 392090     1\n",
      "27849               1\n",
      "SOTON/OQ 392076     1\n",
      "315094              1\n",
      "A/5 21173           1\n",
      "13567               1\n",
      "349247              1\n",
      "315086              1\n",
      "234686              1\n",
      "233639              1\n",
      "8475                1\n",
      "SOTON/O2 3101272    1\n",
      "A4. 54510           1\n",
      "28220               1\n",
      "112277              1\n",
      "W./C. 14258         1\n",
      "113787              1\n",
      "349253              1\n",
      "C.A. 33111          1\n",
      "330959              1\n",
      "2663                1\n",
      "28665               1\n",
      "Name: Ticket, Length: 681, dtype: int64\n",
      "\n",
      "G6             4\n",
      "C23 C25 C27    4\n",
      "B96 B98        4\n",
      "C22 C26        3\n",
      "F33            3\n",
      "F2             3\n",
      "E101           3\n",
      "D              3\n",
      "C68            2\n",
      "D26            2\n",
      "D17            2\n",
      "D36            2\n",
      "D33            2\n",
      "E25            2\n",
      "C123           2\n",
      "C65            2\n",
      "B28            2\n",
      "B35            2\n",
      "E8             2\n",
      "B20            2\n",
      "C78            2\n",
      "C126           2\n",
      "D35            2\n",
      "F4             2\n",
      "B18            2\n",
      "C125           2\n",
      "B51 B53 B55    2\n",
      "D20            2\n",
      "E33            2\n",
      "B49            2\n",
      "              ..\n",
      "D56            1\n",
      "B79            1\n",
      "B4             1\n",
      "B101           1\n",
      "B38            1\n",
      "C30            1\n",
      "F G63          1\n",
      "E10            1\n",
      "C49            1\n",
      "B3             1\n",
      "A32            1\n",
      "C70            1\n",
      "A36            1\n",
      "B30            1\n",
      "C148           1\n",
      "E50            1\n",
      "B71            1\n",
      "C111           1\n",
      "D6             1\n",
      "B50            1\n",
      "A34            1\n",
      "E12            1\n",
      "D48            1\n",
      "A20            1\n",
      "E38            1\n",
      "E34            1\n",
      "C86            1\n",
      "D49            1\n",
      "A19            1\n",
      "E63            1\n",
      "Name: Cabin, Length: 147, dtype: int64\n",
      "\n",
      "S    644\n",
      "C    168\n",
      "Q     77\n",
      "Name: Embarked, dtype: int64\n",
      "\n"
     ]
    }
   ],
   "source": [
    "for col in df_google:\n",
    "    if df_google[col].dtype=='O':\n",
    "        print(df_google[col].value_counts()[:])\n",
    "        print()"
   ]
  },
  {
   "cell_type": "markdown",
   "metadata": {},
   "source": [
    "### In a new python module, `acquire.py`:"
   ]
  },
  {
   "cell_type": "code",
   "execution_count": null,
   "metadata": {},
   "outputs": [],
   "source": []
  },
  {
   "cell_type": "markdown",
   "metadata": {},
   "source": [
    "1. **`get_titanic_data`:** returns the titanic data from the Codeup data science database as a pandas data frame."
   ]
  },
  {
   "cell_type": "code",
   "execution_count": null,
   "metadata": {},
   "outputs": [],
   "source": []
  },
  {
   "cell_type": "markdown",
   "metadata": {},
   "source": [
    "2. **`get_iris_data`:** returns the data from the `iris_db` on the Codeup data science database as a pandas data frame. The returned data frame should include the actual name of the species in addition to the species_ids."
   ]
  },
  {
   "cell_type": "code",
   "execution_count": 30,
   "metadata": {},
   "outputs": [],
   "source": [
    "sql='''select measurements.*, species.species_name from measurements join species using (species_id)'''"
   ]
  },
  {
   "cell_type": "code",
   "execution_count": 31,
   "metadata": {},
   "outputs": [
    {
     "name": "stdout",
     "output_type": "stream",
     "text": [
      "starting sql_df\n",
      "starting get_db_url\n",
      "ending get_db_url ; time: 3.814697265625e-06\n",
      "starting check_df\n",
      "DATAFRAME SHAPE:\n",
      "(150, 7) \n",
      "\n",
      "DATAFRAME INFO:\n",
      "<class 'pandas.core.frame.DataFrame'>\n",
      "RangeIndex: 150 entries, 0 to 149\n",
      "Data columns (total 7 columns):\n",
      "measurement_id    150 non-null int64\n",
      "sepal_length      150 non-null float64\n",
      "sepal_width       150 non-null float64\n",
      "petal_length      150 non-null float64\n",
      "petal_width       150 non-null float64\n",
      "species_id        150 non-null int64\n",
      "species_name      150 non-null object\n",
      "dtypes: float64(4), int64(2), object(1)\n",
      "memory usage: 8.3+ KB\n",
      "None \n",
      "\n",
      "DATAFRAME DESCRIPTION:\n",
      "                count       mean        std  min    25%    50%     75%    max\n",
      "measurement_id  150.0  75.500000  43.445368  1.0  38.25  75.50  112.75  150.0\n",
      "sepal_length    150.0   5.843333   0.828066  4.3   5.10   5.80    6.40    7.9\n",
      "sepal_width     150.0   3.057333   0.435866  2.0   2.80   3.00    3.30    4.4\n",
      "petal_length    150.0   3.758000   1.765298  1.0   1.60   4.35    5.10    6.9\n",
      "petal_width     150.0   1.199333   0.762238  0.1   0.30   1.30    1.80    2.5\n",
      "species_id      150.0   2.000000   0.819232  1.0   1.00   2.00    3.00    3.0 \n",
      "\n",
      "DATAFRAME HEAD:\n",
      "   measurement_id  sepal_length  sepal_width  petal_length  petal_width  \\\n",
      "0               1           5.1          3.5           1.4          0.2   \n",
      "1               2           4.9          3.0           1.4          0.2   \n",
      "2               3           4.7          3.2           1.3          0.2   \n",
      "3               4           4.6          3.1           1.5          0.2   \n",
      "4               5           5.0          3.6           1.4          0.2   \n",
      "\n",
      "   species_id species_name  \n",
      "0           1       setosa  \n",
      "1           1       setosa  \n",
      "2           1       setosa  \n",
      "3           1       setosa  \n",
      "4           1       setosa   \n",
      "\n",
      "ending check_df ; time: 0.025384902954101562\n",
      "ending sql_df ; time: 1.4423189163208008\n"
     ]
    }
   ],
   "source": [
    "db_url = acq.sql_df(sql, 'iris_db', splain=1)"
   ]
  },
  {
   "cell_type": "markdown",
   "metadata": {},
   "source": [
    "# Exercises - Data Preparation"
   ]
  },
  {
   "cell_type": "markdown",
   "metadata": {},
   "source": [
    "**The end product of this exercise should be the specified functions in a python script named** \n",
    "`prepare.py`\n",
    "**. Do these in your classification_exercises.ipynb first, then transfer to the** \n",
    "`prepare.py` \n",
    "**file.**"
   ]
  },
  {
   "cell_type": "markdown",
   "metadata": {},
   "source": [
    "### 1. Iris Data"
   ]
  },
  {
   "cell_type": "markdown",
   "metadata": {},
   "source": [
    "   a. Use the function defined in `acquire.py` to load the iris data."
   ]
  },
  {
   "cell_type": "code",
   "execution_count": 32,
   "metadata": {},
   "outputs": [
    {
     "name": "stdout",
     "output_type": "stream",
     "text": [
      "starting get_iris_data\n",
      "starting sql_df\n",
      "starting get_db_url\n",
      "ending get_db_url ; time: 1.9073486328125e-06\n",
      "starting check_df\n",
      "DATAFRAME SHAPE:\n",
      "(150, 6) \n",
      "\n",
      "DATAFRAME INFO:\n",
      "<class 'pandas.core.frame.DataFrame'>\n",
      "RangeIndex: 150 entries, 0 to 149\n",
      "Data columns (total 6 columns):\n",
      "measurement_id    150 non-null int64\n",
      "sepal_length      150 non-null float64\n",
      "sepal_width       150 non-null float64\n",
      "petal_length      150 non-null float64\n",
      "petal_width       150 non-null float64\n",
      "species_name      150 non-null object\n",
      "dtypes: float64(4), int64(1), object(1)\n",
      "memory usage: 7.1+ KB\n",
      "None \n",
      "\n",
      "DATAFRAME DESCRIPTION:\n",
      "                count       mean        std  min    25%    50%     75%    max\n",
      "measurement_id  150.0  75.500000  43.445368  1.0  38.25  75.50  112.75  150.0\n",
      "sepal_length    150.0   5.843333   0.828066  4.3   5.10   5.80    6.40    7.9\n",
      "sepal_width     150.0   3.057333   0.435866  2.0   2.80   3.00    3.30    4.4\n",
      "petal_length    150.0   3.758000   1.765298  1.0   1.60   4.35    5.10    6.9\n",
      "petal_width     150.0   1.199333   0.762238  0.1   0.30   1.30    1.80    2.5 \n",
      "\n",
      "DATAFRAME HEAD:\n",
      "   measurement_id  sepal_length  sepal_width  petal_length  petal_width  \\\n",
      "0               1           5.1          3.5           1.4          0.2   \n",
      "1               2           4.9          3.0           1.4          0.2   \n",
      "2               3           4.7          3.2           1.3          0.2   \n",
      "3               4           4.6          3.1           1.5          0.2   \n",
      "4               5           5.0          3.6           1.4          0.2   \n",
      "\n",
      "  species_name  \n",
      "0       setosa  \n",
      "1       setosa  \n",
      "2       setosa  \n",
      "3       setosa  \n",
      "4       setosa   \n",
      "\n",
      "ending check_df ; time: 0.023128986358642578\n",
      "ending sql_df ; time: 4.543992042541504\n",
      "ending get_iris_data ; time: 4.544071912765503\n"
     ]
    }
   ],
   "source": [
    "df1 = acq.get_iris_data(type='sql', splain=1)"
   ]
  },
  {
   "cell_type": "markdown",
   "metadata": {},
   "source": [
    "   b. Drop the `species_id` and `measurement_id` columns."
   ]
  },
  {
   "cell_type": "code",
   "execution_count": 33,
   "metadata": {},
   "outputs": [
    {
     "name": "stdout",
     "output_type": "stream",
     "text": [
      "starting check_df\n",
      "DATAFRAME SHAPE:\n",
      "(150, 5) \n",
      "\n",
      "DATAFRAME INFO:\n",
      "<class 'pandas.core.frame.DataFrame'>\n",
      "RangeIndex: 150 entries, 0 to 149\n",
      "Data columns (total 5 columns):\n",
      "sepal_length    150 non-null float64\n",
      "sepal_width     150 non-null float64\n",
      "petal_length    150 non-null float64\n",
      "petal_width     150 non-null float64\n",
      "species_name    150 non-null object\n",
      "dtypes: float64(4), object(1)\n",
      "memory usage: 5.9+ KB\n",
      "None \n",
      "\n",
      "DATAFRAME DESCRIPTION:\n",
      "              count      mean       std  min  25%   50%  75%  max\n",
      "sepal_length  150.0  5.843333  0.828066  4.3  5.1  5.80  6.4  7.9\n",
      "sepal_width   150.0  3.057333  0.435866  2.0  2.8  3.00  3.3  4.4\n",
      "petal_length  150.0  3.758000  1.765298  1.0  1.6  4.35  5.1  6.9\n",
      "petal_width   150.0  1.199333  0.762238  0.1  0.3  1.30  1.8  2.5 \n",
      "\n",
      "DATAFRAME HEAD:\n",
      "   sepal_length  sepal_width  petal_length  petal_width species_name\n",
      "0           5.1          3.5           1.4          0.2       setosa\n",
      "1           4.9          3.0           1.4          0.2       setosa\n",
      "2           4.7          3.2           1.3          0.2       setosa\n",
      "3           4.6          3.1           1.5          0.2       setosa\n",
      "4           5.0          3.6           1.4          0.2       setosa \n",
      "\n",
      "ending check_df ; time: 0.03694415092468262\n"
     ]
    }
   ],
   "source": [
    "df1=acq.check_df(df1.drop(columns='measurement_id', axis=1), splain=splain)"
   ]
  },
  {
   "cell_type": "markdown",
   "metadata": {},
   "source": [
    "   c. Rename the `species_name` column to just `species`."
   ]
  },
  {
   "cell_type": "code",
   "execution_count": 34,
   "metadata": {},
   "outputs": [
    {
     "name": "stdout",
     "output_type": "stream",
     "text": [
      "starting check_df\n",
      "DATAFRAME SHAPE:\n",
      "(150, 5) \n",
      "\n",
      "DATAFRAME INFO:\n",
      "<class 'pandas.core.frame.DataFrame'>\n",
      "RangeIndex: 150 entries, 0 to 149\n",
      "Data columns (total 5 columns):\n",
      "sepal_length    150 non-null float64\n",
      "sepal_width     150 non-null float64\n",
      "petal_length    150 non-null float64\n",
      "petal_width     150 non-null float64\n",
      "species         150 non-null object\n",
      "dtypes: float64(4), object(1)\n",
      "memory usage: 5.9+ KB\n",
      "None \n",
      "\n",
      "DATAFRAME DESCRIPTION:\n",
      "              count      mean       std  min  25%   50%  75%  max\n",
      "sepal_length  150.0  5.843333  0.828066  4.3  5.1  5.80  6.4  7.9\n",
      "sepal_width   150.0  3.057333  0.435866  2.0  2.8  3.00  3.3  4.4\n",
      "petal_length  150.0  3.758000  1.765298  1.0  1.6  4.35  5.1  6.9\n",
      "petal_width   150.0  1.199333  0.762238  0.1  0.3  1.30  1.8  2.5 \n",
      "\n",
      "DATAFRAME HEAD:\n",
      "   sepal_length  sepal_width  petal_length  petal_width species\n",
      "0           5.1          3.5           1.4          0.2  setosa\n",
      "1           4.9          3.0           1.4          0.2  setosa\n",
      "2           4.7          3.2           1.3          0.2  setosa\n",
      "3           4.6          3.1           1.5          0.2  setosa\n",
      "4           5.0          3.6           1.4          0.2  setosa \n",
      "\n",
      "ending check_df ; time: 0.03409290313720703\n"
     ]
    }
   ],
   "source": [
    "df1=acq.check_df(df1.rename(columns={'species_name': 'species'}), splain=1)"
   ]
  },
  {
   "cell_type": "markdown",
   "metadata": {},
   "source": [
    "   d. Encode the species name using a sklearn label encoder. Research the `inverse_transform` method of the label encoder. How might this be useful?"
   ]
  },
  {
   "cell_type": "code",
   "execution_count": 35,
   "metadata": {},
   "outputs": [
    {
     "name": "stdout",
     "output_type": "stream",
     "text": [
      "DATAFRAME SHAPE:\n",
      "(150, 5) \n",
      "\n",
      "DATAFRAME INFO:\n",
      "<class 'pandas.core.frame.DataFrame'>\n",
      "RangeIndex: 150 entries, 0 to 149\n",
      "Data columns (total 5 columns):\n",
      "sepal_length    150 non-null float64\n",
      "sepal_width     150 non-null float64\n",
      "petal_length    150 non-null float64\n",
      "petal_width     150 non-null float64\n",
      "species         150 non-null int64\n",
      "dtypes: float64(4), int64(1)\n",
      "memory usage: 5.9 KB\n",
      "None \n",
      "\n",
      "DATAFRAME DESCRIPTION:\n",
      "              count      mean       std  min  25%   50%  75%  max\n",
      "sepal_length  150.0  5.843333  0.828066  4.3  5.1  5.80  6.4  7.9\n",
      "sepal_width   150.0  3.057333  0.435866  2.0  2.8  3.00  3.3  4.4\n",
      "petal_length  150.0  3.758000  1.765298  1.0  1.6  4.35  5.1  6.9\n",
      "petal_width   150.0  1.199333  0.762238  0.1  0.3  1.30  1.8  2.5\n",
      "species       150.0  1.000000  0.819232  0.0  0.0  1.00  2.0  2.0 \n",
      "\n",
      "DATAFRAME HEAD:\n",
      "   sepal_length  sepal_width  petal_length  petal_width  species\n",
      "0           5.1          3.5           1.4          0.2        0\n",
      "1           4.9          3.0           1.4          0.2        0\n",
      "2           4.7          3.2           1.3          0.2        0\n",
      "3           4.6          3.1           1.5          0.2        0\n",
      "4           5.0          3.6           1.4          0.2        0 \n",
      "\n"
     ]
    }
   ],
   "source": [
    "def encode_col(df, col):\n",
    "    encoder = LabelEncoder()\n",
    "    encoder.fit (df[col])\n",
    "    df[col] = encoder.transform(df[col])\n",
    "    return encoder\n",
    "    \n",
    "    \n",
    "encoder1 = encode_col(df1, 'species')\n",
    "    \n",
    "frame_splain(df1, splain=splain)"
   ]
  },
  {
   "cell_type": "markdown",
   "metadata": {},
   "source": [
    "   e. Create a function named `prep_iris` that accepts the untransformed iris data, and returns the data with the transformations above applied."
   ]
  },
  {
   "cell_type": "code",
   "execution_count": 36,
   "metadata": {},
   "outputs": [
    {
     "name": "stdout",
     "output_type": "stream",
     "text": [
      "starting prep_iris\n",
      "starting get_iris_data\n",
      "starting sql_df\n",
      "starting get_db_url\n",
      "ending get_db_url ; time: 5.0067901611328125e-06\n",
      "starting check_df\n",
      "ending check_df ; time: 4.982948303222656e-05\n",
      "ending sql_df ; time: 1.2498083114624023\n",
      "ending get_iris_data ; time: 1.2499299049377441\n",
      "starting encode_col\n",
      "ending encode_col ; time: 0.005184650421142578\n",
      "ending prep_iris ; time: 1.2615296840667725\n",
      "DATAFRAME SHAPE:\n",
      "(150, 5) \n",
      "\n",
      "DATAFRAME INFO:\n",
      "<class 'pandas.core.frame.DataFrame'>\n",
      "RangeIndex: 150 entries, 0 to 149\n",
      "Data columns (total 5 columns):\n",
      "sepal_length    150 non-null float64\n",
      "sepal_width     150 non-null float64\n",
      "petal_length    150 non-null float64\n",
      "petal_width     150 non-null float64\n",
      "species         150 non-null int64\n",
      "dtypes: float64(4), int64(1)\n",
      "memory usage: 5.9 KB\n",
      "None \n",
      "\n",
      "DATAFRAME DESCRIPTION:\n",
      "              count      mean       std  min  25%   50%  75%  max\n",
      "sepal_length  150.0  5.843333  0.828066  4.3  5.1  5.80  6.4  7.9\n",
      "sepal_width   150.0  3.057333  0.435866  2.0  2.8  3.00  3.3  4.4\n",
      "petal_length  150.0  3.758000  1.765298  1.0  1.6  4.35  5.1  6.9\n",
      "petal_width   150.0  1.199333  0.762238  0.1  0.3  1.30  1.8  2.5\n",
      "species       150.0  1.000000  0.819232  0.0  0.0  1.00  2.0  2.0 \n",
      "\n",
      "DATAFRAME HEAD:\n",
      "   sepal_length  sepal_width  petal_length  petal_width  species\n",
      "0           5.1          3.5           1.4          0.2        0\n",
      "1           4.9          3.0           1.4          0.2        0\n",
      "2           4.7          3.2           1.3          0.2        0\n",
      "3           4.6          3.1           1.5          0.2        0\n",
      "4           5.0          3.6           1.4          0.2        0 \n",
      "\n"
     ]
    }
   ],
   "source": [
    "df_iris_final, iris_encoder = prep.prep_iris(splain=0)\n",
    "frame_splain(df_iris_final, splain=splain)"
   ]
  },
  {
   "cell_type": "markdown",
   "metadata": {},
   "source": [
    "### 2. Titanic Data"
   ]
  },
  {
   "cell_type": "markdown",
   "metadata": {},
   "source": [
    "a. **Use the function you defined in** \n",
    "`acquire.py` \n",
    "**to load the titanic data set.**"
   ]
  },
  {
   "cell_type": "code",
   "execution_count": 54,
   "metadata": {},
   "outputs": [
    {
     "name": "stdout",
     "output_type": "stream",
     "text": [
      "starting get_titanic_data\n",
      "starting sql_df\n",
      "starting get_db_url\n",
      "ending get_db_url ; time: 4.0531158447265625e-06\n",
      "starting check_df\n",
      "DATAFRAME SHAPE:\n",
      "(891, 13) \n",
      "\n",
      "DATAFRAME INFO:\n",
      "<class 'pandas.core.frame.DataFrame'>\n",
      "RangeIndex: 891 entries, 0 to 890\n",
      "Data columns (total 13 columns):\n",
      "passenger_id    891 non-null int64\n",
      "survived        891 non-null int64\n",
      "pclass          891 non-null int64\n",
      "sex             891 non-null object\n",
      "age             714 non-null float64\n",
      "sibsp           891 non-null int64\n",
      "parch           891 non-null int64\n",
      "fare            891 non-null float64\n",
      "embarked        889 non-null object\n",
      "class           891 non-null object\n",
      "deck            203 non-null object\n",
      "embark_town     889 non-null object\n",
      "alone           891 non-null int64\n",
      "dtypes: float64(2), int64(6), object(5)\n",
      "memory usage: 90.6+ KB\n",
      "None \n",
      "\n",
      "DATAFRAME DESCRIPTION:\n",
      "              count        mean         std   min       25%       50%    75%  \\\n",
      "passenger_id  891.0  445.000000  257.353842  0.00  222.5000  445.0000  667.5   \n",
      "survived      891.0    0.383838    0.486592  0.00    0.0000    0.0000    1.0   \n",
      "pclass        891.0    2.308642    0.836071  1.00    2.0000    3.0000    3.0   \n",
      "age           714.0   29.699118   14.526497  0.42   20.1250   28.0000   38.0   \n",
      "sibsp         891.0    0.523008    1.102743  0.00    0.0000    0.0000    1.0   \n",
      "parch         891.0    0.381594    0.806057  0.00    0.0000    0.0000    0.0   \n",
      "fare          891.0   32.204208   49.693429  0.00    7.9104   14.4542   31.0   \n",
      "alone         891.0    0.602694    0.489615  0.00    0.0000    1.0000    1.0   \n",
      "\n",
      "                   max  \n",
      "passenger_id  890.0000  \n",
      "survived        1.0000  \n",
      "pclass          3.0000  \n",
      "age            80.0000  \n",
      "sibsp           8.0000  \n",
      "parch           6.0000  \n",
      "fare          512.3292  \n",
      "alone           1.0000   \n",
      "\n",
      "ending check_df ; time: 0.0257570743560791\n",
      "ending sql_df ; time: 1.4272067546844482\n",
      "ending get_titanic_data ; time: 1.4272902011871338\n"
     ]
    }
   ],
   "source": [
    "df = acq.get_titanic_data(splain=True)"
   ]
  },
  {
   "cell_type": "markdown",
   "metadata": {},
   "source": [
    "b. **Handle the missing values in the** \n",
    "`embark_town` \n",
    "**and** \n",
    "`embarked` \n",
    "**columns.**"
   ]
  },
  {
   "cell_type": "markdown",
   "metadata": {},
   "source": [
    "*Function to impute*"
   ]
  },
  {
   "cell_type": "code",
   "execution_count": 59,
   "metadata": {},
   "outputs": [],
   "source": [
    "from sklearn.impute import SimpleImputer"
   ]
  },
  {
   "cell_type": "code",
   "execution_count": 60,
   "metadata": {},
   "outputs": [],
   "source": [
    "@timeifdebug\n",
    "def simpute(df, column, missing_values=np.nan, strategy='most_frequent', splain=local_settings.splain):\n",
    "    '''\n",
    "    simpute(df, column, missing_values=np.nan, strategy='most_frequent', splain=local_settings.splain)\n",
    "    RETURNS: df\n",
    "    '''\n",
    "    df[[column]] = df[[column]].fillna(missing_values)\n",
    "    imp_mode = SimpleImputer(missing_values=missing_values, strategy=strategy)\n",
    "    df[[column]] = imp_mode.fit_transform(df[[column]])\n",
    "    return df"
   ]
  },
  {
   "cell_type": "code",
   "execution_count": 61,
   "metadata": {},
   "outputs": [
    {
     "name": "stdout",
     "output_type": "stream",
     "text": [
      "starting simpute\n",
      "ending simpute ; time: 0.01172780990600586\n",
      "starting simpute\n",
      "ending simpute ; time: 0.009991884231567383\n"
     ]
    }
   ],
   "source": [
    "df = simpute(df=df, column='embarked', splain=splain)\n",
    "df = simpute(df=df, column='embark_town', splain=splain)"
   ]
  },
  {
   "cell_type": "markdown",
   "metadata": {},
   "source": [
    "c. **Remove the** \n",
    "`deck` \n",
    "**column.**"
   ]
  },
  {
   "cell_type": "code",
   "execution_count": 62,
   "metadata": {},
   "outputs": [],
   "source": [
    "df.drop(columns=['deck'], inplace=True)"
   ]
  },
  {
   "cell_type": "markdown",
   "metadata": {},
   "source": [
    "d. **Use a label encoder to transform the** \n",
    "`embarked` \n",
    "**column.**"
   ]
  },
  {
   "cell_type": "markdown",
   "metadata": {},
   "source": [
    "*Function to encode*"
   ]
  },
  {
   "cell_type": "code",
   "execution_count": 63,
   "metadata": {},
   "outputs": [],
   "source": [
    "@timeifdebug\n",
    "def encode_col(df, col):\n",
    "    '''\n",
    "    encode_col(df, col)\n",
    "    RETURNS: df, encoder\n",
    "    '''\n",
    "    encoder = LabelEncoder()\n",
    "    encoder.fit (df[[col]])\n",
    "    df[[col]] = encoder.transform(df[[col]])\n",
    "    return df, encoder"
   ]
  },
  {
   "cell_type": "code",
   "execution_count": null,
   "metadata": {},
   "outputs": [],
   "source": []
  },
  {
   "cell_type": "markdown",
   "metadata": {},
   "source": [
    "e. **Scale the** \n",
    "`age` \n",
    "**and** \n",
    "`fare` \n",
    "**columns using a min max scaler. Why might this be beneficial? When might you not want to do this?**"
   ]
  },
  {
   "cell_type": "code",
   "execution_count": 64,
   "metadata": {},
   "outputs": [],
   "source": [
    "scaler = MinMaxScaler()\n",
    "scaler.fit(df[['age','fare']])\n",
    "df[['age','fare']] = scaler.transform(df[['age','fare']])"
   ]
  },
  {
   "cell_type": "markdown",
   "metadata": {},
   "source": [
    "f. **Create a function named** \n",
    "`prep_titanic` \n",
    "**that accepts the untransformed titanic data, and returns the data with the transformations above applied.**"
   ]
  },
  {
   "cell_type": "code",
   "execution_count": 50,
   "metadata": {},
   "outputs": [],
   "source": [
    "@timeifdebug\n",
    "def prep_titanic(splain=local_settings.splain):\n",
    "    '''\n",
    "    prep_titanic(splain=local_settings.splain)\n",
    "    RETURNS: df, encoder, scaler\n",
    "    \n",
    "    \n",
    "    # Titanic Data\n",
    "\n",
    "    # 1. Use the function you defined in acquire.py to load the titanic data set.\n",
    "    # 2. Handle the missing values in the embark_town and embarked columns.\n",
    "    # 3. Remove the deck column.\n",
    "    # 4. Use a label encoder to transform the embarked column.\n",
    "    # 5. Scale the age and fare columns using a min max scaler. Why might this be \n",
    "    # beneficial? When might you not want to do this?\n",
    "    # 6. Create a function named prep_titanic that accepts the untransformed \n",
    "    # titanic data, and returns the data with the transformations above applied.\n",
    "\n",
    "    # Note: drop columns updated to deck, embarked, passenger_id in explore\n",
    "    # Note: encoding changed to embark_town\n",
    "    '''\n",
    "    df = get_titanic_data(splain=splain)\n",
    "    df.drop(columns=['deck', 'embarked','passenger_id'], inplace=True)\n",
    "    df = simpute(df=df, column='embark_town', splain=splain)\n",
    "    df, encoder = encode_col(df=df, col='embark_town')\n",
    "    scaler = MinMaxScaler()\n",
    "    scaler.fit(df[['age','fare']])\n",
    "    df[['age','fare']] = scaler.transform(df[['age','fare']])\n",
    "    return df, encoder, scale"
   ]
  },
  {
   "cell_type": "code",
   "execution_count": 51,
   "metadata": {},
   "outputs": [
    {
     "name": "stdout",
     "output_type": "stream",
     "text": [
      "starting prep_titanic\n",
      "starting get_titanic_data\n",
      "starting sql_df\n",
      "starting get_db_url\n",
      "ending get_db_url ; time: 2.86102294921875e-06\n",
      "starting check_df\n",
      "ending check_df ; time: 1.2159347534179688e-05\n",
      "ending sql_df ; time: 1.2865440845489502\n",
      "ending get_titanic_data ; time: 1.2866201400756836\n",
      "starting simpute\n",
      "ending simpute ; time: 0.00644993782043457\n",
      "starting encode_col\n",
      "ending encode_col ; time: 0.003610849380493164\n",
      "ending prep_titanic ; time: 1.308058738708496\n"
     ]
    }
   ],
   "source": [
    "df_titanic, encoder_titanic, scaler_titanic = prep.prep_titanic(splain=False)"
   ]
  },
  {
   "cell_type": "markdown",
   "metadata": {},
   "source": [
    "# Exercises - Data Exploration\n",
    "### Continue in your `classification_exercises.ipynb` notebook. Use the iris dataset."
   ]
  },
  {
   "cell_type": "code",
   "execution_count": null,
   "metadata": {},
   "outputs": [],
   "source": []
  },
  {
   "cell_type": "markdown",
   "metadata": {},
   "source": [
    "1. **Split data into train (70%) & test (30%) samples.**"
   ]
  },
  {
   "cell_type": "code",
   "execution_count": null,
   "metadata": {},
   "outputs": [],
   "source": []
  },
  {
   "cell_type": "markdown",
   "metadata": {},
   "source": [
    "2. **Create a swarmplot using a melted dataframe of all your numeric variables. The x-axis is the variable name, the y-axis is the measure. Add another dimension using color to represent species. Document takeaways from this visualization.**"
   ]
  },
  {
   "cell_type": "code",
   "execution_count": null,
   "metadata": {},
   "outputs": [],
   "source": []
  },
  {
   "cell_type": "markdown",
   "metadata": {},
   "source": [
    "3. **Create 4 subplots (2 rows x 2 columns) of scatterplots**\n",
    "   - sepal_length x sepal_width\n",
    "   - petal_length x petal_width\n",
    "   - sepal_area x petal_area\n",
    "   - sepal_length x petal_length\n",
    "   \n",
    "   **Make your figure size 14 x 8. What are your takeaways?**"
   ]
  },
  {
   "cell_type": "code",
   "execution_count": null,
   "metadata": {},
   "outputs": [],
   "source": []
  },
  {
   "cell_type": "markdown",
   "metadata": {},
   "source": [
    "4. **Create a heatmap of each variable layering correlation coefficient on top.**"
   ]
  },
  {
   "cell_type": "code",
   "execution_count": null,
   "metadata": {},
   "outputs": [],
   "source": []
  },
  {
   "cell_type": "markdown",
   "metadata": {},
   "source": [
    "5. **Create a scatter matrix visualizing the interaction of each variable**"
   ]
  },
  {
   "cell_type": "code",
   "execution_count": null,
   "metadata": {},
   "outputs": [],
   "source": []
  },
  {
   "cell_type": "markdown",
   "metadata": {},
   "source": [
    "6. **Is the sepal length significantly different in virginica compared to versicolor? Run an experiment to test this.**\n",
    "\n",
    "   - must include null hypothesis, alternative hypothesis, t-test, results, summary\n",
    "   - $H_0$: the difference in sepal length between virginica and versicolor is insignificant.\n",
    "   - $H_a$: the difference in sepal length between virginica and versicolor is substantial.\n",
    "   - We will test if the sepal length of virginica is significantly different than that of the versicolor.\n",
    "   - If there is difference, then variable sepal_length is a good choice to keep as a feature.\n",
    "   - We can use a t-test here, as sepal_length is somewhat normally distributed."
   ]
  },
  {
   "cell_type": "code",
   "execution_count": null,
   "metadata": {},
   "outputs": [],
   "source": []
  },
  {
   "cell_type": "code",
   "execution_count": null,
   "metadata": {},
   "outputs": [],
   "source": []
  }
 ],
 "metadata": {
  "kernelspec": {
   "display_name": "Python 3",
   "language": "python",
   "name": "python3"
  },
  "language_info": {
   "codemirror_mode": {
    "name": "ipython",
    "version": 3
   },
   "file_extension": ".py",
   "mimetype": "text/x-python",
   "name": "python",
   "nbconvert_exporter": "python",
   "pygments_lexer": "ipython3",
   "version": "3.7.3"
  }
 },
 "nbformat": 4,
 "nbformat_minor": 2
}
