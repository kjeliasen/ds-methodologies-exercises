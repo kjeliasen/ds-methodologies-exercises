{
 "cells": [
  {
   "cell_type": "markdown",
   "metadata": {},
   "source": [
    "<h1 id=\"exercises\">Exercises - Data Preparation</h1>\n",
    "\n",
    "[*Lesson Page*](https://ds.codeup.com/11-nlp/4-prepare/)"
   ]
  },
  {
   "cell_type": "markdown",
   "metadata": {},
   "source": [
    "<p>The end result of this exercise should be a file named <code>prepare.py</code> that defines\n",
    "the requested functions.</p>\n",
    "<p>In this exercise we will be defining some functions to prepare textual data.\n",
    "These functions should apply equally well to both the codeup blog articles and\n",
    "the news articles that were previously acquired.</p>"
   ]
  },
  {
   "cell_type": "code",
   "execution_count": null,
   "metadata": {},
   "outputs": [],
   "source": []
  },
  {
   "cell_type": "markdown",
   "metadata": {},
   "source": [
    "<h2>1</h2>\n",
    "<p>Define a function named <code>basic_clean</code>. It should take in a string and apply\n",
    "   some basic text cleaning to it:</p>\n",
    "<ul>\n",
    "<li>Lowercase everything</li>\n",
    "<li>Normalize unicode characters</li>\n",
    "<li>Replace anything that is not a letter, number, whitespace or a single quote.</li>\n",
    "</ul>"
   ]
  },
  {
   "cell_type": "code",
   "execution_count": null,
   "metadata": {},
   "outputs": [],
   "source": []
  },
  {
   "cell_type": "markdown",
   "metadata": {},
   "source": [
    "<h2>2</h2>\n",
    "<p>Define a function named <code>tokenize</code>. It should take in a string and tokenize\n",
    "   all the words in the string.</p>"
   ]
  },
  {
   "cell_type": "code",
   "execution_count": null,
   "metadata": {},
   "outputs": [],
   "source": []
  },
  {
   "cell_type": "markdown",
   "metadata": {},
   "source": [
    "<h2>3</h2>\n",
    "<p>Define a function named <code>stem</code>. It should accept some text and return the\n",
    "   text after applying stemming to all the words.</p>"
   ]
  },
  {
   "cell_type": "code",
   "execution_count": null,
   "metadata": {},
   "outputs": [],
   "source": []
  },
  {
   "cell_type": "markdown",
   "metadata": {},
   "source": [
    "<h2>4</h2>\n",
    "<p>Define a function named <code>lemmatize</code>. It should accept some text and return\n",
    "   the text after applying lemmatization to each word.</p>"
   ]
  },
  {
   "cell_type": "code",
   "execution_count": null,
   "metadata": {},
   "outputs": [],
   "source": []
  },
  {
   "cell_type": "markdown",
   "metadata": {},
   "source": [
    "<h2>5</h2>\n",
    "<p>Define a function named <code>remove_stopwords</code>. It should accept some text and\n",
    "   return the text after removing all the stopwords.</p>\n",
    "<p>This function should define two optional parameters, <code>extra_words</code> and\n",
    "<code>exclude_words</code>. These parameters should define any additional stop words to\n",
    "include, and any words that we <em>don't</em> want to remove.</p>"
   ]
  },
  {
   "cell_type": "code",
   "execution_count": null,
   "metadata": {},
   "outputs": [],
   "source": []
  },
  {
   "cell_type": "markdown",
   "metadata": {},
   "source": [
    "<h2>6</h2>\n",
    "<p>Define a function named <code>prep_article</code> that takes in the dictionary\n",
    "   representing an article and returns a dictionary that looks like this:</p>\n",
    "<div class=\"highlight\"><pre><span></span><span class=\"p\">{</span>\n",
    "    <span class=\"s1\">&#39;title&#39;</span><span class=\"p\">:</span> <span class=\"s1\">&#39;the original title&#39;</span><span class=\"o\">.</span>\n",
    "    <span class=\"s1\">&#39;original&#39;</span><span class=\"p\">:</span> <span class=\"n\">original</span><span class=\"p\">,</span>\n",
    "    <span class=\"s1\">&#39;stemmed&#39;</span><span class=\"p\">:</span> <span class=\"n\">article_stemmed</span><span class=\"p\">,</span>\n",
    "    <span class=\"s1\">&#39;lemmatized&#39;</span><span class=\"p\">:</span> <span class=\"n\">article_lemmatized</span><span class=\"p\">,</span>\n",
    "    <span class=\"s1\">&#39;clean&#39;</span><span class=\"p\">:</span> <span class=\"n\">article_without_stopwords</span>\n",
    "<span class=\"p\">}</span>\n",
    "</pre></div>\n",
    "\n",
    "<p>Note that if the orignal dictionary has a title property, it should remain\n",
    "unchanged (same goes for the <code>category</code> property).</p>"
   ]
  },
  {
   "cell_type": "code",
   "execution_count": null,
   "metadata": {},
   "outputs": [],
   "source": []
  },
  {
   "cell_type": "markdown",
   "metadata": {},
   "source": [
    "<h2>7</h2>\n",
    "<p>Define a function named <code>prepare_article_data</code> that takes in the list of\n",
    "   articles dictionaries, applies the <code>prep_article</code> function to each one, and\n",
    "   returns the transformed data.</p>"
   ]
  },
  {
   "cell_type": "code",
   "execution_count": null,
   "metadata": {},
   "outputs": [],
   "source": []
  }
 ],
 "metadata": {
  "kernelspec": {
   "display_name": "Python 3",
   "language": "python",
   "name": "python3"
  },
  "language_info": {
   "codemirror_mode": {
    "name": "ipython",
    "version": 3
   },
   "file_extension": ".py",
   "mimetype": "text/x-python",
   "name": "python",
   "nbconvert_exporter": "python",
   "pygments_lexer": "ipython3",
   "version": "3.7.3"
  }
 },
 "nbformat": 4,
 "nbformat_minor": 2
}
