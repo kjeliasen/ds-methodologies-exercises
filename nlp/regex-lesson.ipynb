{
 "cells": [
  {
   "cell_type": "markdown",
   "metadata": {},
   "source": [
    "# Regular Expressions\n",
    "\n",
    "- [Examples](#Examples)\n",
    "- [Basic Regex](#Basic-Regex)\n",
    "    - [Metacharacters](#Metacharacters)\n",
    "    - [Repitition](#Repitition)\n",
    "    - [Any of / None of](#Any-of-/-None-of)\n",
    "    - [Anchors](#Anchors)\n",
    "    - [Other Functions](#Other-Functions)\n",
    "    - [Capture Groups](#Capture-Groups)\n",
    "    - [Flags](#Flags)\n",
    "    - [Usage with Pandas](#Usage-with-Pandas)"
   ]
  },
  {
   "cell_type": "code",
   "execution_count": 1,
   "metadata": {},
   "outputs": [],
   "source": [
    "import re\n",
    "import pandas as pd"
   ]
  },
  {
   "cell_type": "markdown",
   "metadata": {},
   "source": [
    "## Examples"
   ]
  },
  {
   "cell_type": "markdown",
   "metadata": {},
   "source": [
    "Say I want to parse the following lines in a log file:\n",
    "\n",
    "<div style=\"font-family: monospace; overflow: scroll; white-space: pre\">GET /api/v1/sales?page=86 [16/Apr/2019:193452+0000] HTTP/1.1 {200} 510348 \"python-requests/2.21.0\" 97.105.19.58\n",
    "POST /users_accounts/file-upload [16/Apr/2019:193452+0000] HTTP/1.1 {201} 42 \"User-Agent: Mozilla/5.0 (X11; Fedora; Fedora; Linux x86_64) AppleWebKit/537.36 (KHTML, like Gecko) Chrome/73.0.3683.86 Safari/537.36\" 97.105.19.58\n",
    "GET /api/v1/items?page=3 [16/Apr/2019:193453+0000] HTTP/1.1 {429} 3561 \"python-requests/2.21.0\" 97.105.19.58\n",
    "</div>"
   ]
  },
  {
   "cell_type": "code",
   "execution_count": 2,
   "metadata": {},
   "outputs": [
    {
     "data": {
      "text/plain": [
       "0    GET /api/v1/sales?page=86 [16/Apr/2019:193452+...\n",
       "1    POST /users_accounts/file-upload [16/Apr/2019:...\n",
       "2    GET /api/v1/items?page=3 [16/Apr/2019:193453+0...\n",
       "dtype: object"
      ]
     },
     "metadata": {},
     "output_type": "display_data"
    },
    {
     "data": {
      "text/html": [
       "<div>\n",
       "<style scoped>\n",
       "    .dataframe tbody tr th:only-of-type {\n",
       "        vertical-align: middle;\n",
       "    }\n",
       "\n",
       "    .dataframe tbody tr th {\n",
       "        vertical-align: top;\n",
       "    }\n",
       "\n",
       "    .dataframe thead th {\n",
       "        text-align: right;\n",
       "    }\n",
       "</style>\n",
       "<table border=\"1\" class=\"dataframe\">\n",
       "  <thead>\n",
       "    <tr style=\"text-align: right;\">\n",
       "      <th></th>\n",
       "      <th>call</th>\n",
       "      <th>url</th>\n",
       "      <th>qurl</th>\n",
       "      <th>timestamp</th>\n",
       "      <th>version</th>\n",
       "      <th>status</th>\n",
       "      <th>size</th>\n",
       "      <th>payload</th>\n",
       "      <th>ip</th>\n",
       "    </tr>\n",
       "  </thead>\n",
       "  <tbody>\n",
       "    <tr>\n",
       "      <th>0</th>\n",
       "      <td>GET</td>\n",
       "      <td>/api/v1/sales</td>\n",
       "      <td>?page=86</td>\n",
       "      <td>16/Apr/2019:193452+0000</td>\n",
       "      <td>HTTP/1.1</td>\n",
       "      <td>{200}</td>\n",
       "      <td>510348</td>\n",
       "      <td>\"python-requests/2.21.0\"</td>\n",
       "      <td>97.105.19.5</td>\n",
       "    </tr>\n",
       "    <tr>\n",
       "      <th>1</th>\n",
       "      <td>POST</td>\n",
       "      <td>/users_accounts/file-upload</td>\n",
       "      <td>NaN</td>\n",
       "      <td>16/Apr/2019:193452+0000</td>\n",
       "      <td>HTTP/1.1</td>\n",
       "      <td>{201}</td>\n",
       "      <td>42</td>\n",
       "      <td>\"User-Agent: Mozilla/5.0 (X11; Fedora; Fedora;...</td>\n",
       "      <td>97.105.19.5</td>\n",
       "    </tr>\n",
       "    <tr>\n",
       "      <th>2</th>\n",
       "      <td>GET</td>\n",
       "      <td>/api/v1/items</td>\n",
       "      <td>?page=3</td>\n",
       "      <td>16/Apr/2019:193453+0000</td>\n",
       "      <td>HTTP/1.1</td>\n",
       "      <td>{429}</td>\n",
       "      <td>3561</td>\n",
       "      <td>\"python-requests/2.21.0\"</td>\n",
       "      <td>97.105.19.5</td>\n",
       "    </tr>\n",
       "  </tbody>\n",
       "</table>\n",
       "</div>"
      ],
      "text/plain": [
       "   call                          url      qurl                timestamp  \\\n",
       "0   GET                /api/v1/sales  ?page=86  16/Apr/2019:193452+0000   \n",
       "1  POST  /users_accounts/file-upload       NaN  16/Apr/2019:193452+0000   \n",
       "2   GET                /api/v1/items   ?page=3  16/Apr/2019:193453+0000   \n",
       "\n",
       "    version status    size                                            payload  \\\n",
       "0  HTTP/1.1  {200}  510348                           \"python-requests/2.21.0\"   \n",
       "1  HTTP/1.1  {201}      42  \"User-Agent: Mozilla/5.0 (X11; Fedora; Fedora;...   \n",
       "2  HTTP/1.1  {429}    3561                           \"python-requests/2.21.0\"   \n",
       "\n",
       "            ip  \n",
       "0  97.105.19.5  \n",
       "1  97.105.19.5  \n",
       "2  97.105.19.5  "
      ]
     },
     "metadata": {},
     "output_type": "display_data"
    }
   ],
   "source": [
    "inputs = pd.Series([\n",
    "    r'GET /api/v1/sales?page=86 [16/Apr/2019:193452+0000] HTTP/1.1 {200} 510348 \"python-requests/2.21.0\" 97.105.19.58',\n",
    "    r'POST /users_accounts/file-upload [16/Apr/2019:193452+0000] HTTP/1.1 {201} 42 \"User-Agent: Mozilla/5.0 (X11; Fedora; Fedora; Linux x86_64) AppleWebKit/537.36 (KHTML, like Gecko) Chrome/73.0.3683.86 Safari/537.36\" 97.105.19.58',\n",
    "    r'GET /api/v1/items?page=3 [16/Apr/2019:193453+0000] HTTP/1.1 {429} 3561 \"python-requests/2.21.0\" 97.105.19.58'\n",
    "])\n",
    "display(inputs)\n",
    "\n",
    "outputs = inputs.str.extract(r'^([A-Z]+)\\s(\\/[^?^ ]+)(\\?\\S+)?\\s\\[(.+)\\]\\s(\\S+)\\s(\\{[0-9]+\\})\\s([0-9]+)\\s(\\\".+\\\")\\s(\\d+.\\d+.\\d+.\\d)')\n",
    "outputs.columns = ['call', 'url', 'qurl', 'timestamp', 'version', 'status', 'size', 'payload', 'ip']\n",
    "display(outputs)"
   ]
  },
  {
   "cell_type": "markdown",
   "metadata": {},
   "source": [
    "Extract various components of an address:"
   ]
  },
  {
   "cell_type": "code",
   "execution_count": 3,
   "metadata": {},
   "outputs": [
    {
     "data": {
      "text/plain": [
       "0                      84 Rainey Street, Arlen, TX\n",
       "1    4 Privet Drive, Little Whinging, Surrey, U.K.\n",
       "2               740 Evergreen Terrace, Springfield\n",
       "3           1 Infinite Loop, Cupertino, California\n",
       "4                         Wayne Manor, Gotham City\n",
       "5                  124 Conch Street, Bikini Bottom\n",
       "dtype: object"
      ]
     },
     "execution_count": 3,
     "metadata": {},
     "output_type": "execute_result"
    }
   ],
   "source": [
    "addresses = pd.Series([\n",
    "    '84 Rainey Street, Arlen, TX',\n",
    "    '4 Privet Drive, Little Whinging, Surrey, U.K.',\n",
    "    '740 Evergreen Terrace, Springfield',\n",
    "    '1 Infinite Loop, Cupertino, California',\n",
    "    'Wayne Manor, Gotham City',\n",
    "    '124 Conch Street, Bikini Bottom',\n",
    "])\n",
    "addresses"
   ]
  },
  {
   "cell_type": "code",
   "execution_count": 4,
   "metadata": {},
   "outputs": [
    {
     "data": {
      "text/html": [
       "<div>\n",
       "<style scoped>\n",
       "    .dataframe tbody tr th:only-of-type {\n",
       "        vertical-align: middle;\n",
       "    }\n",
       "\n",
       "    .dataframe tbody tr th {\n",
       "        vertical-align: top;\n",
       "    }\n",
       "\n",
       "    .dataframe thead th {\n",
       "        text-align: right;\n",
       "    }\n",
       "</style>\n",
       "<table border=\"1\" class=\"dataframe\">\n",
       "  <thead>\n",
       "    <tr style=\"text-align: right;\">\n",
       "      <th></th>\n",
       "      <th>house_no</th>\n",
       "      <th>street</th>\n",
       "      <th>city</th>\n",
       "    </tr>\n",
       "  </thead>\n",
       "  <tbody>\n",
       "    <tr>\n",
       "      <th>0</th>\n",
       "      <td>84</td>\n",
       "      <td>Rainey Street</td>\n",
       "      <td>Arlen</td>\n",
       "    </tr>\n",
       "    <tr>\n",
       "      <th>1</th>\n",
       "      <td>4</td>\n",
       "      <td>Privet Drive</td>\n",
       "      <td>Little Whinging</td>\n",
       "    </tr>\n",
       "    <tr>\n",
       "      <th>2</th>\n",
       "      <td>740</td>\n",
       "      <td>Evergreen Terrace</td>\n",
       "      <td>Springfield</td>\n",
       "    </tr>\n",
       "    <tr>\n",
       "      <th>3</th>\n",
       "      <td>1</td>\n",
       "      <td>Infinite Loop</td>\n",
       "      <td>Cupertino</td>\n",
       "    </tr>\n",
       "    <tr>\n",
       "      <th>4</th>\n",
       "      <td>NaN</td>\n",
       "      <td>Wayne Manor</td>\n",
       "      <td>Gotham City</td>\n",
       "    </tr>\n",
       "    <tr>\n",
       "      <th>5</th>\n",
       "      <td>124</td>\n",
       "      <td>Conch Street</td>\n",
       "      <td>Bikini Bottom</td>\n",
       "    </tr>\n",
       "  </tbody>\n",
       "</table>\n",
       "</div>"
      ],
      "text/plain": [
       "  house_no             street             city\n",
       "0       84      Rainey Street            Arlen\n",
       "1        4       Privet Drive  Little Whinging\n",
       "2      740  Evergreen Terrace      Springfield\n",
       "3        1      Infinite Loop        Cupertino\n",
       "4      NaN        Wayne Manor      Gotham City\n",
       "5      124       Conch Street    Bikini Bottom"
      ]
     },
     "execution_count": 4,
     "metadata": {},
     "output_type": "execute_result"
    }
   ],
   "source": [
    "data = addresses.str.extract(r'^(\\d+)?\\s*(.*?),\\s*([\\w\\s]+)')\n",
    "data.columns = ['house_no', 'street', 'city']\n",
    "data"
   ]
  },
  {
   "cell_type": "code",
   "execution_count": 5,
   "metadata": {},
   "outputs": [],
   "source": [
    "# find all the csv files refrenced in the curriculum (this won't work for you)\n",
    "# !(cd ~/codeup/curriculum/data-science/content && rg --vimgrep \".*pd.read_csv\\(['\\\"](.+)['\\\"]\\).*\" -r '$1')"
   ]
  },
  {
   "cell_type": "code",
   "execution_count": 6,
   "metadata": {},
   "outputs": [],
   "source": [
    "# find all the imports in .py files in the curriculum (this won't work for you)\n",
    "# !(cd ~/codeup/curriculum/data-science/content && rg --vimgrep '^import\\s+([\\.\\w]+)\\s*(as\\s*\\w+)?.*$' -r '$1')"
   ]
  },
  {
   "cell_type": "markdown",
   "metadata": {},
   "source": [
    "## Basic Regex\n",
    "\n",
    "- what is a regex? (bigger than python, different flavors)\n",
    "- raw strings\n",
    "- re.findall (but also others)"
   ]
  },
  {
   "cell_type": "code",
   "execution_count": 7,
   "metadata": {},
   "outputs": [],
   "source": [
    "# for demonstration in this lesson\n",
    "from zgulde.hl_matches import hl_all_matches_nb as hl # pip install zgulde"
   ]
  },
  {
   "cell_type": "code",
   "execution_count": 8,
   "metadata": {},
   "outputs": [],
   "source": [
    "subject = 'Hello, Bayes! Today is Dec 3 and the temperature is 70 degrees.'"
   ]
  },
  {
   "cell_type": "code",
   "execution_count": 9,
   "metadata": {},
   "outputs": [
    {
     "data": {
      "text/plain": [
       "['H']"
      ]
     },
     "execution_count": 9,
     "metadata": {},
     "output_type": "execute_result"
    }
   ],
   "source": [
    "re.findall(r'H', subject)"
   ]
  },
  {
   "cell_type": "code",
   "execution_count": 10,
   "metadata": {},
   "outputs": [
    {
     "data": {
      "text/plain": [
       "['e', 'e', 'e', 'e', 'e', 'e', 'e', 'e', 'e', 'e']"
      ]
     },
     "execution_count": 10,
     "metadata": {},
     "output_type": "execute_result"
    }
   ],
   "source": [
    "re.findall(r'e', subject)"
   ]
  },
  {
   "cell_type": "code",
   "execution_count": 11,
   "metadata": {},
   "outputs": [
    {
     "data": {
      "text/html": [
       "<div style=\"font-family: monospace; letter-spacing: 3px; font-size: 24px; line-height: 36px;\">H<span style=\"text-decoration: underline\">e</span>llo, Bay<span style=\"text-decoration: underline\">e</span>s! Today is D<span style=\"text-decoration: underline\">e</span>c 3 and th<span style=\"text-decoration: underline\">e</span> t<span style=\"text-decoration: underline\">e</span>mp<span style=\"text-decoration: underline\">e</span>ratur<span style=\"text-decoration: underline\">e</span> is 70 d<span style=\"text-decoration: underline\">e</span>gr<span style=\"text-decoration: underline\">e</span><span style=\"text-decoration: underline\">e</span>s.</div>"
      ],
      "text/plain": [
       "<IPython.core.display.HTML object>"
      ]
     },
     "execution_count": 11,
     "metadata": {},
     "output_type": "execute_result"
    }
   ],
   "source": [
    "hl(r'e', subject)"
   ]
  },
  {
   "cell_type": "code",
   "execution_count": 12,
   "metadata": {},
   "outputs": [
    {
     "data": {
      "text/html": [
       "<div style=\"font-family: monospace; letter-spacing: 3px; font-size: 24px; line-height: 36px;\">Hello, Bayes! Today is Dec 3 and the temperature is <span style=\"text-decoration: underline\">70</span> degrees.</div>"
      ],
      "text/plain": [
       "<IPython.core.display.HTML object>"
      ]
     },
     "execution_count": 12,
     "metadata": {},
     "output_type": "execute_result"
    }
   ],
   "source": [
    "hl(r'70', subject)"
   ]
  },
  {
   "cell_type": "markdown",
   "metadata": {},
   "source": [
    "### Metacharacters"
   ]
  },
  {
   "cell_type": "code",
   "execution_count": 13,
   "metadata": {},
   "outputs": [
    {
     "data": {
      "text/html": [
       "<div style=\"font-family: monospace; letter-spacing: 3px; font-size: 24px; line-height: 36px;\"><span style=\"text-decoration: underline\">H</span><span style=\"text-decoration: underline\">e</span><span style=\"text-decoration: underline\">l</span><span style=\"text-decoration: underline\">l</span><span style=\"text-decoration: underline\">o</span>, <span style=\"text-decoration: underline\">B</span><span style=\"text-decoration: underline\">a</span><span style=\"text-decoration: underline\">y</span><span style=\"text-decoration: underline\">e</span><span style=\"text-decoration: underline\">s</span>! <span style=\"text-decoration: underline\">T</span><span style=\"text-decoration: underline\">o</span><span style=\"text-decoration: underline\">d</span><span style=\"text-decoration: underline\">a</span><span style=\"text-decoration: underline\">y</span> <span style=\"text-decoration: underline\">i</span><span style=\"text-decoration: underline\">s</span> <span style=\"text-decoration: underline\">D</span><span style=\"text-decoration: underline\">e</span><span style=\"text-decoration: underline\">c</span> <span style=\"text-decoration: underline\">3</span> <span style=\"text-decoration: underline\">a</span><span style=\"text-decoration: underline\">n</span><span style=\"text-decoration: underline\">d</span> <span style=\"text-decoration: underline\">t</span><span style=\"text-decoration: underline\">h</span><span style=\"text-decoration: underline\">e</span> <span style=\"text-decoration: underline\">t</span><span style=\"text-decoration: underline\">e</span><span style=\"text-decoration: underline\">m</span><span style=\"text-decoration: underline\">p</span><span style=\"text-decoration: underline\">e</span><span style=\"text-decoration: underline\">r</span><span style=\"text-decoration: underline\">a</span><span style=\"text-decoration: underline\">t</span><span style=\"text-decoration: underline\">u</span><span style=\"text-decoration: underline\">r</span><span style=\"text-decoration: underline\">e</span> <span style=\"text-decoration: underline\">i</span><span style=\"text-decoration: underline\">s</span> <span style=\"text-decoration: underline\">7</span><span style=\"text-decoration: underline\">0</span> <span style=\"text-decoration: underline\">d</span><span style=\"text-decoration: underline\">e</span><span style=\"text-decoration: underline\">g</span><span style=\"text-decoration: underline\">r</span><span style=\"text-decoration: underline\">e</span><span style=\"text-decoration: underline\">e</span><span style=\"text-decoration: underline\">s</span>.</div>"
      ],
      "text/plain": [
       "<IPython.core.display.HTML object>"
      ]
     },
     "metadata": {},
     "output_type": "display_data"
    },
    {
     "data": {
      "text/html": [
       "<div style=\"font-family: monospace; letter-spacing: 3px; font-size: 24px; line-height: 36px;\">Hello<span style=\"text-decoration: underline\">,</span><span style=\"text-decoration: underline\"> </span>Bayes<span style=\"text-decoration: underline\">!</span><span style=\"text-decoration: underline\"> </span>Today<span style=\"text-decoration: underline\"> </span>is<span style=\"text-decoration: underline\"> </span>Dec<span style=\"text-decoration: underline\"> </span>3<span style=\"text-decoration: underline\"> </span>and<span style=\"text-decoration: underline\"> </span>the<span style=\"text-decoration: underline\"> </span>temperature<span style=\"text-decoration: underline\"> </span>is<span style=\"text-decoration: underline\"> </span>70<span style=\"text-decoration: underline\"> </span>degrees<span style=\"text-decoration: underline\">.</span></div>"
      ],
      "text/plain": [
       "<IPython.core.display.HTML object>"
      ]
     },
     "metadata": {},
     "output_type": "display_data"
    }
   ],
   "source": [
    "display(hl(r'\\w', subject))\n",
    "display(hl(r'\\W', subject))"
   ]
  },
  {
   "cell_type": "code",
   "execution_count": 14,
   "metadata": {},
   "outputs": [
    {
     "data": {
      "text/html": [
       "<div style=\"font-family: monospace; letter-spacing: 3px; font-size: 24px; line-height: 36px;\">Hello, Bayes! Today is Dec <span style=\"text-decoration: underline\">3</span> and the temperature is <span style=\"text-decoration: underline\">7</span><span style=\"text-decoration: underline\">0</span> degrees.</div>"
      ],
      "text/plain": [
       "<IPython.core.display.HTML object>"
      ]
     },
     "metadata": {},
     "output_type": "display_data"
    },
    {
     "data": {
      "text/html": [
       "<div style=\"font-family: monospace; letter-spacing: 3px; font-size: 24px; line-height: 36px;\"><span style=\"text-decoration: underline\">H</span><span style=\"text-decoration: underline\">e</span><span style=\"text-decoration: underline\">l</span><span style=\"text-decoration: underline\">l</span><span style=\"text-decoration: underline\">o</span><span style=\"text-decoration: underline\">,</span><span style=\"text-decoration: underline\"> </span><span style=\"text-decoration: underline\">B</span><span style=\"text-decoration: underline\">a</span><span style=\"text-decoration: underline\">y</span><span style=\"text-decoration: underline\">e</span><span style=\"text-decoration: underline\">s</span><span style=\"text-decoration: underline\">!</span><span style=\"text-decoration: underline\"> </span><span style=\"text-decoration: underline\">T</span><span style=\"text-decoration: underline\">o</span><span style=\"text-decoration: underline\">d</span><span style=\"text-decoration: underline\">a</span><span style=\"text-decoration: underline\">y</span><span style=\"text-decoration: underline\"> </span><span style=\"text-decoration: underline\">i</span><span style=\"text-decoration: underline\">s</span><span style=\"text-decoration: underline\"> </span><span style=\"text-decoration: underline\">D</span><span style=\"text-decoration: underline\">e</span><span style=\"text-decoration: underline\">c</span><span style=\"text-decoration: underline\"> </span>3<span style=\"text-decoration: underline\"> </span><span style=\"text-decoration: underline\">a</span><span style=\"text-decoration: underline\">n</span><span style=\"text-decoration: underline\">d</span><span style=\"text-decoration: underline\"> </span><span style=\"text-decoration: underline\">t</span><span style=\"text-decoration: underline\">h</span><span style=\"text-decoration: underline\">e</span><span style=\"text-decoration: underline\"> </span><span style=\"text-decoration: underline\">t</span><span style=\"text-decoration: underline\">e</span><span style=\"text-decoration: underline\">m</span><span style=\"text-decoration: underline\">p</span><span style=\"text-decoration: underline\">e</span><span style=\"text-decoration: underline\">r</span><span style=\"text-decoration: underline\">a</span><span style=\"text-decoration: underline\">t</span><span style=\"text-decoration: underline\">u</span><span style=\"text-decoration: underline\">r</span><span style=\"text-decoration: underline\">e</span><span style=\"text-decoration: underline\"> </span><span style=\"text-decoration: underline\">i</span><span style=\"text-decoration: underline\">s</span><span style=\"text-decoration: underline\"> </span>70<span style=\"text-decoration: underline\"> </span><span style=\"text-decoration: underline\">d</span><span style=\"text-decoration: underline\">e</span><span style=\"text-decoration: underline\">g</span><span style=\"text-decoration: underline\">r</span><span style=\"text-decoration: underline\">e</span><span style=\"text-decoration: underline\">e</span><span style=\"text-decoration: underline\">s</span><span style=\"text-decoration: underline\">.</span></div>"
      ],
      "text/plain": [
       "<IPython.core.display.HTML object>"
      ]
     },
     "metadata": {},
     "output_type": "display_data"
    }
   ],
   "source": [
    "display(hl(r'\\d', subject))\n",
    "display(hl(r'\\D', subject))"
   ]
  },
  {
   "cell_type": "code",
   "execution_count": 15,
   "metadata": {},
   "outputs": [
    {
     "data": {
      "text/html": [
       "<div style=\"font-family: monospace; letter-spacing: 3px; font-size: 24px; line-height: 36px;\">Hello,<span style=\"text-decoration: underline\"> </span>Bayes!<span style=\"text-decoration: underline\"> </span>Today<span style=\"text-decoration: underline\"> </span>is<span style=\"text-decoration: underline\"> </span>Dec<span style=\"text-decoration: underline\"> </span>3<span style=\"text-decoration: underline\"> </span>and<span style=\"text-decoration: underline\"> </span>the<span style=\"text-decoration: underline\"> </span>temperature<span style=\"text-decoration: underline\"> </span>is<span style=\"text-decoration: underline\"> </span>70<span style=\"text-decoration: underline\"> </span>degrees.</div>"
      ],
      "text/plain": [
       "<IPython.core.display.HTML object>"
      ]
     },
     "metadata": {},
     "output_type": "display_data"
    },
    {
     "data": {
      "text/html": [
       "<div style=\"font-family: monospace; letter-spacing: 3px; font-size: 24px; line-height: 36px;\"><span style=\"text-decoration: underline\">H</span><span style=\"text-decoration: underline\">e</span><span style=\"text-decoration: underline\">l</span><span style=\"text-decoration: underline\">l</span><span style=\"text-decoration: underline\">o</span><span style=\"text-decoration: underline\">,</span> <span style=\"text-decoration: underline\">B</span><span style=\"text-decoration: underline\">a</span><span style=\"text-decoration: underline\">y</span><span style=\"text-decoration: underline\">e</span><span style=\"text-decoration: underline\">s</span><span style=\"text-decoration: underline\">!</span> <span style=\"text-decoration: underline\">T</span><span style=\"text-decoration: underline\">o</span><span style=\"text-decoration: underline\">d</span><span style=\"text-decoration: underline\">a</span><span style=\"text-decoration: underline\">y</span> <span style=\"text-decoration: underline\">i</span><span style=\"text-decoration: underline\">s</span> <span style=\"text-decoration: underline\">D</span><span style=\"text-decoration: underline\">e</span><span style=\"text-decoration: underline\">c</span> <span style=\"text-decoration: underline\">3</span> <span style=\"text-decoration: underline\">a</span><span style=\"text-decoration: underline\">n</span><span style=\"text-decoration: underline\">d</span> <span style=\"text-decoration: underline\">t</span><span style=\"text-decoration: underline\">h</span><span style=\"text-decoration: underline\">e</span> <span style=\"text-decoration: underline\">t</span><span style=\"text-decoration: underline\">e</span><span style=\"text-decoration: underline\">m</span><span style=\"text-decoration: underline\">p</span><span style=\"text-decoration: underline\">e</span><span style=\"text-decoration: underline\">r</span><span style=\"text-decoration: underline\">a</span><span style=\"text-decoration: underline\">t</span><span style=\"text-decoration: underline\">u</span><span style=\"text-decoration: underline\">r</span><span style=\"text-decoration: underline\">e</span> <span style=\"text-decoration: underline\">i</span><span style=\"text-decoration: underline\">s</span> <span style=\"text-decoration: underline\">7</span><span style=\"text-decoration: underline\">0</span> <span style=\"text-decoration: underline\">d</span><span style=\"text-decoration: underline\">e</span><span style=\"text-decoration: underline\">g</span><span style=\"text-decoration: underline\">r</span><span style=\"text-decoration: underline\">e</span><span style=\"text-decoration: underline\">e</span><span style=\"text-decoration: underline\">s</span><span style=\"text-decoration: underline\">.</span></div>"
      ],
      "text/plain": [
       "<IPython.core.display.HTML object>"
      ]
     },
     "metadata": {},
     "output_type": "display_data"
    }
   ],
   "source": [
    "display(hl(r'\\s', subject))\n",
    "display(hl(r'\\S', subject))"
   ]
  },
  {
   "cell_type": "code",
   "execution_count": 16,
   "metadata": {},
   "outputs": [
    {
     "data": {
      "text/html": [
       "<div style=\"font-family: monospace; letter-spacing: 3px; font-size: 24px; line-height: 36px;\"><span style=\"text-decoration: underline\">H</span><span style=\"text-decoration: underline\">e</span><span style=\"text-decoration: underline\">l</span><span style=\"text-decoration: underline\">l</span><span style=\"text-decoration: underline\">o</span><span style=\"text-decoration: underline\">,</span><span style=\"text-decoration: underline\"> </span><span style=\"text-decoration: underline\">B</span><span style=\"text-decoration: underline\">a</span><span style=\"text-decoration: underline\">y</span><span style=\"text-decoration: underline\">e</span><span style=\"text-decoration: underline\">s</span><span style=\"text-decoration: underline\">!</span><span style=\"text-decoration: underline\"> </span><span style=\"text-decoration: underline\">T</span><span style=\"text-decoration: underline\">o</span><span style=\"text-decoration: underline\">d</span><span style=\"text-decoration: underline\">a</span><span style=\"text-decoration: underline\">y</span><span style=\"text-decoration: underline\"> </span><span style=\"text-decoration: underline\">i</span><span style=\"text-decoration: underline\">s</span><span style=\"text-decoration: underline\"> </span><span style=\"text-decoration: underline\">D</span><span style=\"text-decoration: underline\">e</span><span style=\"text-decoration: underline\">c</span><span style=\"text-decoration: underline\"> </span><span style=\"text-decoration: underline\">3</span><span style=\"text-decoration: underline\"> </span><span style=\"text-decoration: underline\">a</span><span style=\"text-decoration: underline\">n</span><span style=\"text-decoration: underline\">d</span><span style=\"text-decoration: underline\"> </span><span style=\"text-decoration: underline\">t</span><span style=\"text-decoration: underline\">h</span><span style=\"text-decoration: underline\">e</span><span style=\"text-decoration: underline\"> </span><span style=\"text-decoration: underline\">t</span><span style=\"text-decoration: underline\">e</span><span style=\"text-decoration: underline\">m</span><span style=\"text-decoration: underline\">p</span><span style=\"text-decoration: underline\">e</span><span style=\"text-decoration: underline\">r</span><span style=\"text-decoration: underline\">a</span><span style=\"text-decoration: underline\">t</span><span style=\"text-decoration: underline\">u</span><span style=\"text-decoration: underline\">r</span><span style=\"text-decoration: underline\">e</span><span style=\"text-decoration: underline\"> </span><span style=\"text-decoration: underline\">i</span><span style=\"text-decoration: underline\">s</span><span style=\"text-decoration: underline\"> </span><span style=\"text-decoration: underline\">7</span><span style=\"text-decoration: underline\">0</span><span style=\"text-decoration: underline\"> </span><span style=\"text-decoration: underline\">d</span><span style=\"text-decoration: underline\">e</span><span style=\"text-decoration: underline\">g</span><span style=\"text-decoration: underline\">r</span><span style=\"text-decoration: underline\">e</span><span style=\"text-decoration: underline\">e</span><span style=\"text-decoration: underline\">s</span><span style=\"text-decoration: underline\">.</span></div>"
      ],
      "text/plain": [
       "<IPython.core.display.HTML object>"
      ]
     },
     "metadata": {},
     "output_type": "display_data"
    }
   ],
   "source": [
    "display(hl(r'.', subject))"
   ]
  },
  {
   "cell_type": "markdown",
   "metadata": {},
   "source": [
    "### Repitition"
   ]
  },
  {
   "cell_type": "code",
   "execution_count": 17,
   "metadata": {},
   "outputs": [
    {
     "data": {
      "text/html": [
       "<div style=\"font-family: monospace; letter-spacing: 3px; font-size: 24px; line-height: 36px;\"><span style=\"text-decoration: underline\">Hello</span>, <span style=\"text-decoration: underline\">Bayes</span>! <span style=\"text-decoration: underline\">Today</span> <span style=\"text-decoration: underline\">is</span> <span style=\"text-decoration: underline\">Dec</span> <span style=\"text-decoration: underline\">3</span> <span style=\"text-decoration: underline\">and</span> <span style=\"text-decoration: underline\">the</span> <span style=\"text-decoration: underline\">temperature</span> <span style=\"text-decoration: underline\">is</span> <span style=\"text-decoration: underline\">70</span> <span style=\"text-decoration: underline\">degrees</span>.</div>"
      ],
      "text/plain": [
       "<IPython.core.display.HTML object>"
      ]
     },
     "execution_count": 17,
     "metadata": {},
     "output_type": "execute_result"
    }
   ],
   "source": [
    "hl(r'\\w+', subject)"
   ]
  },
  {
   "cell_type": "markdown",
   "metadata": {},
   "source": [
    "### Any of / None of"
   ]
  },
  {
   "cell_type": "code",
   "execution_count": 18,
   "metadata": {},
   "outputs": [
    {
     "data": {
      "text/html": [
       "<div style=\"font-family: monospace; letter-spacing: 3px; font-size: 24px; line-height: 36px;\">H<span style=\"text-decoration: underline\">e</span>ll<span style=\"text-decoration: underline\">o</span>, B<span style=\"text-decoration: underline\">a</span>y<span style=\"text-decoration: underline\">e</span>s! T<span style=\"text-decoration: underline\">o</span>d<span style=\"text-decoration: underline\">a</span>y <span style=\"text-decoration: underline\">i</span>s D<span style=\"text-decoration: underline\">e</span>c 3 <span style=\"text-decoration: underline\">a</span>nd th<span style=\"text-decoration: underline\">e</span> t<span style=\"text-decoration: underline\">e</span>mp<span style=\"text-decoration: underline\">e</span>r<span style=\"text-decoration: underline\">a</span>t<span style=\"text-decoration: underline\">u</span>r<span style=\"text-decoration: underline\">e</span> <span style=\"text-decoration: underline\">i</span>s 70 d<span style=\"text-decoration: underline\">e</span>gr<span style=\"text-decoration: underline\">e</span><span style=\"text-decoration: underline\">e</span>s.</div>"
      ],
      "text/plain": [
       "<IPython.core.display.HTML object>"
      ]
     },
     "metadata": {},
     "output_type": "display_data"
    },
    {
     "data": {
      "text/html": [
       "<div style=\"font-family: monospace; letter-spacing: 3px; font-size: 24px; line-height: 36px;\"><span style=\"text-decoration: underline\">H</span>e<span style=\"text-decoration: underline\">l</span><span style=\"text-decoration: underline\">l</span>o<span style=\"text-decoration: underline\">,</span><span style=\"text-decoration: underline\"> </span><span style=\"text-decoration: underline\">B</span>a<span style=\"text-decoration: underline\">y</span>e<span style=\"text-decoration: underline\">s</span><span style=\"text-decoration: underline\">!</span><span style=\"text-decoration: underline\"> </span><span style=\"text-decoration: underline\">T</span>o<span style=\"text-decoration: underline\">d</span>a<span style=\"text-decoration: underline\">y</span><span style=\"text-decoration: underline\"> </span>i<span style=\"text-decoration: underline\">s</span><span style=\"text-decoration: underline\"> </span><span style=\"text-decoration: underline\">D</span>e<span style=\"text-decoration: underline\">c</span><span style=\"text-decoration: underline\"> </span><span style=\"text-decoration: underline\">3</span><span style=\"text-decoration: underline\"> </span>a<span style=\"text-decoration: underline\">n</span><span style=\"text-decoration: underline\">d</span><span style=\"text-decoration: underline\"> </span><span style=\"text-decoration: underline\">t</span><span style=\"text-decoration: underline\">h</span>e<span style=\"text-decoration: underline\"> </span><span style=\"text-decoration: underline\">t</span>e<span style=\"text-decoration: underline\">m</span><span style=\"text-decoration: underline\">p</span>e<span style=\"text-decoration: underline\">r</span>a<span style=\"text-decoration: underline\">t</span>u<span style=\"text-decoration: underline\">r</span>e<span style=\"text-decoration: underline\"> </span>i<span style=\"text-decoration: underline\">s</span><span style=\"text-decoration: underline\"> </span><span style=\"text-decoration: underline\">7</span><span style=\"text-decoration: underline\">0</span><span style=\"text-decoration: underline\"> </span><span style=\"text-decoration: underline\">d</span>e<span style=\"text-decoration: underline\">g</span><span style=\"text-decoration: underline\">r</span>ee<span style=\"text-decoration: underline\">s</span><span style=\"text-decoration: underline\">.</span></div>"
      ],
      "text/plain": [
       "<IPython.core.display.HTML object>"
      ]
     },
     "metadata": {},
     "output_type": "display_data"
    }
   ],
   "source": [
    "display(hl(r'[aeiou]', subject))\n",
    "display(hl(r'[^aeiou]', subject))"
   ]
  },
  {
   "cell_type": "code",
   "execution_count": 19,
   "metadata": {},
   "outputs": [
    {
     "data": {
      "text/html": [
       "<div style=\"font-family: monospace; letter-spacing: 3px; font-size: 24px; line-height: 36px;\"><span style=\"text-decoration: underline\">Hello</span>, <span style=\"text-decoration: underline\">Bayes</span>! <span style=\"text-decoration: underline\">Today</span> is <span style=\"text-decoration: underline\">Dec</span> 3 and the temperature is 70 degrees. FU</div>"
      ],
      "text/plain": [
       "<IPython.core.display.HTML object>"
      ]
     },
     "execution_count": 19,
     "metadata": {},
     "output_type": "execute_result"
    }
   ],
   "source": [
    "hl(r'[A-Z][a-z]+', subject+' FU')"
   ]
  },
  {
   "cell_type": "code",
   "execution_count": 20,
   "metadata": {},
   "outputs": [
    {
     "data": {
      "text/html": [
       "<div style=\"font-family: monospace; letter-spacing: 3px; font-size: 24px; line-height: 36px;\">HELLO, BAYES! TODAY <span style=\"text-decoration: underline\">IS</span> DEC 3 AND THE TEMPERATURE <span style=\"text-decoration: underline\">IS</span> 70 DEGREES.</div>"
      ],
      "text/plain": [
       "<IPython.core.display.HTML object>"
      ]
     },
     "execution_count": 20,
     "metadata": {},
     "output_type": "execute_result"
    }
   ],
   "source": [
    "hl(r'\\b[A-Z]{2}\\b', subject.upper())"
   ]
  },
  {
   "cell_type": "markdown",
   "metadata": {},
   "source": [
    "### Anchors"
   ]
  },
  {
   "cell_type": "code",
   "execution_count": 21,
   "metadata": {},
   "outputs": [
    {
     "data": {
      "text/plain": [
       "['H']"
      ]
     },
     "execution_count": 21,
     "metadata": {},
     "output_type": "execute_result"
    }
   ],
   "source": [
    "re.findall(r'^.', subject)"
   ]
  },
  {
   "cell_type": "code",
   "execution_count": 22,
   "metadata": {},
   "outputs": [
    {
     "data": {
      "text/html": [
       "<div style=\"font-family: monospace; letter-spacing: 3px; font-size: 24px; line-height: 36px;\"><span style=\"text-decoration: underline\">H</span><span style=\"text-decoration: underline\">e</span><span style=\"text-decoration: underline\">l</span><span style=\"text-decoration: underline\">l</span><span style=\"text-decoration: underline\">o</span><span style=\"text-decoration: underline\">,</span><span style=\"text-decoration: underline\"> </span><span style=\"text-decoration: underline\">B</span><span style=\"text-decoration: underline\">a</span><span style=\"text-decoration: underline\">y</span><span style=\"text-decoration: underline\">e</span><span style=\"text-decoration: underline\">s</span><span style=\"text-decoration: underline\">!</span><span style=\"text-decoration: underline\"> </span><span style=\"text-decoration: underline\">T</span><span style=\"text-decoration: underline\">o</span><span style=\"text-decoration: underline\">d</span><span style=\"text-decoration: underline\">a</span><span style=\"text-decoration: underline\">y</span><span style=\"text-decoration: underline\"> </span><span style=\"text-decoration: underline\">i</span><span style=\"text-decoration: underline\">s</span><span style=\"text-decoration: underline\"> </span><span style=\"text-decoration: underline\">D</span><span style=\"text-decoration: underline\">e</span><span style=\"text-decoration: underline\">c</span><span style=\"text-decoration: underline\"> </span><span style=\"text-decoration: underline\">3</span><span style=\"text-decoration: underline\"> </span><span style=\"text-decoration: underline\">a</span><span style=\"text-decoration: underline\">n</span><span style=\"text-decoration: underline\">d</span><span style=\"text-decoration: underline\"> </span><span style=\"text-decoration: underline\">t</span><span style=\"text-decoration: underline\">h</span><span style=\"text-decoration: underline\">e</span><span style=\"text-decoration: underline\"> </span><span style=\"text-decoration: underline\">t</span><span style=\"text-decoration: underline\">e</span><span style=\"text-decoration: underline\">m</span><span style=\"text-decoration: underline\">p</span><span style=\"text-decoration: underline\">e</span><span style=\"text-decoration: underline\">r</span><span style=\"text-decoration: underline\">a</span><span style=\"text-decoration: underline\">t</span><span style=\"text-decoration: underline\">u</span><span style=\"text-decoration: underline\">r</span><span style=\"text-decoration: underline\">e</span><span style=\"text-decoration: underline\"> </span><span style=\"text-decoration: underline\">i</span><span style=\"text-decoration: underline\">s</span><span style=\"text-decoration: underline\"> </span><span style=\"text-decoration: underline\">7</span><span style=\"text-decoration: underline\">0</span><span style=\"text-decoration: underline\"> </span><span style=\"text-decoration: underline\">d</span><span style=\"text-decoration: underline\">e</span><span style=\"text-decoration: underline\">g</span><span style=\"text-decoration: underline\">r</span><span style=\"text-decoration: underline\">e</span><span style=\"text-decoration: underline\">e</span><span style=\"text-decoration: underline\">s</span><span style=\"text-decoration: underline\">.</span></div>"
      ],
      "text/plain": [
       "<IPython.core.display.HTML object>"
      ]
     },
     "execution_count": 22,
     "metadata": {},
     "output_type": "execute_result"
    }
   ],
   "source": [
    "hl(r'^.', subject)"
   ]
  },
  {
   "cell_type": "code",
   "execution_count": 23,
   "metadata": {},
   "outputs": [
    {
     "data": {
      "text/html": [
       "<div style=\"font-family: monospace; letter-spacing: 3px; font-size: 24px; line-height: 36px;\">Hello, Bayes! Today is Dec 3 and the temperature is 70 degre<span style=\"text-decoration: underline\">es.</span></div>"
      ],
      "text/plain": [
       "<IPython.core.display.HTML object>"
      ]
     },
     "execution_count": 23,
     "metadata": {},
     "output_type": "execute_result"
    }
   ],
   "source": [
    "hl(r'.{3}$', subject)"
   ]
  },
  {
   "cell_type": "code",
   "execution_count": 24,
   "metadata": {},
   "outputs": [
    {
     "name": "stdout",
     "output_type": "stream",
     "text": [
      "No matches!\n",
      "No matches!\n",
      "No matches!\n",
      "No matches!\n",
      "No matches!\n",
      "No matches!\n",
      "No matches!\n",
      "No matches!\n"
     ]
    },
    {
     "data": {
      "text/html": [
       "<div style=\"font-family: monospace; letter-spacing: 3px; font-size: 24px; line-height: 36px;\">Hello, Bayes! Today is Dec <span style=\"text-decoration: underline\">3</span> and the temperature is 70 degrees.</div>"
      ],
      "text/plain": [
       "<IPython.core.display.HTML object>"
      ]
     },
     "execution_count": 24,
     "metadata": {},
     "output_type": "execute_result"
    }
   ],
   "source": [
    "hl(r'\\b.\\b', subject)"
   ]
  },
  {
   "cell_type": "markdown",
   "metadata": {},
   "source": [
    "### Other Functions\n",
    "\n",
    "- `re.search`\n",
    "- `re.sub`\n",
    "- `re.compile` + flags"
   ]
  },
  {
   "cell_type": "markdown",
   "metadata": {},
   "source": [
    "### Capture Groups"
   ]
  },
  {
   "cell_type": "code",
   "execution_count": 25,
   "metadata": {},
   "outputs": [
    {
     "data": {
      "text/html": [
       "<div style=\"font-family: monospace; letter-spacing: 3px; font-size: 24px; line-height: 36px;\"><span style=\"text-decoration: underline\">Hell<span style=\"color: firebrick\">o</span></span>, <span style=\"text-decoration: underline\">Baye<span style=\"color: firebrick\">s</span></span>! <span style=\"text-decoration: underline\">Toda<span style=\"color: firebrick\">y</span></span> <span style=\"text-decoration: underline\">i<span style=\"color: firebrick\">s</span></span> <span style=\"text-decoration: underline\">De<span style=\"color: firebrick\">c</span></span> 3 <span style=\"text-decoration: underline\">an<span style=\"color: firebrick\">d</span></span> <span style=\"text-decoration: underline\">th<span style=\"color: firebrick\">e</span></span> <span style=\"text-decoration: underline\">temperatur<span style=\"color: firebrick\">e</span></span> <span style=\"text-decoration: underline\">i<span style=\"color: firebrick\">s</span></span> <span style=\"text-decoration: underline\">7<span style=\"color: firebrick\">0</span></span> <span style=\"text-decoration: underline\">degree<span style=\"color: firebrick\">s</span></span>.</div>"
      ],
      "text/plain": [
       "<IPython.core.display.HTML object>"
      ]
     },
     "execution_count": 25,
     "metadata": {},
     "output_type": "execute_result"
    }
   ],
   "source": [
    "hl(r'\\w+(\\w)', subject)"
   ]
  },
  {
   "cell_type": "code",
   "execution_count": 26,
   "metadata": {},
   "outputs": [
    {
     "data": {
      "text/html": [
       "<div style=\"font-family: monospace; letter-spacing: 3px; font-size: 24px; line-height: 36px;\">He<span style=\"text-decoration: underline\"><span style=\"color: firebrick\">l</span>l</span>o, Bayes! Today is Dec 3 and the temperature is 70 degr<span style=\"text-decoration: underline\"><span style=\"color: firebrick\">e</span>e</span>s.</div>"
      ],
      "text/plain": [
       "<IPython.core.display.HTML object>"
      ]
     },
     "execution_count": 26,
     "metadata": {},
     "output_type": "execute_result"
    }
   ],
   "source": [
    "hl(r'(\\w)\\1', subject)"
   ]
  },
  {
   "cell_type": "code",
   "execution_count": 27,
   "metadata": {},
   "outputs": [
    {
     "data": {
      "text/html": [
       "<div style=\"font-family: monospace; letter-spacing: 3px; font-size: 24px; line-height: 36px;\">Hello, Bayes! Today is Dec 3 and the t<span style=\"text-decoration: underline\"><span style=\"color: firebrick\">e</span>mperature</span> is 70 d<span style=\"text-decoration: underline\"><span style=\"color: firebrick\">e</span>gree</span>s.</div>"
      ],
      "text/plain": [
       "<IPython.core.display.HTML object>"
      ]
     },
     "execution_count": 27,
     "metadata": {},
     "output_type": "execute_result"
    }
   ],
   "source": [
    "hl(r'([aeiou])\\w+\\1', subject)"
   ]
  },
  {
   "cell_type": "code",
   "execution_count": 28,
   "metadata": {},
   "outputs": [],
   "source": [
    "## double letter"
   ]
  },
  {
   "cell_type": "code",
   "execution_count": 29,
   "metadata": {},
   "outputs": [],
   "source": [
    "date = '03 12 2019'"
   ]
  },
  {
   "cell_type": "code",
   "execution_count": 30,
   "metadata": {},
   "outputs": [
    {
     "data": {
      "text/plain": [
       "'2019-12-03'"
      ]
     },
     "execution_count": 30,
     "metadata": {},
     "output_type": "execute_result"
    }
   ],
   "source": [
    "# re.sub(needle, replacement, haystack)\n",
    "re.sub(r'(\\d+)\\s(\\d+)\\s(\\d+)', r'\\3-\\2-\\1', date)"
   ]
  },
  {
   "cell_type": "markdown",
   "metadata": {},
   "source": [
    "### Flags"
   ]
  },
  {
   "cell_type": "code",
   "execution_count": 31,
   "metadata": {},
   "outputs": [
    {
     "data": {
      "text/plain": [
       "re.compile(r'', re.IGNORECASE|re.MULTILINE|re.UNICODE|re.VERBOSE)"
      ]
     },
     "execution_count": 31,
     "metadata": {},
     "output_type": "execute_result"
    }
   ],
   "source": [
    "re.compile(r'', re.IGNORECASE | re.MULTILINE | re.VERBOSE)"
   ]
  },
  {
   "cell_type": "markdown",
   "metadata": {},
   "source": [
    "### Usage with Pandas"
   ]
  },
  {
   "cell_type": "code",
   "execution_count": 32,
   "metadata": {},
   "outputs": [
    {
     "data": {
      "text/plain": [
       "<function pandas.core.strings.StringMethods.extract(self, pat, flags=0, expand=True)>"
      ]
     },
     "execution_count": 32,
     "metadata": {},
     "output_type": "execute_result"
    }
   ],
   "source": [
    "pd.Series.str.extract"
   ]
  }
 ],
 "metadata": {
  "kernelspec": {
   "display_name": "Python 3",
   "language": "python",
   "name": "python3"
  },
  "language_info": {
   "codemirror_mode": {
    "name": "ipython",
    "version": 3
   },
   "file_extension": ".py",
   "mimetype": "text/x-python",
   "name": "python",
   "nbconvert_exporter": "python",
   "pygments_lexer": "ipython3",
   "version": "3.7.3"
  }
 },
 "nbformat": 4,
 "nbformat_minor": 2
}
