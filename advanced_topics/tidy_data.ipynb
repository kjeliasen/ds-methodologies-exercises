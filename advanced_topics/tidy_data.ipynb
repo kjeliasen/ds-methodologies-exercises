{
 "cells": [
  {
   "cell_type": "markdown",
   "metadata": {},
   "source": [
    "# Exercises - Tidy Data"
   ]
  },
  {
   "cell_type": "markdown",
   "metadata": {},
   "source": [
    "<h2 id=\"exercises\">Exercises</h2>\n",
    "<p>Create a directory named <code>advanced_topics</code> and within that directory, do your work for this exercise in a jupyter notebook or python script named <code>tidy_data</code>.</p>"
   ]
  },
  {
   "cell_type": "code",
   "execution_count": null,
   "metadata": {},
   "outputs": [],
   "source": []
  },
  {
   "cell_type": "code",
   "execution_count": null,
   "metadata": {},
   "outputs": [],
   "source": []
  },
  {
   "cell_type": "markdown",
   "metadata": {},
   "source": [
    "<h3>1. Attendance Data</h3>\n",
    "<p>Load the <code>attendance.csv</code> file and calculate an attendnace percentage for each student. One half day is worth 50% of a full day, and 10 tardies is equal to one absence.</p>\n",
    "<p>You should end up with this:</p>\n",
    "<pre><code>| student | score  |\n",
    "| ------- | -----  |\n",
    "| Billy   | 0.2250 |\n",
    "| Jane    | 0.1875 |\n",
    "| John    | 0.7125 |\n",
    "| Sally   | 0.3625 |\n",
    "</code></pre>"
   ]
  },
  {
   "cell_type": "code",
   "execution_count": null,
   "metadata": {},
   "outputs": [],
   "source": []
  },
  {
   "cell_type": "code",
   "execution_count": null,
   "metadata": {},
   "outputs": [],
   "source": []
  },
  {
   "cell_type": "markdown",
   "metadata": {},
   "source": [
    "<h3>2. Coffee Levels</h3>\n",
    "<ol>\n",
    "<li>Read the <code>coffee_levels.csv</code> file.</li>\n",
    "<li>Transform the data so that each carafe is in it's own column.</li>\n",
    "<li>Is this the best shape for the data?</li>\n",
    "</ol>"
   ]
  },
  {
   "cell_type": "code",
   "execution_count": null,
   "metadata": {},
   "outputs": [],
   "source": []
  },
  {
   "cell_type": "code",
   "execution_count": null,
   "metadata": {},
   "outputs": [],
   "source": []
  },
  {
   "cell_type": "markdown",
   "metadata": {},
   "source": [
    "<h3>3. Cake Recipes</h3>\n",
    "<ol>\n",
    "<li>Read the <code>cake_recipes.csv</code> data. This data set contains cake tastiness scores for combinations of different recipes, oven rack positions, and oven temperatures.</li>\n",
    "<li>Tidy the data as necessary.</li>\n",
    "<li>Which recipe, on average, is the best? recipe b</li>\n",
    "<li>Which oven temperature, on average, produces the best results? 275</li>\n",
    "<li>Which combination of recipe, rack position, and temperature gives the best result? recipe b, bottom rack, 300 degrees</li>\n",
    "</ol>"
   ]
  },
  {
   "cell_type": "code",
   "execution_count": null,
   "metadata": {},
   "outputs": [],
   "source": []
  }
 ],
 "metadata": {
  "kernelspec": {
   "display_name": "Python 3",
   "language": "python",
   "name": "python3"
  },
  "language_info": {
   "codemirror_mode": {
    "name": "ipython",
    "version": 3
   },
   "file_extension": ".py",
   "mimetype": "text/x-python",
   "name": "python",
   "nbconvert_exporter": "python",
   "pygments_lexer": "ipython3",
   "version": "3.7.3"
  }
 },
 "nbformat": 4,
 "nbformat_minor": 2
}
