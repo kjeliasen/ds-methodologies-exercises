{
 "cells": [
  {
   "cell_type": "markdown",
   "metadata": {},
   "source": [
    "# Exercises"
   ]
  },
  {
   "cell_type": "markdown",
   "metadata": {},
   "source": [
    "### Our scenario continues:\n",
    "*As a customer analyst, I want to know who has spent the most money with us over their lifetime. I have monthly charges and tenure, so I think I will be able to use those two attributes as features to estimate total_charges. I need to do this within an average of $5.00 per customer.*"
   ]
  },
  {
   "cell_type": "code",
   "execution_count": 1,
   "metadata": {},
   "outputs": [],
   "source": [
    "# prepare enviornment\n",
    "\n",
    "import pandas as pd\n",
    "import numpy as np\n",
    "import matplotlib.pyplot as plt\n",
    "import seaborn as sns\n",
    "from sklearn.model_selection import train_test_split\n",
    "from sklearn.preprocessing import StandardScaler, MinMaxScaler\n",
    "import warnings\n",
    "warnings.filterwarnings(\"ignore\")\n",
    "\n",
    "import env\n",
    "import wrangle\n",
    "import split_scale\n",
    "\n",
    "import features"
   ]
  },
  {
   "cell_type": "code",
   "execution_count": 2,
   "metadata": {},
   "outputs": [],
   "source": [
    "#df = wrangle.wrangle_telco()"
   ]
  },
  {
   "cell_type": "code",
   "execution_count": 3,
   "metadata": {},
   "outputs": [],
   "source": [
    "csv = pd.read_csv('~/GoogleDrive/Codeup/bayes-methodologies-exercises/cars.csv')"
   ]
  },
  {
   "cell_type": "code",
   "execution_count": 4,
   "metadata": {},
   "outputs": [
    {
     "name": "stdout",
     "output_type": "stream",
     "text": [
      "<class 'pandas.core.frame.DataFrame'>\n",
      "RangeIndex: 406 entries, 0 to 405\n",
      "Data columns (total 9 columns):\n",
      "Name                406 non-null object\n",
      "Miles_per_Gallon    398 non-null float64\n",
      "Cylinders           406 non-null int64\n",
      "Displacement        406 non-null float64\n",
      "Horsepower          400 non-null float64\n",
      "Weight_in_lbs       406 non-null int64\n",
      "Acceleration        406 non-null float64\n",
      "Year                406 non-null object\n",
      "Origin              406 non-null object\n",
      "dtypes: float64(4), int64(2), object(3)\n",
      "memory usage: 28.6+ KB\n",
      "None\n"
     ]
    },
    {
     "data": {
      "text/html": [
       "<div>\n",
       "<style scoped>\n",
       "    .dataframe tbody tr th:only-of-type {\n",
       "        vertical-align: middle;\n",
       "    }\n",
       "\n",
       "    .dataframe tbody tr th {\n",
       "        vertical-align: top;\n",
       "    }\n",
       "\n",
       "    .dataframe thead th {\n",
       "        text-align: right;\n",
       "    }\n",
       "</style>\n",
       "<table border=\"1\" class=\"dataframe\">\n",
       "  <thead>\n",
       "    <tr style=\"text-align: right;\">\n",
       "      <th></th>\n",
       "      <th>Name</th>\n",
       "      <th>Miles_per_Gallon</th>\n",
       "      <th>Cylinders</th>\n",
       "      <th>Displacement</th>\n",
       "      <th>Horsepower</th>\n",
       "      <th>Weight_in_lbs</th>\n",
       "      <th>Acceleration</th>\n",
       "      <th>Year</th>\n",
       "      <th>Origin</th>\n",
       "    </tr>\n",
       "  </thead>\n",
       "  <tbody>\n",
       "    <tr>\n",
       "      <th>0</th>\n",
       "      <td>chevrolet chevelle malibu</td>\n",
       "      <td>18.0</td>\n",
       "      <td>8</td>\n",
       "      <td>307.0</td>\n",
       "      <td>130.0</td>\n",
       "      <td>3504</td>\n",
       "      <td>12.0</td>\n",
       "      <td>1970-01-01</td>\n",
       "      <td>USA</td>\n",
       "    </tr>\n",
       "    <tr>\n",
       "      <th>1</th>\n",
       "      <td>buick skylark 320</td>\n",
       "      <td>15.0</td>\n",
       "      <td>8</td>\n",
       "      <td>350.0</td>\n",
       "      <td>165.0</td>\n",
       "      <td>3693</td>\n",
       "      <td>11.5</td>\n",
       "      <td>1970-01-01</td>\n",
       "      <td>USA</td>\n",
       "    </tr>\n",
       "    <tr>\n",
       "      <th>2</th>\n",
       "      <td>plymouth satellite</td>\n",
       "      <td>18.0</td>\n",
       "      <td>8</td>\n",
       "      <td>318.0</td>\n",
       "      <td>150.0</td>\n",
       "      <td>3436</td>\n",
       "      <td>11.0</td>\n",
       "      <td>1970-01-01</td>\n",
       "      <td>USA</td>\n",
       "    </tr>\n",
       "    <tr>\n",
       "      <th>3</th>\n",
       "      <td>amc rebel sst</td>\n",
       "      <td>16.0</td>\n",
       "      <td>8</td>\n",
       "      <td>304.0</td>\n",
       "      <td>150.0</td>\n",
       "      <td>3433</td>\n",
       "      <td>12.0</td>\n",
       "      <td>1970-01-01</td>\n",
       "      <td>USA</td>\n",
       "    </tr>\n",
       "    <tr>\n",
       "      <th>4</th>\n",
       "      <td>ford torino</td>\n",
       "      <td>17.0</td>\n",
       "      <td>8</td>\n",
       "      <td>302.0</td>\n",
       "      <td>140.0</td>\n",
       "      <td>3449</td>\n",
       "      <td>10.5</td>\n",
       "      <td>1970-01-01</td>\n",
       "      <td>USA</td>\n",
       "    </tr>\n",
       "    <tr>\n",
       "      <th>5</th>\n",
       "      <td>ford galaxie 500</td>\n",
       "      <td>15.0</td>\n",
       "      <td>8</td>\n",
       "      <td>429.0</td>\n",
       "      <td>198.0</td>\n",
       "      <td>4341</td>\n",
       "      <td>10.0</td>\n",
       "      <td>1970-01-01</td>\n",
       "      <td>USA</td>\n",
       "    </tr>\n",
       "    <tr>\n",
       "      <th>6</th>\n",
       "      <td>chevrolet impala</td>\n",
       "      <td>14.0</td>\n",
       "      <td>8</td>\n",
       "      <td>454.0</td>\n",
       "      <td>220.0</td>\n",
       "      <td>4354</td>\n",
       "      <td>9.0</td>\n",
       "      <td>1970-01-01</td>\n",
       "      <td>USA</td>\n",
       "    </tr>\n",
       "    <tr>\n",
       "      <th>7</th>\n",
       "      <td>plymouth fury iii</td>\n",
       "      <td>14.0</td>\n",
       "      <td>8</td>\n",
       "      <td>440.0</td>\n",
       "      <td>215.0</td>\n",
       "      <td>4312</td>\n",
       "      <td>8.5</td>\n",
       "      <td>1970-01-01</td>\n",
       "      <td>USA</td>\n",
       "    </tr>\n",
       "    <tr>\n",
       "      <th>8</th>\n",
       "      <td>pontiac catalina</td>\n",
       "      <td>14.0</td>\n",
       "      <td>8</td>\n",
       "      <td>455.0</td>\n",
       "      <td>225.0</td>\n",
       "      <td>4425</td>\n",
       "      <td>10.0</td>\n",
       "      <td>1970-01-01</td>\n",
       "      <td>USA</td>\n",
       "    </tr>\n",
       "    <tr>\n",
       "      <th>9</th>\n",
       "      <td>amc ambassador dpl</td>\n",
       "      <td>15.0</td>\n",
       "      <td>8</td>\n",
       "      <td>390.0</td>\n",
       "      <td>190.0</td>\n",
       "      <td>3850</td>\n",
       "      <td>8.5</td>\n",
       "      <td>1970-01-01</td>\n",
       "      <td>USA</td>\n",
       "    </tr>\n",
       "  </tbody>\n",
       "</table>\n",
       "</div>"
      ],
      "text/plain": [
       "                        Name  Miles_per_Gallon  Cylinders  Displacement  \\\n",
       "0  chevrolet chevelle malibu              18.0          8         307.0   \n",
       "1          buick skylark 320              15.0          8         350.0   \n",
       "2         plymouth satellite              18.0          8         318.0   \n",
       "3              amc rebel sst              16.0          8         304.0   \n",
       "4                ford torino              17.0          8         302.0   \n",
       "5           ford galaxie 500              15.0          8         429.0   \n",
       "6           chevrolet impala              14.0          8         454.0   \n",
       "7          plymouth fury iii              14.0          8         440.0   \n",
       "8           pontiac catalina              14.0          8         455.0   \n",
       "9         amc ambassador dpl              15.0          8         390.0   \n",
       "\n",
       "   Horsepower  Weight_in_lbs  Acceleration        Year Origin  \n",
       "0       130.0           3504          12.0  1970-01-01    USA  \n",
       "1       165.0           3693          11.5  1970-01-01    USA  \n",
       "2       150.0           3436          11.0  1970-01-01    USA  \n",
       "3       150.0           3433          12.0  1970-01-01    USA  \n",
       "4       140.0           3449          10.5  1970-01-01    USA  \n",
       "5       198.0           4341          10.0  1970-01-01    USA  \n",
       "6       220.0           4354           9.0  1970-01-01    USA  \n",
       "7       215.0           4312           8.5  1970-01-01    USA  \n",
       "8       225.0           4425          10.0  1970-01-01    USA  \n",
       "9       190.0           3850           8.5  1970-01-01    USA  "
      ]
     },
     "execution_count": 4,
     "metadata": {},
     "output_type": "execute_result"
    }
   ],
   "source": [
    "print(csv.info())\n",
    "csv.head(10)"
   ]
  },
  {
   "cell_type": "code",
   "execution_count": 5,
   "metadata": {},
   "outputs": [],
   "source": [
    "df = (csv[['Miles_per_Gallon','Cylinders','Displacement','Horsepower','Weight_in_lbs','Acceleration']]\n",
    "      .dropna()\n",
    "      .rename(columns={'Miles_per_Gallon': 'mpg','Cylinders': 'cyl','Displacement': 'displ','Horsepower': 'hp','Weight_in_lbs': 'lbs','Acceleration':'accltn'})\n",
    "     )\n",
    "#df['dpc'] = df.displ / df.cyl\n",
    "#df['hppc'] = df.hp / df.cyl\n",
    "#df['dplb'] = df.displ / df.lbs\n",
    "#df['hpplb'] = df.hp / df.lbs\n",
    "#df['dphp'] = df.displ / df.hp\n",
    "df = df.drop(columns={'cyl'})"
   ]
  },
  {
   "cell_type": "code",
   "execution_count": 6,
   "metadata": {},
   "outputs": [
    {
     "name": "stdout",
     "output_type": "stream",
     "text": [
      "<class 'pandas.core.frame.DataFrame'>\n",
      "Int64Index: 392 entries, 0 to 405\n",
      "Data columns (total 5 columns):\n",
      "mpg       392 non-null float64\n",
      "displ     392 non-null float64\n",
      "hp        392 non-null float64\n",
      "lbs       392 non-null int64\n",
      "accltn    392 non-null float64\n",
      "dtypes: float64(4), int64(1)\n",
      "memory usage: 18.4 KB\n",
      "None\n"
     ]
    },
    {
     "data": {
      "text/html": [
       "<div>\n",
       "<style scoped>\n",
       "    .dataframe tbody tr th:only-of-type {\n",
       "        vertical-align: middle;\n",
       "    }\n",
       "\n",
       "    .dataframe tbody tr th {\n",
       "        vertical-align: top;\n",
       "    }\n",
       "\n",
       "    .dataframe thead th {\n",
       "        text-align: right;\n",
       "    }\n",
       "</style>\n",
       "<table border=\"1\" class=\"dataframe\">\n",
       "  <thead>\n",
       "    <tr style=\"text-align: right;\">\n",
       "      <th></th>\n",
       "      <th>mpg</th>\n",
       "      <th>displ</th>\n",
       "      <th>hp</th>\n",
       "      <th>lbs</th>\n",
       "      <th>accltn</th>\n",
       "    </tr>\n",
       "  </thead>\n",
       "  <tbody>\n",
       "    <tr>\n",
       "      <th>0</th>\n",
       "      <td>18.0</td>\n",
       "      <td>307.0</td>\n",
       "      <td>130.0</td>\n",
       "      <td>3504</td>\n",
       "      <td>12.0</td>\n",
       "    </tr>\n",
       "    <tr>\n",
       "      <th>1</th>\n",
       "      <td>15.0</td>\n",
       "      <td>350.0</td>\n",
       "      <td>165.0</td>\n",
       "      <td>3693</td>\n",
       "      <td>11.5</td>\n",
       "    </tr>\n",
       "    <tr>\n",
       "      <th>2</th>\n",
       "      <td>18.0</td>\n",
       "      <td>318.0</td>\n",
       "      <td>150.0</td>\n",
       "      <td>3436</td>\n",
       "      <td>11.0</td>\n",
       "    </tr>\n",
       "    <tr>\n",
       "      <th>3</th>\n",
       "      <td>16.0</td>\n",
       "      <td>304.0</td>\n",
       "      <td>150.0</td>\n",
       "      <td>3433</td>\n",
       "      <td>12.0</td>\n",
       "    </tr>\n",
       "    <tr>\n",
       "      <th>4</th>\n",
       "      <td>17.0</td>\n",
       "      <td>302.0</td>\n",
       "      <td>140.0</td>\n",
       "      <td>3449</td>\n",
       "      <td>10.5</td>\n",
       "    </tr>\n",
       "    <tr>\n",
       "      <th>5</th>\n",
       "      <td>15.0</td>\n",
       "      <td>429.0</td>\n",
       "      <td>198.0</td>\n",
       "      <td>4341</td>\n",
       "      <td>10.0</td>\n",
       "    </tr>\n",
       "    <tr>\n",
       "      <th>6</th>\n",
       "      <td>14.0</td>\n",
       "      <td>454.0</td>\n",
       "      <td>220.0</td>\n",
       "      <td>4354</td>\n",
       "      <td>9.0</td>\n",
       "    </tr>\n",
       "    <tr>\n",
       "      <th>7</th>\n",
       "      <td>14.0</td>\n",
       "      <td>440.0</td>\n",
       "      <td>215.0</td>\n",
       "      <td>4312</td>\n",
       "      <td>8.5</td>\n",
       "    </tr>\n",
       "    <tr>\n",
       "      <th>8</th>\n",
       "      <td>14.0</td>\n",
       "      <td>455.0</td>\n",
       "      <td>225.0</td>\n",
       "      <td>4425</td>\n",
       "      <td>10.0</td>\n",
       "    </tr>\n",
       "    <tr>\n",
       "      <th>9</th>\n",
       "      <td>15.0</td>\n",
       "      <td>390.0</td>\n",
       "      <td>190.0</td>\n",
       "      <td>3850</td>\n",
       "      <td>8.5</td>\n",
       "    </tr>\n",
       "  </tbody>\n",
       "</table>\n",
       "</div>"
      ],
      "text/plain": [
       "    mpg  displ     hp   lbs  accltn\n",
       "0  18.0  307.0  130.0  3504    12.0\n",
       "1  15.0  350.0  165.0  3693    11.5\n",
       "2  18.0  318.0  150.0  3436    11.0\n",
       "3  16.0  304.0  150.0  3433    12.0\n",
       "4  17.0  302.0  140.0  3449    10.5\n",
       "5  15.0  429.0  198.0  4341    10.0\n",
       "6  14.0  454.0  220.0  4354     9.0\n",
       "7  14.0  440.0  215.0  4312     8.5\n",
       "8  14.0  455.0  225.0  4425    10.0\n",
       "9  15.0  390.0  190.0  3850     8.5"
      ]
     },
     "execution_count": 6,
     "metadata": {},
     "output_type": "execute_result"
    }
   ],
   "source": [
    "print(df.info())\n",
    "df.head(10)"
   ]
  },
  {
   "cell_type": "code",
   "execution_count": 7,
   "metadata": {},
   "outputs": [],
   "source": [
    "X_train, X_test, y_train, y_test = split_scale.split_my_data(df, 'mpg', train_pct=.8, random_state=123)"
   ]
  },
  {
   "cell_type": "code",
   "execution_count": 8,
   "metadata": {},
   "outputs": [
    {
     "name": "stdout",
     "output_type": "stream",
     "text": [
      "<class 'pandas.core.frame.DataFrame'>\n",
      "Int64Index: 313 entries, 6 to 378\n",
      "Data columns (total 4 columns):\n",
      "displ     313 non-null float64\n",
      "hp        313 non-null float64\n",
      "lbs       313 non-null int64\n",
      "accltn    313 non-null float64\n",
      "dtypes: float64(3), int64(1)\n",
      "memory usage: 12.2 KB\n",
      "None\n"
     ]
    },
    {
     "data": {
      "text/html": [
       "<div>\n",
       "<style scoped>\n",
       "    .dataframe tbody tr th:only-of-type {\n",
       "        vertical-align: middle;\n",
       "    }\n",
       "\n",
       "    .dataframe tbody tr th {\n",
       "        vertical-align: top;\n",
       "    }\n",
       "\n",
       "    .dataframe thead th {\n",
       "        text-align: right;\n",
       "    }\n",
       "</style>\n",
       "<table border=\"1\" class=\"dataframe\">\n",
       "  <thead>\n",
       "    <tr style=\"text-align: right;\">\n",
       "      <th></th>\n",
       "      <th>displ</th>\n",
       "      <th>hp</th>\n",
       "      <th>lbs</th>\n",
       "      <th>accltn</th>\n",
       "    </tr>\n",
       "  </thead>\n",
       "  <tbody>\n",
       "    <tr>\n",
       "      <th>6</th>\n",
       "      <td>454.0</td>\n",
       "      <td>220.0</td>\n",
       "      <td>4354</td>\n",
       "      <td>9.0</td>\n",
       "    </tr>\n",
       "    <tr>\n",
       "      <th>301</th>\n",
       "      <td>86.0</td>\n",
       "      <td>65.0</td>\n",
       "      <td>1975</td>\n",
       "      <td>15.2</td>\n",
       "    </tr>\n",
       "    <tr>\n",
       "      <th>129</th>\n",
       "      <td>121.0</td>\n",
       "      <td>110.0</td>\n",
       "      <td>2660</td>\n",
       "      <td>14.0</td>\n",
       "    </tr>\n",
       "    <tr>\n",
       "      <th>179</th>\n",
       "      <td>90.0</td>\n",
       "      <td>71.0</td>\n",
       "      <td>2223</td>\n",
       "      <td>16.5</td>\n",
       "    </tr>\n",
       "    <tr>\n",
       "      <th>115</th>\n",
       "      <td>97.0</td>\n",
       "      <td>88.0</td>\n",
       "      <td>2279</td>\n",
       "      <td>19.0</td>\n",
       "    </tr>\n",
       "  </tbody>\n",
       "</table>\n",
       "</div>"
      ],
      "text/plain": [
       "     displ     hp   lbs  accltn\n",
       "6    454.0  220.0  4354     9.0\n",
       "301   86.0   65.0  1975    15.2\n",
       "129  121.0  110.0  2660    14.0\n",
       "179   90.0   71.0  2223    16.5\n",
       "115   97.0   88.0  2279    19.0"
      ]
     },
     "execution_count": 8,
     "metadata": {},
     "output_type": "execute_result"
    }
   ],
   "source": [
    "print(X_train.info())\n",
    "X_train.head()"
   ]
  },
  {
   "cell_type": "code",
   "execution_count": 9,
   "metadata": {},
   "outputs": [
    {
     "name": "stdout",
     "output_type": "stream",
     "text": [
      "<class 'pandas.core.frame.DataFrame'>\n",
      "Int64Index: 79 entries, 229 to 198\n",
      "Data columns (total 4 columns):\n",
      "displ     79 non-null float64\n",
      "hp        79 non-null float64\n",
      "lbs       79 non-null int64\n",
      "accltn    79 non-null float64\n",
      "dtypes: float64(3), int64(1)\n",
      "memory usage: 3.1 KB\n",
      "None\n"
     ]
    },
    {
     "data": {
      "text/html": [
       "<div>\n",
       "<style scoped>\n",
       "    .dataframe tbody tr th:only-of-type {\n",
       "        vertical-align: middle;\n",
       "    }\n",
       "\n",
       "    .dataframe tbody tr th {\n",
       "        vertical-align: top;\n",
       "    }\n",
       "\n",
       "    .dataframe thead th {\n",
       "        text-align: right;\n",
       "    }\n",
       "</style>\n",
       "<table border=\"1\" class=\"dataframe\">\n",
       "  <thead>\n",
       "    <tr style=\"text-align: right;\">\n",
       "      <th></th>\n",
       "      <th>displ</th>\n",
       "      <th>hp</th>\n",
       "      <th>lbs</th>\n",
       "      <th>accltn</th>\n",
       "    </tr>\n",
       "  </thead>\n",
       "  <tbody>\n",
       "    <tr>\n",
       "      <th>229</th>\n",
       "      <td>260.0</td>\n",
       "      <td>110.0</td>\n",
       "      <td>4060</td>\n",
       "      <td>19.0</td>\n",
       "    </tr>\n",
       "    <tr>\n",
       "      <th>254</th>\n",
       "      <td>85.0</td>\n",
       "      <td>70.0</td>\n",
       "      <td>2070</td>\n",
       "      <td>18.6</td>\n",
       "    </tr>\n",
       "    <tr>\n",
       "      <th>143</th>\n",
       "      <td>302.0</td>\n",
       "      <td>140.0</td>\n",
       "      <td>4141</td>\n",
       "      <td>14.0</td>\n",
       "    </tr>\n",
       "    <tr>\n",
       "      <th>156</th>\n",
       "      <td>120.0</td>\n",
       "      <td>97.0</td>\n",
       "      <td>2489</td>\n",
       "      <td>15.0</td>\n",
       "    </tr>\n",
       "    <tr>\n",
       "      <th>404</th>\n",
       "      <td>120.0</td>\n",
       "      <td>79.0</td>\n",
       "      <td>2625</td>\n",
       "      <td>18.6</td>\n",
       "    </tr>\n",
       "  </tbody>\n",
       "</table>\n",
       "</div>"
      ],
      "text/plain": [
       "     displ     hp   lbs  accltn\n",
       "229  260.0  110.0  4060    19.0\n",
       "254   85.0   70.0  2070    18.6\n",
       "143  302.0  140.0  4141    14.0\n",
       "156  120.0   97.0  2489    15.0\n",
       "404  120.0   79.0  2625    18.6"
      ]
     },
     "execution_count": 9,
     "metadata": {},
     "output_type": "execute_result"
    }
   ],
   "source": [
    "print(X_test.info())\n",
    "X_test.head()"
   ]
  },
  {
   "cell_type": "code",
   "execution_count": 10,
   "metadata": {},
   "outputs": [
    {
     "name": "stdout",
     "output_type": "stream",
     "text": [
      "<class 'pandas.core.frame.DataFrame'>\n",
      "Int64Index: 313 entries, 6 to 378\n",
      "Data columns (total 1 columns):\n",
      "mpg    313 non-null float64\n",
      "dtypes: float64(1)\n",
      "memory usage: 4.9 KB\n",
      "None\n"
     ]
    },
    {
     "data": {
      "text/html": [
       "<div>\n",
       "<style scoped>\n",
       "    .dataframe tbody tr th:only-of-type {\n",
       "        vertical-align: middle;\n",
       "    }\n",
       "\n",
       "    .dataframe tbody tr th {\n",
       "        vertical-align: top;\n",
       "    }\n",
       "\n",
       "    .dataframe thead th {\n",
       "        text-align: right;\n",
       "    }\n",
       "</style>\n",
       "<table border=\"1\" class=\"dataframe\">\n",
       "  <thead>\n",
       "    <tr style=\"text-align: right;\">\n",
       "      <th></th>\n",
       "      <th>mpg</th>\n",
       "    </tr>\n",
       "  </thead>\n",
       "  <tbody>\n",
       "    <tr>\n",
       "      <th>6</th>\n",
       "      <td>14.0</td>\n",
       "    </tr>\n",
       "    <tr>\n",
       "      <th>301</th>\n",
       "      <td>34.1</td>\n",
       "    </tr>\n",
       "    <tr>\n",
       "      <th>129</th>\n",
       "      <td>24.0</td>\n",
       "    </tr>\n",
       "    <tr>\n",
       "      <th>179</th>\n",
       "      <td>25.0</td>\n",
       "    </tr>\n",
       "    <tr>\n",
       "      <th>115</th>\n",
       "      <td>20.0</td>\n",
       "    </tr>\n",
       "  </tbody>\n",
       "</table>\n",
       "</div>"
      ],
      "text/plain": [
       "      mpg\n",
       "6    14.0\n",
       "301  34.1\n",
       "129  24.0\n",
       "179  25.0\n",
       "115  20.0"
      ]
     },
     "execution_count": 10,
     "metadata": {},
     "output_type": "execute_result"
    }
   ],
   "source": [
    "print(y_train.info())\n",
    "y_train.head()"
   ]
  },
  {
   "cell_type": "code",
   "execution_count": 11,
   "metadata": {},
   "outputs": [
    {
     "name": "stdout",
     "output_type": "stream",
     "text": [
      "<class 'pandas.core.frame.DataFrame'>\n",
      "Int64Index: 79 entries, 229 to 198\n",
      "Data columns (total 1 columns):\n",
      "mpg    79 non-null float64\n",
      "dtypes: float64(1)\n",
      "memory usage: 1.2 KB\n",
      "None\n"
     ]
    },
    {
     "data": {
      "text/html": [
       "<div>\n",
       "<style scoped>\n",
       "    .dataframe tbody tr th:only-of-type {\n",
       "        vertical-align: middle;\n",
       "    }\n",
       "\n",
       "    .dataframe tbody tr th {\n",
       "        vertical-align: top;\n",
       "    }\n",
       "\n",
       "    .dataframe thead th {\n",
       "        text-align: right;\n",
       "    }\n",
       "</style>\n",
       "<table border=\"1\" class=\"dataframe\">\n",
       "  <thead>\n",
       "    <tr style=\"text-align: right;\">\n",
       "      <th></th>\n",
       "      <th>mpg</th>\n",
       "    </tr>\n",
       "  </thead>\n",
       "  <tbody>\n",
       "    <tr>\n",
       "      <th>229</th>\n",
       "      <td>17.0</td>\n",
       "    </tr>\n",
       "    <tr>\n",
       "      <th>254</th>\n",
       "      <td>39.4</td>\n",
       "    </tr>\n",
       "    <tr>\n",
       "      <th>143</th>\n",
       "      <td>16.0</td>\n",
       "    </tr>\n",
       "    <tr>\n",
       "      <th>156</th>\n",
       "      <td>24.0</td>\n",
       "    </tr>\n",
       "    <tr>\n",
       "      <th>404</th>\n",
       "      <td>28.0</td>\n",
       "    </tr>\n",
       "  </tbody>\n",
       "</table>\n",
       "</div>"
      ],
      "text/plain": [
       "      mpg\n",
       "229  17.0\n",
       "254  39.4\n",
       "143  16.0\n",
       "156  24.0\n",
       "404  28.0"
      ]
     },
     "execution_count": 11,
     "metadata": {},
     "output_type": "execute_result"
    }
   ],
   "source": [
    "print(y_test.info())\n",
    "y_test.head()"
   ]
  },
  {
   "cell_type": "markdown",
   "metadata": {},
   "source": [
    "### Scaled X y tables"
   ]
  },
  {
   "cell_type": "code",
   "execution_count": 12,
   "metadata": {},
   "outputs": [],
   "source": [
    "X_scalar, X_train_scaled, X_test_scaled = split_scale.min_max_scaler(X_train, X_test)\n",
    "y_scaler, y_train_scaled, y_test_scaled = split_scale.min_max_scaler(y_train, y_test)\n",
    "X_train['dummy_val'] = 1\n",
    "X_test['dummy_val'] = 1\n",
    "X_train_scaled['dummy_val'] = 1\n",
    "X_test_scaled['dummy_val'] = 1"
   ]
  },
  {
   "cell_type": "code",
   "execution_count": 13,
   "metadata": {},
   "outputs": [
    {
     "name": "stdout",
     "output_type": "stream",
     "text": [
      "<class 'pandas.core.frame.DataFrame'>\n",
      "Int64Index: 313 entries, 6 to 378\n",
      "Data columns (total 5 columns):\n",
      "displ        313 non-null float64\n",
      "hp           313 non-null float64\n",
      "lbs          313 non-null float64\n",
      "accltn       313 non-null float64\n",
      "dummy_val    313 non-null int64\n",
      "dtypes: float64(4), int64(1)\n",
      "memory usage: 14.7 KB\n",
      "None\n"
     ]
    },
    {
     "data": {
      "text/html": [
       "<div>\n",
       "<style scoped>\n",
       "    .dataframe tbody tr th:only-of-type {\n",
       "        vertical-align: middle;\n",
       "    }\n",
       "\n",
       "    .dataframe tbody tr th {\n",
       "        vertical-align: top;\n",
       "    }\n",
       "\n",
       "    .dataframe thead th {\n",
       "        text-align: right;\n",
       "    }\n",
       "</style>\n",
       "<table border=\"1\" class=\"dataframe\">\n",
       "  <thead>\n",
       "    <tr style=\"text-align: right;\">\n",
       "      <th></th>\n",
       "      <th>displ</th>\n",
       "      <th>hp</th>\n",
       "      <th>lbs</th>\n",
       "      <th>accltn</th>\n",
       "      <th>dummy_val</th>\n",
       "    </tr>\n",
       "  </thead>\n",
       "  <tbody>\n",
       "    <tr>\n",
       "      <th>6</th>\n",
       "      <td>0.997416</td>\n",
       "      <td>0.945652</td>\n",
       "      <td>0.777148</td>\n",
       "      <td>0.030675</td>\n",
       "      <td>1</td>\n",
       "    </tr>\n",
       "    <tr>\n",
       "      <th>301</th>\n",
       "      <td>0.046512</td>\n",
       "      <td>0.103261</td>\n",
       "      <td>0.102637</td>\n",
       "      <td>0.411043</td>\n",
       "      <td>1</td>\n",
       "    </tr>\n",
       "    <tr>\n",
       "      <th>129</th>\n",
       "      <td>0.136951</td>\n",
       "      <td>0.347826</td>\n",
       "      <td>0.296853</td>\n",
       "      <td>0.337423</td>\n",
       "      <td>1</td>\n",
       "    </tr>\n",
       "    <tr>\n",
       "      <th>179</th>\n",
       "      <td>0.056848</td>\n",
       "      <td>0.135870</td>\n",
       "      <td>0.172952</td>\n",
       "      <td>0.490798</td>\n",
       "      <td>1</td>\n",
       "    </tr>\n",
       "    <tr>\n",
       "      <th>115</th>\n",
       "      <td>0.074935</td>\n",
       "      <td>0.228261</td>\n",
       "      <td>0.188829</td>\n",
       "      <td>0.644172</td>\n",
       "      <td>1</td>\n",
       "    </tr>\n",
       "  </tbody>\n",
       "</table>\n",
       "</div>"
      ],
      "text/plain": [
       "        displ        hp       lbs    accltn  dummy_val\n",
       "6    0.997416  0.945652  0.777148  0.030675          1\n",
       "301  0.046512  0.103261  0.102637  0.411043          1\n",
       "129  0.136951  0.347826  0.296853  0.337423          1\n",
       "179  0.056848  0.135870  0.172952  0.490798          1\n",
       "115  0.074935  0.228261  0.188829  0.644172          1"
      ]
     },
     "execution_count": 13,
     "metadata": {},
     "output_type": "execute_result"
    }
   ],
   "source": [
    "print(X_train_scaled.info())\n",
    "X_train_scaled.head()"
   ]
  },
  {
   "cell_type": "code",
   "execution_count": 14,
   "metadata": {},
   "outputs": [
    {
     "name": "stdout",
     "output_type": "stream",
     "text": [
      "<class 'pandas.core.frame.DataFrame'>\n",
      "Int64Index: 79 entries, 229 to 198\n",
      "Data columns (total 5 columns):\n",
      "displ        79 non-null float64\n",
      "hp           79 non-null float64\n",
      "lbs          79 non-null float64\n",
      "accltn       79 non-null float64\n",
      "dummy_val    79 non-null int64\n",
      "dtypes: float64(4), int64(1)\n",
      "memory usage: 3.7 KB\n",
      "None\n"
     ]
    },
    {
     "data": {
      "text/html": [
       "<div>\n",
       "<style scoped>\n",
       "    .dataframe tbody tr th:only-of-type {\n",
       "        vertical-align: middle;\n",
       "    }\n",
       "\n",
       "    .dataframe tbody tr th {\n",
       "        vertical-align: top;\n",
       "    }\n",
       "\n",
       "    .dataframe thead th {\n",
       "        text-align: right;\n",
       "    }\n",
       "</style>\n",
       "<table border=\"1\" class=\"dataframe\">\n",
       "  <thead>\n",
       "    <tr style=\"text-align: right;\">\n",
       "      <th></th>\n",
       "      <th>displ</th>\n",
       "      <th>hp</th>\n",
       "      <th>lbs</th>\n",
       "      <th>accltn</th>\n",
       "      <th>dummy_val</th>\n",
       "    </tr>\n",
       "  </thead>\n",
       "  <tbody>\n",
       "    <tr>\n",
       "      <th>229</th>\n",
       "      <td>0.496124</td>\n",
       "      <td>0.347826</td>\n",
       "      <td>0.693791</td>\n",
       "      <td>0.644172</td>\n",
       "      <td>1</td>\n",
       "    </tr>\n",
       "    <tr>\n",
       "      <th>254</th>\n",
       "      <td>0.043928</td>\n",
       "      <td>0.130435</td>\n",
       "      <td>0.129572</td>\n",
       "      <td>0.619632</td>\n",
       "      <td>1</td>\n",
       "    </tr>\n",
       "    <tr>\n",
       "      <th>143</th>\n",
       "      <td>0.604651</td>\n",
       "      <td>0.510870</td>\n",
       "      <td>0.716756</td>\n",
       "      <td>0.337423</td>\n",
       "      <td>1</td>\n",
       "    </tr>\n",
       "    <tr>\n",
       "      <th>156</th>\n",
       "      <td>0.134367</td>\n",
       "      <td>0.277174</td>\n",
       "      <td>0.248370</td>\n",
       "      <td>0.398773</td>\n",
       "      <td>1</td>\n",
       "    </tr>\n",
       "    <tr>\n",
       "      <th>404</th>\n",
       "      <td>0.134367</td>\n",
       "      <td>0.179348</td>\n",
       "      <td>0.286929</td>\n",
       "      <td>0.619632</td>\n",
       "      <td>1</td>\n",
       "    </tr>\n",
       "  </tbody>\n",
       "</table>\n",
       "</div>"
      ],
      "text/plain": [
       "        displ        hp       lbs    accltn  dummy_val\n",
       "229  0.496124  0.347826  0.693791  0.644172          1\n",
       "254  0.043928  0.130435  0.129572  0.619632          1\n",
       "143  0.604651  0.510870  0.716756  0.337423          1\n",
       "156  0.134367  0.277174  0.248370  0.398773          1\n",
       "404  0.134367  0.179348  0.286929  0.619632          1"
      ]
     },
     "execution_count": 14,
     "metadata": {},
     "output_type": "execute_result"
    }
   ],
   "source": [
    "print(X_test_scaled.info())\n",
    "X_test_scaled.head()"
   ]
  },
  {
   "cell_type": "code",
   "execution_count": 15,
   "metadata": {},
   "outputs": [
    {
     "name": "stdout",
     "output_type": "stream",
     "text": [
      "<class 'pandas.core.frame.DataFrame'>\n",
      "Int64Index: 313 entries, 6 to 378\n",
      "Data columns (total 1 columns):\n",
      "mpg    313 non-null float64\n",
      "dtypes: float64(1)\n",
      "memory usage: 4.9 KB\n",
      "None\n"
     ]
    },
    {
     "data": {
      "text/html": [
       "<div>\n",
       "<style scoped>\n",
       "    .dataframe tbody tr th:only-of-type {\n",
       "        vertical-align: middle;\n",
       "    }\n",
       "\n",
       "    .dataframe tbody tr th {\n",
       "        vertical-align: top;\n",
       "    }\n",
       "\n",
       "    .dataframe thead th {\n",
       "        text-align: right;\n",
       "    }\n",
       "</style>\n",
       "<table border=\"1\" class=\"dataframe\">\n",
       "  <thead>\n",
       "    <tr style=\"text-align: right;\">\n",
       "      <th></th>\n",
       "      <th>mpg</th>\n",
       "    </tr>\n",
       "  </thead>\n",
       "  <tbody>\n",
       "    <tr>\n",
       "      <th>6</th>\n",
       "      <td>0.132979</td>\n",
       "    </tr>\n",
       "    <tr>\n",
       "      <th>301</th>\n",
       "      <td>0.667553</td>\n",
       "    </tr>\n",
       "    <tr>\n",
       "      <th>129</th>\n",
       "      <td>0.398936</td>\n",
       "    </tr>\n",
       "    <tr>\n",
       "      <th>179</th>\n",
       "      <td>0.425532</td>\n",
       "    </tr>\n",
       "    <tr>\n",
       "      <th>115</th>\n",
       "      <td>0.292553</td>\n",
       "    </tr>\n",
       "  </tbody>\n",
       "</table>\n",
       "</div>"
      ],
      "text/plain": [
       "          mpg\n",
       "6    0.132979\n",
       "301  0.667553\n",
       "129  0.398936\n",
       "179  0.425532\n",
       "115  0.292553"
      ]
     },
     "execution_count": 15,
     "metadata": {},
     "output_type": "execute_result"
    }
   ],
   "source": [
    "print(y_train_scaled.info())\n",
    "y_train_scaled.head()"
   ]
  },
  {
   "cell_type": "code",
   "execution_count": 16,
   "metadata": {},
   "outputs": [
    {
     "name": "stdout",
     "output_type": "stream",
     "text": [
      "<class 'pandas.core.frame.DataFrame'>\n",
      "Int64Index: 79 entries, 229 to 198\n",
      "Data columns (total 1 columns):\n",
      "mpg    79 non-null float64\n",
      "dtypes: float64(1)\n",
      "memory usage: 1.2 KB\n",
      "None\n"
     ]
    },
    {
     "data": {
      "text/html": [
       "<div>\n",
       "<style scoped>\n",
       "    .dataframe tbody tr th:only-of-type {\n",
       "        vertical-align: middle;\n",
       "    }\n",
       "\n",
       "    .dataframe tbody tr th {\n",
       "        vertical-align: top;\n",
       "    }\n",
       "\n",
       "    .dataframe thead th {\n",
       "        text-align: right;\n",
       "    }\n",
       "</style>\n",
       "<table border=\"1\" class=\"dataframe\">\n",
       "  <thead>\n",
       "    <tr style=\"text-align: right;\">\n",
       "      <th></th>\n",
       "      <th>mpg</th>\n",
       "    </tr>\n",
       "  </thead>\n",
       "  <tbody>\n",
       "    <tr>\n",
       "      <th>229</th>\n",
       "      <td>0.212766</td>\n",
       "    </tr>\n",
       "    <tr>\n",
       "      <th>254</th>\n",
       "      <td>0.808511</td>\n",
       "    </tr>\n",
       "    <tr>\n",
       "      <th>143</th>\n",
       "      <td>0.186170</td>\n",
       "    </tr>\n",
       "    <tr>\n",
       "      <th>156</th>\n",
       "      <td>0.398936</td>\n",
       "    </tr>\n",
       "    <tr>\n",
       "      <th>404</th>\n",
       "      <td>0.505319</td>\n",
       "    </tr>\n",
       "  </tbody>\n",
       "</table>\n",
       "</div>"
      ],
      "text/plain": [
       "          mpg\n",
       "229  0.212766\n",
       "254  0.808511\n",
       "143  0.186170\n",
       "156  0.398936\n",
       "404  0.505319"
      ]
     },
     "execution_count": 16,
     "metadata": {},
     "output_type": "execute_result"
    }
   ],
   "source": [
    "print(y_test_scaled.info())\n",
    "y_test_scaled.head()"
   ]
  },
  {
   "cell_type": "code",
   "execution_count": 17,
   "metadata": {},
   "outputs": [],
   "source": [
    "df_scaled = X_train_scaled.join(y_train_scaled)"
   ]
  },
  {
   "cell_type": "code",
   "execution_count": 18,
   "metadata": {},
   "outputs": [
    {
     "data": {
      "image/png": "[encoded data removed]",
      "text/plain": [
       "<Figure size 504x360 with 2 Axes>"
      ]
     },
     "metadata": {
      "needs_background": "light"
     },
     "output_type": "display_data"
    }
   ],
   "source": [
    "#Using Pearson Correlation\n",
    "plt.figure(figsize=(7,5))\n",
    "cor = df_scaled.corr()\n",
    "sns.heatmap(cor, annot=True, cmap=plt.cm.RdBu_r)\n",
    "plt.show()"
   ]
  },
  {
   "cell_type": "code",
   "execution_count": 19,
   "metadata": {},
   "outputs": [
    {
     "data": {
      "text/plain": [
       "<Figure size 720x576 with 0 Axes>"
      ]
     },
     "metadata": {},
     "output_type": "display_data"
    },
    {
     "data": {
      "image/png": "[encoded data removed]",
      "text/plain": [
       "<Figure size 1080x1080 with 42 Axes>"
      ]
     },
     "metadata": {
      "needs_background": "light"
     },
     "output_type": "display_data"
    }
   ],
   "source": [
    "plt.figure(figsize=(10,8))\n",
    "sns.pairplot(data=df_scaled)\n",
    "plt.show()"
   ]
  },
  {
   "cell_type": "markdown",
   "metadata": {},
   "source": [
    "1. **Write a function,** \n",
    "`select_kbest_freg_unscaled()` \n",
    "**that takes X_train, y_train and k as input (X_train and y_train should not be scaled!) and returns a list of the top k features.**"
   ]
  },
  {
   "cell_type": "code",
   "execution_count": 20,
   "metadata": {},
   "outputs": [],
   "source": [
    "from sklearn.feature_selection import SelectKBest, f_regression "
   ]
  },
  {
   "cell_type": "code",
   "execution_count": 21,
   "metadata": {},
   "outputs": [],
   "source": [
    "def select_kbest_freg_unscaled(X_train, y_train, k=2):\n",
    "    f_selector = SelectKBest(f_regression, k=k)\n",
    "    f_selector.fit(X_train, y_train)\n",
    "    f_support = f_selector.get_support()\n",
    "    f_feature = X_train.loc[:,f_support].columns.tolist()\n",
    "    return f_feature, f_selector"
   ]
  },
  {
   "cell_type": "code",
   "execution_count": 22,
   "metadata": {},
   "outputs": [
    {
     "name": "stdout",
     "output_type": "stream",
     "text": [
      "2 selected features\n",
      "['displ', 'lbs']\n"
     ]
    },
    {
     "data": {
      "text/html": [
       "<div>\n",
       "<style scoped>\n",
       "    .dataframe tbody tr th:only-of-type {\n",
       "        vertical-align: middle;\n",
       "    }\n",
       "\n",
       "    .dataframe tbody tr th {\n",
       "        vertical-align: top;\n",
       "    }\n",
       "\n",
       "    .dataframe thead th {\n",
       "        text-align: right;\n",
       "    }\n",
       "</style>\n",
       "<table border=\"1\" class=\"dataframe\">\n",
       "  <thead>\n",
       "    <tr style=\"text-align: right;\">\n",
       "      <th></th>\n",
       "      <th>variable</th>\n",
       "      <th>f_score</th>\n",
       "    </tr>\n",
       "  </thead>\n",
       "  <tbody>\n",
       "    <tr>\n",
       "      <th>2</th>\n",
       "      <td>lbs</td>\n",
       "      <td>720.782037</td>\n",
       "    </tr>\n",
       "    <tr>\n",
       "      <th>0</th>\n",
       "      <td>displ</td>\n",
       "      <td>621.032903</td>\n",
       "    </tr>\n",
       "    <tr>\n",
       "      <th>1</th>\n",
       "      <td>hp</td>\n",
       "      <td>479.771724</td>\n",
       "    </tr>\n",
       "    <tr>\n",
       "      <th>3</th>\n",
       "      <td>accltn</td>\n",
       "      <td>62.675120</td>\n",
       "    </tr>\n",
       "    <tr>\n",
       "      <th>4</th>\n",
       "      <td>dummy_val</td>\n",
       "      <td>NaN</td>\n",
       "    </tr>\n",
       "  </tbody>\n",
       "</table>\n",
       "</div>"
      ],
      "text/plain": [
       "    variable     f_score\n",
       "2        lbs  720.782037\n",
       "0      displ  621.032903\n",
       "1         hp  479.771724\n",
       "3     accltn   62.675120\n",
       "4  dummy_val         NaN"
      ]
     },
     "execution_count": 22,
     "metadata": {},
     "output_type": "execute_result"
    }
   ],
   "source": [
    "f_feature, f_selector = (\n",
    "    features.select_kbest_freg_unscaled(\n",
    "        X_train, y_train, 2)\n",
    ")\n",
    "\n",
    "X_scores = (pd.DataFrame(\n",
    "    list(\n",
    "        zip(X_train.columns, f_selector.scores_)\n",
    "    ), \n",
    "    columns=['variable', 'f_score'])\n",
    "                   .sort_values(by=['f_score'], axis=0, ascending=False))\n",
    "print(str(len(f_feature)), 'selected features')\n",
    "print(f_feature)\n",
    "X_scores"
   ]
  },
  {
   "cell_type": "markdown",
   "metadata": {},
   "source": [
    "2. **Write a function,** \n",
    "`select_kbest_freg_scaled()`\n",
    "**that takes X_train, y_train (scaled) and k as input and returns a list of the top k features.**"
   ]
  },
  {
   "cell_type": "code",
   "execution_count": 23,
   "metadata": {},
   "outputs": [],
   "source": [
    "def select_kbest_freg_scaled(X_train_scaled, y_train, k=4):\n",
    "    f_feature_scaled, f_selector_scaled = (\n",
    "        select_kbest_freg_unscaled(\n",
    "            X_train=X_train_scaled, \n",
    "            y_train=y_train_scaled, \n",
    "            k=k)\n",
    "    )\n",
    "    \n",
    "    return f_feature_scaled, f_selector_scaled"
   ]
  },
  {
   "cell_type": "code",
   "execution_count": 24,
   "metadata": {},
   "outputs": [
    {
     "name": "stdout",
     "output_type": "stream",
     "text": [
      "2 selected features\n",
      "['displ', 'lbs']\n"
     ]
    },
    {
     "data": {
      "text/html": [
       "<div>\n",
       "<style scoped>\n",
       "    .dataframe tbody tr th:only-of-type {\n",
       "        vertical-align: middle;\n",
       "    }\n",
       "\n",
       "    .dataframe tbody tr th {\n",
       "        vertical-align: top;\n",
       "    }\n",
       "\n",
       "    .dataframe thead th {\n",
       "        text-align: right;\n",
       "    }\n",
       "</style>\n",
       "<table border=\"1\" class=\"dataframe\">\n",
       "  <thead>\n",
       "    <tr style=\"text-align: right;\">\n",
       "      <th></th>\n",
       "      <th>variable</th>\n",
       "      <th>f_score</th>\n",
       "    </tr>\n",
       "  </thead>\n",
       "  <tbody>\n",
       "    <tr>\n",
       "      <th>2</th>\n",
       "      <td>lbs</td>\n",
       "      <td>720.782037</td>\n",
       "    </tr>\n",
       "    <tr>\n",
       "      <th>0</th>\n",
       "      <td>displ</td>\n",
       "      <td>621.032903</td>\n",
       "    </tr>\n",
       "    <tr>\n",
       "      <th>1</th>\n",
       "      <td>hp</td>\n",
       "      <td>479.771724</td>\n",
       "    </tr>\n",
       "    <tr>\n",
       "      <th>3</th>\n",
       "      <td>accltn</td>\n",
       "      <td>62.675120</td>\n",
       "    </tr>\n",
       "    <tr>\n",
       "      <th>4</th>\n",
       "      <td>dummy_val</td>\n",
       "      <td>NaN</td>\n",
       "    </tr>\n",
       "  </tbody>\n",
       "</table>\n",
       "</div>"
      ],
      "text/plain": [
       "    variable     f_score\n",
       "2        lbs  720.782037\n",
       "0      displ  621.032903\n",
       "1         hp  479.771724\n",
       "3     accltn   62.675120\n",
       "4  dummy_val         NaN"
      ]
     },
     "execution_count": 24,
     "metadata": {},
     "output_type": "execute_result"
    }
   ],
   "source": [
    "f_feature_scaled, f_selector_scaled = (\n",
    "    features.select_kbest_freg_scaled(\n",
    "        X_train_scaled, y_train_scaled, 2)\n",
    ")\n",
    "\n",
    "X_scores_scaled = (pd.DataFrame(\n",
    "    list(\n",
    "        zip(X_train_scaled.columns, f_selector_scaled.scores_)\n",
    "    ), \n",
    "    columns=['variable', 'f_score'])\n",
    "                   .sort_values(by=['f_score'], axis=0, ascending=False))\n",
    "                  \n",
    "print(str(len(f_feature_scaled)), 'selected features')\n",
    "print(f_feature_scaled)\n",
    "X_scores_scaled"
   ]
  },
  {
   "cell_type": "markdown",
   "metadata": {},
   "source": [
    "3. **Write a function,** \n",
    "`ols_backward_elimination()`\n",
    "**that takes X_train and y_train (scaled) as input and returns selected features based on the ols backwards elimination method.**"
   ]
  },
  {
   "cell_type": "code",
   "execution_count": 25,
   "metadata": {},
   "outputs": [],
   "source": [
    "import statsmodels.api as sm"
   ]
  },
  {
   "cell_type": "code",
   "execution_count": 26,
   "metadata": {},
   "outputs": [],
   "source": [
    "def get_fit_summary(y_train_scaled, X_train_scaled):\n",
    "    # create the OLS object:\n",
    "    ols_model = sm.OLS(y_train_scaled, X_train_scaled)\n",
    "    # fit the model:\n",
    "    fit = ols_model.fit()\n",
    "    # summarize:\n",
    "    return fit.summary()"
   ]
  },
  {
   "cell_type": "code",
   "execution_count": 27,
   "metadata": {},
   "outputs": [
    {
     "data": {
      "text/html": [
       "<table class=\"simpletable\">\n",
       "<caption>OLS Regression Results</caption>\n",
       "<tr>\n",
       "  <th>Dep. Variable:</th>           <td>mpg</td>       <th>  R-squared:         </th> <td>   0.710</td>\n",
       "</tr>\n",
       "<tr>\n",
       "  <th>Model:</th>                   <td>OLS</td>       <th>  Adj. R-squared:    </th> <td>   0.707</td>\n",
       "</tr>\n",
       "<tr>\n",
       "  <th>Method:</th>             <td>Least Squares</td>  <th>  F-statistic:       </th> <td>   188.9</td>\n",
       "</tr>\n",
       "<tr>\n",
       "  <th>Date:</th>             <td>Thu, 17 Oct 2019</td> <th>  Prob (F-statistic):</th> <td>1.41e-81</td>\n",
       "</tr>\n",
       "<tr>\n",
       "  <th>Time:</th>                 <td>09:55:57</td>     <th>  Log-Likelihood:    </th> <td>  242.41</td>\n",
       "</tr>\n",
       "<tr>\n",
       "  <th>No. Observations:</th>      <td>   313</td>      <th>  AIC:               </th> <td>  -474.8</td>\n",
       "</tr>\n",
       "<tr>\n",
       "  <th>Df Residuals:</th>          <td>   308</td>      <th>  BIC:               </th> <td>  -456.1</td>\n",
       "</tr>\n",
       "<tr>\n",
       "  <th>Df Model:</th>              <td>     4</td>      <th>                     </th>     <td> </td>   \n",
       "</tr>\n",
       "<tr>\n",
       "  <th>Covariance Type:</th>      <td>nonrobust</td>    <th>                     </th>     <td> </td>   \n",
       "</tr>\n",
       "</table>\n",
       "<table class=\"simpletable\">\n",
       "<tr>\n",
       "      <td></td>         <th>coef</th>     <th>std err</th>      <th>t</th>      <th>P>|t|</th>  <th>[0.025</th>    <th>0.975]</th>  \n",
       "</tr>\n",
       "<tr>\n",
       "  <th>displ</th>     <td>   -0.1281</td> <td>    0.080</td> <td>   -1.600</td> <td> 0.111</td> <td>   -0.286</td> <td>    0.029</td>\n",
       "</tr>\n",
       "<tr>\n",
       "  <th>hp</th>        <td>   -0.1414</td> <td>    0.095</td> <td>   -1.482</td> <td> 0.139</td> <td>   -0.329</td> <td>    0.046</td>\n",
       "</tr>\n",
       "<tr>\n",
       "  <th>lbs</th>       <td>   -0.4740</td> <td>    0.091</td> <td>   -5.181</td> <td> 0.000</td> <td>   -0.654</td> <td>   -0.294</td>\n",
       "</tr>\n",
       "<tr>\n",
       "  <th>accltn</th>    <td>    0.0012</td> <td>    0.061</td> <td>    0.019</td> <td> 0.985</td> <td>   -0.118</td> <td>    0.121</td>\n",
       "</tr>\n",
       "<tr>\n",
       "  <th>dummy_val</th> <td>    0.6546</td> <td>    0.036</td> <td>   18.174</td> <td> 0.000</td> <td>    0.584</td> <td>    0.726</td>\n",
       "</tr>\n",
       "</table>\n",
       "<table class=\"simpletable\">\n",
       "<tr>\n",
       "  <th>Omnibus:</th>       <td>24.786</td> <th>  Durbin-Watson:     </th> <td>   2.030</td>\n",
       "</tr>\n",
       "<tr>\n",
       "  <th>Prob(Omnibus):</th> <td> 0.000</td> <th>  Jarque-Bera (JB):  </th> <td>  31.404</td>\n",
       "</tr>\n",
       "<tr>\n",
       "  <th>Skew:</th>          <td> 0.607</td> <th>  Prob(JB):          </th> <td>1.52e-07</td>\n",
       "</tr>\n",
       "<tr>\n",
       "  <th>Kurtosis:</th>      <td> 3.966</td> <th>  Cond. No.          </th> <td>    25.1</td>\n",
       "</tr>\n",
       "</table><br/><br/>Warnings:<br/>[1] Standard Errors assume that the covariance matrix of the errors is correctly specified."
      ],
      "text/plain": [
       "<class 'statsmodels.iolib.summary.Summary'>\n",
       "\"\"\"\n",
       "                            OLS Regression Results                            \n",
       "==============================================================================\n",
       "Dep. Variable:                    mpg   R-squared:                       0.710\n",
       "Model:                            OLS   Adj. R-squared:                  0.707\n",
       "Method:                 Least Squares   F-statistic:                     188.9\n",
       "Date:                Thu, 17 Oct 2019   Prob (F-statistic):           1.41e-81\n",
       "Time:                        09:55:57   Log-Likelihood:                 242.41\n",
       "No. Observations:                 313   AIC:                            -474.8\n",
       "Df Residuals:                     308   BIC:                            -456.1\n",
       "Df Model:                           4                                         \n",
       "Covariance Type:            nonrobust                                         \n",
       "==============================================================================\n",
       "                 coef    std err          t      P>|t|      [0.025      0.975]\n",
       "------------------------------------------------------------------------------\n",
       "displ         -0.1281      0.080     -1.600      0.111      -0.286       0.029\n",
       "hp            -0.1414      0.095     -1.482      0.139      -0.329       0.046\n",
       "lbs           -0.4740      0.091     -5.181      0.000      -0.654      -0.294\n",
       "accltn         0.0012      0.061      0.019      0.985      -0.118       0.121\n",
       "dummy_val      0.6546      0.036     18.174      0.000       0.584       0.726\n",
       "==============================================================================\n",
       "Omnibus:                       24.786   Durbin-Watson:                   2.030\n",
       "Prob(Omnibus):                  0.000   Jarque-Bera (JB):               31.404\n",
       "Skew:                           0.607   Prob(JB):                     1.52e-07\n",
       "Kurtosis:                       3.966   Cond. No.                         25.1\n",
       "==============================================================================\n",
       "\n",
       "Warnings:\n",
       "[1] Standard Errors assume that the covariance matrix of the errors is correctly specified.\n",
       "\"\"\""
      ]
     },
     "execution_count": 27,
     "metadata": {},
     "output_type": "execute_result"
    }
   ],
   "source": [
    "features.get_fit_summary(y_train_scaled, X_train_scaled)"
   ]
  },
  {
   "cell_type": "code",
   "execution_count": 28,
   "metadata": {},
   "outputs": [
    {
     "data": {
      "text/html": [
       "<table class=\"simpletable\">\n",
       "<caption>OLS Regression Results</caption>\n",
       "<tr>\n",
       "  <th>Dep. Variable:</th>           <td>mpg</td>       <th>  R-squared:         </th> <td>   0.710</td>\n",
       "</tr>\n",
       "<tr>\n",
       "  <th>Model:</th>                   <td>OLS</td>       <th>  Adj. R-squared:    </th> <td>   0.707</td>\n",
       "</tr>\n",
       "<tr>\n",
       "  <th>Method:</th>             <td>Least Squares</td>  <th>  F-statistic:       </th> <td>   188.9</td>\n",
       "</tr>\n",
       "<tr>\n",
       "  <th>Date:</th>             <td>Thu, 17 Oct 2019</td> <th>  Prob (F-statistic):</th> <td>1.41e-81</td>\n",
       "</tr>\n",
       "<tr>\n",
       "  <th>Time:</th>                 <td>09:55:57</td>     <th>  Log-Likelihood:    </th> <td> -892.84</td>\n",
       "</tr>\n",
       "<tr>\n",
       "  <th>No. Observations:</th>      <td>   313</td>      <th>  AIC:               </th> <td>   1796.</td>\n",
       "</tr>\n",
       "<tr>\n",
       "  <th>Df Residuals:</th>          <td>   308</td>      <th>  BIC:               </th> <td>   1814.</td>\n",
       "</tr>\n",
       "<tr>\n",
       "  <th>Df Model:</th>              <td>     4</td>      <th>                     </th>     <td> </td>   \n",
       "</tr>\n",
       "<tr>\n",
       "  <th>Covariance Type:</th>      <td>nonrobust</td>    <th>                     </th>     <td> </td>   \n",
       "</tr>\n",
       "</table>\n",
       "<table class=\"simpletable\">\n",
       "<tr>\n",
       "      <td></td>         <th>coef</th>     <th>std err</th>      <th>t</th>      <th>P>|t|</th>  <th>[0.025</th>    <th>0.975]</th>  \n",
       "</tr>\n",
       "<tr>\n",
       "  <th>displ</th>     <td>   -4.8166</td> <td>    3.010</td> <td>   -1.600</td> <td> 0.111</td> <td>  -10.740</td> <td>    1.107</td>\n",
       "</tr>\n",
       "<tr>\n",
       "  <th>hp</th>        <td>   -5.3149</td> <td>    3.587</td> <td>   -1.482</td> <td> 0.139</td> <td>  -12.374</td> <td>    1.744</td>\n",
       "</tr>\n",
       "<tr>\n",
       "  <th>lbs</th>       <td>  -17.8218</td> <td>    3.440</td> <td>   -5.181</td> <td> 0.000</td> <td>  -24.590</td> <td>  -11.054</td>\n",
       "</tr>\n",
       "<tr>\n",
       "  <th>accltn</th>    <td>    0.0433</td> <td>    2.282</td> <td>    0.019</td> <td> 0.985</td> <td>   -4.447</td> <td>    4.534</td>\n",
       "</tr>\n",
       "<tr>\n",
       "  <th>dummy_val</th> <td>   33.6146</td> <td>    1.354</td> <td>   24.819</td> <td> 0.000</td> <td>   30.950</td> <td>   36.280</td>\n",
       "</tr>\n",
       "</table>\n",
       "<table class=\"simpletable\">\n",
       "<tr>\n",
       "  <th>Omnibus:</th>       <td>24.786</td> <th>  Durbin-Watson:     </th> <td>   2.030</td>\n",
       "</tr>\n",
       "<tr>\n",
       "  <th>Prob(Omnibus):</th> <td> 0.000</td> <th>  Jarque-Bera (JB):  </th> <td>  31.404</td>\n",
       "</tr>\n",
       "<tr>\n",
       "  <th>Skew:</th>          <td> 0.607</td> <th>  Prob(JB):          </th> <td>1.52e-07</td>\n",
       "</tr>\n",
       "<tr>\n",
       "  <th>Kurtosis:</th>      <td> 3.966</td> <th>  Cond. No.          </th> <td>    25.1</td>\n",
       "</tr>\n",
       "</table><br/><br/>Warnings:<br/>[1] Standard Errors assume that the covariance matrix of the errors is correctly specified."
      ],
      "text/plain": [
       "<class 'statsmodels.iolib.summary.Summary'>\n",
       "\"\"\"\n",
       "                            OLS Regression Results                            \n",
       "==============================================================================\n",
       "Dep. Variable:                    mpg   R-squared:                       0.710\n",
       "Model:                            OLS   Adj. R-squared:                  0.707\n",
       "Method:                 Least Squares   F-statistic:                     188.9\n",
       "Date:                Thu, 17 Oct 2019   Prob (F-statistic):           1.41e-81\n",
       "Time:                        09:55:57   Log-Likelihood:                -892.84\n",
       "No. Observations:                 313   AIC:                             1796.\n",
       "Df Residuals:                     308   BIC:                             1814.\n",
       "Df Model:                           4                                         \n",
       "Covariance Type:            nonrobust                                         \n",
       "==============================================================================\n",
       "                 coef    std err          t      P>|t|      [0.025      0.975]\n",
       "------------------------------------------------------------------------------\n",
       "displ         -4.8166      3.010     -1.600      0.111     -10.740       1.107\n",
       "hp            -5.3149      3.587     -1.482      0.139     -12.374       1.744\n",
       "lbs          -17.8218      3.440     -5.181      0.000     -24.590     -11.054\n",
       "accltn         0.0433      2.282      0.019      0.985      -4.447       4.534\n",
       "dummy_val     33.6146      1.354     24.819      0.000      30.950      36.280\n",
       "==============================================================================\n",
       "Omnibus:                       24.786   Durbin-Watson:                   2.030\n",
       "Prob(Omnibus):                  0.000   Jarque-Bera (JB):               31.404\n",
       "Skew:                           0.607   Prob(JB):                     1.52e-07\n",
       "Kurtosis:                       3.966   Cond. No.                         25.1\n",
       "==============================================================================\n",
       "\n",
       "Warnings:\n",
       "[1] Standard Errors assume that the covariance matrix of the errors is correctly specified.\n",
       "\"\"\""
      ]
     },
     "execution_count": 28,
     "metadata": {},
     "output_type": "execute_result"
    }
   ],
   "source": [
    "features.get_fit_summary(y_train, X_train_scaled)"
   ]
  },
  {
   "cell_type": "code",
   "execution_count": 29,
   "metadata": {},
   "outputs": [],
   "source": [
    "def ols_backward_elimination(X_train_scaled, y_train_scaled):\n",
    "    cols = list(X_train_scaled.columns)\n",
    "    cols_removed = []\n",
    "    removed_pvals = []\n",
    "    pmax = 1\n",
    "    while (len(cols)>0):\n",
    "        p= []\n",
    "        X_1 = X_train_scaled[cols]\n",
    "        X_1 = sm.add_constant(X_1)\n",
    "        model = sm.OLS(y_train_scaled,X_1).fit()\n",
    "        p = pd.Series(model.pvalues.values[1:],index = cols)\n",
    "        pmax = max(p)\n",
    "        feature_with_p_max = p.idxmax()\n",
    "        if(pmax>0.05):\n",
    "            cols_removed.append(feature_with_p_max)\n",
    "            removed_pvals.append(pmax)\n",
    "            cols.remove(feature_with_p_max)\n",
    "        else:\n",
    "            break\n",
    "            \n",
    "    selected_features_BE = cols\n",
    "    removed_features_BE = cols_removed\n",
    "    removed_pvals_BE = removed_pvals\n",
    "    return selected_features_BE, removed_features_BE, removed_pvals_BE"
   ]
  },
  {
   "cell_type": "code",
   "execution_count": 30,
   "metadata": {},
   "outputs": [],
   "source": [
    "# Come back and check error ...\n",
    "\n",
    "#selected_features_BE, removed_features_BE, removed_pvals_BE = features.ols_backward_elimination(X_train_scaled, y_train_scaled)\n",
    "#print(selected_features_BE)\n",
    "#print(removed_features_BE)\n",
    "#print(removed_pvals_BE)\n",
    "#removals = list(zip(removed_features_BE, removed_pvals_BE))\n",
    "#for feature in removals:\n",
    "#    print(f'Feature removed: {feature[0]}; p_value = {feature[1]:.4f}')\n"
   ]
  },
  {
   "cell_type": "markdown",
   "metadata": {},
   "source": [
    "4. **Write a function,** \n",
    "`lasso_cv_coef()` \n",
    "**that takes X_train and y_train as input and returns the coefficients for each feature, along with a plot of the features and their weights.**"
   ]
  },
  {
   "cell_type": "code",
   "execution_count": 31,
   "metadata": {},
   "outputs": [],
   "source": [
    "from sklearn.linear_model import LassoCV\n",
    "import matplotlib"
   ]
  },
  {
   "cell_type": "code",
   "execution_count": 32,
   "metadata": {},
   "outputs": [],
   "source": [
    "# reg = LassoCV().fit(X_train_scaled, y_train_scaled)\n",
    "\n",
    "# print(\"Best alpha using built-in LassoCV: %f\" % reg.alpha_)\n",
    "# print(\"Best score using built-in LassoCV: %f\" %reg.score(X_train,y_train))\n",
    "# coef = pd.Series(reg.coef_, index = X_train.columns)\n",
    "\n",
    "\n",
    "# print(\"Lasso picked \" + str(sum(coef != 0)) + \n",
    "#       \" variables and eliminated the other \" +  \n",
    "#       str(sum(coef == 0)) + \" variables\")\n",
    "# pd.DataFrame(coef)"
   ]
  },
  {
   "cell_type": "code",
   "execution_count": 33,
   "metadata": {},
   "outputs": [],
   "source": [
    "# imp_coef = coef.sort_values()\n",
    "\n",
    "# matplotlib.rcParams['figure.figsize'] = (4.0, 5.0)\n",
    "# imp_coef.plot(kind = \"barh\")\n",
    "# plt.title(\"Feature importance using Lasso Model\")"
   ]
  },
  {
   "cell_type": "code",
   "execution_count": 34,
   "metadata": {},
   "outputs": [],
   "source": [
    "def lasso_cv_coef(X_train, y_train, plotit=True, summarize=True):\n",
    "    '''\n",
    "lasso_cv_coef(X_train, y_train, plotit=True, summarize=True)\n",
    "plotit produces plot at runtime\n",
    "summarize returns printed summary\n",
    "RETURNS: model, alpha, score, coef, yhat    \n",
    "    '''\n",
    "    model = LassoCV().fit(X_train, y_train)\n",
    "    alpha = model.alpha_\n",
    "    score = model.score(X_train, y_train)\n",
    "    coef = pd.Series(model.coef_, index = X_train.columns)\n",
    "    yhat = model.predict(X_train)\n",
    "    if summarize:\n",
    "        imp_coef = coef.sort_values()\n",
    "        vars_kept = sum(coef != 0)\n",
    "        vars_elim = sum(coef == 0)\n",
    "        print(\"Best alpha using built-in LassoCV: %f\" %model.alpha_)\n",
    "        print(\"Best score using built-in LassoCV: %f\" %model.score(X_train,y_train))\n",
    "        print(\"Lasso picked \" + str(sum(coef != 0)) + \n",
    "              \" variables and eliminated the other \" +  \n",
    "              str(sum(coef == 0)) + \" variables\")\n",
    "        print(pd.DataFrame(coef))\n",
    "    if plotit:\n",
    "        imp_coef = coef.sort_values()\n",
    "        matplotlib.rcParams['figure.figsize'] = (4.0, 5.0)\n",
    "        imp_coef.plot(kind = \"barh\")\n",
    "        plt.title(\"Feature importance using Lasso Model\")\n",
    "        plt.plot()\n",
    "    return model, alpha, score, coef, yhat"
   ]
  },
  {
   "cell_type": "code",
   "execution_count": 35,
   "metadata": {},
   "outputs": [
    {
     "name": "stdout",
     "output_type": "stream",
     "text": [
      "Best alpha using built-in LassoCV: 0.001213\n",
      "Best score using built-in LassoCV: 0.709545\n",
      "Lasso picked 3 variables and eliminated the other 2 variables\n",
      "                  0\n",
      "displ     -0.156792\n",
      "hp        -0.101252\n",
      "lbs       -0.453905\n",
      "accltn     0.000000\n",
      "dummy_val  0.000000\n"
     ]
    },
    {
     "data": {
      "image/png": "[encoded data removed]",
      "text/plain": [
       "<Figure size 288x360 with 1 Axes>"
      ]
     },
     "metadata": {
      "needs_background": "light"
     },
     "output_type": "display_data"
    }
   ],
   "source": [
    "lasso_model, lasso_alpha, lasso_score, lasso_coef, lasso_yhat = \\\n",
    "    features.lasso_cv_coef(X_train=X_train_scaled, y_train=y_train_scaled, plotit=True, summarize=True)"
   ]
  },
  {
   "cell_type": "code",
   "execution_count": null,
   "metadata": {},
   "outputs": [],
   "source": []
  },
  {
   "cell_type": "markdown",
   "metadata": {},
   "source": [
    "5. **Write 3 functions ...**"
   ]
  },
  {
   "cell_type": "code",
   "execution_count": 36,
   "metadata": {},
   "outputs": [],
   "source": [
    "from sklearn.linear_model import LinearRegression\n",
    "from sklearn.feature_selection import RFE"
   ]
  },
  {
   "cell_type": "code",
   "execution_count": 37,
   "metadata": {},
   "outputs": [
    {
     "name": "stdout",
     "output_type": "stream",
     "text": [
      "[ True  True  True False False]\n",
      "[1 1 1 2 3]\n"
     ]
    },
    {
     "data": {
      "text/plain": [
       "RFE(estimator=LinearRegression(copy_X=True, fit_intercept=True, n_jobs=None,\n",
       "                               normalize=False),\n",
       "    n_features_to_select=3, step=1, verbose=0)"
      ]
     },
     "execution_count": 37,
     "metadata": {},
     "output_type": "execute_result"
    }
   ],
   "source": [
    "model = LinearRegression()\n",
    "\n",
    "#Initializing RFE model, with parameter to select top 2 features. \n",
    "rfe = RFE(model, 3)\n",
    "\n",
    "#Transforming data using RFE\n",
    "X_rfe = rfe.fit_transform(X_train_scaled,y_train_scaled)  \n",
    "\n",
    "#Fitting the data to model\n",
    "model.fit(X_rfe,y_train)\n",
    "\n",
    "print(rfe.support_)\n",
    "print(rfe.ranking_)\n",
    "rfe"
   ]
  },
  {
   "cell_type": "code",
   "execution_count": 38,
   "metadata": {},
   "outputs": [
    {
     "name": "stdout",
     "output_type": "stream",
     "text": [
      "Index(['displ', 'hp', 'lbs'], dtype='object')\n"
     ]
    }
   ],
   "source": [
    "cols = list(X_train.columns)\n",
    "model = LinearRegression()\n",
    "\n",
    "#Initializing RFE model\n",
    "rfe = RFE(model, 3)\n",
    "\n",
    "#Transforming data using RFE\n",
    "X_rfe = rfe.fit_transform(X_train_scaled,y_train_scaled)  \n",
    "\n",
    "#Fitting the data to model\n",
    "model.fit(X_rfe,y_train)\n",
    "temp = pd.Series(rfe.support_,index = cols)\n",
    "selected_features_rfe = temp[temp==True].index\n",
    "\n",
    "print(selected_features_rfe)"
   ]
  },
  {
   "cell_type": "markdown",
   "metadata": {},
   "source": [
    "   - **The first computes the number of optimum features (n) using rfe**"
   ]
  },
  {
   "cell_type": "code",
   "execution_count": 95,
   "metadata": {},
   "outputs": [],
   "source": [
    "def optimal_number_of_features(X_train, y_train):\n",
    "    '''\n",
    "    optimal_number_of_features(X_train, y_train, X_test, y_test)\n",
    "    RETURNS: number_of_features\n",
    "    \n",
    "    discover the optimal number of features, n, using our scaled x and y dataframes, recursive feature\n",
    "    elimination and linear regression (to test the performance with each number of features).\n",
    "    We will use the output of this function (the number of features) as input to the next function\n",
    "    optimal_features, which will then run recursive feature elimination to find the n best features\n",
    "    '''\n",
    "\n",
    "    number_of_attributes = X_train.shape[1]\n",
    "    number_of_features_list=np.arange(1,number_of_attributes + 1) # found error - needed to add 1 to attributes\n",
    "    high_score=0\n",
    "    \n",
    "    #Variable to store the optimum features\n",
    "    number_of_features=0           \n",
    "    score_list =[]\n",
    "    \n",
    "    for n in range(len(number_of_features_list)):\n",
    "        model = LinearRegression()\n",
    "        rfe = RFE(model,number_of_features_list[n])\n",
    "        X_train_rfe = rfe.fit_transform(X_train,y_train)\n",
    "        #X_test_rfe = rfe.transform(X_test)\n",
    "        model.fit(X_train_rfe,y_train)\n",
    "        score = model.score(X_train_rfe,y_train)\n",
    "        score_list.append(score)\n",
    "        # print(f'Features: {number_of_features_list[n]}; score: {score:.6f}')\n",
    "        if(score>high_score):\n",
    "            # print('new high score!')\n",
    "            high_score = score\n",
    "            number_of_features = number_of_features_list[n]\n",
    "    return number_of_features"
   ]
  },
  {
   "cell_type": "code",
   "execution_count": 96,
   "metadata": {},
   "outputs": [
    {
     "name": "stdout",
     "output_type": "stream",
     "text": [
      "4\n"
     ]
    }
   ],
   "source": [
    "number_of_features = optimal_number_of_features(X_train_scaled, y_train_scaled)\n",
    "print(number_of_features)"
   ]
  },
  {
   "cell_type": "markdown",
   "metadata": {},
   "source": [
    "   - **The second takes n as input and returns the top n features**"
   ]
  },
  {
   "cell_type": "code",
   "execution_count": 97,
   "metadata": {},
   "outputs": [],
   "source": [
    "def optimal_features(X_train, y_train, number_of_features):\n",
    "    '''\n",
    "    optimal_features(X_train, y_train, number_of_features)\n",
    "    RETURNS: selected_features_rfe\n",
    "    \n",
    "    Taking the output of optimal_number_of_features, as n, and use that value to \n",
    "    run recursive feature elimination to find the n best features'''\n",
    "    cols = list(X_train.columns)\n",
    "    model = LinearRegression()\n",
    "    \n",
    "    #Initializing RFE model\n",
    "    rfe = RFE(model, number_of_features)\n",
    "\n",
    "    #Transforming data using RFE\n",
    "    X_rfe = rfe.fit_transform(X_train,y_train)  \n",
    "\n",
    "    #Fitting the data to model\n",
    "    model.fit(X_rfe,y_train)\n",
    "    temp = pd.Series(rfe.support_,index = cols)\n",
    "    selected_features_rfe = temp[temp==True].index\n",
    "    \n",
    "    return selected_features_rfe"
   ]
  },
  {
   "cell_type": "code",
   "execution_count": 98,
   "metadata": {},
   "outputs": [
    {
     "data": {
      "text/plain": [
       "Index(['displ', 'hp', 'lbs', 'accltn'], dtype='object')"
      ]
     },
     "execution_count": 98,
     "metadata": {},
     "output_type": "execute_result"
    }
   ],
   "source": [
    "selected_features_rfe = optimal_features(X_train_scaled, y_train_scaled, number_of_features)\n",
    "selected_features_rfe"
   ]
  },
  {
   "cell_type": "markdown",
   "metadata": {},
   "source": [
    "   - **The third takes the list of the top n features as input and returns a new X_train and X_test dataframe with those top features,** \n",
    "   `recursive_feature_elimination()` \n",
    "   **that computes the optimum number of features (n) and returns the top n features.**"
   ]
  },
  {
   "cell_type": "code",
   "execution_count": 99,
   "metadata": {},
   "outputs": [],
   "source": [
    "def create_optimal_dataframe(X_train, X_test, selected_features_rfe):\n",
    "    '''\n",
    "    create_optimal_dataframe(X_train, X_test, selected_features)\n",
    "    RETURNS X_train_optimal, X_test_optimal\n",
    "\n",
    "    Takes output of optimal_features and creates new optimized X_train and X_test\n",
    "    dataframes containing only those features..\n",
    "    '''\n",
    "\n",
    "    X_train_optimal = X_train[selected_features_rfe]\n",
    "    X_test_optimal = X_test[selected_features_rfe]\n",
    "\n",
    "    return X_train_optimal, X_test_optimal"
   ]
  },
  {
   "cell_type": "code",
   "execution_count": 100,
   "metadata": {},
   "outputs": [],
   "source": [
    "X_train_optimal, X_test_optimal = create_optimal_dataframe(X_train_scaled, X_test_scaled, selected_features_rfe)"
   ]
  },
  {
   "cell_type": "code",
   "execution_count": 101,
   "metadata": {},
   "outputs": [
    {
     "data": {
      "text/html": [
       "<div>\n",
       "<style scoped>\n",
       "    .dataframe tbody tr th:only-of-type {\n",
       "        vertical-align: middle;\n",
       "    }\n",
       "\n",
       "    .dataframe tbody tr th {\n",
       "        vertical-align: top;\n",
       "    }\n",
       "\n",
       "    .dataframe thead th {\n",
       "        text-align: right;\n",
       "    }\n",
       "</style>\n",
       "<table border=\"1\" class=\"dataframe\">\n",
       "  <thead>\n",
       "    <tr style=\"text-align: right;\">\n",
       "      <th></th>\n",
       "      <th>displ</th>\n",
       "      <th>hp</th>\n",
       "      <th>lbs</th>\n",
       "      <th>accltn</th>\n",
       "      <th>mpg</th>\n",
       "    </tr>\n",
       "  </thead>\n",
       "  <tbody>\n",
       "    <tr>\n",
       "      <th>6</th>\n",
       "      <td>0.997416</td>\n",
       "      <td>0.945652</td>\n",
       "      <td>0.777148</td>\n",
       "      <td>0.030675</td>\n",
       "      <td>0.132979</td>\n",
       "    </tr>\n",
       "    <tr>\n",
       "      <th>301</th>\n",
       "      <td>0.046512</td>\n",
       "      <td>0.103261</td>\n",
       "      <td>0.102637</td>\n",
       "      <td>0.411043</td>\n",
       "      <td>0.667553</td>\n",
       "    </tr>\n",
       "    <tr>\n",
       "      <th>129</th>\n",
       "      <td>0.136951</td>\n",
       "      <td>0.347826</td>\n",
       "      <td>0.296853</td>\n",
       "      <td>0.337423</td>\n",
       "      <td>0.398936</td>\n",
       "    </tr>\n",
       "    <tr>\n",
       "      <th>179</th>\n",
       "      <td>0.056848</td>\n",
       "      <td>0.135870</td>\n",
       "      <td>0.172952</td>\n",
       "      <td>0.490798</td>\n",
       "      <td>0.425532</td>\n",
       "    </tr>\n",
       "    <tr>\n",
       "      <th>115</th>\n",
       "      <td>0.074935</td>\n",
       "      <td>0.228261</td>\n",
       "      <td>0.188829</td>\n",
       "      <td>0.644172</td>\n",
       "      <td>0.292553</td>\n",
       "    </tr>\n",
       "  </tbody>\n",
       "</table>\n",
       "</div>"
      ],
      "text/plain": [
       "        displ        hp       lbs    accltn       mpg\n",
       "6    0.997416  0.945652  0.777148  0.030675  0.132979\n",
       "301  0.046512  0.103261  0.102637  0.411043  0.667553\n",
       "129  0.136951  0.347826  0.296853  0.337423  0.398936\n",
       "179  0.056848  0.135870  0.172952  0.490798  0.425532\n",
       "115  0.074935  0.228261  0.188829  0.644172  0.292553"
      ]
     },
     "execution_count": 101,
     "metadata": {},
     "output_type": "execute_result"
    }
   ],
   "source": [
    "X_train_optimal.join(y_train_scaled).head(5)"
   ]
  },
  {
   "cell_type": "code",
   "execution_count": 102,
   "metadata": {},
   "outputs": [
    {
     "data": {
      "text/html": [
       "<div>\n",
       "<style scoped>\n",
       "    .dataframe tbody tr th:only-of-type {\n",
       "        vertical-align: middle;\n",
       "    }\n",
       "\n",
       "    .dataframe tbody tr th {\n",
       "        vertical-align: top;\n",
       "    }\n",
       "\n",
       "    .dataframe thead th {\n",
       "        text-align: right;\n",
       "    }\n",
       "</style>\n",
       "<table border=\"1\" class=\"dataframe\">\n",
       "  <thead>\n",
       "    <tr style=\"text-align: right;\">\n",
       "      <th></th>\n",
       "      <th>displ</th>\n",
       "      <th>hp</th>\n",
       "      <th>lbs</th>\n",
       "      <th>accltn</th>\n",
       "      <th>mpg</th>\n",
       "    </tr>\n",
       "  </thead>\n",
       "  <tbody>\n",
       "    <tr>\n",
       "      <th>229</th>\n",
       "      <td>0.496124</td>\n",
       "      <td>0.347826</td>\n",
       "      <td>0.693791</td>\n",
       "      <td>0.644172</td>\n",
       "      <td>0.212766</td>\n",
       "    </tr>\n",
       "    <tr>\n",
       "      <th>254</th>\n",
       "      <td>0.043928</td>\n",
       "      <td>0.130435</td>\n",
       "      <td>0.129572</td>\n",
       "      <td>0.619632</td>\n",
       "      <td>0.808511</td>\n",
       "    </tr>\n",
       "    <tr>\n",
       "      <th>143</th>\n",
       "      <td>0.604651</td>\n",
       "      <td>0.510870</td>\n",
       "      <td>0.716756</td>\n",
       "      <td>0.337423</td>\n",
       "      <td>0.186170</td>\n",
       "    </tr>\n",
       "    <tr>\n",
       "      <th>156</th>\n",
       "      <td>0.134367</td>\n",
       "      <td>0.277174</td>\n",
       "      <td>0.248370</td>\n",
       "      <td>0.398773</td>\n",
       "      <td>0.398936</td>\n",
       "    </tr>\n",
       "    <tr>\n",
       "      <th>404</th>\n",
       "      <td>0.134367</td>\n",
       "      <td>0.179348</td>\n",
       "      <td>0.286929</td>\n",
       "      <td>0.619632</td>\n",
       "      <td>0.505319</td>\n",
       "    </tr>\n",
       "  </tbody>\n",
       "</table>\n",
       "</div>"
      ],
      "text/plain": [
       "        displ        hp       lbs    accltn       mpg\n",
       "229  0.496124  0.347826  0.693791  0.644172  0.212766\n",
       "254  0.043928  0.130435  0.129572  0.619632  0.808511\n",
       "143  0.604651  0.510870  0.716756  0.337423  0.186170\n",
       "156  0.134367  0.277174  0.248370  0.398773  0.398936\n",
       "404  0.134367  0.179348  0.286929  0.619632  0.505319"
      ]
     },
     "execution_count": 102,
     "metadata": {},
     "output_type": "execute_result"
    }
   ],
   "source": [
    "X_test_optimal.join(y_test_scaled).head(5)"
   ]
  },
  {
   "cell_type": "code",
   "execution_count": 103,
   "metadata": {},
   "outputs": [],
   "source": [
    "def recursive_feature_elimination(X_train, y_train, X_test, y_test):\n",
    "    '''\n",
    "    recursive_feature_elimination(X_train, y_train, X_test, y_test)\n",
    "    RETURNS X_train_optimal, X_test_optimal\n",
    "\n",
    "    Combines optimal_number_of_features, optimal_features, and \n",
    "    create_optimal_dataframe into one single function. Accepts X and y train and \n",
    "    test dataframes, returns optimal X train and test dataframes.\n",
    "    '''\n",
    "\n",
    "    number_of_features = optimal_number_of_features(X_train, y_train)\n",
    "    selected_features_rfe = optimal_features(X_train, y_train, number_of_features)\n",
    "    X_train_rfe, X_test_rfe = create_optimal_dataframe(X_train, X_test, selected_features_rfe)\n",
    "\n",
    "    return X_train_rfe, X_test_rfe"
   ]
  },
  {
   "cell_type": "code",
   "execution_count": 104,
   "metadata": {},
   "outputs": [],
   "source": [
    "X_train_rfe, X_test_rfe = recursive_feature_elimination(X_train_scaled, y_train_scaled, X_test_scaled, y_test_scaled)"
   ]
  },
  {
   "cell_type": "code",
   "execution_count": 105,
   "metadata": {},
   "outputs": [
    {
     "data": {
      "text/html": [
       "<div>\n",
       "<style scoped>\n",
       "    .dataframe tbody tr th:only-of-type {\n",
       "        vertical-align: middle;\n",
       "    }\n",
       "\n",
       "    .dataframe tbody tr th {\n",
       "        vertical-align: top;\n",
       "    }\n",
       "\n",
       "    .dataframe thead th {\n",
       "        text-align: right;\n",
       "    }\n",
       "</style>\n",
       "<table border=\"1\" class=\"dataframe\">\n",
       "  <thead>\n",
       "    <tr style=\"text-align: right;\">\n",
       "      <th></th>\n",
       "      <th>displ</th>\n",
       "      <th>hp</th>\n",
       "      <th>lbs</th>\n",
       "      <th>accltn</th>\n",
       "      <th>mpg</th>\n",
       "    </tr>\n",
       "  </thead>\n",
       "  <tbody>\n",
       "    <tr>\n",
       "      <th>6</th>\n",
       "      <td>0.997416</td>\n",
       "      <td>0.945652</td>\n",
       "      <td>0.777148</td>\n",
       "      <td>0.030675</td>\n",
       "      <td>0.132979</td>\n",
       "    </tr>\n",
       "    <tr>\n",
       "      <th>301</th>\n",
       "      <td>0.046512</td>\n",
       "      <td>0.103261</td>\n",
       "      <td>0.102637</td>\n",
       "      <td>0.411043</td>\n",
       "      <td>0.667553</td>\n",
       "    </tr>\n",
       "    <tr>\n",
       "      <th>129</th>\n",
       "      <td>0.136951</td>\n",
       "      <td>0.347826</td>\n",
       "      <td>0.296853</td>\n",
       "      <td>0.337423</td>\n",
       "      <td>0.398936</td>\n",
       "    </tr>\n",
       "    <tr>\n",
       "      <th>179</th>\n",
       "      <td>0.056848</td>\n",
       "      <td>0.135870</td>\n",
       "      <td>0.172952</td>\n",
       "      <td>0.490798</td>\n",
       "      <td>0.425532</td>\n",
       "    </tr>\n",
       "    <tr>\n",
       "      <th>115</th>\n",
       "      <td>0.074935</td>\n",
       "      <td>0.228261</td>\n",
       "      <td>0.188829</td>\n",
       "      <td>0.644172</td>\n",
       "      <td>0.292553</td>\n",
       "    </tr>\n",
       "  </tbody>\n",
       "</table>\n",
       "</div>"
      ],
      "text/plain": [
       "        displ        hp       lbs    accltn       mpg\n",
       "6    0.997416  0.945652  0.777148  0.030675  0.132979\n",
       "301  0.046512  0.103261  0.102637  0.411043  0.667553\n",
       "129  0.136951  0.347826  0.296853  0.337423  0.398936\n",
       "179  0.056848  0.135870  0.172952  0.490798  0.425532\n",
       "115  0.074935  0.228261  0.188829  0.644172  0.292553"
      ]
     },
     "execution_count": 105,
     "metadata": {},
     "output_type": "execute_result"
    }
   ],
   "source": [
    "X_train_rfe.join(y_train_scaled).head()"
   ]
  },
  {
   "cell_type": "code",
   "execution_count": 106,
   "metadata": {},
   "outputs": [
    {
     "data": {
      "text/html": [
       "<div>\n",
       "<style scoped>\n",
       "    .dataframe tbody tr th:only-of-type {\n",
       "        vertical-align: middle;\n",
       "    }\n",
       "\n",
       "    .dataframe tbody tr th {\n",
       "        vertical-align: top;\n",
       "    }\n",
       "\n",
       "    .dataframe thead th {\n",
       "        text-align: right;\n",
       "    }\n",
       "</style>\n",
       "<table border=\"1\" class=\"dataframe\">\n",
       "  <thead>\n",
       "    <tr style=\"text-align: right;\">\n",
       "      <th></th>\n",
       "      <th>displ</th>\n",
       "      <th>hp</th>\n",
       "      <th>lbs</th>\n",
       "      <th>accltn</th>\n",
       "      <th>mpg</th>\n",
       "    </tr>\n",
       "  </thead>\n",
       "  <tbody>\n",
       "    <tr>\n",
       "      <th>229</th>\n",
       "      <td>0.496124</td>\n",
       "      <td>0.347826</td>\n",
       "      <td>0.693791</td>\n",
       "      <td>0.644172</td>\n",
       "      <td>0.212766</td>\n",
       "    </tr>\n",
       "    <tr>\n",
       "      <th>254</th>\n",
       "      <td>0.043928</td>\n",
       "      <td>0.130435</td>\n",
       "      <td>0.129572</td>\n",
       "      <td>0.619632</td>\n",
       "      <td>0.808511</td>\n",
       "    </tr>\n",
       "    <tr>\n",
       "      <th>143</th>\n",
       "      <td>0.604651</td>\n",
       "      <td>0.510870</td>\n",
       "      <td>0.716756</td>\n",
       "      <td>0.337423</td>\n",
       "      <td>0.186170</td>\n",
       "    </tr>\n",
       "    <tr>\n",
       "      <th>156</th>\n",
       "      <td>0.134367</td>\n",
       "      <td>0.277174</td>\n",
       "      <td>0.248370</td>\n",
       "      <td>0.398773</td>\n",
       "      <td>0.398936</td>\n",
       "    </tr>\n",
       "    <tr>\n",
       "      <th>404</th>\n",
       "      <td>0.134367</td>\n",
       "      <td>0.179348</td>\n",
       "      <td>0.286929</td>\n",
       "      <td>0.619632</td>\n",
       "      <td>0.505319</td>\n",
       "    </tr>\n",
       "  </tbody>\n",
       "</table>\n",
       "</div>"
      ],
      "text/plain": [
       "        displ        hp       lbs    accltn       mpg\n",
       "229  0.496124  0.347826  0.693791  0.644172  0.212766\n",
       "254  0.043928  0.130435  0.129572  0.619632  0.808511\n",
       "143  0.604651  0.510870  0.716756  0.337423  0.186170\n",
       "156  0.134367  0.277174  0.248370  0.398773  0.398936\n",
       "404  0.134367  0.179348  0.286929  0.619632  0.505319"
      ]
     },
     "execution_count": 106,
     "metadata": {},
     "output_type": "execute_result"
    }
   ],
   "source": [
    "X_test_rfe.join(y_test_scaled).head()"
   ]
  },
  {
   "cell_type": "code",
   "execution_count": 107,
   "metadata": {},
   "outputs": [],
   "source": [
    "X_train_rfe2, X_test_rfe2 = recursive_feature_elimination(X_train_rfe, y_train_scaled, X_test_rfe, y_test_scaled)"
   ]
  },
  {
   "cell_type": "code",
   "execution_count": 108,
   "metadata": {},
   "outputs": [
    {
     "data": {
      "text/html": [
       "<div>\n",
       "<style scoped>\n",
       "    .dataframe tbody tr th:only-of-type {\n",
       "        vertical-align: middle;\n",
       "    }\n",
       "\n",
       "    .dataframe tbody tr th {\n",
       "        vertical-align: top;\n",
       "    }\n",
       "\n",
       "    .dataframe thead th {\n",
       "        text-align: right;\n",
       "    }\n",
       "</style>\n",
       "<table border=\"1\" class=\"dataframe\">\n",
       "  <thead>\n",
       "    <tr style=\"text-align: right;\">\n",
       "      <th></th>\n",
       "      <th>displ</th>\n",
       "      <th>hp</th>\n",
       "      <th>lbs</th>\n",
       "      <th>accltn</th>\n",
       "      <th>mpg</th>\n",
       "    </tr>\n",
       "  </thead>\n",
       "  <tbody>\n",
       "    <tr>\n",
       "      <th>6</th>\n",
       "      <td>0.997416</td>\n",
       "      <td>0.945652</td>\n",
       "      <td>0.777148</td>\n",
       "      <td>0.030675</td>\n",
       "      <td>0.132979</td>\n",
       "    </tr>\n",
       "    <tr>\n",
       "      <th>301</th>\n",
       "      <td>0.046512</td>\n",
       "      <td>0.103261</td>\n",
       "      <td>0.102637</td>\n",
       "      <td>0.411043</td>\n",
       "      <td>0.667553</td>\n",
       "    </tr>\n",
       "    <tr>\n",
       "      <th>129</th>\n",
       "      <td>0.136951</td>\n",
       "      <td>0.347826</td>\n",
       "      <td>0.296853</td>\n",
       "      <td>0.337423</td>\n",
       "      <td>0.398936</td>\n",
       "    </tr>\n",
       "    <tr>\n",
       "      <th>179</th>\n",
       "      <td>0.056848</td>\n",
       "      <td>0.135870</td>\n",
       "      <td>0.172952</td>\n",
       "      <td>0.490798</td>\n",
       "      <td>0.425532</td>\n",
       "    </tr>\n",
       "    <tr>\n",
       "      <th>115</th>\n",
       "      <td>0.074935</td>\n",
       "      <td>0.228261</td>\n",
       "      <td>0.188829</td>\n",
       "      <td>0.644172</td>\n",
       "      <td>0.292553</td>\n",
       "    </tr>\n",
       "  </tbody>\n",
       "</table>\n",
       "</div>"
      ],
      "text/plain": [
       "        displ        hp       lbs    accltn       mpg\n",
       "6    0.997416  0.945652  0.777148  0.030675  0.132979\n",
       "301  0.046512  0.103261  0.102637  0.411043  0.667553\n",
       "129  0.136951  0.347826  0.296853  0.337423  0.398936\n",
       "179  0.056848  0.135870  0.172952  0.490798  0.425532\n",
       "115  0.074935  0.228261  0.188829  0.644172  0.292553"
      ]
     },
     "execution_count": 108,
     "metadata": {},
     "output_type": "execute_result"
    }
   ],
   "source": [
    "X_train_rfe2.join(y_train_scaled).head()"
   ]
  }
 ],
 "metadata": {
  "kernelspec": {
   "display_name": "Python 3",
   "language": "python",
   "name": "python3"
  },
  "language_info": {
   "codemirror_mode": {
    "name": "ipython",
    "version": 3
   },
   "file_extension": ".py",
   "mimetype": "text/x-python",
   "name": "python",
   "nbconvert_exporter": "python",
   "pygments_lexer": "ipython3",
   "version": "3.7.3"
  }
 },
 "nbformat": 4,
 "nbformat_minor": 2
}
