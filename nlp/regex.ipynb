{
 "cells": [
  {
   "cell_type": "markdown",
   "metadata": {},
   "source": [
    "# Exercises - Regular Expressions\n",
    "[*Lesson Page*](https://ds.codeup.com/11-nlp/2-regular-expressions/)"
   ]
  },
  {
   "cell_type": "markdown",
   "metadata": {},
   "source": [
    "Create a directory named `nlp` to do your work for this module. All exercises should live inside of this directory.\n",
    "\n",
    "Unless a specific file extension is specified, you may do your work either in a python script (.py) or a jupyter notebook (.ipynb).\n",
    "\n",
    "Do your work for this exercise in a file named `regex`."
   ]
  },
  {
   "cell_type": "code",
   "execution_count": 1,
   "metadata": {},
   "outputs": [],
   "source": [
    "import pandas as pd\n",
    "import re\n",
    "from zgulde.hl_matches import hl_all_matches_nb as hl"
   ]
  },
  {
   "cell_type": "markdown",
   "metadata": {},
   "source": [
    "1. **Write a function named `is_vowel`. It should accept a string as input and use a regular expression to determine if the passed string is a vowel. While not explicity mentioned in the lesson, you can treat the result of re.search as a boolean value that indicates whether or not the regular expression matches the given string.**"
   ]
  },
  {
   "cell_type": "code",
   "execution_count": 2,
   "metadata": {},
   "outputs": [],
   "source": [
    "def is_vowel(chars):\n",
    "    '''\n",
    "    returns True if test value is one single vowel\n",
    "    >>> is_vowel('a')\n",
    "    True\n",
    "    >>> is_vowel('aa')\n",
    "    False\n",
    "    >>> is_vowel('')\n",
    "    False\n",
    "    >>> is_vowel(9)\n",
    "    False\n",
    "    >>> is_vowel('A')\n",
    "    True\n",
    "    '''\n",
    "    test = str(chars).lower()\n",
    "    chk = r'^[aeiou]$'\n",
    "    return re.search(chk, test) is not None"
   ]
  },
  {
   "cell_type": "code",
   "execution_count": 3,
   "metadata": {},
   "outputs": [
    {
     "data": {
      "text/html": [
       "<div>\n",
       "<style scoped>\n",
       "    .dataframe tbody tr th:only-of-type {\n",
       "        vertical-align: middle;\n",
       "    }\n",
       "\n",
       "    .dataframe tbody tr th {\n",
       "        vertical-align: top;\n",
       "    }\n",
       "\n",
       "    .dataframe thead th {\n",
       "        text-align: right;\n",
       "    }\n",
       "</style>\n",
       "<table border=\"1\" class=\"dataframe\">\n",
       "  <thead>\n",
       "    <tr style=\"text-align: right;\">\n",
       "      <th></th>\n",
       "      <th>test</th>\n",
       "      <th>is_vowel</th>\n",
       "    </tr>\n",
       "  </thead>\n",
       "  <tbody>\n",
       "    <tr>\n",
       "      <th>0</th>\n",
       "      <td>a</td>\n",
       "      <td>True</td>\n",
       "    </tr>\n",
       "    <tr>\n",
       "      <th>3</th>\n",
       "      <td>A</td>\n",
       "      <td>True</td>\n",
       "    </tr>\n",
       "  </tbody>\n",
       "</table>\n",
       "</div>"
      ],
      "text/plain": [
       "  test  is_vowel\n",
       "0    a      True\n",
       "3    A      True"
      ]
     },
     "execution_count": 3,
     "metadata": {},
     "output_type": "execute_result"
    }
   ],
   "source": [
    "test1 = pd.DataFrame(['a','aa','b','A','A ','$', 9, '9'], columns=['test'])\n",
    "test1['is_vowel'] = test1.test.apply(lambda x: is_vowel(x))\n",
    "test1[test1.is_vowel == True]"
   ]
  },
  {
   "cell_type": "markdown",
   "metadata": {},
   "source": [
    "2. **Write a function named `is_valid_username` that accepts a string as input. A valid username starts with a lowercase letter, and only consists of lowercase letters, numbers, or the _ character. It should also be no longer than 32 characters. The function should return either True or False depending on whether the passed string is a valid username.**\n",
    "\n",
    "\n",
    "<code>\n",
    ">>> is_valid_username('aaaaaaaaaaaaaaaaaaaaaaaaaaaaaaaaa')\n",
    "False\n",
    ">>> is_valid_username('codeup')\n",
    "True\n",
    ">>> is_valid_username('Codeup')\n",
    "False\n",
    ">>> is_valid_username('codeup123')\n",
    "True\n",
    ">>> is_valid_username('1codeup')\n",
    "False\n",
    "</code>"
   ]
  },
  {
   "cell_type": "code",
   "execution_count": 4,
   "metadata": {},
   "outputs": [],
   "source": [
    "def is_valid_username(chars):\n",
    "    '''\n",
    "    >>> is_valid_username('aaaaaaaaaaaaaaaaaaaaaaaaaaaaaaaaa')\n",
    "    False\n",
    "    >>> is_valid_username('codeup')\n",
    "    True\n",
    "    >>> is_valid_username('Codeup')\n",
    "    False\n",
    "    >>> is_valid_username('codeup123')\n",
    "    True\n",
    "    >>> is_valid_username('1codeup')\n",
    "    False\n",
    "    '''\n",
    "    test = str(chars)\n",
    "    chk = r'^[a-z][a-z0-9_]{,31}$'\n",
    "    return re.search(chk, test) is not None"
   ]
  },
  {
   "cell_type": "markdown",
   "metadata": {},
   "source": [
    "3. **Write a regular expression to capture phone numbers. It should match all of the following:**\n",
    "\n",
    "\n",
    "(210) 867 5309<br>\n",
    "+1 210.867.5309<br>\n",
    "867-5309<br>\n",
    "210-867-5309<br>"
   ]
  },
  {
   "cell_type": "code",
   "execution_count": 5,
   "metadata": {},
   "outputs": [],
   "source": [
    "def format_phone_number_uscan(chars):\n",
    "    '''\n",
    "    \n",
    "    >>> format_phone_number_uscan('(210) 867 5309')\n",
    "    '210-867-5309'\n",
    "    >>> format_phone_number_uscan('+1 210.867.5309')\n",
    "    '210-867-5309'\n",
    "    >>> format_phone_number_uscan('867-5309')\n",
    "    '867-5309'\n",
    "    >>> format_phone_number_uscan('-867-5309')\n",
    "    False\n",
    "    >>> format_phone_number_uscan('210-867-5309')\n",
    "    '210-867-5309'\n",
    "    >>> format_phone_number_uscan('phone number')\n",
    "    False\n",
    "    '''\n",
    "    test = str(chars.lower())\n",
    "    chk = re.compile(r'^(?P<exchg>\\d{3})[ .-](?P<digits>\\d{4})$')\n",
    "    if chk.search(test) is not None:\n",
    "        results = chk.findall(test)\n",
    "        return results[0][0] + '-' + results[0][1]\n",
    "    chk = re.compile(r'(\\+1[ -.])?[(]?(?P<area>\\d{3})[)]?[ .-](?P<exchg>\\d{3})[ .-](?P<digits>\\d{4})$')\n",
    "    if chk.search(test) is None:\n",
    "        return False\n",
    "    results = chk.findall(test)\n",
    "    return results[0][1] + '-' + results[0][2] + '-' + results[0][3]"
   ]
  },
  {
   "cell_type": "markdown",
   "metadata": {},
   "source": [
    "4. **Use regular expressions to convert the dates below to the standardized year-month-day format.**\n",
    "\n",
    "\n",
    "02/04/19<br>\n",
    "02/05/19<br>\n",
    "02/06/19<br>\n",
    "02/07/19<br>\n",
    "02/08/19<br>\n",
    "02/09/19<br>\n",
    "02/10/19<br>"
   ]
  },
  {
   "cell_type": "code",
   "execution_count": 47,
   "metadata": {},
   "outputs": [],
   "source": [
    "dates = pd.Series(\n",
    "    ['02/04/19', '02/05/2019', '02/06/19', '02/07/19', '02/08/19', '02/09/19', '02/10/19'], \n",
    "    name='dates')\n",
    "chk = re.compile(r'^([0123]?\\d)/([0123]?\\d)/(([\\d]{2})?\\d{2})')\n",
    "\n",
    "# [chk.sub(r'/3-/1-/2', str(date)) for date in dates]"
   ]
  },
  {
   "cell_type": "markdown",
   "metadata": {},
   "source": [
    "5. **Write a regex to extract the various parts of these logfile lines:**\n",
    "\n",
    "<code>GET /api/v1/sales?page=86 [16/Apr/2019:193452+0000] HTTP/1.1 {200} 510348 \"python-requests/2.21.0\" 97.105.19.58<br>POST /users_accounts/file-upload [16/Apr/2019:193452+0000] HTTP/1.1 {201} 42 \"User-Agent: Mozilla/5.0 (X11; Fedora; Fedora; Linux x86_64) AppleWebKit/537.36 (KHTML, like Gecko) Chrome/73.0.3683.86 Safari/537.36\" 97.105.19.58<br>GET /api/v1/items?page=3 [16/Apr/2019:193453+0000] HTTP/1.1 {429} 3561 \"python-requests/2.21.0\" 97.105.19.58</code>"
   ]
  },
  {
   "cell_type": "code",
   "execution_count": 49,
   "metadata": {},
   "outputs": [
    {
     "data": {
      "text/plain": [
       "0    GET /api/v1/sales?page=86 [16/Apr/2019:193452+...\n",
       "1    POST /users_accounts/file-upload [16/Apr/2019:...\n",
       "2    GET /api/v1/items?page=3 [16/Apr/2019:193453+0...\n",
       "dtype: object"
      ]
     },
     "metadata": {},
     "output_type": "display_data"
    },
    {
     "data": {
      "text/html": [
       "<div>\n",
       "<style scoped>\n",
       "    .dataframe tbody tr th:only-of-type {\n",
       "        vertical-align: middle;\n",
       "    }\n",
       "\n",
       "    .dataframe tbody tr th {\n",
       "        vertical-align: top;\n",
       "    }\n",
       "\n",
       "    .dataframe thead th {\n",
       "        text-align: right;\n",
       "    }\n",
       "</style>\n",
       "<table border=\"1\" class=\"dataframe\">\n",
       "  <thead>\n",
       "    <tr style=\"text-align: right;\">\n",
       "      <th></th>\n",
       "      <th>method</th>\n",
       "      <th>path</th>\n",
       "      <th>qstring</th>\n",
       "      <th>timestamp</th>\n",
       "      <th>protocol</th>\n",
       "      <th>status</th>\n",
       "      <th>bytes</th>\n",
       "      <th>useragent</th>\n",
       "      <th>ip</th>\n",
       "    </tr>\n",
       "  </thead>\n",
       "  <tbody>\n",
       "    <tr>\n",
       "      <th>0</th>\n",
       "      <td>GET</td>\n",
       "      <td>/api/v1/sales</td>\n",
       "      <td>?page=86</td>\n",
       "      <td>16/Apr/2019:193452+0000</td>\n",
       "      <td>HTTP/1.1</td>\n",
       "      <td>{200}</td>\n",
       "      <td>510348</td>\n",
       "      <td>\"python-requests/2.21.0\"</td>\n",
       "      <td>97.105.19.5</td>\n",
       "    </tr>\n",
       "    <tr>\n",
       "      <th>1</th>\n",
       "      <td>POST</td>\n",
       "      <td>/users_accounts/file-upload</td>\n",
       "      <td>NaN</td>\n",
       "      <td>16/Apr/2019:193452+0000</td>\n",
       "      <td>HTTP/1.1</td>\n",
       "      <td>{201}</td>\n",
       "      <td>42</td>\n",
       "      <td>\"User-Agent: Mozilla/5.0 (X11; Fedora; Fedora;...</td>\n",
       "      <td>97.105.19.5</td>\n",
       "    </tr>\n",
       "    <tr>\n",
       "      <th>2</th>\n",
       "      <td>GET</td>\n",
       "      <td>/api/v1/items</td>\n",
       "      <td>?page=3</td>\n",
       "      <td>16/Apr/2019:193453+0000</td>\n",
       "      <td>HTTP/1.1</td>\n",
       "      <td>{429}</td>\n",
       "      <td>3561</td>\n",
       "      <td>\"python-requests/2.21.0\"</td>\n",
       "      <td>97.105.19.5</td>\n",
       "    </tr>\n",
       "  </tbody>\n",
       "</table>\n",
       "</div>"
      ],
      "text/plain": [
       "  method                         path   qstring                timestamp  \\\n",
       "0    GET                /api/v1/sales  ?page=86  16/Apr/2019:193452+0000   \n",
       "1   POST  /users_accounts/file-upload       NaN  16/Apr/2019:193452+0000   \n",
       "2    GET                /api/v1/items   ?page=3  16/Apr/2019:193453+0000   \n",
       "\n",
       "   protocol status   bytes                                          useragent  \\\n",
       "0  HTTP/1.1  {200}  510348                           \"python-requests/2.21.0\"   \n",
       "1  HTTP/1.1  {201}      42  \"User-Agent: Mozilla/5.0 (X11; Fedora; Fedora;...   \n",
       "2  HTTP/1.1  {429}    3561                           \"python-requests/2.21.0\"   \n",
       "\n",
       "            ip  \n",
       "0  97.105.19.5  \n",
       "1  97.105.19.5  \n",
       "2  97.105.19.5  "
      ]
     },
     "metadata": {},
     "output_type": "display_data"
    }
   ],
   "source": [
    "inputs5 = pd.Series([\n",
    "    r'GET /api/v1/sales?page=86 [16/Apr/2019:193452+0000] HTTP/1.1 {200} 510348 \"python-requests/2.21.0\" 97.105.19.58',\n",
    "    r'POST /users_accounts/file-upload [16/Apr/2019:193452+0000] HTTP/1.1 {201} 42 \"User-Agent: Mozilla/5.0 (X11; Fedora; Fedora; Linux x86_64) AppleWebKit/537.36 (KHTML, like Gecko) Chrome/73.0.3683.86 Safari/537.36\" 97.105.19.58',\n",
    "    r'GET /api/v1/items?page=3 [16/Apr/2019:193453+0000] HTTP/1.1 {429} 3561 \"python-requests/2.21.0\" 97.105.19.58'\n",
    "])\n",
    "display(inputs5)\n",
    "\n",
    "outputs5 = inputs5.str.extract(r'^([A-Z]+)\\s(\\/[^?^ ]+)(\\?\\S+)?\\s\\[(.+)\\]\\s(\\S+)\\s(\\{[0-9]+\\})\\s([0-9]+)\\s(\\\".+\\\")\\s(\\d+.\\d+.\\d+.\\d)')\n",
    "outputs5.columns = ['method', 'path', 'qstring', 'timestamp', 'protocol', 'status', 'bytes', 'useragent', 'ip']\n",
    "display(outputs5)"
   ]
  },
  {
   "cell_type": "markdown",
   "metadata": {},
   "source": [
    "6. **You can find a list of words on your mac at `/usr/share/dict/words`. Use this file to answer the following questions:\n",
    "   - How many words have at least 3 vowels?\n",
    "   - How many words have at least 3 vowels in a row?\n",
    "   - How many words have at least 4 consonants in a row?\n",
    "   - How many words start and end with the same letter?\n",
    "   - How many words start and end with a vowel?\n",
    "   - How many words contain the same letter 3 times in a row?\n",
    "   - What other interesting patterns in words can you find?"
   ]
  },
  {
   "cell_type": "code",
   "execution_count": 14,
   "metadata": {},
   "outputs": [
    {
     "data": {
      "text/plain": [
       "count     235884\n",
       "unique    234370\n",
       "top        daira\n",
       "freq           2\n",
       "Name: 0, dtype: object"
      ]
     },
     "execution_count": 14,
     "metadata": {},
     "output_type": "execute_result"
    }
   ],
   "source": [
    "words = pd.read_csv('/usr/share/dict/words', header=None).iloc[:,0].dropna().str.lower()\n",
    "words.describe()"
   ]
  },
  {
   "cell_type": "code",
   "execution_count": 41,
   "metadata": {},
   "outputs": [
    {
     "data": {
      "text/plain": [
       "count     191365\n",
       "unique    190744\n",
       "top       sabine\n",
       "freq           2\n",
       "Name: 0, dtype: object"
      ]
     },
     "metadata": {},
     "output_type": "display_data"
    },
    {
     "data": {
      "text/plain": [
       "220306          unpathed\n",
       "219478    unmilitariness\n",
       "201415        thelyotoky\n",
       "148411    plectospondyli\n",
       "Name: 0, dtype: object"
      ]
     },
     "metadata": {},
     "output_type": "display_data"
    }
   ],
   "source": [
    "# How many words have at least 3 vowels?\n",
    "\n",
    "w3v = words[words.str.count(r'[aeiou]') >= 3]\n",
    "display(w3v.describe())\n",
    "display(w3v.sample(4))"
   ]
  },
  {
   "cell_type": "code",
   "execution_count": 42,
   "metadata": {},
   "outputs": [
    {
     "data": {
      "text/plain": [
       "count          6182\n",
       "unique         6172\n",
       "top       delicious\n",
       "freq              2\n",
       "Name: 0, dtype: object"
      ]
     },
     "metadata": {},
     "output_type": "display_data"
    },
    {
     "data": {
      "text/plain": [
       "137239    palaeophytology\n",
       "235488         zooerastia\n",
       "99036            isozooid\n",
       "53022        diatomaceous\n",
       "Name: 0, dtype: object"
      ]
     },
     "metadata": {},
     "output_type": "display_data"
    }
   ],
   "source": [
    "# How many words have at least 3 vowels in a row?\n",
    "\n",
    "w3vc = words[words.str.match(r'.*[aeiou]{3,}')]\n",
    "display(w3vc.describe())\n",
    "display(w3vc.sample(4))"
   ]
  },
  {
   "cell_type": "code",
   "execution_count": null,
   "metadata": {},
   "outputs": [],
   "source": [
    "# How many words have at least 4 consonants in a row?\n",
    "\n",
    "ww = words[words]\n",
    "display(ww.describe())\n",
    "display(ww.sample(4))"
   ]
  },
  {
   "cell_type": "code",
   "execution_count": null,
   "metadata": {},
   "outputs": [],
   "source": [
    "# How many words start and end with the same letter?\n",
    "\n",
    "ww = words[words]\n",
    "display(ww.describe())\n",
    "display(ww.sample(4))"
   ]
  },
  {
   "cell_type": "code",
   "execution_count": null,
   "metadata": {},
   "outputs": [],
   "source": [
    "# How many words start and end with a vowel?\n",
    "\n",
    "ww = words[words]\n",
    "display(ww.describe())\n",
    "display(ww.sample(4))"
   ]
  },
  {
   "cell_type": "code",
   "execution_count": null,
   "metadata": {},
   "outputs": [],
   "source": [
    "# How many words contain the same letter 3 times in a row?\n",
    "\n",
    "ww = words[words]\n",
    "display(ww.describe())\n",
    "display(ww.sample(4))"
   ]
  },
  {
   "cell_type": "code",
   "execution_count": 43,
   "metadata": {},
   "outputs": [
    {
     "name": "stderr",
     "output_type": "stream",
     "text": [
      "/usr/local/anaconda3/lib/python3.7/site-packages/ipykernel_launcher.py:3: UserWarning: This pattern has match groups. To actually get the groups, use str.extract.\n",
      "  This is separate from the ipykernel package so we can avoid doing imports until\n"
     ]
    },
    {
     "data": {
      "text/plain": [
       "count               792\n",
       "unique              792\n",
       "top       assiduousness\n",
       "freq                  1\n",
       "Name: 0, dtype: object"
      ]
     },
     "metadata": {},
     "output_type": "display_data"
    },
    {
     "data": {
      "text/plain": [
       "186096      speechlessness\n",
       "216204    unexpressiveness\n",
       "198654       tastelessness\n",
       "231813        whillaballoo\n",
       "Name: 0, dtype: object"
      ]
     },
     "metadata": {},
     "output_type": "display_data"
    }
   ],
   "source": [
    "# How many words contain two sets of the same two letters repeated?\n",
    "\n",
    "w2lr = words[words.str.contains(r'((.)\\2).*\\1')]\n",
    "display(w2lr.describe())\n",
    "display(w2lr.sample(4))"
   ]
  },
  {
   "cell_type": "code",
   "execution_count": null,
   "metadata": {},
   "outputs": [],
   "source": [
    "# What other interesting patterns in words can you find?\n",
    "\n",
    "ww = words[words]\n",
    "display(ww.describe())\n",
    "display(ww.sample(8))"
   ]
  },
  {
   "cell_type": "code",
   "execution_count": null,
   "metadata": {},
   "outputs": [],
   "source": [
    "import doctest\n",
    "doctest.testmod(verbose=False)"
   ]
  },
  {
   "cell_type": "code",
   "execution_count": null,
   "metadata": {},
   "outputs": [],
   "source": []
  }
 ],
 "metadata": {
  "kernelspec": {
   "display_name": "Python 3",
   "language": "python",
   "name": "python3"
  },
  "language_info": {
   "codemirror_mode": {
    "name": "ipython",
    "version": 3
   },
   "file_extension": ".py",
   "mimetype": "text/x-python",
   "name": "python",
   "nbconvert_exporter": "python",
   "pygments_lexer": "ipython3",
   "version": "3.7.3"
  }
 },
 "nbformat": 4,
 "nbformat_minor": 2
}
