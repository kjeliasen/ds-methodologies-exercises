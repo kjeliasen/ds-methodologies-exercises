{
 "cells": [
  {
   "cell_type": "markdown",
   "metadata": {},
   "source": [
    "# Exercises - Classification"
   ]
  },
  {
   "cell_type": "markdown",
   "metadata": {},
   "source": [
    "**The end product of this exercise is a jupyter notebook (**\n",
    "`classification_exercises.ipynb`\n",
    "**) and** \n",
    "`acquire.py`\n",
    "**. The notebook will contain all your work as you move through the exercises. The** \n",
    "`acquire.py` \n",
    "**file should contain the final functions.**"
   ]
  },
  {
   "cell_type": "code",
   "execution_count": 1,
   "metadata": {},
   "outputs": [],
   "source": [
    "import numpy as np\n",
    "import pandas as pd\n",
    "\n",
    "import acquire as acq\n",
    "import prepare as prep\n",
    "\n",
    "from debug import local_settings, timeifdebug, timeargsifdebug, frame_splain\n"
   ]
  },
  {
   "cell_type": "code",
   "execution_count": 2,
   "metadata": {},
   "outputs": [],
   "source": [
    "import matplotlib.pyplot as plt\n",
    "%matplotlib inline\n",
    "import seaborn as sns\n",
    "\n",
    "# ignore warnings\n",
    "import warnings\n",
    "warnings.filterwarnings(\"ignore\")\n",
    "\n",
    "from sklearn.preprocessing import LabelEncoder\n",
    "from sklearn.preprocessing import MinMaxScaler"
   ]
  },
  {
   "cell_type": "code",
   "execution_count": 3,
   "metadata": {},
   "outputs": [],
   "source": [
    "local_settings.debug=True"
   ]
  },
  {
   "cell_type": "code",
   "execution_count": 4,
   "metadata": {},
   "outputs": [],
   "source": [
    "local_settings.splain=True"
   ]
  },
  {
   "cell_type": "code",
   "execution_count": 5,
   "metadata": {},
   "outputs": [],
   "source": [
    "splain=local_settings.splain"
   ]
  },
  {
   "cell_type": "markdown",
   "metadata": {},
   "source": [
    "### In a jupyter notebook, `classification_exercises.ipynb`:"
   ]
  },
  {
   "cell_type": "markdown",
   "metadata": {},
   "source": [
    "1. **Use a python module containing datasets as a source from the** \n",
    "`iris` \n",
    "**data. Create a pandas dataframe,** \n",
    "`df_iris`\n",
    "**, from this data.**"
   ]
  },
  {
   "cell_type": "code",
   "execution_count": 6,
   "metadata": {},
   "outputs": [],
   "source": [
    "df_iris = pd.read_csv('iris.csv')"
   ]
  },
  {
   "cell_type": "markdown",
   "metadata": {},
   "source": [
    "  - print the first 3 rows"
   ]
  },
  {
   "cell_type": "code",
   "execution_count": 7,
   "metadata": {},
   "outputs": [
    {
     "data": {
      "text/html": [
       "<div>\n",
       "<style scoped>\n",
       "    .dataframe tbody tr th:only-of-type {\n",
       "        vertical-align: middle;\n",
       "    }\n",
       "\n",
       "    .dataframe tbody tr th {\n",
       "        vertical-align: top;\n",
       "    }\n",
       "\n",
       "    .dataframe thead th {\n",
       "        text-align: right;\n",
       "    }\n",
       "</style>\n",
       "<table border=\"1\" class=\"dataframe\">\n",
       "  <thead>\n",
       "    <tr style=\"text-align: right;\">\n",
       "      <th></th>\n",
       "      <th>sepal_length</th>\n",
       "      <th>sepal_width</th>\n",
       "      <th>petal_length</th>\n",
       "      <th>petal_width</th>\n",
       "      <th>species</th>\n",
       "    </tr>\n",
       "  </thead>\n",
       "  <tbody>\n",
       "    <tr>\n",
       "      <th>0</th>\n",
       "      <td>5.1</td>\n",
       "      <td>3.5</td>\n",
       "      <td>1.4</td>\n",
       "      <td>0.2</td>\n",
       "      <td>setosa</td>\n",
       "    </tr>\n",
       "    <tr>\n",
       "      <th>1</th>\n",
       "      <td>4.9</td>\n",
       "      <td>3.0</td>\n",
       "      <td>1.4</td>\n",
       "      <td>0.2</td>\n",
       "      <td>setosa</td>\n",
       "    </tr>\n",
       "    <tr>\n",
       "      <th>2</th>\n",
       "      <td>4.7</td>\n",
       "      <td>3.2</td>\n",
       "      <td>1.3</td>\n",
       "      <td>0.2</td>\n",
       "      <td>setosa</td>\n",
       "    </tr>\n",
       "  </tbody>\n",
       "</table>\n",
       "</div>"
      ],
      "text/plain": [
       "   sepal_length  sepal_width  petal_length  petal_width species\n",
       "0           5.1          3.5           1.4          0.2  setosa\n",
       "1           4.9          3.0           1.4          0.2  setosa\n",
       "2           4.7          3.2           1.3          0.2  setosa"
      ]
     },
     "execution_count": 7,
     "metadata": {},
     "output_type": "execute_result"
    }
   ],
   "source": [
    "df_iris.head(3)"
   ]
  },
  {
   "cell_type": "markdown",
   "metadata": {},
   "source": [
    "  - print the number of rows and columns (shape)"
   ]
  },
  {
   "cell_type": "code",
   "execution_count": 8,
   "metadata": {},
   "outputs": [
    {
     "data": {
      "text/plain": [
       "(150, 5)"
      ]
     },
     "execution_count": 8,
     "metadata": {},
     "output_type": "execute_result"
    }
   ],
   "source": [
    "df_iris.shape"
   ]
  },
  {
   "cell_type": "markdown",
   "metadata": {},
   "source": [
    "  - print the column names"
   ]
  },
  {
   "cell_type": "code",
   "execution_count": 9,
   "metadata": {},
   "outputs": [
    {
     "name": "stdout",
     "output_type": "stream",
     "text": [
      "DF_IRIS SHAPE:\n",
      "(150, 5) \n",
      "\n",
      "DF_IRIS INFO:\n",
      "<class 'pandas.core.frame.DataFrame'>\n",
      "RangeIndex: 150 entries, 0 to 149\n",
      "Data columns (total 5 columns):\n",
      "sepal_length    150 non-null float64\n",
      "sepal_width     150 non-null float64\n",
      "petal_length    150 non-null float64\n",
      "petal_width     150 non-null float64\n",
      "species         150 non-null object\n",
      "dtypes: float64(4), object(1)\n",
      "memory usage: 5.9+ KB\n",
      "None \n",
      "\n",
      "DF_IRIS DESCRIPTION:\n",
      "              count      mean       std  min  25%   50%  75%  max\n",
      "sepal_length  150.0  5.843333  0.828066  4.3  5.1  5.80  6.4  7.9\n",
      "sepal_width   150.0  3.057333  0.435866  2.0  2.8  3.00  3.3  4.4\n",
      "petal_length  150.0  3.758000  1.765298  1.0  1.6  4.35  5.1  6.9\n",
      "petal_width   150.0  1.199333  0.762238  0.1  0.3  1.30  1.8  2.5 \n",
      "\n",
      "DF_IRIS HEAD:\n",
      "   sepal_length  sepal_width  petal_length  petal_width species\n",
      "0           5.1          3.5           1.4          0.2  setosa\n",
      "1           4.9          3.0           1.4          0.2  setosa\n",
      "2           4.7          3.2           1.3          0.2  setosa\n",
      "3           4.6          3.1           1.5          0.2  setosa\n",
      "4           5.0          3.6           1.4          0.2  setosa \n",
      "\n"
     ]
    }
   ],
   "source": [
    "frame_splain(df_iris, 'df_iris', splain=splain)"
   ]
  },
  {
   "cell_type": "markdown",
   "metadata": {},
   "source": [
    "  - print the data type of each column"
   ]
  },
  {
   "cell_type": "code",
   "execution_count": 10,
   "metadata": {},
   "outputs": [
    {
     "data": {
      "text/plain": [
       "sepal_length    float64\n",
       "sepal_width     float64\n",
       "petal_length    float64\n",
       "petal_width     float64\n",
       "species          object\n",
       "dtype: object"
      ]
     },
     "execution_count": 10,
     "metadata": {},
     "output_type": "execute_result"
    }
   ],
   "source": [
    "df_iris.dtypes"
   ]
  },
  {
   "cell_type": "markdown",
   "metadata": {},
   "source": [
    "   - print the summary statistics for each of the numeric variables. Would you recommend rescaling the data based on these statistics?"
   ]
  },
  {
   "cell_type": "code",
   "execution_count": 11,
   "metadata": {},
   "outputs": [
    {
     "data": {
      "text/html": [
       "<div>\n",
       "<style scoped>\n",
       "    .dataframe tbody tr th:only-of-type {\n",
       "        vertical-align: middle;\n",
       "    }\n",
       "\n",
       "    .dataframe tbody tr th {\n",
       "        vertical-align: top;\n",
       "    }\n",
       "\n",
       "    .dataframe thead th {\n",
       "        text-align: right;\n",
       "    }\n",
       "</style>\n",
       "<table border=\"1\" class=\"dataframe\">\n",
       "  <thead>\n",
       "    <tr style=\"text-align: right;\">\n",
       "      <th></th>\n",
       "      <th>sepal_length</th>\n",
       "      <th>sepal_width</th>\n",
       "      <th>petal_length</th>\n",
       "      <th>petal_width</th>\n",
       "    </tr>\n",
       "  </thead>\n",
       "  <tbody>\n",
       "    <tr>\n",
       "      <th>count</th>\n",
       "      <td>150.000000</td>\n",
       "      <td>150.000000</td>\n",
       "      <td>150.000000</td>\n",
       "      <td>150.000000</td>\n",
       "    </tr>\n",
       "    <tr>\n",
       "      <th>mean</th>\n",
       "      <td>5.843333</td>\n",
       "      <td>3.057333</td>\n",
       "      <td>3.758000</td>\n",
       "      <td>1.199333</td>\n",
       "    </tr>\n",
       "    <tr>\n",
       "      <th>std</th>\n",
       "      <td>0.828066</td>\n",
       "      <td>0.435866</td>\n",
       "      <td>1.765298</td>\n",
       "      <td>0.762238</td>\n",
       "    </tr>\n",
       "    <tr>\n",
       "      <th>min</th>\n",
       "      <td>4.300000</td>\n",
       "      <td>2.000000</td>\n",
       "      <td>1.000000</td>\n",
       "      <td>0.100000</td>\n",
       "    </tr>\n",
       "    <tr>\n",
       "      <th>25%</th>\n",
       "      <td>5.100000</td>\n",
       "      <td>2.800000</td>\n",
       "      <td>1.600000</td>\n",
       "      <td>0.300000</td>\n",
       "    </tr>\n",
       "    <tr>\n",
       "      <th>50%</th>\n",
       "      <td>5.800000</td>\n",
       "      <td>3.000000</td>\n",
       "      <td>4.350000</td>\n",
       "      <td>1.300000</td>\n",
       "    </tr>\n",
       "    <tr>\n",
       "      <th>75%</th>\n",
       "      <td>6.400000</td>\n",
       "      <td>3.300000</td>\n",
       "      <td>5.100000</td>\n",
       "      <td>1.800000</td>\n",
       "    </tr>\n",
       "    <tr>\n",
       "      <th>max</th>\n",
       "      <td>7.900000</td>\n",
       "      <td>4.400000</td>\n",
       "      <td>6.900000</td>\n",
       "      <td>2.500000</td>\n",
       "    </tr>\n",
       "  </tbody>\n",
       "</table>\n",
       "</div>"
      ],
      "text/plain": [
       "       sepal_length  sepal_width  petal_length  petal_width\n",
       "count    150.000000   150.000000    150.000000   150.000000\n",
       "mean       5.843333     3.057333      3.758000     1.199333\n",
       "std        0.828066     0.435866      1.765298     0.762238\n",
       "min        4.300000     2.000000      1.000000     0.100000\n",
       "25%        5.100000     2.800000      1.600000     0.300000\n",
       "50%        5.800000     3.000000      4.350000     1.300000\n",
       "75%        6.400000     3.300000      5.100000     1.800000\n",
       "max        7.900000     4.400000      6.900000     2.500000"
      ]
     },
     "execution_count": 11,
     "metadata": {},
     "output_type": "execute_result"
    }
   ],
   "source": [
    "df_iris.describe()"
   ]
  },
  {
   "cell_type": "markdown",
   "metadata": {},
   "source": [
    "2. **Read** \n",
    "`Table1_CustDetails` \n",
    "**the excel module dataset,** \n",
    "`Excel_Exercises.xlsx`\n",
    "**, into a dataframe,** \n",
    "`df_excel`\n",
    "**.**"
   ]
  },
  {
   "cell_type": "code",
   "execution_count": 12,
   "metadata": {},
   "outputs": [
    {
     "name": "stdout",
     "output_type": "stream",
     "text": [
      "starting excel_df\n",
      "starting check_df\n",
      "DATAFRAME SHAPE:\n",
      "(7049, 12) \n",
      "\n",
      "DATAFRAME INFO:\n",
      "<class 'pandas.core.frame.DataFrame'>\n",
      "RangeIndex: 7049 entries, 0 to 7048\n",
      "Data columns (total 12 columns):\n",
      "customer_id          7049 non-null object\n",
      "gender               7049 non-null object\n",
      "is_senior_citizen    7049 non-null int64\n",
      "partner              7049 non-null object\n",
      "dependents           7049 non-null object\n",
      "phone_service        7049 non-null int64\n",
      "internet_service     7049 non-null int64\n",
      "contract_type        7049 non-null int64\n",
      "payment_type         7049 non-null object\n",
      "monthly_charges      7049 non-null float64\n",
      "total_charges        7038 non-null float64\n",
      "churn                7049 non-null object\n",
      "dtypes: float64(2), int64(4), object(6)\n",
      "memory usage: 660.9+ KB\n",
      "None \n",
      "\n",
      "DATAFRAME DESCRIPTION:\n",
      "                    count         mean          std    min       25%      50%  \\\n",
      "is_senior_citizen  7049.0     0.162009     0.368485   0.00    0.0000     0.00   \n",
      "phone_service      7049.0     1.324585     0.642709   0.00    1.0000     1.00   \n",
      "internet_service   7049.0     1.222585     0.779068   0.00    1.0000     1.00   \n",
      "contract_type      7049.0     0.690878     0.833757   0.00    0.0000     0.00   \n",
      "monthly_charges    7049.0    64.747014    30.099460  18.25   35.4500    70.35   \n",
      "total_charges      7038.0  2283.043883  2266.521984  18.80  401.5875  1397.10   \n",
      "\n",
      "                        75%      max  \n",
      "is_senior_citizen     0.000     1.00  \n",
      "phone_service         2.000     2.00  \n",
      "internet_service      2.000     2.00  \n",
      "contract_type         1.000     2.00  \n",
      "monthly_charges      89.850   118.75  \n",
      "total_charges      3793.775  8684.80   \n",
      "\n",
      "ending check_df ; time: 0.02813720703125\n",
      "ending excel_df ; time: 2.1536900997161865\n"
     ]
    }
   ],
   "source": [
    "df_excel = acq.excel_df('Excel_Exercises.xlsx', splain)"
   ]
  },
  {
   "cell_type": "markdown",
   "metadata": {},
   "source": [
    "  - assign the first 100 rows to a new dataframe, `df_excel_sample`."
   ]
  },
  {
   "cell_type": "code",
   "execution_count": 13,
   "metadata": {},
   "outputs": [
    {
     "name": "stdout",
     "output_type": "stream",
     "text": [
      "starting check_df\n",
      "DATAFRAME SHAPE:\n",
      "(100, 12) \n",
      "\n",
      "DATAFRAME INFO:\n",
      "<class 'pandas.core.frame.DataFrame'>\n",
      "RangeIndex: 100 entries, 0 to 99\n",
      "Data columns (total 12 columns):\n",
      "customer_id          100 non-null object\n",
      "gender               100 non-null object\n",
      "is_senior_citizen    100 non-null int64\n",
      "partner              100 non-null object\n",
      "dependents           100 non-null object\n",
      "phone_service        100 non-null int64\n",
      "internet_service     100 non-null int64\n",
      "contract_type        100 non-null int64\n",
      "payment_type         100 non-null object\n",
      "monthly_charges      100 non-null float64\n",
      "total_charges        100 non-null float64\n",
      "churn                100 non-null object\n",
      "dtypes: float64(2), int64(4), object(6)\n",
      "memory usage: 9.5+ KB\n",
      "None \n",
      "\n",
      "DATAFRAME DESCRIPTION:\n",
      "                   count       mean          std    min       25%       50%  \\\n",
      "is_senior_citizen  100.0     0.1900     0.394277   0.00    0.0000     0.000   \n",
      "phone_service      100.0     1.3300     0.667499   0.00    1.0000     1.000   \n",
      "internet_service   100.0     1.3000     0.771984   0.00    1.0000     1.000   \n",
      "contract_type      100.0     0.6600     0.819214   0.00    0.0000     0.000   \n",
      "monthly_charges    100.0    68.9670    31.230825  19.40   44.8250    75.300   \n",
      "total_charges      100.0  2481.9295  2434.628234  19.85  525.1625  1559.175   \n",
      "\n",
      "                         75%     max  \n",
      "is_senior_citizen     0.0000     1.0  \n",
      "phone_service         2.0000     2.0  \n",
      "internet_service      2.0000     2.0  \n",
      "contract_type         1.0000     2.0  \n",
      "monthly_charges      94.3125   116.8  \n",
      "total_charges      3712.8750  8496.7   \n",
      "\n",
      "ending check_df ; time: 0.0432589054107666\n"
     ]
    }
   ],
   "source": [
    "df_excel_sample = acq.check_df(df_excel.head(100), splain=splain)"
   ]
  },
  {
   "cell_type": "markdown",
   "metadata": {},
   "source": [
    "  - print the number of rows of your original dataframe"
   ]
  },
  {
   "cell_type": "code",
   "execution_count": 14,
   "metadata": {},
   "outputs": [
    {
     "data": {
      "text/plain": [
       "7049"
      ]
     },
     "execution_count": 14,
     "metadata": {},
     "output_type": "execute_result"
    }
   ],
   "source": [
    "df_excel.shape[0]"
   ]
  },
  {
   "cell_type": "markdown",
   "metadata": {},
   "source": [
    "  - print the first 5 column names"
   ]
  },
  {
   "cell_type": "code",
   "execution_count": 15,
   "metadata": {},
   "outputs": [
    {
     "data": {
      "text/plain": [
       "Index(['customer_id', 'gender', 'is_senior_citizen', 'partner', 'dependents'], dtype='object')"
      ]
     },
     "execution_count": 15,
     "metadata": {},
     "output_type": "execute_result"
    }
   ],
   "source": [
    "df_excel.columns[:5]"
   ]
  },
  {
   "cell_type": "markdown",
   "metadata": {},
   "source": [
    "  - print the column names that have a data type of object"
   ]
  },
  {
   "cell_type": "code",
   "execution_count": 16,
   "metadata": {},
   "outputs": [
    {
     "data": {
      "text/plain": [
       "Index(['customer_id', 'gender', 'partner', 'dependents', 'payment_type',\n",
       "       'churn'],\n",
       "      dtype='object')"
      ]
     },
     "execution_count": 16,
     "metadata": {},
     "output_type": "execute_result"
    }
   ],
   "source": [
    "def get_objs(df):\n",
    "    return df.columns[df.dtypes=='object']\n",
    "    \n",
    "get_objs(df_excel)"
   ]
  },
  {
   "cell_type": "code",
   "execution_count": 17,
   "metadata": {},
   "outputs": [
    {
     "data": {
      "text/html": [
       "<div>\n",
       "<style scoped>\n",
       "    .dataframe tbody tr th:only-of-type {\n",
       "        vertical-align: middle;\n",
       "    }\n",
       "\n",
       "    .dataframe tbody tr th {\n",
       "        vertical-align: top;\n",
       "    }\n",
       "\n",
       "    .dataframe thead th {\n",
       "        text-align: right;\n",
       "    }\n",
       "</style>\n",
       "<table border=\"1\" class=\"dataframe\">\n",
       "  <thead>\n",
       "    <tr style=\"text-align: right;\">\n",
       "      <th></th>\n",
       "      <th>nuniques</th>\n",
       "      <th>uniques</th>\n",
       "    </tr>\n",
       "    <tr>\n",
       "      <th>cols</th>\n",
       "      <th></th>\n",
       "      <th></th>\n",
       "    </tr>\n",
       "  </thead>\n",
       "  <tbody>\n",
       "    <tr>\n",
       "      <th>customer_id</th>\n",
       "      <td>7043</td>\n",
       "      <td>NaN</td>\n",
       "    </tr>\n",
       "    <tr>\n",
       "      <th>gender</th>\n",
       "      <td>2</td>\n",
       "      <td>[Female, Male]</td>\n",
       "    </tr>\n",
       "    <tr>\n",
       "      <th>partner</th>\n",
       "      <td>2</td>\n",
       "      <td>[Yes, No]</td>\n",
       "    </tr>\n",
       "    <tr>\n",
       "      <th>dependents</th>\n",
       "      <td>2</td>\n",
       "      <td>[Yes, No]</td>\n",
       "    </tr>\n",
       "    <tr>\n",
       "      <th>payment_type</th>\n",
       "      <td>4</td>\n",
       "      <td>[Mailed check, Electronic check, Credit card (...</td>\n",
       "    </tr>\n",
       "  </tbody>\n",
       "</table>\n",
       "</div>"
      ],
      "text/plain": [
       "              nuniques                                            uniques\n",
       "cols                                                                     \n",
       "customer_id       7043                                                NaN\n",
       "gender               2                                     [Female, Male]\n",
       "partner              2                                          [Yes, No]\n",
       "dependents           2                                          [Yes, No]\n",
       "payment_type         4  [Mailed check, Electronic check, Credit card (..."
      ]
     },
     "execution_count": 17,
     "metadata": {},
     "output_type": "execute_result"
    }
   ],
   "source": [
    "def get_uniques(df, max_uniques=10, target_col=''):\n",
    "    df_objs = pd.DataFrame(get_objs(df), columns=['cols'])\n",
    "    df_objs = df_objs[df_objs.cols != target_col]\n",
    "    df_objs['nuniques'] = df_objs.cols.apply(lambda x: df[x].nunique())\n",
    "    df_cats = df_objs[df_objs.nuniques <= max_uniques]\n",
    "    df_cats['uniques'] = df_cats.cols.apply(lambda x: df[x].unique())\n",
    "    df_objs = df_objs.join(df_cats.uniques, how='left')\n",
    "    return df_objs.set_index('cols')\n",
    "\n",
    "get_uniques(df_excel, target_col='churn')\n"
   ]
  },
  {
   "cell_type": "code",
   "execution_count": 18,
   "metadata": {},
   "outputs": [],
   "source": [
    "use_df = df_excel\n",
    "target_col = 'churn'\n",
    "use_df[target_col] = use_df[target_col].apply(lambda x: x=='Yes' or x==True)"
   ]
  },
  {
   "cell_type": "code",
   "execution_count": 19,
   "metadata": {},
   "outputs": [
    {
     "data": {
      "text/plain": [
       "['gender', 'partner', 'dependents', 'payment_type']"
      ]
     },
     "execution_count": 19,
     "metadata": {},
     "output_type": "execute_result"
    }
   ],
   "source": [
    "obj_features = get_uniques(df=use_df, target_col=target_col)\n",
    "features = list(obj_features[obj_features.nuniques<=10].index)\n",
    "features"
   ]
  },
  {
   "cell_type": "code",
   "execution_count": 20,
   "metadata": {},
   "outputs": [
    {
     "data": {
      "image/png": "[encoded data removed]",
      "text/plain": [
       "<Figure size 1152x360 with 4 Axes>"
      ]
     },
     "metadata": {
      "needs_background": "light"
     },
     "output_type": "display_data"
    }
   ],
   "source": [
    "#features = ['sex', 'class', 'alone']\n",
    "\n",
    "_, ax = plt.subplots(nrows=1, ncols=len(features), figsize=(16,5))\n",
    "\n",
    "survival_rate = use_df[target_col].mean()\n",
    "\n",
    "for i, feature in enumerate(features):\n",
    "    sns.barplot(x=feature, y=target_col, data=use_df, ax=ax[i], alpha=.5)\n",
    "    ax[i].set_ylabel('Survival Rate')\n",
    "    ax[i].axhline(survival_rate, ls='--', color='grey')"
   ]
  },
  {
   "cell_type": "code",
   "execution_count": 21,
   "metadata": {},
   "outputs": [],
   "source": [
    "def plot_violin(features, target, df):\n",
    "    for descrete in df[features].select_dtypes([object,int]).columns.tolist():\n",
    "        if df[descrete].nunique() <= 5:\n",
    "            for continous in df[features].select_dtypes(float).columns.tolist():\n",
    "                sns.violinplot(descrete, continous, hue=target,\n",
    "                data=df, split=True, palette=['blue','orange'])\n",
    "                plt.title(continous + 'x' + descrete)\n",
    "                plt.ylabel(continous)\n",
    "                plt.show()"
   ]
  },
  {
   "cell_type": "code",
   "execution_count": 22,
   "metadata": {},
   "outputs": [],
   "source": [
    "def loopy_graphs(df, target):\n",
    "    features = list(df.columns[(df.dtypes == object) | (df.nunique()<5)])\n",
    "    \n",
    "    pop_rate = df[target].mean()\n",
    "    for i, feature in enumerate(features):\n",
    "        sns.barplot(feature,target,data=df,alpha=.6)\n",
    "        plt.show()"
   ]
  },
  {
   "cell_type": "code",
   "execution_count": null,
   "metadata": {},
   "outputs": [],
   "source": []
  },
  {
   "cell_type": "markdown",
   "metadata": {},
   "source": [
    "3. **Read the data from [this google sheet](https://docs.google.com/spreadsheets/d/1Uhtml8KY19LILuZsrDtlsHHDC9wuDGUSe8LTEwvdI5g/edit?usp=sharing) into a dataframe,** `df_google`\n",
    "**.**"
   ]
  },
  {
   "cell_type": "code",
   "execution_count": 23,
   "metadata": {},
   "outputs": [
    {
     "name": "stdout",
     "output_type": "stream",
     "text": [
      "starting google_df\n",
      "starting check_df\n",
      "DATAFRAME SHAPE:\n",
      "(891, 12) \n",
      "\n",
      "DATAFRAME INFO:\n",
      "<class 'pandas.core.frame.DataFrame'>\n",
      "RangeIndex: 891 entries, 0 to 890\n",
      "Data columns (total 12 columns):\n",
      "PassengerId    891 non-null int64\n",
      "Survived       891 non-null int64\n",
      "Pclass         891 non-null int64\n",
      "Name           891 non-null object\n",
      "Sex            891 non-null object\n",
      "Age            714 non-null float64\n",
      "SibSp          891 non-null int64\n",
      "Parch          891 non-null int64\n",
      "Ticket         891 non-null object\n",
      "Fare           891 non-null float64\n",
      "Cabin          204 non-null object\n",
      "Embarked       889 non-null object\n",
      "dtypes: float64(2), int64(5), object(5)\n",
      "memory usage: 83.6+ KB\n",
      "None \n",
      "\n",
      "DATAFRAME DESCRIPTION:\n",
      "             count        mean         std   min       25%       50%    75%  \\\n",
      "PassengerId  891.0  446.000000  257.353842  1.00  223.5000  446.0000  668.5   \n",
      "Survived     891.0    0.383838    0.486592  0.00    0.0000    0.0000    1.0   \n",
      "Pclass       891.0    2.308642    0.836071  1.00    2.0000    3.0000    3.0   \n",
      "Age          714.0   29.699118   14.526497  0.42   20.1250   28.0000   38.0   \n",
      "SibSp        891.0    0.523008    1.102743  0.00    0.0000    0.0000    1.0   \n",
      "Parch        891.0    0.381594    0.806057  0.00    0.0000    0.0000    0.0   \n",
      "Fare         891.0   32.204208   49.693429  0.00    7.9104   14.4542   31.0   \n",
      "\n",
      "                  max  \n",
      "PassengerId  891.0000  \n",
      "Survived       1.0000  \n",
      "Pclass         3.0000  \n",
      "Age           80.0000  \n",
      "SibSp          8.0000  \n",
      "Parch          6.0000  \n",
      "Fare         512.3292   \n",
      "\n",
      "ending check_df ; time: 0.02559804916381836\n",
      "ending google_df ; time: 0.4906768798828125\n"
     ]
    }
   ],
   "source": [
    "google_url = 'https://docs.google.com/spreadsheets/d/1Uhtml8KY19LILuZsrDtlsHHDC9wuDGUSe8LTEwvdI5g/edit#gid=341089357'\n",
    "df_google = acq.google_df(google_url, splain=1)"
   ]
  },
  {
   "cell_type": "markdown",
   "metadata": {},
   "source": [
    "  - print the first 3 rows"
   ]
  },
  {
   "cell_type": "code",
   "execution_count": 24,
   "metadata": {},
   "outputs": [
    {
     "data": {
      "text/html": [
       "<div>\n",
       "<style scoped>\n",
       "    .dataframe tbody tr th:only-of-type {\n",
       "        vertical-align: middle;\n",
       "    }\n",
       "\n",
       "    .dataframe tbody tr th {\n",
       "        vertical-align: top;\n",
       "    }\n",
       "\n",
       "    .dataframe thead th {\n",
       "        text-align: right;\n",
       "    }\n",
       "</style>\n",
       "<table border=\"1\" class=\"dataframe\">\n",
       "  <thead>\n",
       "    <tr style=\"text-align: right;\">\n",
       "      <th></th>\n",
       "      <th>PassengerId</th>\n",
       "      <th>Survived</th>\n",
       "      <th>Pclass</th>\n",
       "      <th>Name</th>\n",
       "      <th>Sex</th>\n",
       "      <th>Age</th>\n",
       "      <th>SibSp</th>\n",
       "      <th>Parch</th>\n",
       "      <th>Ticket</th>\n",
       "      <th>Fare</th>\n",
       "      <th>Cabin</th>\n",
       "      <th>Embarked</th>\n",
       "    </tr>\n",
       "  </thead>\n",
       "  <tbody>\n",
       "    <tr>\n",
       "      <th>0</th>\n",
       "      <td>1</td>\n",
       "      <td>0</td>\n",
       "      <td>3</td>\n",
       "      <td>Braund, Mr. Owen Harris</td>\n",
       "      <td>male</td>\n",
       "      <td>22.0</td>\n",
       "      <td>1</td>\n",
       "      <td>0</td>\n",
       "      <td>A/5 21171</td>\n",
       "      <td>7.2500</td>\n",
       "      <td>NaN</td>\n",
       "      <td>S</td>\n",
       "    </tr>\n",
       "    <tr>\n",
       "      <th>1</th>\n",
       "      <td>2</td>\n",
       "      <td>1</td>\n",
       "      <td>1</td>\n",
       "      <td>Cumings, Mrs. John Bradley (Florence Briggs Th...</td>\n",
       "      <td>female</td>\n",
       "      <td>38.0</td>\n",
       "      <td>1</td>\n",
       "      <td>0</td>\n",
       "      <td>PC 17599</td>\n",
       "      <td>71.2833</td>\n",
       "      <td>C85</td>\n",
       "      <td>C</td>\n",
       "    </tr>\n",
       "    <tr>\n",
       "      <th>2</th>\n",
       "      <td>3</td>\n",
       "      <td>1</td>\n",
       "      <td>3</td>\n",
       "      <td>Heikkinen, Miss. Laina</td>\n",
       "      <td>female</td>\n",
       "      <td>26.0</td>\n",
       "      <td>0</td>\n",
       "      <td>0</td>\n",
       "      <td>STON/O2. 3101282</td>\n",
       "      <td>7.9250</td>\n",
       "      <td>NaN</td>\n",
       "      <td>S</td>\n",
       "    </tr>\n",
       "  </tbody>\n",
       "</table>\n",
       "</div>"
      ],
      "text/plain": [
       "   PassengerId  Survived  Pclass  \\\n",
       "0            1         0       3   \n",
       "1            2         1       1   \n",
       "2            3         1       3   \n",
       "\n",
       "                                                Name     Sex   Age  SibSp  \\\n",
       "0                            Braund, Mr. Owen Harris    male  22.0      1   \n",
       "1  Cumings, Mrs. John Bradley (Florence Briggs Th...  female  38.0      1   \n",
       "2                             Heikkinen, Miss. Laina  female  26.0      0   \n",
       "\n",
       "   Parch            Ticket     Fare Cabin Embarked  \n",
       "0      0         A/5 21171   7.2500   NaN        S  \n",
       "1      0          PC 17599  71.2833   C85        C  \n",
       "2      0  STON/O2. 3101282   7.9250   NaN        S  "
      ]
     },
     "execution_count": 24,
     "metadata": {},
     "output_type": "execute_result"
    }
   ],
   "source": [
    "df_google.head(3)"
   ]
  },
  {
   "cell_type": "markdown",
   "metadata": {},
   "source": [
    "  - print the number of rows and columns"
   ]
  },
  {
   "cell_type": "code",
   "execution_count": 25,
   "metadata": {},
   "outputs": [
    {
     "data": {
      "text/plain": [
       "(891, 12)"
      ]
     },
     "execution_count": 25,
     "metadata": {},
     "output_type": "execute_result"
    }
   ],
   "source": [
    "df_google.shape"
   ]
  },
  {
   "cell_type": "markdown",
   "metadata": {},
   "source": [
    "  - print the column names"
   ]
  },
  {
   "cell_type": "code",
   "execution_count": 26,
   "metadata": {},
   "outputs": [
    {
     "data": {
      "text/plain": [
       "Index(['PassengerId', 'Survived', 'Pclass', 'Name', 'Sex', 'Age', 'SibSp',\n",
       "       'Parch', 'Ticket', 'Fare', 'Cabin', 'Embarked'],\n",
       "      dtype='object')"
      ]
     },
     "execution_count": 26,
     "metadata": {},
     "output_type": "execute_result"
    }
   ],
   "source": [
    "df_google.columns"
   ]
  },
  {
   "cell_type": "markdown",
   "metadata": {},
   "source": [
    "  - print the data type of each column"
   ]
  },
  {
   "cell_type": "code",
   "execution_count": 27,
   "metadata": {},
   "outputs": [
    {
     "data": {
      "text/plain": [
       "PassengerId      int64\n",
       "Survived         int64\n",
       "Pclass           int64\n",
       "Name            object\n",
       "Sex             object\n",
       "Age            float64\n",
       "SibSp            int64\n",
       "Parch            int64\n",
       "Ticket          object\n",
       "Fare           float64\n",
       "Cabin           object\n",
       "Embarked        object\n",
       "dtype: object"
      ]
     },
     "execution_count": 27,
     "metadata": {},
     "output_type": "execute_result"
    }
   ],
   "source": [
    "df_google.dtypes"
   ]
  },
  {
   "cell_type": "markdown",
   "metadata": {},
   "source": [
    "  - print the summary statistics for each of the numeric variables"
   ]
  },
  {
   "cell_type": "code",
   "execution_count": 28,
   "metadata": {},
   "outputs": [
    {
     "data": {
      "text/html": [
       "<div>\n",
       "<style scoped>\n",
       "    .dataframe tbody tr th:only-of-type {\n",
       "        vertical-align: middle;\n",
       "    }\n",
       "\n",
       "    .dataframe tbody tr th {\n",
       "        vertical-align: top;\n",
       "    }\n",
       "\n",
       "    .dataframe thead th {\n",
       "        text-align: right;\n",
       "    }\n",
       "</style>\n",
       "<table border=\"1\" class=\"dataframe\">\n",
       "  <thead>\n",
       "    <tr style=\"text-align: right;\">\n",
       "      <th></th>\n",
       "      <th>PassengerId</th>\n",
       "      <th>Survived</th>\n",
       "      <th>Pclass</th>\n",
       "      <th>Age</th>\n",
       "      <th>SibSp</th>\n",
       "      <th>Parch</th>\n",
       "      <th>Fare</th>\n",
       "    </tr>\n",
       "  </thead>\n",
       "  <tbody>\n",
       "    <tr>\n",
       "      <th>count</th>\n",
       "      <td>891.000000</td>\n",
       "      <td>891.000000</td>\n",
       "      <td>891.000000</td>\n",
       "      <td>714.000000</td>\n",
       "      <td>891.000000</td>\n",
       "      <td>891.000000</td>\n",
       "      <td>891.000000</td>\n",
       "    </tr>\n",
       "    <tr>\n",
       "      <th>mean</th>\n",
       "      <td>446.000000</td>\n",
       "      <td>0.383838</td>\n",
       "      <td>2.308642</td>\n",
       "      <td>29.699118</td>\n",
       "      <td>0.523008</td>\n",
       "      <td>0.381594</td>\n",
       "      <td>32.204208</td>\n",
       "    </tr>\n",
       "    <tr>\n",
       "      <th>std</th>\n",
       "      <td>257.353842</td>\n",
       "      <td>0.486592</td>\n",
       "      <td>0.836071</td>\n",
       "      <td>14.526497</td>\n",
       "      <td>1.102743</td>\n",
       "      <td>0.806057</td>\n",
       "      <td>49.693429</td>\n",
       "    </tr>\n",
       "    <tr>\n",
       "      <th>min</th>\n",
       "      <td>1.000000</td>\n",
       "      <td>0.000000</td>\n",
       "      <td>1.000000</td>\n",
       "      <td>0.420000</td>\n",
       "      <td>0.000000</td>\n",
       "      <td>0.000000</td>\n",
       "      <td>0.000000</td>\n",
       "    </tr>\n",
       "    <tr>\n",
       "      <th>25%</th>\n",
       "      <td>223.500000</td>\n",
       "      <td>0.000000</td>\n",
       "      <td>2.000000</td>\n",
       "      <td>20.125000</td>\n",
       "      <td>0.000000</td>\n",
       "      <td>0.000000</td>\n",
       "      <td>7.910400</td>\n",
       "    </tr>\n",
       "    <tr>\n",
       "      <th>50%</th>\n",
       "      <td>446.000000</td>\n",
       "      <td>0.000000</td>\n",
       "      <td>3.000000</td>\n",
       "      <td>28.000000</td>\n",
       "      <td>0.000000</td>\n",
       "      <td>0.000000</td>\n",
       "      <td>14.454200</td>\n",
       "    </tr>\n",
       "    <tr>\n",
       "      <th>75%</th>\n",
       "      <td>668.500000</td>\n",
       "      <td>1.000000</td>\n",
       "      <td>3.000000</td>\n",
       "      <td>38.000000</td>\n",
       "      <td>1.000000</td>\n",
       "      <td>0.000000</td>\n",
       "      <td>31.000000</td>\n",
       "    </tr>\n",
       "    <tr>\n",
       "      <th>max</th>\n",
       "      <td>891.000000</td>\n",
       "      <td>1.000000</td>\n",
       "      <td>3.000000</td>\n",
       "      <td>80.000000</td>\n",
       "      <td>8.000000</td>\n",
       "      <td>6.000000</td>\n",
       "      <td>512.329200</td>\n",
       "    </tr>\n",
       "  </tbody>\n",
       "</table>\n",
       "</div>"
      ],
      "text/plain": [
       "       PassengerId    Survived      Pclass         Age       SibSp  \\\n",
       "count   891.000000  891.000000  891.000000  714.000000  891.000000   \n",
       "mean    446.000000    0.383838    2.308642   29.699118    0.523008   \n",
       "std     257.353842    0.486592    0.836071   14.526497    1.102743   \n",
       "min       1.000000    0.000000    1.000000    0.420000    0.000000   \n",
       "25%     223.500000    0.000000    2.000000   20.125000    0.000000   \n",
       "50%     446.000000    0.000000    3.000000   28.000000    0.000000   \n",
       "75%     668.500000    1.000000    3.000000   38.000000    1.000000   \n",
       "max     891.000000    1.000000    3.000000   80.000000    8.000000   \n",
       "\n",
       "            Parch        Fare  \n",
       "count  891.000000  891.000000  \n",
       "mean     0.381594   32.204208  \n",
       "std      0.806057   49.693429  \n",
       "min      0.000000    0.000000  \n",
       "25%      0.000000    7.910400  \n",
       "50%      0.000000   14.454200  \n",
       "75%      0.000000   31.000000  \n",
       "max      6.000000  512.329200  "
      ]
     },
     "execution_count": 28,
     "metadata": {},
     "output_type": "execute_result"
    }
   ],
   "source": [
    "df_google.describe()"
   ]
  },
  {
   "cell_type": "markdown",
   "metadata": {},
   "source": [
    "  - print the unique values for each of your categorical variables"
   ]
  },
  {
   "cell_type": "code",
   "execution_count": 29,
   "metadata": {},
   "outputs": [
    {
     "name": "stdout",
     "output_type": "stream",
     "text": [
      "Phillips, Miss. Kate Florence (\"Mrs Kate Louise Phillips Marshall\")    1\n",
      "Lam, Mr. Ali                                                           1\n",
      "Slocovski, Mr. Selman Francis                                          1\n",
      "Mellinger, Mrs. (Elizabeth Anne Maidment)                              1\n",
      "Frolicher-Stehli, Mr. Maxmillian                                       1\n",
      "Reeves, Mr. David                                                      1\n",
      "Van Impe, Miss. Catharina                                              1\n",
      "Keane, Miss. Nora A                                                    1\n",
      "Molson, Mr. Harry Markland                                             1\n",
      "Gustafsson, Mr. Alfred Ossian                                          1\n",
      "Calic, Mr. Petar                                                       1\n",
      "Jussila, Miss. Mari Aina                                               1\n",
      "Hawksford, Mr. Walter James                                            1\n",
      "Crosby, Miss. Harriet R                                                1\n",
      "Watson, Mr. Ennis Hastings                                             1\n",
      "Backstrom, Mr. Karl Alfred                                             1\n",
      "Newell, Miss. Madeleine                                                1\n",
      "Isham, Miss. Ann Elizabeth                                             1\n",
      "Connaghton, Mr. Michael                                                1\n",
      "Peduzzi, Mr. Joseph                                                    1\n",
      "Johnson, Mr. Alfred                                                    1\n",
      "Markun, Mr. Johann                                                     1\n",
      "Marvin, Mr. Daniel Warner                                              1\n",
      "Hippach, Mrs. Louis Albert (Ida Sophia Fischer)                        1\n",
      "Bailey, Mr. Percy Andrew                                               1\n",
      "Bishop, Mrs. Dickinson H (Helen Walton)                                1\n",
      "McDermott, Miss. Brigdet Delia                                         1\n",
      "Cacic, Mr. Luka                                                        1\n",
      "Potter, Mrs. Thomas Jr (Lily Alexenia Wilson)                          1\n",
      "Jardin, Mr. Jose Neto                                                  1\n",
      "                                                                      ..\n",
      "Van Impe, Mrs. Jean Baptiste (Rosalie Paula Govaert)                   1\n",
      "Lurette, Miss. Elise                                                   1\n",
      "Lindahl, Miss. Agda Thorilda Viktoria                                  1\n",
      "Chibnall, Mrs. (Edith Martha Bowerman)                                 1\n",
      "Sobey, Mr. Samuel James Hayden                                         1\n",
      "Dooley, Mr. Patrick                                                    1\n",
      "Williams, Mr. Charles Eugene                                           1\n",
      "Elsbury, Mr. William James                                             1\n",
      "Horgan, Mr. John                                                       1\n",
      "O'Brien, Mr. Timothy                                                   1\n",
      "Turpin, Mrs. William John Robert (Dorothy Ann Wonnacott)               1\n",
      "Celotti, Mr. Francesco                                                 1\n",
      "Johansson, Mr. Gustaf Joel                                             1\n",
      "Ford, Miss. Doolina Margaret \"Daisy\"                                   1\n",
      "Sheerlinck, Mr. Jan Baptist                                            1\n",
      "Shellard, Mr. Frederick William                                        1\n",
      "Swift, Mrs. Frederick Joel (Margaret Welles Barron)                    1\n",
      "Vande Walle, Mr. Nestor Cyriel                                         1\n",
      "Rintamaki, Mr. Matti                                                   1\n",
      "Blank, Mr. Henry                                                       1\n",
      "Eustis, Miss. Elizabeth Mussey                                         1\n",
      "Johnson, Mr. Malkolm Joackim                                           1\n",
      "McMahon, Mr. Martin                                                    1\n",
      "Abbing, Mr. Anthony                                                    1\n",
      "Newsom, Miss. Helen Monypeny                                           1\n",
      "McGough, Mr. James Robert                                              1\n",
      "Burns, Miss. Elizabeth Margaret                                        1\n",
      "Lehmann, Miss. Bertha                                                  1\n",
      "Coleridge, Mr. Reginald Charles                                        1\n",
      "Henry, Miss. Delia                                                     1\n",
      "Name: Name, Length: 891, dtype: int64\n",
      "\n",
      "male      577\n",
      "female    314\n",
      "Name: Sex, dtype: int64\n",
      "\n",
      "CA. 2343              7\n",
      "1601                  7\n",
      "347082                7\n",
      "347088                6\n",
      "CA 2144               6\n",
      "3101295               6\n",
      "382652                5\n",
      "S.O.C. 14879          5\n",
      "113781                4\n",
      "LINE                  4\n",
      "347077                4\n",
      "PC 17757              4\n",
      "17421                 4\n",
      "2666                  4\n",
      "W./C. 6608            4\n",
      "4133                  4\n",
      "19950                 4\n",
      "113760                4\n",
      "349909                4\n",
      "239853                3\n",
      "230080                3\n",
      "C.A. 34651            3\n",
      "13502                 3\n",
      "PC 17755              3\n",
      "347742                3\n",
      "PC 17572              3\n",
      "110413                3\n",
      "345773                3\n",
      "PC 17582              3\n",
      "PC 17760              3\n",
      "                     ..\n",
      "364848                1\n",
      "237798                1\n",
      "SOTON/O.Q. 392087     1\n",
      "350025                1\n",
      "SOTON/O.Q. 3101310    1\n",
      "345779                1\n",
      "382651                1\n",
      "113503                1\n",
      "347064                1\n",
      "113059                1\n",
      "2674                  1\n",
      "2672                  1\n",
      "236171                1\n",
      "367655                1\n",
      "363294                1\n",
      "350043                1\n",
      "2003                  1\n",
      "28551                 1\n",
      "PC 17482              1\n",
      "374910                1\n",
      "330959                1\n",
      "372622                1\n",
      "CA. 2314              1\n",
      "250643                1\n",
      "2649                  1\n",
      "2620                  1\n",
      "234686                1\n",
      "35851                 1\n",
      "13568                 1\n",
      "17463                 1\n",
      "Name: Ticket, Length: 681, dtype: int64\n",
      "\n",
      "B96 B98            4\n",
      "G6                 4\n",
      "C23 C25 C27        4\n",
      "D                  3\n",
      "C22 C26            3\n",
      "F2                 3\n",
      "E101               3\n",
      "F33                3\n",
      "C68                2\n",
      "C83                2\n",
      "B5                 2\n",
      "C126               2\n",
      "D17                2\n",
      "C52                2\n",
      "D33                2\n",
      "B77                2\n",
      "E33                2\n",
      "E121               2\n",
      "E67                2\n",
      "F G73              2\n",
      "C78                2\n",
      "C92                2\n",
      "B20                2\n",
      "C65                2\n",
      "B51 B53 B55        2\n",
      "B57 B59 B63 B66    2\n",
      "B22                2\n",
      "E8                 2\n",
      "C93                2\n",
      "B18                2\n",
      "                  ..\n",
      "D6                 1\n",
      "T                  1\n",
      "B79                1\n",
      "E38                1\n",
      "E36                1\n",
      "A19                1\n",
      "A6                 1\n",
      "C30                1\n",
      "D30                1\n",
      "C90                1\n",
      "B37                1\n",
      "D46                1\n",
      "B101               1\n",
      "D56                1\n",
      "C47                1\n",
      "C46                1\n",
      "C103               1\n",
      "C62 C64            1\n",
      "D11                1\n",
      "B39                1\n",
      "E63                1\n",
      "B4                 1\n",
      "C106               1\n",
      "C32                1\n",
      "A5                 1\n",
      "B50                1\n",
      "D7                 1\n",
      "B86                1\n",
      "C128               1\n",
      "F E69              1\n",
      "Name: Cabin, Length: 147, dtype: int64\n",
      "\n",
      "S    644\n",
      "C    168\n",
      "Q     77\n",
      "Name: Embarked, dtype: int64\n",
      "\n"
     ]
    }
   ],
   "source": [
    "for col in df_google:\n",
    "    if df_google[col].dtype=='O':\n",
    "        print(df_google[col].value_counts()[:])\n",
    "        print()"
   ]
  },
  {
   "cell_type": "markdown",
   "metadata": {},
   "source": [
    "### In a new python module, `acquire.py`:"
   ]
  },
  {
   "cell_type": "code",
   "execution_count": null,
   "metadata": {},
   "outputs": [],
   "source": []
  },
  {
   "cell_type": "markdown",
   "metadata": {},
   "source": [
    "1. **`get_titanic_data`:** returns the titanic data from the Codeup data science database as a pandas data frame."
   ]
  },
  {
   "cell_type": "code",
   "execution_count": null,
   "metadata": {},
   "outputs": [],
   "source": []
  },
  {
   "cell_type": "markdown",
   "metadata": {},
   "source": [
    "2. **`get_iris_data`:** returns the data from the `iris_db` on the Codeup data science database as a pandas data frame. The returned data frame should include the actual name of the species in addition to the species_ids."
   ]
  },
  {
   "cell_type": "code",
   "execution_count": 30,
   "metadata": {},
   "outputs": [],
   "source": [
    "sql='''select measurements.*, species.species_name from measurements join species using (species_id)'''"
   ]
  },
  {
   "cell_type": "code",
   "execution_count": 31,
   "metadata": {},
   "outputs": [
    {
     "name": "stdout",
     "output_type": "stream",
     "text": [
      "starting sql_df\n",
      "starting get_db_url\n",
      "ending get_db_url ; time: 3.814697265625e-06\n",
      "starting check_df\n",
      "DATAFRAME SHAPE:\n",
      "(150, 7) \n",
      "\n",
      "DATAFRAME INFO:\n",
      "<class 'pandas.core.frame.DataFrame'>\n",
      "RangeIndex: 150 entries, 0 to 149\n",
      "Data columns (total 7 columns):\n",
      "measurement_id    150 non-null int64\n",
      "sepal_length      150 non-null float64\n",
      "sepal_width       150 non-null float64\n",
      "petal_length      150 non-null float64\n",
      "petal_width       150 non-null float64\n",
      "species_id        150 non-null int64\n",
      "species_name      150 non-null object\n",
      "dtypes: float64(4), int64(2), object(1)\n",
      "memory usage: 8.3+ KB\n",
      "None \n",
      "\n",
      "DATAFRAME DESCRIPTION:\n",
      "                count       mean        std  min    25%    50%     75%    max\n",
      "measurement_id  150.0  75.500000  43.445368  1.0  38.25  75.50  112.75  150.0\n",
      "sepal_length    150.0   5.843333   0.828066  4.3   5.10   5.80    6.40    7.9\n",
      "sepal_width     150.0   3.057333   0.435866  2.0   2.80   3.00    3.30    4.4\n",
      "petal_length    150.0   3.758000   1.765298  1.0   1.60   4.35    5.10    6.9\n",
      "petal_width     150.0   1.199333   0.762238  0.1   0.30   1.30    1.80    2.5\n",
      "species_id      150.0   2.000000   0.819232  1.0   1.00   2.00    3.00    3.0 \n",
      "\n",
      "DATAFRAME HEAD:\n",
      "   measurement_id  sepal_length  sepal_width  petal_length  petal_width  \\\n",
      "0               1           5.1          3.5           1.4          0.2   \n",
      "1               2           4.9          3.0           1.4          0.2   \n",
      "2               3           4.7          3.2           1.3          0.2   \n",
      "3               4           4.6          3.1           1.5          0.2   \n",
      "4               5           5.0          3.6           1.4          0.2   \n",
      "\n",
      "   species_id species_name  \n",
      "0           1       setosa  \n",
      "1           1       setosa  \n",
      "2           1       setosa  \n",
      "3           1       setosa  \n",
      "4           1       setosa   \n",
      "\n",
      "ending check_df ; time: 0.026282310485839844\n",
      "ending sql_df ; time: 3.1643600463867188\n"
     ]
    }
   ],
   "source": [
    "db_url = acq.sql_df(sql, 'iris_db', splain=1)"
   ]
  },
  {
   "cell_type": "markdown",
   "metadata": {},
   "source": [
    "# Exercises - Data Preparation"
   ]
  },
  {
   "cell_type": "markdown",
   "metadata": {},
   "source": [
    "**The end product of this exercise should be the specified functions in a python script named** \n",
    "`prepare.py`\n",
    "**. Do these in your classification_exercises.ipynb first, then transfer to the** \n",
    "`prepare.py` \n",
    "**file.**"
   ]
  },
  {
   "cell_type": "markdown",
   "metadata": {},
   "source": [
    "### 1. Iris Data"
   ]
  },
  {
   "cell_type": "markdown",
   "metadata": {},
   "source": [
    "   a. Use the function defined in `acquire.py` to load the iris data."
   ]
  },
  {
   "cell_type": "code",
   "execution_count": 32,
   "metadata": {},
   "outputs": [
    {
     "name": "stdout",
     "output_type": "stream",
     "text": [
      "starting get_iris_data\n",
      "starting sql_df\n",
      "starting get_db_url\n",
      "ending get_db_url ; time: 3.0994415283203125e-06\n",
      "starting check_df\n",
      "DATAFRAME SHAPE:\n",
      "(150, 6) \n",
      "\n",
      "DATAFRAME INFO:\n",
      "<class 'pandas.core.frame.DataFrame'>\n",
      "RangeIndex: 150 entries, 0 to 149\n",
      "Data columns (total 6 columns):\n",
      "measurement_id    150 non-null int64\n",
      "sepal_length      150 non-null float64\n",
      "sepal_width       150 non-null float64\n",
      "petal_length      150 non-null float64\n",
      "petal_width       150 non-null float64\n",
      "species_name      150 non-null object\n",
      "dtypes: float64(4), int64(1), object(1)\n",
      "memory usage: 7.1+ KB\n",
      "None \n",
      "\n",
      "DATAFRAME DESCRIPTION:\n",
      "                count       mean        std  min    25%    50%     75%    max\n",
      "measurement_id  150.0  75.500000  43.445368  1.0  38.25  75.50  112.75  150.0\n",
      "sepal_length    150.0   5.843333   0.828066  4.3   5.10   5.80    6.40    7.9\n",
      "sepal_width     150.0   3.057333   0.435866  2.0   2.80   3.00    3.30    4.4\n",
      "petal_length    150.0   3.758000   1.765298  1.0   1.60   4.35    5.10    6.9\n",
      "petal_width     150.0   1.199333   0.762238  0.1   0.30   1.30    1.80    2.5 \n",
      "\n",
      "DATAFRAME HEAD:\n",
      "   measurement_id  sepal_length  sepal_width  petal_length  petal_width  \\\n",
      "0               1           5.1          3.5           1.4          0.2   \n",
      "1               2           4.9          3.0           1.4          0.2   \n",
      "2               3           4.7          3.2           1.3          0.2   \n",
      "3               4           4.6          3.1           1.5          0.2   \n",
      "4               5           5.0          3.6           1.4          0.2   \n",
      "\n",
      "  species_name  \n",
      "0       setosa  \n",
      "1       setosa  \n",
      "2       setosa  \n",
      "3       setosa  \n",
      "4       setosa   \n",
      "\n",
      "ending check_df ; time: 0.02261495590209961\n",
      "ending sql_df ; time: 1.5420010089874268\n",
      "ending get_iris_data ; time: 1.5421152114868164\n"
     ]
    }
   ],
   "source": [
    "df1 = acq.get_iris_data(type='sql', splain=1)"
   ]
  },
  {
   "cell_type": "markdown",
   "metadata": {},
   "source": [
    "   b. Drop the `species_id` and `measurement_id` columns."
   ]
  },
  {
   "cell_type": "code",
   "execution_count": 33,
   "metadata": {},
   "outputs": [
    {
     "name": "stdout",
     "output_type": "stream",
     "text": [
      "starting check_df\n",
      "DATAFRAME SHAPE:\n",
      "(150, 5) \n",
      "\n",
      "DATAFRAME INFO:\n",
      "<class 'pandas.core.frame.DataFrame'>\n",
      "RangeIndex: 150 entries, 0 to 149\n",
      "Data columns (total 5 columns):\n",
      "sepal_length    150 non-null float64\n",
      "sepal_width     150 non-null float64\n",
      "petal_length    150 non-null float64\n",
      "petal_width     150 non-null float64\n",
      "species_name    150 non-null object\n",
      "dtypes: float64(4), object(1)\n",
      "memory usage: 5.9+ KB\n",
      "None \n",
      "\n",
      "DATAFRAME DESCRIPTION:\n",
      "              count      mean       std  min  25%   50%  75%  max\n",
      "sepal_length  150.0  5.843333  0.828066  4.3  5.1  5.80  6.4  7.9\n",
      "sepal_width   150.0  3.057333  0.435866  2.0  2.8  3.00  3.3  4.4\n",
      "petal_length  150.0  3.758000  1.765298  1.0  1.6  4.35  5.1  6.9\n",
      "petal_width   150.0  1.199333  0.762238  0.1  0.3  1.30  1.8  2.5 \n",
      "\n",
      "DATAFRAME HEAD:\n",
      "   sepal_length  sepal_width  petal_length  petal_width species_name\n",
      "0           5.1          3.5           1.4          0.2       setosa\n",
      "1           4.9          3.0           1.4          0.2       setosa\n",
      "2           4.7          3.2           1.3          0.2       setosa\n",
      "3           4.6          3.1           1.5          0.2       setosa\n",
      "4           5.0          3.6           1.4          0.2       setosa \n",
      "\n",
      "ending check_df ; time: 0.0369260311126709\n"
     ]
    }
   ],
   "source": [
    "df1=acq.check_df(df1.drop(columns='measurement_id', axis=1), splain=splain)"
   ]
  },
  {
   "cell_type": "markdown",
   "metadata": {},
   "source": [
    "   c. Rename the `species_name` column to just `species`."
   ]
  },
  {
   "cell_type": "code",
   "execution_count": 34,
   "metadata": {},
   "outputs": [
    {
     "name": "stdout",
     "output_type": "stream",
     "text": [
      "starting check_df\n",
      "DATAFRAME SHAPE:\n",
      "(150, 5) \n",
      "\n",
      "DATAFRAME INFO:\n",
      "<class 'pandas.core.frame.DataFrame'>\n",
      "RangeIndex: 150 entries, 0 to 149\n",
      "Data columns (total 5 columns):\n",
      "sepal_length    150 non-null float64\n",
      "sepal_width     150 non-null float64\n",
      "petal_length    150 non-null float64\n",
      "petal_width     150 non-null float64\n",
      "species         150 non-null object\n",
      "dtypes: float64(4), object(1)\n",
      "memory usage: 5.9+ KB\n",
      "None \n",
      "\n",
      "DATAFRAME DESCRIPTION:\n",
      "              count      mean       std  min  25%   50%  75%  max\n",
      "sepal_length  150.0  5.843333  0.828066  4.3  5.1  5.80  6.4  7.9\n",
      "sepal_width   150.0  3.057333  0.435866  2.0  2.8  3.00  3.3  4.4\n",
      "petal_length  150.0  3.758000  1.765298  1.0  1.6  4.35  5.1  6.9\n",
      "petal_width   150.0  1.199333  0.762238  0.1  0.3  1.30  1.8  2.5 \n",
      "\n",
      "DATAFRAME HEAD:\n",
      "   sepal_length  sepal_width  petal_length  petal_width species\n",
      "0           5.1          3.5           1.4          0.2  setosa\n",
      "1           4.9          3.0           1.4          0.2  setosa\n",
      "2           4.7          3.2           1.3          0.2  setosa\n",
      "3           4.6          3.1           1.5          0.2  setosa\n",
      "4           5.0          3.6           1.4          0.2  setosa \n",
      "\n",
      "ending check_df ; time: 0.04033398628234863\n"
     ]
    }
   ],
   "source": [
    "df1=acq.check_df(df1.rename(columns={'species_name': 'species'}), splain=1)"
   ]
  },
  {
   "cell_type": "markdown",
   "metadata": {},
   "source": [
    "   d. Encode the species name using a sklearn label encoder. Research the `inverse_transform` method of the label encoder. How might this be useful?"
   ]
  },
  {
   "cell_type": "code",
   "execution_count": 35,
   "metadata": {},
   "outputs": [
    {
     "name": "stdout",
     "output_type": "stream",
     "text": [
      "DATAFRAME SHAPE:\n",
      "(150, 5) \n",
      "\n",
      "DATAFRAME INFO:\n",
      "<class 'pandas.core.frame.DataFrame'>\n",
      "RangeIndex: 150 entries, 0 to 149\n",
      "Data columns (total 5 columns):\n",
      "sepal_length    150 non-null float64\n",
      "sepal_width     150 non-null float64\n",
      "petal_length    150 non-null float64\n",
      "petal_width     150 non-null float64\n",
      "species         150 non-null int64\n",
      "dtypes: float64(4), int64(1)\n",
      "memory usage: 5.9 KB\n",
      "None \n",
      "\n",
      "DATAFRAME DESCRIPTION:\n",
      "              count      mean       std  min  25%   50%  75%  max\n",
      "sepal_length  150.0  5.843333  0.828066  4.3  5.1  5.80  6.4  7.9\n",
      "sepal_width   150.0  3.057333  0.435866  2.0  2.8  3.00  3.3  4.4\n",
      "petal_length  150.0  3.758000  1.765298  1.0  1.6  4.35  5.1  6.9\n",
      "petal_width   150.0  1.199333  0.762238  0.1  0.3  1.30  1.8  2.5\n",
      "species       150.0  1.000000  0.819232  0.0  0.0  1.00  2.0  2.0 \n",
      "\n",
      "DATAFRAME HEAD:\n",
      "   sepal_length  sepal_width  petal_length  petal_width  species\n",
      "0           5.1          3.5           1.4          0.2        0\n",
      "1           4.9          3.0           1.4          0.2        0\n",
      "2           4.7          3.2           1.3          0.2        0\n",
      "3           4.6          3.1           1.5          0.2        0\n",
      "4           5.0          3.6           1.4          0.2        0 \n",
      "\n"
     ]
    }
   ],
   "source": [
    "def encode_col(df, col):\n",
    "    encoder = LabelEncoder()\n",
    "    encoder.fit (df[col])\n",
    "    df[col] = encoder.transform(df[col])\n",
    "    return encoder\n",
    "    \n",
    "    \n",
    "encoder1 = encode_col(df1, 'species')\n",
    "    \n",
    "frame_splain(df1, splain=splain)"
   ]
  },
  {
   "cell_type": "markdown",
   "metadata": {},
   "source": [
    "   e. Create a function named `prep_iris` that accepts the untransformed iris data, and returns the data with the transformations above applied."
   ]
  },
  {
   "cell_type": "code",
   "execution_count": 36,
   "metadata": {},
   "outputs": [
    {
     "name": "stdout",
     "output_type": "stream",
     "text": [
      "starting get_iris_data\n",
      "starting sql_df\n",
      "starting get_db_url\n",
      "ending get_db_url ; time: 5.0067901611328125e-06\n",
      "starting check_df\n",
      "ending check_df ; time: 1.6927719116210938e-05\n",
      "ending sql_df ; time: 0.9400551319122314\n",
      "ending get_iris_data ; time: 0.9401662349700928\n",
      "DATAFRAME SHAPE:\n",
      "(150, 5) \n",
      "\n",
      "DATAFRAME INFO:\n",
      "<class 'pandas.core.frame.DataFrame'>\n",
      "RangeIndex: 150 entries, 0 to 149\n",
      "Data columns (total 5 columns):\n",
      "sepal_length    150 non-null float64\n",
      "sepal_width     150 non-null float64\n",
      "petal_length    150 non-null float64\n",
      "petal_width     150 non-null float64\n",
      "species         150 non-null int64\n",
      "dtypes: float64(4), int64(1)\n",
      "memory usage: 5.9 KB\n",
      "None \n",
      "\n",
      "DATAFRAME DESCRIPTION:\n",
      "              count      mean       std  min  25%   50%  75%  max\n",
      "sepal_length  150.0  5.843333  0.828066  4.3  5.1  5.80  6.4  7.9\n",
      "sepal_width   150.0  3.057333  0.435866  2.0  2.8  3.00  3.3  4.4\n",
      "petal_length  150.0  3.758000  1.765298  1.0  1.6  4.35  5.1  6.9\n",
      "petal_width   150.0  1.199333  0.762238  0.1  0.3  1.30  1.8  2.5\n",
      "species       150.0  1.000000  0.819232  0.0  0.0  1.00  2.0  2.0 \n",
      "\n",
      "DATAFRAME HEAD:\n",
      "   sepal_length  sepal_width  petal_length  petal_width  species\n",
      "0           5.1          3.5           1.4          0.2        0\n",
      "1           4.9          3.0           1.4          0.2        0\n",
      "2           4.7          3.2           1.3          0.2        0\n",
      "3           4.6          3.1           1.5          0.2        0\n",
      "4           5.0          3.6           1.4          0.2        0 \n",
      "\n"
     ]
    }
   ],
   "source": [
    "df_iris_final, iris_encoder = prep.prep_iris(splain=0)\n",
    "frame_splain(df_iris_final, splain=splain)"
   ]
  },
  {
   "cell_type": "markdown",
   "metadata": {},
   "source": [
    "### 2. Titanic Data"
   ]
  },
  {
   "cell_type": "markdown",
   "metadata": {},
   "source": [
    "a. Use the function you defined in `acquire.py` to load the titanic data set."
   ]
  },
  {
   "cell_type": "code",
   "execution_count": 37,
   "metadata": {},
   "outputs": [
    {
     "name": "stdout",
     "output_type": "stream",
     "text": [
      "starting get_titanic_data\n",
      "starting sql_df\n",
      "starting get_db_url\n",
      "ending get_db_url ; time: 3.0994415283203125e-06\n",
      "starting check_df\n",
      "DATAFRAME SHAPE:\n",
      "(891, 13) \n",
      "\n",
      "DATAFRAME INFO:\n",
      "<class 'pandas.core.frame.DataFrame'>\n",
      "RangeIndex: 891 entries, 0 to 890\n",
      "Data columns (total 13 columns):\n",
      "passenger_id    891 non-null int64\n",
      "survived        891 non-null int64\n",
      "pclass          891 non-null int64\n",
      "sex             891 non-null object\n",
      "age             714 non-null float64\n",
      "sibsp           891 non-null int64\n",
      "parch           891 non-null int64\n",
      "fare            891 non-null float64\n",
      "embarked        889 non-null object\n",
      "class           891 non-null object\n",
      "deck            203 non-null object\n",
      "embark_town     889 non-null object\n",
      "alone           891 non-null int64\n",
      "dtypes: float64(2), int64(6), object(5)\n",
      "memory usage: 90.6+ KB\n",
      "None \n",
      "\n",
      "DATAFRAME DESCRIPTION:\n",
      "              count        mean         std   min       25%       50%    75%  \\\n",
      "passenger_id  891.0  445.000000  257.353842  0.00  222.5000  445.0000  667.5   \n",
      "survived      891.0    0.383838    0.486592  0.00    0.0000    0.0000    1.0   \n",
      "pclass        891.0    2.308642    0.836071  1.00    2.0000    3.0000    3.0   \n",
      "age           714.0   29.699118   14.526497  0.42   20.1250   28.0000   38.0   \n",
      "sibsp         891.0    0.523008    1.102743  0.00    0.0000    0.0000    1.0   \n",
      "parch         891.0    0.381594    0.806057  0.00    0.0000    0.0000    0.0   \n",
      "fare          891.0   32.204208   49.693429  0.00    7.9104   14.4542   31.0   \n",
      "alone         891.0    0.602694    0.489615  0.00    0.0000    1.0000    1.0   \n",
      "\n",
      "                   max  \n",
      "passenger_id  890.0000  \n",
      "survived        1.0000  \n",
      "pclass          3.0000  \n",
      "age            80.0000  \n",
      "sibsp           8.0000  \n",
      "parch           6.0000  \n",
      "fare          512.3292  \n",
      "alone           1.0000   \n",
      "\n",
      "ending check_df ; time: 0.02577519416809082\n",
      "ending sql_df ; time: 1.0952668190002441\n",
      "ending get_titanic_data ; time: 1.0953361988067627\n"
     ]
    }
   ],
   "source": [
    "df = acq.get_titanic_data(splain=True)"
   ]
  },
  {
   "cell_type": "markdown",
   "metadata": {},
   "source": [
    "b. Handle the missing values in the `embark_town` and `embarked` columns."
   ]
  },
  {
   "cell_type": "code",
   "execution_count": null,
   "metadata": {},
   "outputs": [],
   "source": []
  },
  {
   "cell_type": "markdown",
   "metadata": {},
   "source": [
    "c. Remove the `deck` column."
   ]
  },
  {
   "cell_type": "code",
   "execution_count": null,
   "metadata": {},
   "outputs": [],
   "source": []
  },
  {
   "cell_type": "markdown",
   "metadata": {},
   "source": [
    "d. Use a label encoder to transform the `embarked` column."
   ]
  },
  {
   "cell_type": "code",
   "execution_count": null,
   "metadata": {},
   "outputs": [],
   "source": []
  },
  {
   "cell_type": "markdown",
   "metadata": {},
   "source": [
    "e. Scale the `age` and `fare` columns using a min max scaler. Why might this be beneficial? When might you not want to do this?"
   ]
  },
  {
   "cell_type": "code",
   "execution_count": null,
   "metadata": {},
   "outputs": [],
   "source": []
  },
  {
   "cell_type": "markdown",
   "metadata": {},
   "source": [
    "f. Create a function named prep_titanic that accepts the untransformed titanic data, and returns the data with the transformations above applied."
   ]
  },
  {
   "cell_type": "code",
   "execution_count": 38,
   "metadata": {},
   "outputs": [
    {
     "name": "stdout",
     "output_type": "stream",
     "text": [
      "starting get_titanic_data\n",
      "starting sql_df\n",
      "starting get_db_url\n",
      "ending get_db_url ; time: 4.0531158447265625e-06\n",
      "starting check_df\n",
      "ending check_df ; time: 1.4066696166992188e-05\n",
      "ending sql_df ; time: 1.3795011043548584\n",
      "ending get_titanic_data ; time: 1.37957763671875\n",
      "starting check_df\n",
      "DATAFRAME SHAPE:\n",
      "(891, 13) \n",
      "\n",
      "DATAFRAME INFO:\n",
      "<class 'pandas.core.frame.DataFrame'>\n",
      "RangeIndex: 891 entries, 0 to 890\n",
      "Data columns (total 13 columns):\n",
      "passenger_id    891 non-null int64\n",
      "survived        891 non-null int64\n",
      "pclass          891 non-null int64\n",
      "sex             891 non-null object\n",
      "age             714 non-null float64\n",
      "sibsp           891 non-null int64\n",
      "parch           891 non-null int64\n",
      "fare            891 non-null float64\n",
      "embarked        889 non-null object\n",
      "class           891 non-null object\n",
      "deck            203 non-null object\n",
      "embark_town     889 non-null object\n",
      "alone           891 non-null int64\n",
      "dtypes: float64(2), int64(6), object(5)\n",
      "memory usage: 90.6+ KB\n",
      "None \n",
      "\n",
      "DATAFRAME DESCRIPTION:\n",
      "              count        mean         std   min       25%       50%    75%  \\\n",
      "passenger_id  891.0  445.000000  257.353842  0.00  222.5000  445.0000  667.5   \n",
      "survived      891.0    0.383838    0.486592  0.00    0.0000    0.0000    1.0   \n",
      "pclass        891.0    2.308642    0.836071  1.00    2.0000    3.0000    3.0   \n",
      "age           714.0   29.699118   14.526497  0.42   20.1250   28.0000   38.0   \n",
      "sibsp         891.0    0.523008    1.102743  0.00    0.0000    0.0000    1.0   \n",
      "parch         891.0    0.381594    0.806057  0.00    0.0000    0.0000    0.0   \n",
      "fare          891.0   32.204208   49.693429  0.00    7.9104   14.4542   31.0   \n",
      "alone         891.0    0.602694    0.489615  0.00    0.0000    1.0000    1.0   \n",
      "\n",
      "                   max  \n",
      "passenger_id  890.0000  \n",
      "survived        1.0000  \n",
      "pclass          3.0000  \n",
      "age            80.0000  \n",
      "sibsp           8.0000  \n",
      "parch           6.0000  \n",
      "fare          512.3292  \n",
      "alone           1.0000   \n",
      "\n",
      "ending check_df ; time: 0.02639007568359375\n"
     ]
    }
   ],
   "source": [
    "df_tit = acq.check_df(acq.get_titanic_data(), splain=1)"
   ]
  },
  {
   "cell_type": "code",
   "execution_count": 39,
   "metadata": {},
   "outputs": [
    {
     "data": {
      "text/plain": [
       "array(['S', 'C', 'Q', None], dtype=object)"
      ]
     },
     "execution_count": 39,
     "metadata": {},
     "output_type": "execute_result"
    }
   ],
   "source": [
    "df_tit.embarked.unique()\n"
   ]
  },
  {
   "cell_type": "code",
   "execution_count": 40,
   "metadata": {},
   "outputs": [
    {
     "data": {
      "text/plain": [
       "array(['Southampton', 'Cherbourg', 'Queenstown', None], dtype=object)"
      ]
     },
     "execution_count": 40,
     "metadata": {},
     "output_type": "execute_result"
    }
   ],
   "source": [
    "df_tit.embark_town.unique()"
   ]
  },
  {
   "cell_type": "code",
   "execution_count": 41,
   "metadata": {},
   "outputs": [
    {
     "name": "stdout",
     "output_type": "stream",
     "text": [
      "starting get_titanic_data\n",
      "starting sql_df\n",
      "starting get_db_url\n",
      "ending get_db_url ; time: 5.245208740234375e-06\n",
      "starting check_df\n",
      "DATAFRAME SHAPE:\n",
      "(891, 13) \n",
      "\n",
      "DATAFRAME INFO:\n",
      "<class 'pandas.core.frame.DataFrame'>\n",
      "RangeIndex: 891 entries, 0 to 890\n",
      "Data columns (total 13 columns):\n",
      "passenger_id    891 non-null int64\n",
      "survived        891 non-null int64\n",
      "pclass          891 non-null int64\n",
      "sex             891 non-null object\n",
      "age             714 non-null float64\n",
      "sibsp           891 non-null int64\n",
      "parch           891 non-null int64\n",
      "fare            891 non-null float64\n",
      "embarked        889 non-null object\n",
      "class           891 non-null object\n",
      "deck            203 non-null object\n",
      "embark_town     889 non-null object\n",
      "alone           891 non-null int64\n",
      "dtypes: float64(2), int64(6), object(5)\n",
      "memory usage: 90.6+ KB\n",
      "None \n",
      "\n",
      "DATAFRAME DESCRIPTION:\n",
      "              count        mean         std   min       25%       50%    75%  \\\n",
      "passenger_id  891.0  445.000000  257.353842  0.00  222.5000  445.0000  667.5   \n",
      "survived      891.0    0.383838    0.486592  0.00    0.0000    0.0000    1.0   \n",
      "pclass        891.0    2.308642    0.836071  1.00    2.0000    3.0000    3.0   \n",
      "age           714.0   29.699118   14.526497  0.42   20.1250   28.0000   38.0   \n",
      "sibsp         891.0    0.523008    1.102743  0.00    0.0000    0.0000    1.0   \n",
      "parch         891.0    0.381594    0.806057  0.00    0.0000    0.0000    0.0   \n",
      "fare          891.0   32.204208   49.693429  0.00    7.9104   14.4542   31.0   \n",
      "alone         891.0    0.602694    0.489615  0.00    0.0000    1.0000    1.0   \n",
      "\n",
      "                   max  \n",
      "passenger_id  890.0000  \n",
      "survived        1.0000  \n",
      "pclass          3.0000  \n",
      "age            80.0000  \n",
      "sibsp           8.0000  \n",
      "parch           6.0000  \n",
      "fare          512.3292  \n",
      "alone           1.0000   \n",
      "\n",
      "ending check_df ; time: 0.029369831085205078\n",
      "ending sql_df ; time: 1.638585090637207\n",
      "ending get_titanic_data ; time: 1.638674020767212\n"
     ]
    },
    {
     "ename": "TypeError",
     "evalue": "'<' not supported between instances of 'NoneType' and 'str'",
     "output_type": "error",
     "traceback": [
      "\u001b[0;31m---------------------------------------------------------------------------\u001b[0m",
      "\u001b[0;31mTypeError\u001b[0m                                 Traceback (most recent call last)",
      "\u001b[0;32m<ipython-input-41-90498a2cc994>\u001b[0m in \u001b[0;36m<module>\u001b[0;34m\u001b[0m\n\u001b[0;32m----> 1\u001b[0;31m \u001b[0mdf_titanic\u001b[0m \u001b[0;34m=\u001b[0m \u001b[0mprep\u001b[0m\u001b[0;34m.\u001b[0m\u001b[0mprep_titanic\u001b[0m\u001b[0;34m(\u001b[0m\u001b[0msplain\u001b[0m\u001b[0;34m=\u001b[0m\u001b[0msplain\u001b[0m\u001b[0;34m)\u001b[0m\u001b[0;34m\u001b[0m\u001b[0;34m\u001b[0m\u001b[0m\n\u001b[0m",
      "\u001b[0;32m~/codeup-data-science/ds-methodologies-exercises/classification/prepare.py\u001b[0m in \u001b[0;36mprep_titanic\u001b[0;34m(splain)\u001b[0m\n\u001b[1;32m     63\u001b[0m     \u001b[0mdf\u001b[0m \u001b[0;34m=\u001b[0m \u001b[0mget_titanic_data\u001b[0m\u001b[0;34m(\u001b[0m\u001b[0msplain\u001b[0m\u001b[0;34m=\u001b[0m\u001b[0msplain\u001b[0m\u001b[0;34m)\u001b[0m\u001b[0;34m\u001b[0m\u001b[0;34m\u001b[0m\u001b[0m\n\u001b[1;32m     64\u001b[0m     \u001b[0mdf\u001b[0m \u001b[0;34m=\u001b[0m \u001b[0mdf\u001b[0m\u001b[0;34m.\u001b[0m\u001b[0mdrop\u001b[0m\u001b[0;34m(\u001b[0m\u001b[0mcolumns\u001b[0m\u001b[0;34m=\u001b[0m\u001b[0;34m[\u001b[0m\u001b[0;34m'deck'\u001b[0m\u001b[0;34m]\u001b[0m\u001b[0;34m)\u001b[0m\u001b[0;34m\u001b[0m\u001b[0;34m\u001b[0m\u001b[0m\n\u001b[0;32m---> 65\u001b[0;31m     \u001b[0mdf\u001b[0m \u001b[0;34m=\u001b[0m \u001b[0msimpute\u001b[0m\u001b[0;34m(\u001b[0m\u001b[0mdf\u001b[0m\u001b[0;34m=\u001b[0m\u001b[0mdf\u001b[0m\u001b[0;34m,\u001b[0m \u001b[0mcolumn\u001b[0m\u001b[0;34m=\u001b[0m\u001b[0;34m'embarked'\u001b[0m\u001b[0;34m)\u001b[0m\u001b[0;34m\u001b[0m\u001b[0;34m\u001b[0m\u001b[0m\n\u001b[0m\u001b[1;32m     66\u001b[0m     \u001b[0mdf\u001b[0m \u001b[0;34m=\u001b[0m \u001b[0msimpute\u001b[0m\u001b[0;34m(\u001b[0m\u001b[0mdf\u001b[0m\u001b[0;34m=\u001b[0m\u001b[0mdf\u001b[0m\u001b[0;34m,\u001b[0m \u001b[0mcolumn\u001b[0m\u001b[0;34m=\u001b[0m\u001b[0;34m'embark_town'\u001b[0m\u001b[0;34m)\u001b[0m\u001b[0;34m\u001b[0m\u001b[0;34m\u001b[0m\u001b[0m\n\u001b[1;32m     67\u001b[0m     \u001b[0mencoder\u001b[0m \u001b[0;34m=\u001b[0m \u001b[0mencode_col\u001b[0m\u001b[0;34m(\u001b[0m\u001b[0mdf\u001b[0m\u001b[0;34m=\u001b[0m\u001b[0mdf\u001b[0m\u001b[0;34m,\u001b[0m \u001b[0mcol\u001b[0m\u001b[0;34m=\u001b[0m\u001b[0;34m'embarked'\u001b[0m\u001b[0;34m)\u001b[0m\u001b[0;34m\u001b[0m\u001b[0;34m\u001b[0m\u001b[0m\n",
      "\u001b[0;32m~/codeup-data-science/ds-methodologies-exercises/classification/prepare.py\u001b[0m in \u001b[0;36msimpute\u001b[0;34m(df, column, missing_values, strategy)\u001b[0m\n\u001b[1;32m     77\u001b[0m     \u001b[0;31m#imp_mode.fit(df[[column]])\u001b[0m\u001b[0;34m\u001b[0m\u001b[0;34m\u001b[0m\u001b[0;34m\u001b[0m\u001b[0m\n\u001b[1;32m     78\u001b[0m     \u001b[0;31m#df[[column]] = imp_mode.transform(df[[column]])\u001b[0m\u001b[0;34m\u001b[0m\u001b[0;34m\u001b[0m\u001b[0;34m\u001b[0m\u001b[0m\n\u001b[0;32m---> 79\u001b[0;31m     \u001b[0mdf\u001b[0m\u001b[0;34m[\u001b[0m\u001b[0;34m[\u001b[0m\u001b[0mcolumn\u001b[0m\u001b[0;34m]\u001b[0m\u001b[0;34m]\u001b[0m \u001b[0;34m=\u001b[0m \u001b[0mimp_mode\u001b[0m\u001b[0;34m.\u001b[0m\u001b[0mfit_transform\u001b[0m\u001b[0;34m(\u001b[0m\u001b[0mdf\u001b[0m\u001b[0;34m[\u001b[0m\u001b[0;34m[\u001b[0m\u001b[0mcolumn\u001b[0m\u001b[0;34m]\u001b[0m\u001b[0;34m]\u001b[0m\u001b[0;34m)\u001b[0m\u001b[0;34m\u001b[0m\u001b[0;34m\u001b[0m\u001b[0m\n\u001b[0m\u001b[1;32m     80\u001b[0m     \u001b[0;31m#return df\u001b[0m\u001b[0;34m\u001b[0m\u001b[0;34m\u001b[0m\u001b[0;34m\u001b[0m\u001b[0m\n\u001b[1;32m     81\u001b[0m \u001b[0;34m\u001b[0m\u001b[0m\n",
      "\u001b[0;32m/usr/local/anaconda3/lib/python3.7/site-packages/sklearn/base.py\u001b[0m in \u001b[0;36mfit_transform\u001b[0;34m(self, X, y, **fit_params)\u001b[0m\n\u001b[1;32m    551\u001b[0m         \u001b[0;32mif\u001b[0m \u001b[0my\u001b[0m \u001b[0;32mis\u001b[0m \u001b[0;32mNone\u001b[0m\u001b[0;34m:\u001b[0m\u001b[0;34m\u001b[0m\u001b[0;34m\u001b[0m\u001b[0m\n\u001b[1;32m    552\u001b[0m             \u001b[0;31m# fit method of arity 1 (unsupervised transformation)\u001b[0m\u001b[0;34m\u001b[0m\u001b[0;34m\u001b[0m\u001b[0;34m\u001b[0m\u001b[0m\n\u001b[0;32m--> 553\u001b[0;31m             \u001b[0;32mreturn\u001b[0m \u001b[0mself\u001b[0m\u001b[0;34m.\u001b[0m\u001b[0mfit\u001b[0m\u001b[0;34m(\u001b[0m\u001b[0mX\u001b[0m\u001b[0;34m,\u001b[0m \u001b[0;34m**\u001b[0m\u001b[0mfit_params\u001b[0m\u001b[0;34m)\u001b[0m\u001b[0;34m.\u001b[0m\u001b[0mtransform\u001b[0m\u001b[0;34m(\u001b[0m\u001b[0mX\u001b[0m\u001b[0;34m)\u001b[0m\u001b[0;34m\u001b[0m\u001b[0;34m\u001b[0m\u001b[0m\n\u001b[0m\u001b[1;32m    554\u001b[0m         \u001b[0;32melse\u001b[0m\u001b[0;34m:\u001b[0m\u001b[0;34m\u001b[0m\u001b[0;34m\u001b[0m\u001b[0m\n\u001b[1;32m    555\u001b[0m             \u001b[0;31m# fit method of arity 2 (supervised transformation)\u001b[0m\u001b[0;34m\u001b[0m\u001b[0;34m\u001b[0m\u001b[0;34m\u001b[0m\u001b[0m\n",
      "\u001b[0;32m/usr/local/anaconda3/lib/python3.7/site-packages/sklearn/impute/_base.py\u001b[0m in \u001b[0;36mfit\u001b[0;34m(self, X, y)\u001b[0m\n\u001b[1;32m    266\u001b[0m                                                \u001b[0mself\u001b[0m\u001b[0;34m.\u001b[0m\u001b[0mstrategy\u001b[0m\u001b[0;34m,\u001b[0m\u001b[0;34m\u001b[0m\u001b[0;34m\u001b[0m\u001b[0m\n\u001b[1;32m    267\u001b[0m                                                \u001b[0mself\u001b[0m\u001b[0;34m.\u001b[0m\u001b[0mmissing_values\u001b[0m\u001b[0;34m,\u001b[0m\u001b[0;34m\u001b[0m\u001b[0;34m\u001b[0m\u001b[0m\n\u001b[0;32m--> 268\u001b[0;31m                                                fill_value)\n\u001b[0m\u001b[1;32m    269\u001b[0m \u001b[0;34m\u001b[0m\u001b[0m\n\u001b[1;32m    270\u001b[0m         \u001b[0;32mif\u001b[0m \u001b[0mself\u001b[0m\u001b[0;34m.\u001b[0m\u001b[0madd_indicator\u001b[0m\u001b[0;34m:\u001b[0m\u001b[0;34m\u001b[0m\u001b[0;34m\u001b[0m\u001b[0m\n",
      "\u001b[0;32m/usr/local/anaconda3/lib/python3.7/site-packages/sklearn/impute/_base.py\u001b[0m in \u001b[0;36m_dense_fit\u001b[0;34m(self, X, strategy, missing_values, fill_value)\u001b[0m\n\u001b[1;32m    356\u001b[0m                 \u001b[0mrow_mask\u001b[0m \u001b[0;34m=\u001b[0m \u001b[0mnp\u001b[0m\u001b[0;34m.\u001b[0m\u001b[0mlogical_not\u001b[0m\u001b[0;34m(\u001b[0m\u001b[0mrow_mask\u001b[0m\u001b[0;34m)\u001b[0m\u001b[0;34m.\u001b[0m\u001b[0mastype\u001b[0m\u001b[0;34m(\u001b[0m\u001b[0mnp\u001b[0m\u001b[0;34m.\u001b[0m\u001b[0mbool\u001b[0m\u001b[0;34m)\u001b[0m\u001b[0;34m\u001b[0m\u001b[0;34m\u001b[0m\u001b[0m\n\u001b[1;32m    357\u001b[0m                 \u001b[0mrow\u001b[0m \u001b[0;34m=\u001b[0m \u001b[0mrow\u001b[0m\u001b[0;34m[\u001b[0m\u001b[0mrow_mask\u001b[0m\u001b[0;34m]\u001b[0m\u001b[0;34m\u001b[0m\u001b[0;34m\u001b[0m\u001b[0m\n\u001b[0;32m--> 358\u001b[0;31m                 \u001b[0mmost_frequent\u001b[0m\u001b[0;34m[\u001b[0m\u001b[0mi\u001b[0m\u001b[0;34m]\u001b[0m \u001b[0;34m=\u001b[0m \u001b[0m_most_frequent\u001b[0m\u001b[0;34m(\u001b[0m\u001b[0mrow\u001b[0m\u001b[0;34m,\u001b[0m \u001b[0mnp\u001b[0m\u001b[0;34m.\u001b[0m\u001b[0mnan\u001b[0m\u001b[0;34m,\u001b[0m \u001b[0;36m0\u001b[0m\u001b[0;34m)\u001b[0m\u001b[0;34m\u001b[0m\u001b[0;34m\u001b[0m\u001b[0m\n\u001b[0m\u001b[1;32m    359\u001b[0m \u001b[0;34m\u001b[0m\u001b[0m\n\u001b[1;32m    360\u001b[0m             \u001b[0;32mreturn\u001b[0m \u001b[0mmost_frequent\u001b[0m\u001b[0;34m\u001b[0m\u001b[0;34m\u001b[0m\u001b[0m\n",
      "\u001b[0;32m/usr/local/anaconda3/lib/python3.7/site-packages/sklearn/impute/_base.py\u001b[0m in \u001b[0;36m_most_frequent\u001b[0;34m(array, extra_value, n_repeat)\u001b[0m\n\u001b[1;32m     59\u001b[0m             \u001b[0;31m# has already been NaN-masked.\u001b[0m\u001b[0;34m\u001b[0m\u001b[0;34m\u001b[0m\u001b[0;34m\u001b[0m\u001b[0m\n\u001b[1;32m     60\u001b[0m             \u001b[0mwarnings\u001b[0m\u001b[0;34m.\u001b[0m\u001b[0msimplefilter\u001b[0m\u001b[0;34m(\u001b[0m\u001b[0;34m\"ignore\"\u001b[0m\u001b[0;34m,\u001b[0m \u001b[0mRuntimeWarning\u001b[0m\u001b[0;34m)\u001b[0m\u001b[0;34m\u001b[0m\u001b[0;34m\u001b[0m\u001b[0m\n\u001b[0;32m---> 61\u001b[0;31m             \u001b[0mmode\u001b[0m \u001b[0;34m=\u001b[0m \u001b[0mstats\u001b[0m\u001b[0;34m.\u001b[0m\u001b[0mmode\u001b[0m\u001b[0;34m(\u001b[0m\u001b[0marray\u001b[0m\u001b[0;34m)\u001b[0m\u001b[0;34m\u001b[0m\u001b[0;34m\u001b[0m\u001b[0m\n\u001b[0m\u001b[1;32m     62\u001b[0m \u001b[0;34m\u001b[0m\u001b[0m\n\u001b[1;32m     63\u001b[0m         \u001b[0mmost_frequent_value\u001b[0m \u001b[0;34m=\u001b[0m \u001b[0mmode\u001b[0m\u001b[0;34m[\u001b[0m\u001b[0;36m0\u001b[0m\u001b[0;34m]\u001b[0m\u001b[0;34m[\u001b[0m\u001b[0;36m0\u001b[0m\u001b[0;34m]\u001b[0m\u001b[0;34m\u001b[0m\u001b[0;34m\u001b[0m\u001b[0m\n",
      "\u001b[0;32m/usr/local/anaconda3/lib/python3.7/site-packages/scipy/stats/stats.py\u001b[0m in \u001b[0;36mmode\u001b[0;34m(a, axis, nan_policy)\u001b[0m\n\u001b[1;32m    487\u001b[0m     \u001b[0mcounts\u001b[0m \u001b[0;34m=\u001b[0m \u001b[0mnp\u001b[0m\u001b[0;34m.\u001b[0m\u001b[0mzeros\u001b[0m\u001b[0;34m(\u001b[0m\u001b[0ma_view\u001b[0m\u001b[0;34m.\u001b[0m\u001b[0mshape\u001b[0m\u001b[0;34m[\u001b[0m\u001b[0;34m:\u001b[0m\u001b[0;34m-\u001b[0m\u001b[0;36m1\u001b[0m\u001b[0;34m]\u001b[0m\u001b[0;34m,\u001b[0m \u001b[0mdtype\u001b[0m\u001b[0;34m=\u001b[0m\u001b[0mnp\u001b[0m\u001b[0;34m.\u001b[0m\u001b[0mint\u001b[0m\u001b[0;34m)\u001b[0m\u001b[0;34m\u001b[0m\u001b[0;34m\u001b[0m\u001b[0m\n\u001b[1;32m    488\u001b[0m     \u001b[0;32mfor\u001b[0m \u001b[0mind\u001b[0m \u001b[0;32min\u001b[0m \u001b[0minds\u001b[0m\u001b[0;34m:\u001b[0m\u001b[0;34m\u001b[0m\u001b[0;34m\u001b[0m\u001b[0m\n\u001b[0;32m--> 489\u001b[0;31m         \u001b[0mmodes\u001b[0m\u001b[0;34m[\u001b[0m\u001b[0mind\u001b[0m\u001b[0;34m]\u001b[0m\u001b[0;34m,\u001b[0m \u001b[0mcounts\u001b[0m\u001b[0;34m[\u001b[0m\u001b[0mind\u001b[0m\u001b[0;34m]\u001b[0m \u001b[0;34m=\u001b[0m \u001b[0m_mode1D\u001b[0m\u001b[0;34m(\u001b[0m\u001b[0ma_view\u001b[0m\u001b[0;34m[\u001b[0m\u001b[0mind\u001b[0m\u001b[0;34m]\u001b[0m\u001b[0;34m)\u001b[0m\u001b[0;34m\u001b[0m\u001b[0;34m\u001b[0m\u001b[0m\n\u001b[0m\u001b[1;32m    490\u001b[0m     \u001b[0mnewshape\u001b[0m \u001b[0;34m=\u001b[0m \u001b[0mlist\u001b[0m\u001b[0;34m(\u001b[0m\u001b[0ma\u001b[0m\u001b[0;34m.\u001b[0m\u001b[0mshape\u001b[0m\u001b[0;34m)\u001b[0m\u001b[0;34m\u001b[0m\u001b[0;34m\u001b[0m\u001b[0m\n\u001b[1;32m    491\u001b[0m     \u001b[0mnewshape\u001b[0m\u001b[0;34m[\u001b[0m\u001b[0maxis\u001b[0m\u001b[0;34m]\u001b[0m \u001b[0;34m=\u001b[0m \u001b[0;36m1\u001b[0m\u001b[0;34m\u001b[0m\u001b[0;34m\u001b[0m\u001b[0m\n",
      "\u001b[0;32m/usr/local/anaconda3/lib/python3.7/site-packages/scipy/stats/stats.py\u001b[0m in \u001b[0;36m_mode1D\u001b[0;34m(a)\u001b[0m\n\u001b[1;32m    474\u001b[0m \u001b[0;34m\u001b[0m\u001b[0m\n\u001b[1;32m    475\u001b[0m     \u001b[0;32mdef\u001b[0m \u001b[0m_mode1D\u001b[0m\u001b[0;34m(\u001b[0m\u001b[0ma\u001b[0m\u001b[0;34m)\u001b[0m\u001b[0;34m:\u001b[0m\u001b[0;34m\u001b[0m\u001b[0;34m\u001b[0m\u001b[0m\n\u001b[0;32m--> 476\u001b[0;31m         \u001b[0mvals\u001b[0m\u001b[0;34m,\u001b[0m \u001b[0mcnts\u001b[0m \u001b[0;34m=\u001b[0m \u001b[0mnp\u001b[0m\u001b[0;34m.\u001b[0m\u001b[0munique\u001b[0m\u001b[0;34m(\u001b[0m\u001b[0ma\u001b[0m\u001b[0;34m,\u001b[0m \u001b[0mreturn_counts\u001b[0m\u001b[0;34m=\u001b[0m\u001b[0;32mTrue\u001b[0m\u001b[0;34m)\u001b[0m\u001b[0;34m\u001b[0m\u001b[0;34m\u001b[0m\u001b[0m\n\u001b[0m\u001b[1;32m    477\u001b[0m         \u001b[0;32mreturn\u001b[0m \u001b[0mvals\u001b[0m\u001b[0;34m[\u001b[0m\u001b[0mcnts\u001b[0m\u001b[0;34m.\u001b[0m\u001b[0margmax\u001b[0m\u001b[0;34m(\u001b[0m\u001b[0;34m)\u001b[0m\u001b[0;34m]\u001b[0m\u001b[0;34m,\u001b[0m \u001b[0mcnts\u001b[0m\u001b[0;34m.\u001b[0m\u001b[0mmax\u001b[0m\u001b[0;34m(\u001b[0m\u001b[0;34m)\u001b[0m\u001b[0;34m\u001b[0m\u001b[0;34m\u001b[0m\u001b[0m\n\u001b[1;32m    478\u001b[0m \u001b[0;34m\u001b[0m\u001b[0m\n",
      "\u001b[0;32m/usr/local/anaconda3/lib/python3.7/site-packages/numpy/lib/arraysetops.py\u001b[0m in \u001b[0;36munique\u001b[0;34m(ar, return_index, return_inverse, return_counts, axis)\u001b[0m\n\u001b[1;32m    262\u001b[0m     \u001b[0mar\u001b[0m \u001b[0;34m=\u001b[0m \u001b[0mnp\u001b[0m\u001b[0;34m.\u001b[0m\u001b[0masanyarray\u001b[0m\u001b[0;34m(\u001b[0m\u001b[0mar\u001b[0m\u001b[0;34m)\u001b[0m\u001b[0;34m\u001b[0m\u001b[0;34m\u001b[0m\u001b[0m\n\u001b[1;32m    263\u001b[0m     \u001b[0;32mif\u001b[0m \u001b[0maxis\u001b[0m \u001b[0;32mis\u001b[0m \u001b[0;32mNone\u001b[0m\u001b[0;34m:\u001b[0m\u001b[0;34m\u001b[0m\u001b[0;34m\u001b[0m\u001b[0m\n\u001b[0;32m--> 264\u001b[0;31m         \u001b[0mret\u001b[0m \u001b[0;34m=\u001b[0m \u001b[0m_unique1d\u001b[0m\u001b[0;34m(\u001b[0m\u001b[0mar\u001b[0m\u001b[0;34m,\u001b[0m \u001b[0mreturn_index\u001b[0m\u001b[0;34m,\u001b[0m \u001b[0mreturn_inverse\u001b[0m\u001b[0;34m,\u001b[0m \u001b[0mreturn_counts\u001b[0m\u001b[0;34m)\u001b[0m\u001b[0;34m\u001b[0m\u001b[0;34m\u001b[0m\u001b[0m\n\u001b[0m\u001b[1;32m    265\u001b[0m         \u001b[0;32mreturn\u001b[0m \u001b[0m_unpack_tuple\u001b[0m\u001b[0;34m(\u001b[0m\u001b[0mret\u001b[0m\u001b[0;34m)\u001b[0m\u001b[0;34m\u001b[0m\u001b[0;34m\u001b[0m\u001b[0m\n\u001b[1;32m    266\u001b[0m \u001b[0;34m\u001b[0m\u001b[0m\n",
      "\u001b[0;32m/usr/local/anaconda3/lib/python3.7/site-packages/numpy/lib/arraysetops.py\u001b[0m in \u001b[0;36m_unique1d\u001b[0;34m(ar, return_index, return_inverse, return_counts)\u001b[0m\n\u001b[1;32m    310\u001b[0m         \u001b[0maux\u001b[0m \u001b[0;34m=\u001b[0m \u001b[0mar\u001b[0m\u001b[0;34m[\u001b[0m\u001b[0mperm\u001b[0m\u001b[0;34m]\u001b[0m\u001b[0;34m\u001b[0m\u001b[0;34m\u001b[0m\u001b[0m\n\u001b[1;32m    311\u001b[0m     \u001b[0;32melse\u001b[0m\u001b[0;34m:\u001b[0m\u001b[0;34m\u001b[0m\u001b[0;34m\u001b[0m\u001b[0m\n\u001b[0;32m--> 312\u001b[0;31m         \u001b[0mar\u001b[0m\u001b[0;34m.\u001b[0m\u001b[0msort\u001b[0m\u001b[0;34m(\u001b[0m\u001b[0;34m)\u001b[0m\u001b[0;34m\u001b[0m\u001b[0;34m\u001b[0m\u001b[0m\n\u001b[0m\u001b[1;32m    313\u001b[0m         \u001b[0maux\u001b[0m \u001b[0;34m=\u001b[0m \u001b[0mar\u001b[0m\u001b[0;34m\u001b[0m\u001b[0;34m\u001b[0m\u001b[0m\n\u001b[1;32m    314\u001b[0m     \u001b[0mmask\u001b[0m \u001b[0;34m=\u001b[0m \u001b[0mnp\u001b[0m\u001b[0;34m.\u001b[0m\u001b[0mempty\u001b[0m\u001b[0;34m(\u001b[0m\u001b[0maux\u001b[0m\u001b[0;34m.\u001b[0m\u001b[0mshape\u001b[0m\u001b[0;34m,\u001b[0m \u001b[0mdtype\u001b[0m\u001b[0;34m=\u001b[0m\u001b[0mnp\u001b[0m\u001b[0;34m.\u001b[0m\u001b[0mbool_\u001b[0m\u001b[0;34m)\u001b[0m\u001b[0;34m\u001b[0m\u001b[0;34m\u001b[0m\u001b[0m\n",
      "\u001b[0;31mTypeError\u001b[0m: '<' not supported between instances of 'NoneType' and 'str'"
     ]
    }
   ],
   "source": [
    "df_titanic = prep.prep_titanic(splain=splain)"
   ]
  },
  {
   "cell_type": "code",
   "execution_count": null,
   "metadata": {},
   "outputs": [],
   "source": []
  }
 ],
 "metadata": {
  "kernelspec": {
   "display_name": "Python 3",
   "language": "python",
   "name": "python3"
  },
  "language_info": {
   "codemirror_mode": {
    "name": "ipython",
    "version": 3
   },
   "file_extension": ".py",
   "mimetype": "text/x-python",
   "name": "python",
   "nbconvert_exporter": "python",
   "pygments_lexer": "ipython3",
   "version": "3.7.3"
  }
 },
 "nbformat": 4,
 "nbformat_minor": 2
}
