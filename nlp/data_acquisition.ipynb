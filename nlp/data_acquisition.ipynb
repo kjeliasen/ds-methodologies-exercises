{
 "cells": [
  {
   "cell_type": "markdown",
   "metadata": {},
   "source": [
    "<h2 id=\"exercises\">Exercises</h2>\n",
    "\n",
    "[*Lesson Page*](https://ds.codeup.com/11-nlp/3-acquire/)"
   ]
  },
  {
   "cell_type": "markdown",
   "metadata": {},
   "source": [
    "<p>By the end of this exercise, you should have a file named <code>acquire.py</code> that\n",
    "contains the specified functions. If you wish, you may break your work into\n",
    "separate files for each website (e.g. <code>acquire_codeup_blog.py</code> and\n",
    "<code>acquire_news_articles.py</code>), but the end function should be present in\n",
    "<code>acquire.py</code> (that is, <code>acquire.py</code> should  import <code>get_blog_articles</code> from\n",
    "the <code>acquire_codeup_blog</code> module.)</p>"
   ]
  },
  {
   "cell_type": "markdown",
   "metadata": {},
   "source": [
    "<h2>1. News Articles</h2>\n",
    "<p>We will now be scraping text data from <a href=\"https://inshorts.com/\">inshorts</a>, a\n",
    "website that provides a brief overview of many different topics.</p>\n",
    "<p>Write a function that scrapes the news articles for the following topics:</p>\n",
    "<ul>\n",
    "<li>Business</li>\n",
    "<li>Sports</li>\n",
    "<li>Technology</li>\n",
    "<li>Entertainment</li>\n",
    "</ul>\n",
    "<p>The end product of this should be a function named <code>get_news_articles</code> that\n",
    "returns a list of dictionaries, where each dictionary has this shape:</p>\n",
    "<div class=\"highlight\"><pre><span></span><span class=\"p\">{</span>\n",
    "    <span class=\"s1\">&#39;title&#39;</span><span class=\"p\">:</span> <span class=\"s1\">&#39;The article title&#39;</span><span class=\"p\">,</span>\n",
    "    <span class=\"s1\">&#39;content&#39;</span><span class=\"p\">:</span> <span class=\"s1\">&#39;The article content&#39;</span><span class=\"p\">,</span>\n",
    "    <span class=\"s1\">&#39;category&#39;</span><span class=\"p\">:</span> <span class=\"s1\">&#39;business&#39;</span> <span class=\"c1\"># for example</span>\n",
    "<span class=\"p\">}</span>\n",
    "</pre></div>\n",
    "\n",
    "<p>Hints:</p>\n",
    "<ol>\n",
    "<li>Start by inspecting the website in your browser. Figure out which\n",
    "   elements will be useful.</li>\n",
    "<li>Start by creating a function that handles a single article and produces a\n",
    "   dictionary like the one above.</li>\n",
    "<li>Next create a function that will find all the articles on a single page\n",
    "   and call the function you created in the last step for every article on\n",
    "   the page.</li>\n",
    "<li>Now create a function that will use the previous two functions to scrape\n",
    "   the articles from all the pages that you need, and do any additional\n",
    "   processing that needs to be done.</li>"
   ]
  },
  {
   "cell_type": "markdown",
   "metadata": {},
   "source": [
    "<h2>2. Codeup Blog Articles</h2>\n",
    "<p>Scrape the article text from the following pages:</p>\n",
    "<ul>\n",
    "<li>https://codeup.com/codeups-data-science-career-accelerator-is-here/</li>\n",
    "<li>https://codeup.com/data-science-myths/</li>\n",
    "<li>https://codeup.com/data-science-vs-data-analytics-whats-the-difference/</li>\n",
    "<li>https://codeup.com/10-tips-to-crush-it-at-the-sa-tech-job-fair/</li>\n",
    "<li>https://codeup.com/competitor-bootcamps-are-closing-is-the-model-in-danger/</li>\n",
    "</ul>\n",
    "<p>Encapsulate your work in a function named <code>get_blog_articles</code> that will return a\n",
    "list of dictionaries, with each dictionary representing one article. The shape\n",
    "of each dictionary should look like this:</p>\n",
    "<div class=\"highlight\"><pre><span></span><span class=\"p\">{</span>\n",
    "    <span class=\"s1\">&#39;title&#39;</span><span class=\"p\">:</span> <span class=\"s1\">&#39;the title of the article&#39;</span><span class=\"p\">,</span>\n",
    "    <span class=\"s1\">&#39;content&#39;</span><span class=\"p\">:</span> <span class=\"s1\">&#39;the full text content of the article&#39;</span>\n",
    "<span class=\"p\">}</span>\n",
    "</pre></div>\n",
    "\n",
    "<p>Plus any additional properties you think might be helpful.</p>\n",
    "<p><strong>Bonus:</strong></p>\n",
    "<ul>\n",
    "<li>Scrape the text of all the articles linked on <a href=\"https://codeup.com/blog/\">codeup's blog page</a>.</li>\n",
    "</ul>\n",
    "<p><strong>Bonus Bonus:</strong></p>\n",
    "<ul>\n",
    "<li>Starting from <a href=\"https://codeup.com/blog/\">the blog homepage</a>, scrape the\n",
    "  full text of every article linked on the page, then move on to the next\n",
    "  page and keep doing the same thing until you have scraped the entire text\n",
    "  of Codeup's blog.</li>\n",
    "</ul>\n",
    "</li>\n",
    "</ol>"
   ]
  },
  {
   "cell_type": "markdown",
   "metadata": {},
   "source": []
  },
  {
   "cell_type": "markdown",
   "metadata": {},
   "source": [
    "<h2>Bonus: cache the data</h2>\n",
    "<p>Write your code such that the acquired data is saved locally in some form or\n",
    "fashion. Your functions that retrieve the data should prefer to read the\n",
    "local data instead of having to make all the requests everytime the function\n",
    "is called. Include a boolean flag in the functions to allow the data to be\n",
    "acquired \"fresh\" from the actual sources (re-writing your local cache).</p>"
   ]
  },
  {
   "cell_type": "markdown",
   "metadata": {},
   "source": []
  },
  {
   "cell_type": "markdown",
   "metadata": {},
   "source": []
  },
  {
   "cell_type": "markdown",
   "metadata": {},
   "source": []
  },
  {
   "cell_type": "code",
   "execution_count": null,
   "metadata": {},
   "outputs": [],
   "source": [
    "def make_dictionary_from_article(url):\n",
    "    # make the request to the url variable\n",
    "    # make a \"soup\" variable\n",
    "    # isolate the title of the article, store it as a string called \"title\"\n",
    "    # isolate the body text of the article (buy CSS selector), name the variable \"body\"\n",
    "    \n",
    "    return {\n",
    "        \"title\": title,\n",
    "        \"body\": body\n",
    "    }\n",
    "\n",
    "\n",
    "def get_blog_articles():\n",
    "    urls = [\n",
    "        \"https://codeup.com/codeups-data-science-career-accelerator-is-here/\",\n",
    "        \"https://codeup.com/data-science-myths/\",\n",
    "        \"https://codeup.com/data-science-vs-data-analytics-whats-the-difference/\",\n",
    "        \"https://codeup.com/10-tips-to-crush-it-at-the-sa-tech-job-fair/\",\n",
    "        \"https://codeup.com/competitor-bootcamps-are-closing-is-the-model-in-danger/\",\n",
    "    ]\n",
    "    \n",
    "    output = []\n",
    "    \n",
    "    for url in urls:\n",
    "        output.append(make_dictionary_from_article(url))\n",
    "    \n",
    "    return output"
   ]
  },
  {
   "cell_type": "markdown",
   "metadata": {},
   "source": []
  }
 ],
 "metadata": {
  "kernelspec": {
   "display_name": "Python 3",
   "language": "python",
   "name": "python3"
  },
  "language_info": {
   "codemirror_mode": {
    "name": "ipython",
    "version": 3
   },
   "file_extension": ".py",
   "mimetype": "text/x-python",
   "name": "python",
   "nbconvert_exporter": "python",
   "pygments_lexer": "ipython3",
   "version": "3.7.3"
  }
 },
 "nbformat": 4,
 "nbformat_minor": 2
}
