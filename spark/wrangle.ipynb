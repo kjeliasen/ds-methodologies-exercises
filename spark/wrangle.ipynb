{
 "cells": [
  {
   "cell_type": "markdown",
   "metadata": {},
   "source": [
    "<h1 id=\"exercises\">Exercises - Data Acquisition</h1>\n"
   ]
  },
  {
   "cell_type": "markdown",
   "metadata": {},
   "source": [
    "This exercises uses the <code>case.csv</code>, <code>dept.csv</code>, and <code>source.csv</code> files from the\n",
    "san antonio 311 call dataset."
   ]
  },
  {
   "cell_type": "code",
   "execution_count": 1,
   "metadata": {},
   "outputs": [],
   "source": [
    "import pandas as pd\n",
    "import numpy as np\n",
    "\n",
    "from os import path\n",
    "from pydataset import data\n",
    "\n",
    "import pyspark\n",
    "import pyspark.sql.functions as F\n",
    "import pyspark.sql.types as T"
   ]
  },
  {
   "cell_type": "code",
   "execution_count": 2,
   "metadata": {},
   "outputs": [],
   "source": [
    "spark = pyspark.sql.SparkSession.builder.getOrCreate()"
   ]
  },
  {
   "cell_type": "code",
   "execution_count": 3,
   "metadata": {},
   "outputs": [],
   "source": [
    "def get_spark_shape(df):\n",
    "    return (df.count(), len(df.columns))"
   ]
  },
  {
   "cell_type": "markdown",
   "metadata": {},
   "source": [
    "## i.1\n",
    "Read the case, department, and source data into their own spark dataframes."
   ]
  },
  {
   "cell_type": "markdown",
   "metadata": {},
   "source": [
    "#### Create case"
   ]
  },
  {
   "cell_type": "code",
   "execution_count": 4,
   "metadata": {},
   "outputs": [
    {
     "name": "stdout",
     "output_type": "stream",
     "text": [
      "(841704, 14)\n",
      "(841630, 14)\n",
      "root\n",
      " |-- case_id: integer (nullable = true)\n",
      " |-- case_opened_date: string (nullable = true)\n",
      " |-- case_closed_date: string (nullable = true)\n",
      " |-- SLA_due_date: string (nullable = true)\n",
      " |-- case_late: string (nullable = true)\n",
      " |-- num_days_late: double (nullable = true)\n",
      " |-- case_closed: string (nullable = true)\n",
      " |-- dept_division: string (nullable = true)\n",
      " |-- service_request_type: string (nullable = true)\n",
      " |-- SLA_days: double (nullable = true)\n",
      " |-- case_status: string (nullable = true)\n",
      " |-- source_id: string (nullable = true)\n",
      " |-- request_address: string (nullable = true)\n",
      " |-- council_district: integer (nullable = true)\n",
      "\n"
     ]
    }
   ],
   "source": [
    "case = spark.read.csv('spark_csv/case.csv', header=True, inferSchema=True)\n",
    "print(get_spark_shape(case))\n",
    "case = case.distinct()\n",
    "print(get_spark_shape(case))\n",
    "case.printSchema()"
   ]
  },
  {
   "cell_type": "markdown",
   "metadata": {},
   "source": [
    "#### Register case"
   ]
  },
  {
   "cell_type": "code",
   "execution_count": 5,
   "metadata": {},
   "outputs": [],
   "source": [
    "case.createOrReplaceTempView('case')"
   ]
  },
  {
   "cell_type": "markdown",
   "metadata": {},
   "source": [
    "#### Create dept"
   ]
  },
  {
   "cell_type": "code",
   "execution_count": 6,
   "metadata": {},
   "outputs": [
    {
     "name": "stdout",
     "output_type": "stream",
     "text": [
      "(39, 4)\n",
      "root\n",
      " |-- dept_division: string (nullable = true)\n",
      " |-- dept_name: string (nullable = true)\n",
      " |-- standardized_dept_name: string (nullable = true)\n",
      " |-- dept_subject_to_SLA: string (nullable = true)\n",
      "\n"
     ]
    }
   ],
   "source": [
    "dept=spark.read.csv('spark_csv/dept.csv', header=True, inferSchema=True)\n",
    "print(get_spark_shape(dept))\n",
    "dept.printSchema()"
   ]
  },
  {
   "cell_type": "code",
   "execution_count": 7,
   "metadata": {},
   "outputs": [
    {
     "name": "stdout",
     "output_type": "stream",
     "text": [
      "+-----------------------------+-------------------------+------------------------+-------------------+\n",
      "|dept_division                |dept_name                |standardized_dept_name  |dept_subject_to_SLA|\n",
      "+-----------------------------+-------------------------+------------------------+-------------------+\n",
      "|311 Call Center              |Customer Service         |Customer Service        |YES                |\n",
      "|Brush                        |Solid Waste Management   |Solid Waste             |YES                |\n",
      "|Clean and Green              |Parks and Recreation     |Parks & Recreation      |YES                |\n",
      "|Clean and Green Natural Areas|Parks and Recreation     |Parks & Recreation      |YES                |\n",
      "|Code Enforcement             |Code Enforcement Services|DSD/Code Enforcement    |YES                |\n",
      "|Code Enforcement (IntExp)    |Code Enforcement Services|DSD/Code Enforcement    |YES                |\n",
      "|Code Enforcement (Internal)  |null                     |DSD/Code Enforcement    |YES                |\n",
      "|Dangerous Premise            |Code Enforcement Services|DSD/Code Enforcement    |YES                |\n",
      "|Dangerous Premise (IntExp)   |Code Enforcement Services|DSD/Code Enforcement    |YES                |\n",
      "|Director's Office Horizontal |Trans & Cap Improvements |Trans & Cap Improvements|YES                |\n",
      "|District 1                   |City Council             |City Council            |NO                 |\n",
      "|District 10                  |City Council             |City Council            |NO                 |\n",
      "|District 2                   |City Council             |City Council            |NO                 |\n",
      "|District 3                   |City Council             |City Council            |NO                 |\n",
      "|District 6                   |City Council             |City Council            |NO                 |\n",
      "|District 7                   |City Council             |City Council            |NO                 |\n",
      "|District 8                   |City Council             |City Council            |NO                 |\n",
      "|District 9                   |City Council             |City Council            |NO                 |\n",
      "|Engineering Division         |Development Services     |DSD/Code Enforcement    |YES                |\n",
      "|Facility License             |Metro Health             |Metro Health            |YES                |\n",
      "|Field Operations             |Animal Care Services     |Animal Care Services    |YES                |\n",
      "|Food Establishments          |Metro Health             |Metro Health            |YES                |\n",
      "|Graffiti                     |Code Enforcement Services|DSD/Code Enforcement    |YES                |\n",
      "|Graffiti (IntExp)            |Code Enforcement Services|DSD/Code Enforcement    |YES                |\n",
      "|Miscellaneous                |Solid Waste Management   |Solid Waste             |YES                |\n",
      "|Reservations                 |Parks and Recreation     |Parks & Recreation      |YES                |\n",
      "|Shops                        |Parks and Recreation     |Parks & Recreation      |YES                |\n",
      "|Shops (Internal)             |Parks and Recreation     |Parks & Recreation      |YES                |\n",
      "|Signals                      |Trans & Cap Improvements |Trans & Cap Improvements|YES                |\n",
      "|Signs and Markings           |Trans & Cap Improvements |Trans & Cap Improvements|YES                |\n",
      "|Solid Waste                  |Solid Waste Management   |Solid Waste             |YES                |\n",
      "|Storm Water                  |Trans & Cap Improvements |Trans & Cap Improvements|YES                |\n",
      "|Storm Water Engineering      |Trans & Cap Improvements |Trans & Cap Improvements|YES                |\n",
      "|Streets                      |Trans & Cap Improvements |Trans & Cap Improvements|YES                |\n",
      "|Trades                       |Parks and Recreation     |Parks & Recreation      |YES                |\n",
      "|Traffic Engineering Design   |Trans & Cap Improvements |Trans & Cap Improvements|YES                |\n",
      "|Tree Crew                    |Parks and Recreation     |Parks & Recreation      |YES                |\n",
      "|Vector                       |Metro Health             |Metro Health            |YES                |\n",
      "|Waste Collection             |Solid Waste Management   |Solid Waste             |YES                |\n",
      "+-----------------------------+-------------------------+------------------------+-------------------+\n",
      "\n"
     ]
    }
   ],
   "source": [
    "dept.show(39, truncate=False)"
   ]
  },
  {
   "cell_type": "markdown",
   "metadata": {},
   "source": [
    "#### Register dept"
   ]
  },
  {
   "cell_type": "code",
   "execution_count": 8,
   "metadata": {},
   "outputs": [],
   "source": [
    "dept.createOrReplaceTempView('dept')"
   ]
  },
  {
   "cell_type": "markdown",
   "metadata": {},
   "source": [
    "#### Create source"
   ]
  },
  {
   "cell_type": "code",
   "execution_count": 9,
   "metadata": {},
   "outputs": [
    {
     "name": "stdout",
     "output_type": "stream",
     "text": [
      "(140, 2)\n",
      "root\n",
      " |-- source_id: string (nullable = true)\n",
      " |-- source_username: string (nullable = true)\n",
      "\n"
     ]
    }
   ],
   "source": [
    "source=spark.read.csv('spark_csv/source.csv', header=True, inferSchema=True)\n",
    "print(get_spark_shape(source))\n",
    "source.printSchema()"
   ]
  },
  {
   "cell_type": "markdown",
   "metadata": {},
   "source": [
    "#### Register source"
   ]
  },
  {
   "cell_type": "code",
   "execution_count": 10,
   "metadata": {},
   "outputs": [],
   "source": [
    "source.createOrReplaceTempView('source')"
   ]
  },
  {
   "cell_type": "markdown",
   "metadata": {},
   "source": [
    "## i.2\n",
    "Let's see how writing to the local disk works in spark:"
   ]
  },
  {
   "cell_type": "markdown",
   "metadata": {},
   "source": [
    "### i.2.a\n",
    "Write the code necessary to store the source data in both csv and json format, store these as <code>sources_csv</code> and <code>sources_json</code>"
   ]
  },
  {
   "cell_type": "code",
   "execution_count": 11,
   "metadata": {},
   "outputs": [
    {
     "name": "stdout",
     "output_type": "stream",
     "text": [
      "file saved\n"
     ]
    }
   ],
   "source": [
    "csv_file = 'data/sources_csv'\n",
    "\n",
    "source.write.csv(csv_file, mode='overwrite')\n",
    "if path.exists(csv_file):\n",
    "    print('file saved')"
   ]
  },
  {
   "cell_type": "code",
   "execution_count": 12,
   "metadata": {},
   "outputs": [
    {
     "name": "stdout",
     "output_type": "stream",
     "text": [
      "file saved\n"
     ]
    }
   ],
   "source": [
    "json_file = 'data/sources_json'\n",
    "\n",
    "source.write.json(json_file, mode='overwrite')\n",
    "if path.exists(json_file):\n",
    "    print('file saved')"
   ]
  },
  {
   "cell_type": "markdown",
   "metadata": {},
   "source": [
    "### i.2.b\n",
    "Inspect your folder structure. What do you notice?"
   ]
  },
  {
   "cell_type": "markdown",
   "metadata": {},
   "source": [
    "**Spark makes directories, not just files.**"
   ]
  },
  {
   "cell_type": "markdown",
   "metadata": {},
   "source": [
    "## i.3\n",
    "Inspect the data in your dataframes. Are the data types appropriate? Write the code necessary to cast the values to the appropriate types."
   ]
  },
  {
   "cell_type": "markdown",
   "metadata": {},
   "source": [
    "#### inspect case"
   ]
  },
  {
   "cell_type": "code",
   "execution_count": 13,
   "metadata": {},
   "outputs": [
    {
     "name": "stdout",
     "output_type": "stream",
     "text": [
      "-RECORD 0-------------------------------------------------------\n",
      " case_id              | 1014127780                              \n",
      " case_opened_date     | 1/1/18 22:22                            \n",
      " case_closed_date     | 2/14/18 16:42                           \n",
      " SLA_due_date         | 1/6/18 22:22                            \n",
      " case_late            | YES                                     \n",
      " num_days_late        | 38.76371528                             \n",
      " case_closed          | YES                                     \n",
      " dept_division        | Field Operations                        \n",
      " service_request_type | Animal Neglect                          \n",
      " SLA_days             | 5.0                                     \n",
      " case_status          | Closed                                  \n",
      " source_id            | 124405                                  \n",
      " request_address      | 5335  NW 410, San Antonio, 78229        \n",
      " council_district     | 7                                       \n",
      "-RECORD 1-------------------------------------------------------\n",
      " case_id              | 1014128046                              \n",
      " case_opened_date     | 1/2/18 8:18                             \n",
      " case_closed_date     | 1/4/18 14:19                            \n",
      " SLA_due_date         | 5/10/18 8:30                            \n",
      " case_late            | NO                                      \n",
      " num_days_late        | -125.7575926                            \n",
      " case_closed          | YES                                     \n",
      " dept_division        | Code Enforcement                        \n",
      " service_request_type | Low Hanging Limbs on Streets/Sidewalk   \n",
      " SLA_days             | 128.0081134                             \n",
      " case_status          | Closed                                  \n",
      " source_id            | svcCRMSS                                \n",
      " request_address      | 738  ISOM RD, San Antonio, 78216        \n",
      " council_district     | 1                                       \n",
      "-RECORD 2-------------------------------------------------------\n",
      " case_id              | 1014128198                              \n",
      " case_opened_date     | 1/2/18 9:04                             \n",
      " case_closed_date     | 1/2/18 17:12                            \n",
      " SLA_due_date         | 1/7/18 9:04                             \n",
      " case_late            | NO                                      \n",
      " num_days_late        | -4.661365741                            \n",
      " case_closed          | YES                                     \n",
      " dept_division        | Field Operations                        \n",
      " service_request_type | Animal Neglect                          \n",
      " SLA_days             | 5.0                                     \n",
      " case_status          | Closed                                  \n",
      " source_id            | jw10936                                 \n",
      " request_address      | 5042  BECKWITH BLVD, San Antonio, 78249 \n",
      " council_district     | 8                                       \n",
      "only showing top 3 rows\n",
      "\n"
     ]
    }
   ],
   "source": [
    "case.show(3, vertical=True, truncate=False)"
   ]
  },
  {
   "cell_type": "code",
   "execution_count": 14,
   "metadata": {},
   "outputs": [],
   "source": [
    "case.createOrReplaceTempView('case')"
   ]
  },
  {
   "cell_type": "code",
   "execution_count": 15,
   "metadata": {},
   "outputs": [
    {
     "name": "stdout",
     "output_type": "stream",
     "text": [
      "76\n",
      "-RECORD 0---------------------------------------------------\n",
      " case_id              | 1013247747                          \n",
      " case_opened_date     | 1/10/17 17:25                       \n",
      " case_closed_date     | 1/10/17 20:26                       \n",
      " SLA_due_date         | 10/6/19 17:25                       \n",
      " case_late            | NO                                  \n",
      " num_days_late        | -998.8738194                        \n",
      " case_closed          | YES                                 \n",
      " dept_division        | Field Operations                    \n",
      " service_request_type | Stray Animal                        \n",
      " SLA_days             | 999.0                               \n",
      " case_status          | Closed                              \n",
      " source_id            | dl05036                             \n",
      " request_address      | NB LOOP 410 SW and VALLEY HI DR     \n",
      " council_district     | 0                                   \n",
      "-RECORD 1---------------------------------------------------\n",
      " case_id              | 1013247747                          \n",
      " case_opened_date     | 1/10/17 17:25                       \n",
      " case_closed_date     | 1/10/17 20:26                       \n",
      " SLA_due_date         | 10/6/19 17:25                       \n",
      " case_late            | NO                                  \n",
      " num_days_late        | -998.8738194                        \n",
      " case_closed          | YES                                 \n",
      " dept_division        | Field Operations                    \n",
      " service_request_type | Stray Animal                        \n",
      " SLA_days             | 999.0                               \n",
      " case_status          | Closed                              \n",
      " source_id            | dl05036                             \n",
      " request_address      | NB LOOP 410 SW and VALLEY HI DR     \n",
      " council_district     | 4                                   \n",
      "-RECORD 2---------------------------------------------------\n",
      " case_id              | 1013364793                          \n",
      " case_opened_date     | 2/24/17 14:08                       \n",
      " case_closed_date     | 2/24/17 14:13                       \n",
      " SLA_due_date         | 11/20/19 14:08                      \n",
      " case_late            | NO                                  \n",
      " num_days_late        | -998.9965625                        \n",
      " case_closed          | YES                                 \n",
      " dept_division        | Field Operations                    \n",
      " service_request_type | Stray Animal                        \n",
      " SLA_days             | 999.0                               \n",
      " case_status          | Closed                              \n",
      " source_id            | dl05036                             \n",
      " request_address      | NB LOOP 410 SW and VALLEY HI DR     \n",
      " council_district     | 0                                   \n",
      "-RECORD 3---------------------------------------------------\n",
      " case_id              | 1013364793                          \n",
      " case_opened_date     | 2/24/17 14:08                       \n",
      " case_closed_date     | 2/24/17 14:13                       \n",
      " SLA_due_date         | 11/20/19 14:08                      \n",
      " case_late            | NO                                  \n",
      " num_days_late        | -998.9965625                        \n",
      " case_closed          | YES                                 \n",
      " dept_division        | Field Operations                    \n",
      " service_request_type | Stray Animal                        \n",
      " SLA_days             | 999.0                               \n",
      " case_status          | Closed                              \n",
      " source_id            | dl05036                             \n",
      " request_address      | NB LOOP 410 SW and VALLEY HI DR     \n",
      " council_district     | 4                                   \n",
      "-RECORD 4---------------------------------------------------\n",
      " case_id              | 1013376791                          \n",
      " case_opened_date     | 3/1/17 11:18                        \n",
      " case_closed_date     | 3/3/17 8:42                         \n",
      " SLA_due_date         | 5/4/17 11:18                        \n",
      " case_late            | NO                                  \n",
      " num_days_late        | -62.10841435                        \n",
      " case_closed          | YES                                 \n",
      " dept_division        | Code Enforcement                    \n",
      " service_request_type | Overgrown Yard/Trash                \n",
      " SLA_days             | 64.0                                \n",
      " case_status          | Closed                              \n",
      " source_id            | CRM_Listener                        \n",
      " request_address      | 1711  CORITA DR, San Antonio, 78209 \n",
      " council_district     | 0                                   \n",
      "-RECORD 5---------------------------------------------------\n",
      " case_id              | 1013376791                          \n",
      " case_opened_date     | 3/1/17 11:18                        \n",
      " case_closed_date     | 3/3/17 8:42                         \n",
      " SLA_due_date         | 5/4/17 11:18                        \n",
      " case_late            | NO                                  \n",
      " num_days_late        | -62.10841435                        \n",
      " case_closed          | YES                                 \n",
      " dept_division        | Code Enforcement                    \n",
      " service_request_type | Overgrown Yard/Trash                \n",
      " SLA_days             | 64.0                                \n",
      " case_status          | Closed                              \n",
      " source_id            | CRM_Listener                        \n",
      " request_address      | 1711  CORITA DR, San Antonio, 78209 \n",
      " council_district     | 10                                  \n",
      "-RECORD 6---------------------------------------------------\n",
      " case_id              | 1013389892                          \n",
      " case_opened_date     | 3/6/17 17:11                        \n",
      " case_closed_date     | 3/8/17 14:45                        \n",
      " SLA_due_date         | 3/9/17 8:30                         \n",
      " case_late            | NO                                  \n",
      " num_days_late        | -0.739178241                        \n",
      " case_closed          | YES                                 \n",
      " dept_division        | Streets                             \n",
      " service_request_type | Pot Hole Repair                     \n",
      " SLA_days             | 2.6381944440000002                  \n",
      " case_status          | Closed                              \n",
      " source_id            | 138793                              \n",
      " request_address      | GERMANTOWN and HOPES FERRY          \n",
      " council_district     | 0                                   \n",
      "-RECORD 7---------------------------------------------------\n",
      " case_id              | 1013389892                          \n",
      " case_opened_date     | 3/6/17 17:11                        \n",
      " case_closed_date     | 3/8/17 14:45                        \n",
      " SLA_due_date         | 3/9/17 8:30                         \n",
      " case_late            | NO                                  \n",
      " num_days_late        | -0.739178241                        \n",
      " case_closed          | YES                                 \n",
      " dept_division        | Streets                             \n",
      " service_request_type | Pot Hole Repair                     \n",
      " SLA_days             | 2.6381944440000002                  \n",
      " case_status          | Closed                              \n",
      " source_id            | 138793                              \n",
      " request_address      | GERMANTOWN and HOPES FERRY          \n",
      " council_district     | 10                                  \n",
      "-RECORD 8---------------------------------------------------\n",
      " case_id              | 1013412340                          \n",
      " case_opened_date     | 3/15/17 10:03                       \n",
      " case_closed_date     | 3/16/17 15:14                       \n",
      " SLA_due_date         | 3/17/17 10:03                       \n",
      " case_late            | NO                                  \n",
      " num_days_late        | -0.7840625                          \n",
      " case_closed          | YES                                 \n",
      " dept_division        | Streets                             \n",
      " service_request_type | Pot Hole Repair                     \n",
      " SLA_days             | 2.0                                 \n",
      " case_status          | Closed                              \n",
      " source_id            | mt13131                             \n",
      " request_address      | GERMANTOWN and HOPES FERRY          \n",
      " council_district     | 10                                  \n",
      "-RECORD 9---------------------------------------------------\n",
      " case_id              | 1013412340                          \n",
      " case_opened_date     | 3/15/17 10:03                       \n",
      " case_closed_date     | 3/16/17 15:14                       \n",
      " SLA_due_date         | 3/17/17 10:03                       \n",
      " case_late            | NO                                  \n",
      " num_days_late        | -0.7840625                          \n",
      " case_closed          | YES                                 \n",
      " dept_division        | Streets                             \n",
      " service_request_type | Pot Hole Repair                     \n",
      " SLA_days             | 2.0                                 \n",
      " case_status          | Closed                              \n",
      " source_id            | mt13131                             \n",
      " request_address      | GERMANTOWN and HOPES FERRY          \n",
      " council_district     | 0                                   \n",
      "only showing top 10 rows\n",
      "\n"
     ]
    }
   ],
   "source": [
    "dupes = spark.sql('''\n",
    "    SELECT -- DISTINCT\n",
    "        *\n",
    "    FROM\n",
    "        case\n",
    "    WHERE\n",
    "--        case_id = '1013247747'\n",
    "        case_id IN \n",
    "            (\n",
    "            SELECT case_id FROM case GROUP BY case_id HAVING count(*) > 1\n",
    "            )\n",
    "--        AND\n",
    "--        case_id NOT IN \n",
    "--            (\n",
    "--            SELECT case_id FROM (SELECT DISTINCT * FROM case) distincts GROUP BY case_id HAVING count(*) > 1\n",
    "--            )\n",
    "--    GROUP BY\n",
    "--        case_id\n",
    "--        ,council_district \n",
    "--        ,request_address\n",
    "--    HAVING\n",
    "--        count(*) > 1\n",
    "--        AND\n",
    "--        (\n",
    "--        min(council_district) = max(council_district)\n",
    "--        OR\n",
    "--        min(request_address) <> max(request_address)\n",
    "--        )\n",
    "    ORDER BY\n",
    "        case_id\n",
    "--        ,council_district\n",
    "--        ,request_address\n",
    "''')\n",
    "\n",
    "\n",
    "print(dupes.count())\n",
    "dupes.show(10, vertical=True, truncate=False)"
   ]
  },
  {
   "cell_type": "markdown",
   "metadata": {},
   "source": [
    "#### Modify case\n",
    "\n",
    "- Change 'SLA' to 'case\n",
    "- Set dates to timestamps\n",
    "- Set YES/NO fields to boolean\n",
    "- Change council district field to string"
   ]
  },
  {
   "cell_type": "code",
   "execution_count": 16,
   "metadata": {},
   "outputs": [
    {
     "name": "stdout",
     "output_type": "stream",
     "text": [
      "root\n",
      " |-- case_id: integer (nullable = true)\n",
      " |-- case_opened_date: timestamp (nullable = true)\n",
      " |-- case_closed_date: timestamp (nullable = true)\n",
      " |-- case_due_date: timestamp (nullable = true)\n",
      " |-- case_late: boolean (nullable = true)\n",
      " |-- num_days_late: double (nullable = true)\n",
      " |-- case_closed: boolean (nullable = true)\n",
      " |-- dept_division: string (nullable = true)\n",
      " |-- service_request_type: string (nullable = true)\n",
      " |-- case_days: double (nullable = true)\n",
      " |-- case_status: string (nullable = true)\n",
      " |-- source_id: string (nullable = true)\n",
      " |-- request_address: string (nullable = true)\n",
      " |-- council_district: string (nullable = true)\n",
      "\n",
      "-RECORD 0-------------------------------------------------------\n",
      " case_id              | 1014127780                              \n",
      " case_opened_date     | 2018-01-01 22:22:00                     \n",
      " case_closed_date     | 2018-02-14 16:42:00                     \n",
      " case_due_date        | 2018-01-06 22:22:00                     \n",
      " case_late            | true                                    \n",
      " num_days_late        | 38.76371528                             \n",
      " case_closed          | true                                    \n",
      " dept_division        | Field Operations                        \n",
      " service_request_type | Animal Neglect                          \n",
      " case_days            | 5.0                                     \n",
      " case_status          | Closed                                  \n",
      " source_id            | 124405                                  \n",
      " request_address      | 5335  NW 410, San Antonio, 78229        \n",
      " council_district     | 7                                       \n",
      "-RECORD 1-------------------------------------------------------\n",
      " case_id              | 1014128046                              \n",
      " case_opened_date     | 2018-01-02 08:18:00                     \n",
      " case_closed_date     | 2018-01-04 14:19:00                     \n",
      " case_due_date        | 2018-05-10 08:30:00                     \n",
      " case_late            | false                                   \n",
      " num_days_late        | -125.7575926                            \n",
      " case_closed          | true                                    \n",
      " dept_division        | Code Enforcement                        \n",
      " service_request_type | Low Hanging Limbs on Streets/Sidewalk   \n",
      " case_days            | 128.0081134                             \n",
      " case_status          | Closed                                  \n",
      " source_id            | svcCRMSS                                \n",
      " request_address      | 738  ISOM RD, San Antonio, 78216        \n",
      " council_district     | 1                                       \n",
      "-RECORD 2-------------------------------------------------------\n",
      " case_id              | 1014128198                              \n",
      " case_opened_date     | 2018-01-02 09:04:00                     \n",
      " case_closed_date     | 2018-01-02 17:12:00                     \n",
      " case_due_date        | 2018-01-07 09:04:00                     \n",
      " case_late            | false                                   \n",
      " num_days_late        | -4.661365741                            \n",
      " case_closed          | true                                    \n",
      " dept_division        | Field Operations                        \n",
      " service_request_type | Animal Neglect                          \n",
      " case_days            | 5.0                                     \n",
      " case_status          | Closed                                  \n",
      " source_id            | jw10936                                 \n",
      " request_address      | 5042  BECKWITH BLVD, San Antonio, 78249 \n",
      " council_district     | 8                                       \n",
      "only showing top 3 rows\n",
      "\n"
     ]
    }
   ],
   "source": [
    "fmt = \"M/d/yy H:mm\"\n",
    "case = (case\n",
    "        .withColumnRenamed('SLA_due_date', 'case_due_date')\n",
    "        .withColumnRenamed('SLA_days', 'case_days')\n",
    "        .withColumn(\"case_opened_date\", F.to_timestamp(\"case_opened_date\", fmt))\n",
    "        .withColumn(\"case_closed_date\", F.to_timestamp(\"case_closed_date\", fmt))\n",
    "        .withColumn(\"case_due_date\", F.to_timestamp(\"case_due_date\", fmt))\n",
    "        .withColumn(\"case_closed\", F.expr('case_closed == \"YES\"'))\n",
    "        .withColumn(\"case_late\", F.expr('case_late == \"YES\"'))\n",
    "        .withColumn(\"council_district\", F.col(\"council_district\").cast(\"string\"))\n",
    ")\n",
    "case.printSchema()\n",
    "case.show(3, vertical=True, truncate=False)"
   ]
  },
  {
   "cell_type": "markdown",
   "metadata": {},
   "source": [
    "#### Inspect dept"
   ]
  },
  {
   "cell_type": "code",
   "execution_count": 17,
   "metadata": {},
   "outputs": [
    {
     "name": "stdout",
     "output_type": "stream",
     "text": [
      "+---------------+----------------------+----------------------+-------------------+\n",
      "|dept_division  |dept_name             |standardized_dept_name|dept_subject_to_SLA|\n",
      "+---------------+----------------------+----------------------+-------------------+\n",
      "|311 Call Center|Customer Service      |Customer Service      |YES                |\n",
      "|Brush          |Solid Waste Management|Solid Waste           |YES                |\n",
      "|Clean and Green|Parks and Recreation  |Parks & Recreation    |YES                |\n",
      "+---------------+----------------------+----------------------+-------------------+\n",
      "only showing top 3 rows\n",
      "\n"
     ]
    }
   ],
   "source": [
    "dept.show(3, truncate=False)"
   ]
  },
  {
   "cell_type": "markdown",
   "metadata": {},
   "source": [
    "#### Modify dept\n",
    "\n",
    "- Change dept_subject_to_SLA to boolean"
   ]
  },
  {
   "cell_type": "code",
   "execution_count": 18,
   "metadata": {},
   "outputs": [
    {
     "name": "stdout",
     "output_type": "stream",
     "text": [
      "root\n",
      " |-- dept_division: string (nullable = true)\n",
      " |-- dept_name: string (nullable = true)\n",
      " |-- standardized_dept_name: string (nullable = true)\n",
      " |-- dept_subject_to_SLA: boolean (nullable = true)\n",
      "\n"
     ]
    }
   ],
   "source": [
    "dept = (dept\n",
    "        .withColumn(\"dept_subject_to_SLA\", F.expr('dept_subject_to_SLA == \"YES\"'))\n",
    "        \n",
    ")\n",
    "dept.printSchema()"
   ]
  },
  {
   "cell_type": "markdown",
   "metadata": {},
   "source": [
    "#### Inspect source"
   ]
  },
  {
   "cell_type": "code",
   "execution_count": 19,
   "metadata": {},
   "outputs": [
    {
     "name": "stdout",
     "output_type": "stream",
     "text": [
      "+---------+----------------+\n",
      "|source_id|source_username |\n",
      "+---------+----------------+\n",
      "|100137   |Merlene Blodgett|\n",
      "|103582   |Carmen Cura     |\n",
      "|106463   |Richard Sanchez |\n",
      "+---------+----------------+\n",
      "only showing top 3 rows\n",
      "\n"
     ]
    }
   ],
   "source": [
    "source.show(3, truncate=False)"
   ]
  },
  {
   "cell_type": "markdown",
   "metadata": {},
   "source": [
    "#### Modify source\n",
    "\n",
    "* No modifications necessary *"
   ]
  },
  {
   "cell_type": "markdown",
   "metadata": {},
   "source": [
    "You might have noticed that the latest date in the dataset is fairly far off from the present day. To account for this, replace any occurances of the current time with the maximum date from the dataset."
   ]
  },
  {
   "cell_type": "code",
   "execution_count": 20,
   "metadata": {},
   "outputs": [],
   "source": [
    "case.createOrReplaceTempView('case')"
   ]
  },
  {
   "cell_type": "code",
   "execution_count": 21,
   "metadata": {},
   "outputs": [
    {
     "name": "stdout",
     "output_type": "stream",
     "text": [
      "+-------------------+-------------------+\n",
      "|            MaxOpen|           MaxClose|\n",
      "+-------------------+-------------------+\n",
      "|2018-08-08 10:38:00|2018-08-08 10:38:00|\n",
      "+-------------------+-------------------+\n",
      "\n"
     ]
    }
   ],
   "source": [
    "spark.sql('''\n",
    "    SELECT MAX(case_opened_date) MaxOpen, MAX(case_closed_date) MaxClose FROM case\n",
    "''').show()"
   ]
  },
  {
   "cell_type": "code",
   "execution_count": 22,
   "metadata": {},
   "outputs": [],
   "source": [
    "case.createOrReplaceTempView('case')"
   ]
  },
  {
   "cell_type": "code",
   "execution_count": 23,
   "metadata": {},
   "outputs": [
    {
     "name": "stdout",
     "output_type": "stream",
     "text": [
      "+----------+-----------+----------+----------+-------+-----------+----------+---------+---------+----------+\n",
      "|   case_id|date_opened|min_opened|  date_due|min_due|date_closed|min_closed|case_days|case_mins|   calcage|\n",
      "+----------+-----------+----------+----------+-------+-----------+----------+---------+---------+----------+\n",
      "|1013627878| 2017-06-07|      1037|2017-06-22|    510| 2017-06-07|       720|        0|     -317|2017-06-07|\n",
      "|1013760291| 2017-07-31|       899|2017-08-14|    899| 2017-07-31|       720|        0|     -179|2017-07-31|\n",
      "|1013776977| 2017-08-07|       879|2017-10-10|    879| 2017-08-07|       720|        0|     -159|2017-08-07|\n",
      "|1013780219| 2017-08-08|       879|2017-08-22|    879| 2017-08-08|       720|        0|     -159|2017-08-08|\n",
      "|1013780868| 2017-08-08|      1032|2017-08-11|    510| 2017-08-08|       720|        0|     -312|2017-08-08|\n",
      "|1013783316| 2017-08-09|       939|2017-08-23|    939| 2017-08-09|       720|        0|     -219|2017-08-09|\n",
      "|1013805774| 2017-08-18|       895|2017-10-23|    895| 2017-08-18|       720|        0|     -175|2017-08-18|\n",
      "|1013810939| 2017-08-21|       936|2017-09-05|    936| 2017-08-21|       720|        0|     -216|2017-08-21|\n",
      "|1013820313| 2017-08-24|       912|2017-10-27|    912| 2017-08-24|       720|        0|     -192|2017-08-24|\n",
      "|1013823573| 2017-08-25|       890|2017-09-11|    890| 2017-08-25|       720|        0|     -170|2017-08-25|\n",
      "|1013830858| 2017-08-28|       885|2017-09-12|    885| 2017-08-28|       720|        0|     -165|2017-08-28|\n",
      "|1013831020| 2017-08-28|       911|2017-10-31|    911| 2017-08-28|       720|        0|     -191|2017-08-28|\n",
      "|1013837169| 2017-08-30|       805|2017-09-14|    805| 2017-08-30|       720|        0|      -85|2017-08-30|\n",
      "|1013837362| 2017-08-30|       844|2017-11-02|    844| 2017-08-30|       720|        0|     -124|2017-08-30|\n",
      "|1013838273| 2017-08-30|      1046|2017-11-03|    510| 2017-08-30|       720|        0|     -326|2017-08-30|\n",
      "|1013841696| 2017-08-31|      1035|2017-09-06|    510| 2017-08-31|       720|        0|     -315|2017-08-31|\n",
      "|1013844665| 2017-09-01|       942|2017-09-18|    942| 2017-09-01|       720|        0|     -222|2017-09-01|\n",
      "|1013844816| 2017-09-01|       977|2017-11-06|    977| 2017-09-01|       720|        0|     -257|2017-09-01|\n",
      "|1013844983| 2017-09-01|      1020|2017-11-07|    510| 2017-09-01|       720|        0|     -300|2017-09-01|\n",
      "|1013851854| 2017-09-05|       798|2017-09-19|    798| 2017-09-05|       720|        0|      -78|2017-09-05|\n",
      "+----------+-----------+----------+----------+-------+-----------+----------+---------+---------+----------+\n",
      "only showing top 20 rows\n",
      "\n"
     ]
    }
   ],
   "source": [
    "spark.sql('''\n",
    "    SELECT \n",
    "        case_id,\n",
    "        date_add(case_opened_date, 0) date_opened, \n",
    "        hour(case_opened_date) * 60 + minute(case_opened_date) min_opened,\n",
    "        date_add(case_due_date, 0) date_due, \n",
    "        hour(case_due_date) * 60 + minute(case_due_date) min_due,\n",
    "        date_add(case_closed_date, 0) date_closed, \n",
    "        hour(case_closed_date) * 60 + minute(case_closed_date) min_closed,\n",
    "--        case_closed_date - case_opened_date case_dur,\n",
    "--        round(case_days, 3) case_age, \n",
    "--        round(num_days_late, 3) days_late, \n",
    "--        case_days + num_days_late case_daysd,\n",
    "        cast(case_days + num_days_late as int) case_days,\n",
    "        cast(1440 * ((case_days + num_days_late) - cast(case_days + num_days_late as int)) as int) case_mins,\n",
    "--        date_add(case_due_date, num_days_late) calcdue, \n",
    "        date_add(case_opened_date, round(case_days + num_days_late)) calcage\n",
    "    FROM \n",
    "        case\n",
    "    WHERE \n",
    "        case_closed_date < case_opened_date\n",
    "--        (case_closed = True \n",
    "--            AND \n",
    "--            date_add(case_opened_date, round(case_days + num_days_late)) <> date_add(case_closed_date, 0))\n",
    "--        OR\n",
    "--        (case_closed = False\n",
    "--            AND\n",
    "--            date_add(case_opened_date, int(case_days) + int(num_days_late)) <> '2018-08-08')\n",
    "''').show()"
   ]
  },
  {
   "cell_type": "markdown",
   "metadata": {},
   "source": [
    "## ii.1\n",
    "How old is the latest (in terms of days past SLA) currently open issue? How long has the oldest (in terms of days since opened) currently opened issue been open?"
   ]
  },
  {
   "cell_type": "code",
   "execution_count": 24,
   "metadata": {},
   "outputs": [
    {
     "name": "stdout",
     "output_type": "stream",
     "text": [
      "Latest case in open caselog\n",
      "+----------+-------------------+--------------------+-------------+\n",
      "|   case_id|      case_due_date|service_request_type|num_days_late|\n",
      "+----------+-------------------+--------------------+-------------+\n",
      "|1013225651|2017-01-17 08:30:00|   No Address Posted|  348.6458333|\n",
      "+----------+-------------------+--------------------+-------------+\n",
      "only showing top 1 row\n",
      "\n"
     ]
    }
   ],
   "source": [
    "print('Latest case in open caselog')\n",
    "(case\n",
    " .filter(F.col('case_closed')==False)\n",
    " .select('case_id', 'case_due_date', 'service_request_type', 'num_days_late')\n",
    " .sort(F.col('num_days_late').desc())\n",
    " .show(1)\n",
    ")"
   ]
  },
  {
   "cell_type": "code",
   "execution_count": 25,
   "metadata": {},
   "outputs": [
    {
     "name": "stdout",
     "output_type": "stream",
     "text": [
      "Oldest case in open caselog\n",
      "+----------+-------------------+--------------------+-------------+\n",
      "|   case_id|   case_opened_date|service_request_type|num_days_late|\n",
      "+----------+-------------------+--------------------+-------------+\n",
      "|1013225646|2017-01-01 13:48:00|   No Address Posted|  348.6458333|\n",
      "+----------+-------------------+--------------------+-------------+\n",
      "only showing top 1 row\n",
      "\n"
     ]
    }
   ],
   "source": [
    "print('Oldest case in open caselog')\n",
    "(case\n",
    " .filter(F.col('case_closed')==False)\n",
    " .sort(F.col('case_opened_date'))\n",
    " .select('case_id', 'case_opened_date', 'service_request_type', 'num_days_late')\n",
    " .show(1)\n",
    ")"
   ]
  },
  {
   "cell_type": "code",
   "execution_count": 35,
   "metadata": {},
   "outputs": [
    {
     "ename": "AssertionError",
     "evalue": "col should be Column",
     "output_type": "error",
     "traceback": [
      "\u001b[0;31m---------------------------------------------------------------------------\u001b[0m",
      "\u001b[0;31mAssertionError\u001b[0m                            Traceback (most recent call last)",
      "\u001b[0;32m<ipython-input-35-8781dd2d9612>\u001b[0m in \u001b[0;36m<module>\u001b[0;34m\u001b[0m\n\u001b[1;32m      3\u001b[0m  \u001b[0;34m.\u001b[0m\u001b[0mpivot\u001b[0m\u001b[0;34m(\u001b[0m\u001b[0;34m'case_closed'\u001b[0m\u001b[0;34m)\u001b[0m\u001b[0;34m\u001b[0m\u001b[0;34m\u001b[0m\u001b[0m\n\u001b[1;32m      4\u001b[0m  \u001b[0;34m.\u001b[0m\u001b[0mcount\u001b[0m\u001b[0;34m(\u001b[0m\u001b[0;34m)\u001b[0m\u001b[0;34m\u001b[0m\u001b[0;34m\u001b[0m\u001b[0m\n\u001b[0;32m----> 5\u001b[0;31m  \u001b[0;34m.\u001b[0m\u001b[0mwithColumn\u001b[0m\u001b[0;34m(\u001b[0m\u001b[0;34m'total'\u001b[0m\u001b[0;34m,\u001b[0m \u001b[0;34m'false'\u001b[0m \u001b[0;34m+\u001b[0m \u001b[0;34m'true'\u001b[0m\u001b[0;34m)\u001b[0m\u001b[0;34m\u001b[0m\u001b[0;34m\u001b[0m\u001b[0m\n\u001b[0m\u001b[1;32m      6\u001b[0m ).show(100, truncate=False)\n",
      "\u001b[0;32m/usr/local/anaconda3/lib/python3.7/site-packages/pyspark/sql/dataframe.py\u001b[0m in \u001b[0;36mwithColumn\u001b[0;34m(self, colName, col)\u001b[0m\n\u001b[1;32m   1987\u001b[0m \u001b[0;34m\u001b[0m\u001b[0m\n\u001b[1;32m   1988\u001b[0m         \"\"\"\n\u001b[0;32m-> 1989\u001b[0;31m         \u001b[0;32massert\u001b[0m \u001b[0misinstance\u001b[0m\u001b[0;34m(\u001b[0m\u001b[0mcol\u001b[0m\u001b[0;34m,\u001b[0m \u001b[0mColumn\u001b[0m\u001b[0;34m)\u001b[0m\u001b[0;34m,\u001b[0m \u001b[0;34m\"col should be Column\"\u001b[0m\u001b[0;34m\u001b[0m\u001b[0;34m\u001b[0m\u001b[0m\n\u001b[0m\u001b[1;32m   1990\u001b[0m         \u001b[0;32mreturn\u001b[0m \u001b[0mDataFrame\u001b[0m\u001b[0;34m(\u001b[0m\u001b[0mself\u001b[0m\u001b[0;34m.\u001b[0m\u001b[0m_jdf\u001b[0m\u001b[0;34m.\u001b[0m\u001b[0mwithColumn\u001b[0m\u001b[0;34m(\u001b[0m\u001b[0mcolName\u001b[0m\u001b[0;34m,\u001b[0m \u001b[0mcol\u001b[0m\u001b[0;34m.\u001b[0m\u001b[0m_jc\u001b[0m\u001b[0;34m)\u001b[0m\u001b[0;34m,\u001b[0m \u001b[0mself\u001b[0m\u001b[0;34m.\u001b[0m\u001b[0msql_ctx\u001b[0m\u001b[0;34m)\u001b[0m\u001b[0;34m\u001b[0m\u001b[0;34m\u001b[0m\u001b[0m\n\u001b[1;32m   1991\u001b[0m \u001b[0;34m\u001b[0m\u001b[0m\n",
      "\u001b[0;31mAssertionError\u001b[0m: col should be Column"
     ]
    }
   ],
   "source": [
    "(case\n",
    " .groupBy('service_request_type')\n",
    " .pivot('case_closed')\n",
    " .count()\n",
    " .withColumn('total', 'false' + 'true')\n",
    ").show(100, truncate=False)"
   ]
  },
  {
   "cell_type": "markdown",
   "metadata": {},
   "source": [
    "## ii.2\n",
    "How many Stray Animal cases are there?"
   ]
  },
  {
   "cell_type": "code",
   "execution_count": null,
   "metadata": {},
   "outputs": [],
   "source": []
  },
  {
   "cell_type": "markdown",
   "metadata": {},
   "source": [
    "## ii.3\n",
    "How many service requests that are assigned to the Field Operations department (<code>dept_division</code>) are not classified as \"Officer Standby\" request type (<code>service_request_type</code>)?"
   ]
  },
  {
   "cell_type": "code",
   "execution_count": null,
   "metadata": {},
   "outputs": [],
   "source": []
  },
  {
   "cell_type": "markdown",
   "metadata": {},
   "source": [
    "## ii.4\n",
    "Convert the <code>council_district</code> column to a string column."
   ]
  },
  {
   "cell_type": "code",
   "execution_count": null,
   "metadata": {},
   "outputs": [],
   "source": []
  },
  {
   "cell_type": "markdown",
   "metadata": {},
   "source": [
    "## ii.5\n",
    "Extract the year from the <code>case_closed_date</code> column.\n"
   ]
  },
  {
   "cell_type": "code",
   "execution_count": null,
   "metadata": {},
   "outputs": [],
   "source": []
  },
  {
   "cell_type": "markdown",
   "metadata": {},
   "source": [
    "## ii.6\n",
    "Convert <code>num_days_late</code> from days to hours in new columns <code>num_hours_late</code>."
   ]
  },
  {
   "cell_type": "code",
   "execution_count": null,
   "metadata": {},
   "outputs": [],
   "source": []
  },
  {
   "cell_type": "markdown",
   "metadata": {},
   "source": [
    "## ii.7\n",
    "Join the case data with the source and department data."
   ]
  },
  {
   "cell_type": "code",
   "execution_count": null,
   "metadata": {},
   "outputs": [],
   "source": []
  },
  {
   "cell_type": "markdown",
   "metadata": {},
   "source": [
    "## ii.8\n",
    "Are there any cases that do not have a request source?"
   ]
  },
  {
   "cell_type": "code",
   "execution_count": null,
   "metadata": {},
   "outputs": [],
   "source": []
  },
  {
   "cell_type": "markdown",
   "metadata": {},
   "source": [
    "## ii.9\n",
    "What are the top 10 service request types in terms of number of requests?"
   ]
  },
  {
   "cell_type": "code",
   "execution_count": null,
   "metadata": {},
   "outputs": [],
   "source": []
  },
  {
   "cell_type": "markdown",
   "metadata": {},
   "source": [
    "## ii.10\n",
    "What are the top 10 service request types in terms of average days late?"
   ]
  },
  {
   "cell_type": "code",
   "execution_count": null,
   "metadata": {},
   "outputs": [],
   "source": []
  },
  {
   "cell_type": "markdown",
   "metadata": {},
   "source": [
    "## ii.11\n",
    "Does number of days late depend on department?"
   ]
  },
  {
   "cell_type": "code",
   "execution_count": null,
   "metadata": {},
   "outputs": [],
   "source": []
  },
  {
   "cell_type": "markdown",
   "metadata": {},
   "source": [
    "## ii.12\n",
    "How do number of days late depend on department and request type?"
   ]
  },
  {
   "cell_type": "code",
   "execution_count": null,
   "metadata": {},
   "outputs": [],
   "source": []
  }
 ],
 "metadata": {
  "kernelspec": {
   "display_name": "Python 3",
   "language": "python",
   "name": "python3"
  },
  "language_info": {
   "codemirror_mode": {
    "name": "ipython",
    "version": 3
   },
   "file_extension": ".py",
   "mimetype": "text/x-python",
   "name": "python",
   "nbconvert_exporter": "python",
   "pygments_lexer": "ipython3",
   "version": "3.7.3"
  }
 },
 "nbformat": 4,
 "nbformat_minor": 2
}
