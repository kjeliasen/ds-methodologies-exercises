{
 "cells": [
  {
   "cell_type": "markdown",
   "metadata": {},
   "source": [
    "<h1 id=\"exercises\">Exercises - Data Exploration</h1>\n",
    "\n",
    "[*Lesson Page*](https://ds.codeup.com/5-explore_files/5-explore_27_1.png)"
   ]
  },
  {
   "cell_type": "markdown",
   "metadata": {},
   "source": [
    "<p>Do your work for this exercise in a file named <code>explore</code>.</p>"
   ]
  },
  {
   "cell_type": "code",
   "execution_count": null,
   "metadata": {},
   "outputs": [],
   "source": []
  },
  {
   "cell_type": "markdown",
   "metadata": {},
   "source": [
    "<h2>1. Spam Data</h2>\n",
    "<ol>\n",
    "<li>Load the spam data set.</li>\n",
    "<li>Create and explore bigrams for the spam data. Visualize them with a word\n",
    "   cloud. How do they compare with the ham bigrams?</li>\n",
    "<li>Is there any overlap in the bigrams for the spam data and the ham data?</li>\n",
    "<li>Create and explore with trigrams (i.e. a n-gram with an n of 3) for both\n",
    "   the spam and ham data.</li>\n",
    "</ol>\n",
    "</li>"
   ]
  },
  {
   "cell_type": "code",
   "execution_count": null,
   "metadata": {},
   "outputs": [],
   "source": []
  },
  {
   "cell_type": "markdown",
   "metadata": {},
   "source": [
    "<h2>2. Blog Posts</h2>\n",
    "<p>Explore the blog articles using the techniques discussed in the exploration\n",
    "   lesson.</p>"
   ]
  },
  {
   "cell_type": "code",
   "execution_count": null,
   "metadata": {},
   "outputs": [],
   "source": []
  },
  {
   "cell_type": "markdown",
   "metadata": {},
   "source": [
    "<h2>3. News Articles</h2>\n",
    "<p>Explore the news articles using the techniques discussed in the exploration\n",
    "   lesson. Use the <code>category</code> variable when exploring.</p>"
   ]
  },
  {
   "cell_type": "code",
   "execution_count": null,
   "metadata": {},
   "outputs": [],
   "source": []
  }
 ],
 "metadata": {
  "kernelspec": {
   "display_name": "Python 3",
   "language": "python",
   "name": "python3"
  },
  "language_info": {
   "codemirror_mode": {
    "name": "ipython",
    "version": 3
   },
   "file_extension": ".py",
   "mimetype": "text/x-python",
   "name": "python",
   "nbconvert_exporter": "python",
   "pygments_lexer": "ipython3",
   "version": "3.7.3"
  }
 },
 "nbformat": 4,
 "nbformat_minor": 2
}
